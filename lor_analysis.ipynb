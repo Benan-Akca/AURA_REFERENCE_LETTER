{
 "cells": [
  {
   "cell_type": "code",
   "execution_count": 1,
   "metadata": {},
   "outputs": [
    {
     "name": "stderr",
     "output_type": "stream",
     "text": [
      "C:\\Users\\benan\\AppData\\Roaming\\Python\\Python37\\site-packages\\huggingface_hub\\snapshot_download.py:11: FutureWarning: snapshot_download.py has been made private and will no longer be available from version 0.11. Please use `from huggingface_hub import snapshot_download` to import the only public function in this module. Other members of the file may be changed without a deprecation notice.\n",
      "  FutureWarning,\n",
      "C:\\Users\\benan\\AppData\\Roaming\\Python\\Python37\\site-packages\\huggingface_hub\\file_download.py:591: FutureWarning: `cached_download` is the legacy way to download files from the HF hub, please consider upgrading to `hf_hub_download`\n",
      "  FutureWarning,\n"
     ]
    }
   ],
   "source": [
    "#%%\n",
    "\n",
    "from nltk.tokenize import sent_tokenize\n",
    "from nltk.tokenize import word_tokenize\n",
    "import pandas as pd\n",
    "import stanza\n",
    "import pandas as pd \n",
    "pd.options.display.max_rows = 2000\n",
    "pd.options.display.max_columns = 2000\n",
    "pd.options.display.max_colwidth = 2000\n",
    "\n",
    "\n",
    "\n",
    "import sentiment_score as ss\n",
    "import importlib\n",
    "#%%\n",
    "\n",
    "\n",
    "import re\n"
   ]
  },
  {
   "cell_type": "code",
   "execution_count": 2,
   "metadata": {},
   "outputs": [
    {
     "data": {
      "application/vnd.jupyter.widget-view+json": {
       "model_id": "46c1d4ac649a402494e460f86aeb1d10",
       "version_major": 2,
       "version_minor": 0
      },
      "text/plain": [
       "Downloading https://raw.githubusercontent.com/stanfordnlp/stanza-resources/main/resources_1.4.0.json:   0%|   …"
      ]
     },
     "metadata": {},
     "output_type": "display_data"
    },
    {
     "name": "stderr",
     "output_type": "stream",
     "text": [
      "2022-12-30 09:03:26 INFO: Loading these models for language: en (English):\n",
      "========================\n",
      "| Processor | Package  |\n",
      "------------------------\n",
      "| tokenize  | combined |\n",
      "| pos       | combined |\n",
      "========================\n",
      "\n",
      "2022-12-30 09:03:26 INFO: Use device: cpu\n",
      "2022-12-30 09:03:26 INFO: Loading: tokenize\n",
      "2022-12-30 09:03:26 INFO: Loading: pos\n",
      "2022-12-30 09:03:26 INFO: Done loading processors!\n"
     ]
    }
   ],
   "source": [
    "\n",
    "nlp = stanza.Pipeline('en', processors='tokenize,pos')\n",
    "def clean_text(lor):\n",
    "    lor = re.sub(r\"\\n\",\" \",lor)\n",
    "    lor = re.sub(r\"\\\"\",\"\",lor)\n",
    "    lor = re.sub(r\"/\",\"\",lor)\n",
    "    lor = re.sub(r\"\\(\",\"\",lor)\n",
    "    lor = re.sub(r\"\\)\",\"\",lor)\n",
    "    lor = re.sub(r\"\\s+\",\" \",lor)\n",
    "    return lor\n",
    "\n",
    "\n",
    "def tokenize_sentences(text):\n",
    "    sentence_list = sent_tokenize(text)\n",
    "    return sentence_list\n",
    "\n",
    "def insert_space(text):\n",
    "    new_text = re.sub(r\"([a-zA-Z\\)]\\.)(\\w)\", r\"\\1 \\2\", text, count=50)\n",
    "    new_text = re.sub(r\"([0-9]\\.)([A-Z]+)\", r\"\\1 \\2\", new_text, count=20)\n",
    "    new_text = re.sub(\n",
    "        r\"(?:(^[0-9]\\.|^\\s[0-9]\\.))([a-zA-Z]+)\", r\"\\1 \\2\", new_text, count=20\n",
    "    )\n",
    "    new_text = re.sub(r\"(?:(^[0-9]\\s|^\\s[0-9]\\s))\", r\"\", new_text, count=20)\n",
    "    new_text = re.sub(r\"(?:\\s[0-9]\\.\\s|^[0-9]\\.\\s)\", r\" \", new_text, count=20)\n",
    "    new_text = new_text.lstrip().rstrip()\n",
    "    return new_text\n",
    "\n",
    "\n",
    "def get_df_sentence(df, column_name):\n",
    "    df[column_name] = df[column_name].astype(\"string\")\n",
    "    df[column_name] = df[column_name].apply(insert_space)\n",
    "    sentences = df[column_name].apply(tokenize_sentences)\n",
    "    df_sentence = pd.DataFrame(sentences.tolist(), index=df.lor_id).stack()\n",
    "    df_sentence = df_sentence.reset_index()[[0, \"lor_id\"]]\n",
    "    df_sentence.columns = [\"sentence_split\", \"lor_id\"]\n",
    "    df_sentence[\"sentence_split\"] = df_sentence[\"sentence_split\"].map(\n",
    "        lambda x: x.lstrip(\".\").rstrip(\".\")\n",
    "    )\n",
    "    df_sentence[\"sentence_split\"] = df_sentence[\"sentence_split\"].apply(str.lower)\n",
    "    return df_sentence\n",
    "\n"
   ]
  },
  {
   "cell_type": "code",
   "execution_count": 7,
   "metadata": {},
   "outputs": [],
   "source": [
    "\n",
    "\n",
    "\n",
    "# df1  = pd.read_excel(\"./Data/alperen_100.xlsx\")\n",
    "# df2  = pd.read_excel(\"./Data/Master.xlsx\")\n",
    "# df3  = pd.read_excel(\"./Data/RESEARCH -taranan.xlsx\")\n",
    "# df4  = pd.read_excel(\"./Data/data_4.xlsx\")\n",
    "# df5  = pd.read_excel(\"./Data/reference letter project updated20.09.2022.xlsx\")\n",
    "\n",
    "\n",
    "df = pd.concat([df1,df2,df3,df4,df5],axis=0)\n",
    "\n"
   ]
  },
  {
   "cell_type": "code",
   "execution_count": 10,
   "metadata": {},
   "outputs": [],
   "source": [
    "df_foreign =  pd.read_excel(\"./df_master.xlsx\")"
   ]
  },
  {
   "cell_type": "code",
   "execution_count": 3,
   "metadata": {},
   "outputs": [],
   "source": [
    "def preprocess_medical(df_):\n",
    "    df = df_.copy()\n",
    "    df[\"medical_school\"] = df[\"medical_school\"].str.lower()\n",
    "    df[\"medical_school\"] = df[\"medical_school\"].str.strip()\n",
    "    df[\"medical_school\"] = df[\"medical_school\"].str.replace(r\"\\s+\",(r\" \"))\n",
    "    df[\"medical_school\"] = df[\"medical_school\"].str.replace(r\"[^\\w\\s]\",(r\"\"))\n",
    "    df[\"medical_school\"] = df[\"medical_school\"].str.replace(r\"\\s+\",(r\" \"))\n",
    "    df[\"medical_school\"] = df[\"medical_school\"].str.strip()\n",
    "    \n",
    "    return df"
   ]
  },
  {
   "cell_type": "code",
   "execution_count": 11,
   "metadata": {},
   "outputs": [
    {
     "name": "stderr",
     "output_type": "stream",
     "text": [
      "c:\\ProgramData\\Anaconda3\\envs\\k12\\lib\\site-packages\\ipykernel_launcher.py:5: FutureWarning: The default value of regex will change from True to False in a future version.\n",
      "  \"\"\"\n",
      "c:\\ProgramData\\Anaconda3\\envs\\k12\\lib\\site-packages\\ipykernel_launcher.py:6: FutureWarning: The default value of regex will change from True to False in a future version.\n",
      "  \n",
      "c:\\ProgramData\\Anaconda3\\envs\\k12\\lib\\site-packages\\ipykernel_launcher.py:7: FutureWarning: The default value of regex will change from True to False in a future version.\n",
      "  import sys\n"
     ]
    }
   ],
   "source": [
    "df_foreign = preprocess_medical(df_foreign)"
   ]
  },
  {
   "cell_type": "code",
   "execution_count": 12,
   "metadata": {},
   "outputs": [],
   "source": [
    "foreign_dic_1 = df_foreign.groupby(\"medical_school\")['foreign'].apply(list).apply(lambda x:x[0]).to_dict()"
   ]
  },
  {
   "cell_type": "code",
   "execution_count": 4,
   "metadata": {},
   "outputs": [],
   "source": [
    "df1  = pd.read_excel(\"./Data/alperen.xlsx\")\n",
    "df2  = pd.read_excel(\"./Data/sude.xlsx\")\n",
    "\n",
    "\n",
    "df = pd.concat([df1,df2],axis=0)"
   ]
  },
  {
   "cell_type": "code",
   "execution_count": 5,
   "metadata": {},
   "outputs": [],
   "source": [
    "df = df.dropna(subset = [\"lor1\"])\n",
    "df = df[~df.duplicated(subset = [\"lor1\"])]\n",
    "df = df.reset_index()\n",
    "df[\"applicant_id\"] = df.index\n"
   ]
  },
  {
   "cell_type": "code",
   "execution_count": 190,
   "metadata": {},
   "outputs": [
    {
     "data": {
      "text/plain": [
       "(336, 46)"
      ]
     },
     "execution_count": 190,
     "metadata": {},
     "output_type": "execute_result"
    }
   ],
   "source": [
    "df.shape"
   ]
  },
  {
   "cell_type": "code",
   "execution_count": 6,
   "metadata": {},
   "outputs": [
    {
     "name": "stderr",
     "output_type": "stream",
     "text": [
      "c:\\ProgramData\\Anaconda3\\envs\\k12\\lib\\site-packages\\ipykernel_launcher.py:5: FutureWarning: The default value of regex will change from True to False in a future version.\n",
      "  \"\"\"\n",
      "c:\\ProgramData\\Anaconda3\\envs\\k12\\lib\\site-packages\\ipykernel_launcher.py:6: FutureWarning: The default value of regex will change from True to False in a future version.\n",
      "  \n",
      "c:\\ProgramData\\Anaconda3\\envs\\k12\\lib\\site-packages\\ipykernel_launcher.py:7: FutureWarning: The default value of regex will change from True to False in a future version.\n",
      "  import sys\n"
     ]
    }
   ],
   "source": [
    "df = preprocess_medical(df)"
   ]
  },
  {
   "cell_type": "code",
   "execution_count": 136,
   "metadata": {},
   "outputs": [
    {
     "data": {
      "text/plain": [
       "Index(['index', 'applicant_id', 'application_year', 'birth_year',\n",
       "       'citizenship', 'medical_school', 'residency_school', 'md_year',\n",
       "       'residency_year', 'step1', 'step2', 'step3', 'step_old', 'IMG',\n",
       "       'class_rank', 'honors', 'received_offer', 'language_skills',\n",
       "       'interests', 'number_of_publications', 'speciality', 'gender', 'lor1',\n",
       "       'lor1_position', 'lor1_university', 'lor1_gender', 'lor2',\n",
       "       'lor2_position', 'lor2_university', 'lor2_gender', 'lor3',\n",
       "       'lor3_position', 'lor3_university', 'lor3_gender', 'lor4',\n",
       "       'lor4_position', 'lor4_university', 'lor4_gender', 'Unnamed: 37',\n",
       "       'Unnamed: 38', 'Unnamed: 39', 'Unnamed: 40', 'Unnamed: 41',\n",
       "       'Unnamed: 42', 'Unnamed: 43', 'Unnamed: 44'],\n",
       "      dtype='object')"
      ]
     },
     "execution_count": 136,
     "metadata": {},
     "output_type": "execute_result"
    }
   ],
   "source": [
    "df.columns"
   ]
  },
  {
   "cell_type": "code",
   "execution_count": 13,
   "metadata": {},
   "outputs": [
    {
     "name": "stdout",
     "output_type": "stream",
     "text": [
      "university of kansas school of medicine\n",
      "padmashree dr dy patil medical college\n",
      "morehouse school of medicine\n",
      "university of california san francisco\n",
      "saint james school of medicine\n",
      "nova southeastern university\n",
      "rush university medical college\n",
      "university of lisbon faculty of medicine\n",
      "gandhi medical college bhopal india\n",
      "chicago medical school at rosalind franklin university of medicine science\n",
      "mercer university school of medicine\n",
      "case western reserve university\n",
      "columbia university\n",
      "shifa college of medicine\n",
      "india institue of medical center\n",
      "sackler school of medicine\n",
      "menofia university school of medicine\n",
      "chicago college of osteopathic medicine\n",
      "marshall university school of medicine\n",
      "loyola university\n",
      "stanford university school of medicine\n",
      "trakya university medical school\n",
      "hacettepe uni medical school\n",
      "siddhartha medical college\n",
      "national university of science technology\n",
      "smt nhl municipal medical college\n",
      "midwestern university chicago college of osteopathic\n",
      "chicago medical school at rosalind franklin univ\n",
      "university of south carolina school of medicine\n"
     ]
    }
   ],
   "source": [
    "foreign = []\n",
    "for school in df[\"medical_school\"]:\n",
    "    if pd.isna(school):\n",
    "        foreign.append(\"empty\")\n",
    "    elif school in foreign_dic_1.keys():\n",
    "        \n",
    "        foreign.append(foreign_dic_1[school])\n",
    "    else:\n",
    "        print(school)\n",
    "        foreign.append(\"unk\")"
   ]
  },
  {
   "cell_type": "code",
   "execution_count": 14,
   "metadata": {},
   "outputs": [],
   "source": [
    "df[\"foreign\"] = foreign"
   ]
  },
  {
   "cell_type": "code",
   "execution_count": 15,
   "metadata": {},
   "outputs": [
    {
     "data": {
      "text/plain": [
       "143                                       university of kansas school of medicine\n",
       "145                                        padmashree dr dy patil medical college\n",
       "146                                                  morehouse school of medicine\n",
       "147                                        university of california san francisco\n",
       "148                                                saint james school of medicine\n",
       "149                                                  nova southeastern university\n",
       "150                                               rush university medical college\n",
       "152                                      university of lisbon faculty of medicine\n",
       "153                                           gandhi medical college bhopal india\n",
       "155    chicago medical school at rosalind franklin university of medicine science\n",
       "156                                          mercer university school of medicine\n",
       "157                                               case western reserve university\n",
       "158                                                           columbia university\n",
       "162                                                     shifa college of medicine\n",
       "164                                              india institue of medical center\n",
       "166                                                    sackler school of medicine\n",
       "169                                         menofia university school of medicine\n",
       "170                                       chicago college of osteopathic medicine\n",
       "171                                        marshall university school of medicine\n",
       "173                                                             loyola university\n",
       "174                                        stanford university school of medicine\n",
       "175                                              trakya university medical school\n",
       "176                                                  hacettepe uni medical school\n",
       "177                                                    siddhartha medical college\n",
       "179                                     national university of science technology\n",
       "180                                             smt nhl municipal medical college\n",
       "181                          midwestern university chicago college of osteopathic\n",
       "183                              chicago medical school at rosalind franklin univ\n",
       "185                               university of south carolina school of medicine\n",
       "Name: medical_school, dtype: object"
      ]
     },
     "execution_count": 15,
     "metadata": {},
     "output_type": "execute_result"
    }
   ],
   "source": [
    "df.loc[df[\"foreign\"] == \"unk\",\"medical_school\"]"
   ]
  },
  {
   "cell_type": "code",
   "execution_count": 16,
   "metadata": {},
   "outputs": [],
   "source": [
    "foreign_dic_2 = {\n",
    "    \"university of kansas school of medicine\" : 0,\n",
    "\"padmashree dr dy patil medical college\":1,\n",
    "\"morehouse school of medicine\":0,\n",
    "\"university of california san francisco\":0,\n",
    "\"saint james school of medicine\":1,\n",
    "\"nova southeastern university\":0,\n",
    "\"rush university medical college\":0,\n",
    "\"university of lisbon faculty of medicine\":1,\n",
    "\"gandhi medical college bhopal india\":1,\n",
    "\"chicago medical school at rosalind franklin university of medicine science\":0,\n",
    "\"mercer university school of medicine\":0,\n",
    "\"case western reserve university\":0,\n",
    "\"columbia university\":0,\n",
    "\"shifa college of medicine\":1,\n",
    "\"india institue of medical center\":1,\n",
    "\"sackler school of medicine\":1,\n",
    "\"menofia university school of medicine\":1,\n",
    "\"chicago college of osteopathic medicine\":0,\n",
    "\"marshall university school of medicine\":0,\n",
    "\"loyola university\":0,\n",
    "\"stanford university school of medicine\":0,\n",
    "\"trakya university medical school\":1,\n",
    "\"hacettepe uni medical school\":1,\n",
    "\"siddhartha medical college\":1,\n",
    "\"national university of science technology\":1,\n",
    "\"smt nhl municipal medical college\":1,\n",
    "\"midwestern university chicago college of osteopathic\":0,\n",
    "\"chicago medical school at rosalind franklin univ\":0,\n",
    "\"university of south carolina school of medicine\":0,\n",
    "\"louisiana state university health sciences center shreveport\":0}\n"
   ]
  },
  {
   "cell_type": "code",
   "execution_count": 17,
   "metadata": {},
   "outputs": [],
   "source": [
    "foreign_dic_1.update(foreign_dic_2)"
   ]
  },
  {
   "cell_type": "code",
   "execution_count": 142,
   "metadata": {},
   "outputs": [],
   "source": [
    "pd.DataFrame(foreign_dic_1,index = [0]).T.to_excel(\"foreign_schools.xlsx\")"
   ]
  },
  {
   "cell_type": "code",
   "execution_count": 18,
   "metadata": {},
   "outputs": [],
   "source": [
    "import joblib\n",
    "#joblib.dump(foreign_dic_1,\"foreign_dic.pkl\")\n",
    "foreign_dic_1 = joblib.load(\"foreign_dic.pkl\")"
   ]
  },
  {
   "cell_type": "code",
   "execution_count": 19,
   "metadata": {},
   "outputs": [],
   "source": [
    "foreign = []\n",
    "for school in df[\"medical_school\"]:\n",
    "    if pd.isna(school):\n",
    "        foreign.append(\"empty\")\n",
    "    elif school in foreign_dic_1.keys():\n",
    "        \n",
    "        foreign.append(foreign_dic_1[school])\n",
    "    else:\n",
    "        print(school)\n",
    "        foreign.append(\"unk\")"
   ]
  },
  {
   "cell_type": "code",
   "execution_count": 20,
   "metadata": {},
   "outputs": [],
   "source": [
    "df[\"foreign\"] = foreign"
   ]
  },
  {
   "cell_type": "code",
   "execution_count": 21,
   "metadata": {},
   "outputs": [
    {
     "name": "stderr",
     "output_type": "stream",
     "text": [
      "c:\\ProgramData\\Anaconda3\\envs\\k12\\lib\\site-packages\\ipykernel_launcher.py:1: SettingWithCopyWarning: \n",
      "A value is trying to be set on a copy of a slice from a DataFrame.\n",
      "Try using .loc[row_indexer,col_indexer] = value instead\n",
      "\n",
      "See the caveats in the documentation: https://pandas.pydata.org/pandas-docs/stable/user_guide/indexing.html#returning-a-view-versus-a-copy\n",
      "  \"\"\"Entry point for launching an IPython kernel.\n"
     ]
    }
   ],
   "source": [
    "df.loc[df[\"foreign\"] == \"empty\"][\"foreign\"] = 0"
   ]
  },
  {
   "cell_type": "code",
   "execution_count": 22,
   "metadata": {},
   "outputs": [
    {
     "data": {
      "text/plain": [
       "105    empty\n",
       "Name: foreign, dtype: object"
      ]
     },
     "execution_count": 22,
     "metadata": {},
     "output_type": "execute_result"
    }
   ],
   "source": [
    "df.loc[df[\"foreign\"] == \"empty\",\"foreign\"]"
   ]
  },
  {
   "cell_type": "code",
   "execution_count": 23,
   "metadata": {},
   "outputs": [
    {
     "data": {
      "text/html": [
       "<div>\n",
       "<style scoped>\n",
       "    .dataframe tbody tr th:only-of-type {\n",
       "        vertical-align: middle;\n",
       "    }\n",
       "\n",
       "    .dataframe tbody tr th {\n",
       "        vertical-align: top;\n",
       "    }\n",
       "\n",
       "    .dataframe thead th {\n",
       "        text-align: right;\n",
       "    }\n",
       "</style>\n",
       "<table border=\"1\" class=\"dataframe\">\n",
       "  <thead>\n",
       "    <tr style=\"text-align: right;\">\n",
       "      <th></th>\n",
       "      <th>index</th>\n",
       "      <th>applicant_id</th>\n",
       "      <th>application_year</th>\n",
       "      <th>birth_year</th>\n",
       "      <th>citizenship</th>\n",
       "      <th>medical_school</th>\n",
       "      <th>residency_school</th>\n",
       "      <th>md_year</th>\n",
       "      <th>residency_year</th>\n",
       "      <th>step1</th>\n",
       "      <th>step2</th>\n",
       "      <th>step3</th>\n",
       "      <th>step_old</th>\n",
       "      <th>IMG</th>\n",
       "      <th>class_rank</th>\n",
       "      <th>honors</th>\n",
       "      <th>received_offer</th>\n",
       "      <th>language_skills</th>\n",
       "      <th>interests</th>\n",
       "      <th>number_of_publications</th>\n",
       "      <th>speciality</th>\n",
       "      <th>gender</th>\n",
       "      <th>lor1</th>\n",
       "      <th>lor1_position</th>\n",
       "      <th>lor1_university</th>\n",
       "      <th>lor1_gender</th>\n",
       "      <th>lor2</th>\n",
       "      <th>lor2_position</th>\n",
       "      <th>lor2_university</th>\n",
       "      <th>lor2_gender</th>\n",
       "      <th>lor3</th>\n",
       "      <th>lor3_position</th>\n",
       "      <th>lor3_university</th>\n",
       "      <th>lor3_gender</th>\n",
       "      <th>lor4</th>\n",
       "      <th>lor4_position</th>\n",
       "      <th>lor4_university</th>\n",
       "      <th>lor4_gender</th>\n",
       "      <th>Unnamed: 37</th>\n",
       "      <th>Unnamed: 38</th>\n",
       "      <th>Unnamed: 39</th>\n",
       "      <th>Unnamed: 40</th>\n",
       "      <th>Unnamed: 41</th>\n",
       "      <th>Unnamed: 42</th>\n",
       "      <th>Unnamed: 43</th>\n",
       "      <th>Unnamed: 44</th>\n",
       "      <th>foreign</th>\n",
       "    </tr>\n",
       "  </thead>\n",
       "  <tbody>\n",
       "    <tr>\n",
       "      <th>105</th>\n",
       "      <td>108</td>\n",
       "      <td>105</td>\n",
       "      <td>NaN</td>\n",
       "      <td>1967.0</td>\n",
       "      <td>1.0</td>\n",
       "      <td>NaN</td>\n",
       "      <td>Louisiana State University Health Sciences Center Shreveport</td>\n",
       "      <td>1992.0</td>\n",
       "      <td>2022</td>\n",
       "      <td>214</td>\n",
       "      <td>241</td>\n",
       "      <td>222</td>\n",
       "      <td>0.0</td>\n",
       "      <td>0.0</td>\n",
       "      <td>NaN</td>\n",
       "      <td>\\n</td>\n",
       "      <td>NaN</td>\n",
       "      <td>English,Italian,Spanish/Spanish Creole\\n</td>\n",
       "      <td>\\nDog rescue, environmental care, hiking.\\n</td>\n",
       "      <td>1.0</td>\n",
       "      <td>3.0</td>\n",
       "      <td>female</td>\n",
       "      <td>The Program Director Neuroradiology Fellowship:\\n\\nIt is my pleasure and my privilege to write this letter of recommendation on behalf of Silvia Barbeito, MD.\\nDr. Barbeito had a Radiology observership in 2016 and later on she won her position as a Radiology Resident in 2017 in the Department of Radiology at LSU School of Medicine, where I have been the Director of Neuroradiology and Research.\\nShe is an outstanding, brilliant resident, always in the forefront of her colleagues. She is an achieved radiologist and she also is proficient in teaching and research.\\nIn Argentina she already completed her Radiology Residency and went through all the positions, as staff and reaching the position as a Chairman in San Juan de Dias Clinic, run by the San Juan de Dias Friars with Charity Hospitals in 50 Countries. She was also Radiology Chairman in a top ranked private Imaging Center, Diagnostico Maipu, pioneer_in argentinean radiology.\\nDr. Barbeito demonstrated interest in Neuroradiology and she is one of the few inquiring about new methodologies as DTI, resting state fMRI and Artificial Intelligence. She is always ready for teaching and research. As you can see in her CV, she has a number of publications and presentations uncommon for a resident. She shares her expertise not only with students and fellow residents but with staff in techniques as transcranial Doppler.\\nShe will be a great asset to any fellowship program wherever she may be accepted.\\nI will be glad to provide more information if required.</td>\n",
       "      <td>professor,director</td>\n",
       "      <td>. LSU School of Medicine</td>\n",
       "      <td>male</td>\n",
       "      <td>To whom it may concern:\\n\\nIt is my great pleasure to right in enthusiastic support of Dr. Silvia Barbeito’s application for your program. I worked closely with Silvia during her radiology rotations for the last 2 years at the VA Medical Center in Shreveport, Louisiana. As is evident from her CV, Dr. Barbeito has excelled throughout her career with many notable accomplishments. During her rotations, Silvia demonstrated qualities necessary for your program: excellent knowledge base (as expected from her years of experience), compassionate patient care, tenacious worker, attention to detail, and a willing teacher for more junior trainees and students. I have observed Silvia in both inpatient and outpatient settings and overseen her performance during her residency.\\n\\nIn addition to considerable intellect and exemplary performance during her radiology rotations, Silvia has made outstanding presentations to help others better understand concepts and disease patterns in radiology and has presented at a national meeting (American Society of Emergency Radiology). In the 2019-2020 academic year (her on-call heavy year), she interpreted more exams than any other resident in the program. As a result, she was recognized by our department for such excellence in work ethic.\\n\\nSilvia consistently exhibits curiosity and motivation to learn that exceeds all in her class. I personally enjoy how passionate she is to understand disease processes in the context of radiology, which has shown me her steady desire to maximize her knowledge. She has been consistently well-prepared for all types of learning situations that she faced on her radiology rotations. As she has much experience with performing ultrasounds from her time in Argentina, Silvia has brought that expertise to her rotations and helped our technologists learn new techniques and approaches for certain sonographic examinations that seldom arise in our practice. Silvia will bring tremendous experience and value to your p...</td>\n",
       "      <td>Clinical Assistant Professor ,</td>\n",
       "      <td>. LSU School of Medicine</td>\n",
       "      <td>male</td>\n",
       "      <td>To Whom it May Concern,\\n\\nIt is my privilege to write this letter of recommendation on behalf of Dr. Silvia Barbeito’s neuroradiology fellowship application. I have worked with Silvia for the past 3 years during her residency here at LSU Health Shreveport. I have worked closely with Silvia during her MSK rotations where I serve as head of the section. While working with her it has become apparent that she is an extraordinary individual. She has always shown special interest in neuroradiology and plans to pursue a career in this field.\\n\\nDr. Barbeito finished medical school at University of Buenos Aires, and completed a Radiology residency in Argentina. She worked as a staff radiologist in Argentina before coming to the U.S. We were ecstatic to have her match with us here for residency. Despite already serving in a staff capacity, Silvia has always served in her resident role with humility and an exceptionally strong work ethic. As proof, each year we give an award to the resident who read the most studies; Silvia won this award during her R2 year. She has been a stellar resident and is truly well-liked and respected by all. She is very professional in all her interactions and has a team- first approach.\\n\\nDr. Barbeito is extremely disciplined in her studying and it shows on a daily basis. She has an excellent medical knowledge base and demonstrates admirable clinical skills. In fact, she scored in the top percentile of the ACR in-service exam the past two years. She is a talented radiologist and has a good eye. She is intelligent, always eager to learn, and asks insightful questions. Not surprisingly, this has resulted in Silvia receiving very strong evaluations from all faculty throughout her residency.\\n\\nShe has also been extremely active in scholarly activity, resulting in abstract acceptances at the 2020 AUR meeting, and the 2019 ARRS and American Society of Emergency Radiology meetings.\\n\\nI have no hesitation in recommending Dr. Barbeito for your fello...</td>\n",
       "      <td>Professor,Residency Program Director</td>\n",
       "      <td>. LSU School of Medicine</td>\n",
       "      <td>male</td>\n",
       "      <td>Dear Program Director,\\n \\nI am happy to provide this letter of recommendation for Dr. Silvia Barbeito. She is applying for your fellowship program.\\n\\nDr. Barbeito is currently a resident in radiology at LSU Health Shreveport. I have had the pleasure of working with her during her neuroradiology rotations. Dr. Barbeito is very motivated, intelligent and a pleasure to work with. She is eager to learn and puts in extra effort to achieve her goals. Her scores on the past two ACR in-service exam administrations have been among the highest of all our residents.\\n\\nAcademically, she has been involved in several research and quality improvement projects. Her scholarly activity includes several projects presented at RSNA, as well as an abstract accepted for the 2020 AUR meeting titled “Value of FAST exam performed by Radiology Residents.” She also had two papers accepted for publication in Ear Nose &amp; Throat Journal titled “Post-traumatic discovery of unknown lymphangioma in a pediatric patient” and “An uncommon recurrence of Carcinoma expleomorphic adenoma of the parotid gland.” She continues to actively participate in research. Her attendings on these projects have been impressed with her enthusiasm and work ethic.\\n\\nI am certain Dr. Barbeito will make a strong fellow and that you will be impressed with her knowledge, skills, and performance. Please contact us if you have any questions regarding Dr. Barbeito.\\n\\nSincerely,\\n</td>\n",
       "      <td>Associate Program Director ,Associate Professor ,interim chairman</td>\n",
       "      <td>. LSU School of Medicine</td>\n",
       "      <td>male</td>\n",
       "      <td>NaN</td>\n",
       "      <td>NaN</td>\n",
       "      <td>NaN</td>\n",
       "      <td>NaN</td>\n",
       "      <td>NaN</td>\n",
       "      <td>NaN</td>\n",
       "      <td>NaN</td>\n",
       "      <td>NaN</td>\n",
       "      <td>empty</td>\n",
       "    </tr>\n",
       "  </tbody>\n",
       "</table>\n",
       "</div>"
      ],
      "text/plain": [
       "     index  applicant_id  application_year birth_year  citizenship  \\\n",
       "105    108           105               NaN     1967.0          1.0   \n",
       "\n",
       "    medical_school  \\\n",
       "105            NaN   \n",
       "\n",
       "                                                 residency_school  md_year  \\\n",
       "105  Louisiana State University Health Sciences Center Shreveport   1992.0   \n",
       "\n",
       "    residency_year step1 step2 step3  step_old  IMG class_rank honors  \\\n",
       "105           2022   214   241   222       0.0  0.0        NaN     \\n   \n",
       "\n",
       "    received_offer                           language_skills  \\\n",
       "105            NaN  English,Italian,Spanish/Spanish Creole\\n   \n",
       "\n",
       "                                       interests  number_of_publications  \\\n",
       "105  \\nDog rescue, environmental care, hiking.\\n                     1.0   \n",
       "\n",
       "     speciality  gender  \\\n",
       "105         3.0  female   \n",
       "\n",
       "                                                                                                                                                                                                                                                                                                                                                                                                                                                                                                                                                                                                                                                                                                                                                                                                                                                                                                                                                                                                                                                                                                                                                                                                                                                                                                                                                                                                                                                                                                                                                                                   lor1  \\\n",
       "105  The Program Director Neuroradiology Fellowship:\\n\\nIt is my pleasure and my privilege to write this letter of recommendation on behalf of Silvia Barbeito, MD.\\nDr. Barbeito had a Radiology observership in 2016 and later on she won her position as a Radiology Resident in 2017 in the Department of Radiology at LSU School of Medicine, where I have been the Director of Neuroradiology and Research.\\nShe is an outstanding, brilliant resident, always in the forefront of her colleagues. She is an achieved radiologist and she also is proficient in teaching and research.\\nIn Argentina she already completed her Radiology Residency and went through all the positions, as staff and reaching the position as a Chairman in San Juan de Dias Clinic, run by the San Juan de Dias Friars with Charity Hospitals in 50 Countries. She was also Radiology Chairman in a top ranked private Imaging Center, Diagnostico Maipu, pioneer_in argentinean radiology.\\nDr. Barbeito demonstrated interest in Neuroradiology and she is one of the few inquiring about new methodologies as DTI, resting state fMRI and Artificial Intelligence. She is always ready for teaching and research. As you can see in her CV, she has a number of publications and presentations uncommon for a resident. She shares her expertise not only with students and fellow residents but with staff in techniques as transcranial Doppler.\\nShe will be a great asset to any fellowship program wherever she may be accepted.\\nI will be glad to provide more information if required.   \n",
       "\n",
       "          lor1_position            lor1_university lor1_gender  \\\n",
       "105  professor,director  . LSU School of Medicine         male   \n",
       "\n",
       "                                                                                                                                                                                                                                                                                                                                                                                                                                                                                                                                                                                                                                                                                                                                                                                                                                                                                                                                                                                                                                                                                                                                                                                                                                                                                                                                                                                                                                                                                                                                                                                                                                                                                                                                                                                                                                                                                                                                                                                                                                                                                lor2  \\\n",
       "105  To whom it may concern:\\n\\nIt is my great pleasure to right in enthusiastic support of Dr. Silvia Barbeito’s application for your program. I worked closely with Silvia during her radiology rotations for the last 2 years at the VA Medical Center in Shreveport, Louisiana. As is evident from her CV, Dr. Barbeito has excelled throughout her career with many notable accomplishments. During her rotations, Silvia demonstrated qualities necessary for your program: excellent knowledge base (as expected from her years of experience), compassionate patient care, tenacious worker, attention to detail, and a willing teacher for more junior trainees and students. I have observed Silvia in both inpatient and outpatient settings and overseen her performance during her residency.\\n\\nIn addition to considerable intellect and exemplary performance during her radiology rotations, Silvia has made outstanding presentations to help others better understand concepts and disease patterns in radiology and has presented at a national meeting (American Society of Emergency Radiology). In the 2019-2020 academic year (her on-call heavy year), she interpreted more exams than any other resident in the program. As a result, she was recognized by our department for such excellence in work ethic.\\n\\nSilvia consistently exhibits curiosity and motivation to learn that exceeds all in her class. I personally enjoy how passionate she is to understand disease processes in the context of radiology, which has shown me her steady desire to maximize her knowledge. She has been consistently well-prepared for all types of learning situations that she faced on her radiology rotations. As she has much experience with performing ultrasounds from her time in Argentina, Silvia has brought that expertise to her rotations and helped our technologists learn new techniques and approaches for certain sonographic examinations that seldom arise in our practice. Silvia will bring tremendous experience and value to your p...   \n",
       "\n",
       "                      lor2_position            lor2_university lor2_gender  \\\n",
       "105  Clinical Assistant Professor ,  . LSU School of Medicine         male   \n",
       "\n",
       "                                                                                                                                                                                                                                                                                                                                                                                                                                                                                                                                                                                                                                                                                                                                                                                                                                                                                                                                                                                                                                                                                                                                                                                                                                                                                                                                                                                                                                                                                                                                                                                                                                                                                                                                                                                                                                                                                                                                                                                                                                                                                lor3  \\\n",
       "105  To Whom it May Concern,\\n\\nIt is my privilege to write this letter of recommendation on behalf of Dr. Silvia Barbeito’s neuroradiology fellowship application. I have worked with Silvia for the past 3 years during her residency here at LSU Health Shreveport. I have worked closely with Silvia during her MSK rotations where I serve as head of the section. While working with her it has become apparent that she is an extraordinary individual. She has always shown special interest in neuroradiology and plans to pursue a career in this field.\\n\\nDr. Barbeito finished medical school at University of Buenos Aires, and completed a Radiology residency in Argentina. She worked as a staff radiologist in Argentina before coming to the U.S. We were ecstatic to have her match with us here for residency. Despite already serving in a staff capacity, Silvia has always served in her resident role with humility and an exceptionally strong work ethic. As proof, each year we give an award to the resident who read the most studies; Silvia won this award during her R2 year. She has been a stellar resident and is truly well-liked and respected by all. She is very professional in all her interactions and has a team- first approach.\\n\\nDr. Barbeito is extremely disciplined in her studying and it shows on a daily basis. She has an excellent medical knowledge base and demonstrates admirable clinical skills. In fact, she scored in the top percentile of the ACR in-service exam the past two years. She is a talented radiologist and has a good eye. She is intelligent, always eager to learn, and asks insightful questions. Not surprisingly, this has resulted in Silvia receiving very strong evaluations from all faculty throughout her residency.\\n\\nShe has also been extremely active in scholarly activity, resulting in abstract acceptances at the 2020 AUR meeting, and the 2019 ARRS and American Society of Emergency Radiology meetings.\\n\\nI have no hesitation in recommending Dr. Barbeito for your fello...   \n",
       "\n",
       "                             lor3_position            lor3_university  \\\n",
       "105  Professor,Residency Program Director   . LSU School of Medicine    \n",
       "\n",
       "    lor3_gender  \\\n",
       "105        male   \n",
       "\n",
       "                                                                                                                                                                                                                                                                                                                                                                                                                                                                                                                                                                                                                                                                                                                                                                                                                                                                                                                                                                                                                                                                                                                                                                                                                                                                                                                                                                                                                                                                                                    lor4  \\\n",
       "105  Dear Program Director,\\n \\nI am happy to provide this letter of recommendation for Dr. Silvia Barbeito. She is applying for your fellowship program.\\n\\nDr. Barbeito is currently a resident in radiology at LSU Health Shreveport. I have had the pleasure of working with her during her neuroradiology rotations. Dr. Barbeito is very motivated, intelligent and a pleasure to work with. She is eager to learn and puts in extra effort to achieve her goals. Her scores on the past two ACR in-service exam administrations have been among the highest of all our residents.\\n\\nAcademically, she has been involved in several research and quality improvement projects. Her scholarly activity includes several projects presented at RSNA, as well as an abstract accepted for the 2020 AUR meeting titled “Value of FAST exam performed by Radiology Residents.” She also had two papers accepted for publication in Ear Nose & Throat Journal titled “Post-traumatic discovery of unknown lymphangioma in a pediatric patient” and “An uncommon recurrence of Carcinoma expleomorphic adenoma of the parotid gland.” She continues to actively participate in research. Her attendings on these projects have been impressed with her enthusiasm and work ethic.\\n\\nI am certain Dr. Barbeito will make a strong fellow and that you will be impressed with her knowledge, skills, and performance. Please contact us if you have any questions regarding Dr. Barbeito.\\n\\nSincerely,\\n   \n",
       "\n",
       "                                                         lor4_position  \\\n",
       "105  Associate Program Director ,Associate Professor ,interim chairman   \n",
       "\n",
       "               lor4_university lor4_gender Unnamed: 37 Unnamed: 38  \\\n",
       "105  . LSU School of Medicine         male         NaN         NaN   \n",
       "\n",
       "    Unnamed: 39 Unnamed: 40 Unnamed: 41 Unnamed: 42 Unnamed: 43 Unnamed: 44  \\\n",
       "105         NaN         NaN         NaN         NaN         NaN         NaN   \n",
       "\n",
       "    foreign  \n",
       "105   empty  "
      ]
     },
     "execution_count": 23,
     "metadata": {},
     "output_type": "execute_result"
    }
   ],
   "source": [
    "df.loc[df[\"foreign\"] == \"empty\"]"
   ]
  },
  {
   "cell_type": "code",
   "execution_count": 102,
   "metadata": {},
   "outputs": [],
   "source": [
    "df.to_excel(\"df_all_data_foreign_included.xlsx\")"
   ]
  },
  {
   "cell_type": "markdown",
   "metadata": {},
   "source": [
    "# Start Here"
   ]
  },
  {
   "cell_type": "code",
   "execution_count": 24,
   "metadata": {},
   "outputs": [],
   "source": [
    "df = pd.read_excel(\"df_all_data_foreign_included.xlsx\")"
   ]
  },
  {
   "cell_type": "code",
   "execution_count": 25,
   "metadata": {},
   "outputs": [],
   "source": [
    "df.gender = df.gender.str.strip()"
   ]
  },
  {
   "cell_type": "code",
   "execution_count": 26,
   "metadata": {},
   "outputs": [
    {
     "data": {
      "text/plain": [
       "male      261\n",
       "female     73\n",
       "Name: gender, dtype: int64"
      ]
     },
     "execution_count": 26,
     "metadata": {},
     "output_type": "execute_result"
    }
   ],
   "source": [
    "df.gender.value_counts()"
   ]
  },
  {
   "cell_type": "code",
   "execution_count": 6,
   "metadata": {},
   "outputs": [],
   "source": [
    "\n",
    "#%%\n",
    "applicant_columns = ['applicant_id', 'application_year', 'birth_year', 'citizenship',\"foreign\",\n",
    "       'medical_school', 'residency_school', 'md_year', 'residency_year',\n",
    "       'step1', 'step2', 'step3', 'step_old', 'IMG', 'class_rank', 'honors',\n",
    "       'received_offer', 'language_skills', 'interests',\n",
    "       'number_of_publications', 'speciality', 'gender']\n",
    "\n",
    "# %%\n",
    "from collections import defaultdict\n",
    "df_dic = defaultdict(list)\n",
    "#%%\n",
    "for inx,row in df.iterrows():\n",
    "    for lor in [\"lor1\",\"lor2\",\"lor3\",\"lor4\"]:\n",
    "        for column in applicant_columns:\n",
    "            df_dic[column].append(row[column])\n",
    "        df_dic[\"lor\"].append(row[lor])\n",
    "        df_dic[\"lor_position\"].append(row[lor + \"_position\"])\n",
    "        df_dic[\"lor_university\"].append(row[lor + \"_university\"])\n",
    "        df_dic[\"lor_gender\"].append(row[lor + \"_gender\"])\n",
    "        df_dic[\"lor_number\"].append(lor)\n",
    "  \n",
    "# %%\n",
    "df_new = pd.DataFrame(df_dic)\n",
    "\n",
    "# %%\n",
    "df_new = df_new.dropna(subset=[\"lor\"])\n",
    "\n",
    "#%%\n"
   ]
  },
  {
   "cell_type": "code",
   "execution_count": 7,
   "metadata": {},
   "outputs": [
    {
     "data": {
      "text/plain": [
       "(336,)"
      ]
     },
     "execution_count": 7,
     "metadata": {},
     "output_type": "execute_result"
    }
   ],
   "source": [
    "df_new.applicant_id.unique().shape\n",
    "#%%\n"
   ]
  },
  {
   "cell_type": "code",
   "execution_count": 8,
   "metadata": {},
   "outputs": [],
   "source": [
    "df_new[\"lor\"] = df_new[\"lor\"].apply(clean_text)\n",
    "#%%\n",
    "df_new[\"lor_id\"] = df_new.index\n",
    "# %%\n"
   ]
  },
  {
   "cell_type": "code",
   "execution_count": 90,
   "metadata": {},
   "outputs": [
    {
     "data": {
      "text/plain": [
       "['df_new.h5']"
      ]
     },
     "execution_count": 90,
     "metadata": {},
     "output_type": "execute_result"
    }
   ],
   "source": [
    "import joblib\n",
    "#joblib.dump(df_new, \"df_new.h5\")"
   ]
  },
  {
   "cell_type": "code",
   "execution_count": 9,
   "metadata": {},
   "outputs": [],
   "source": [
    "df_male = df_new.loc[(df_new.gender == \"male\")]\n",
    "df_female = df_new.loc[df_new.gender == \"female\"]\n",
    "# %%\n"
   ]
  },
  {
   "cell_type": "code",
   "execution_count": 92,
   "metadata": {},
   "outputs": [
    {
     "ename": "KeyboardInterrupt",
     "evalue": "",
     "output_type": "error",
     "traceback": [
      "\u001b[1;31m---------------------------------------------------------------------------\u001b[0m",
      "\u001b[1;31mKeyboardInterrupt\u001b[0m                         Traceback (most recent call last)",
      "\u001b[1;32m<ipython-input-92-1f533b701b52>\u001b[0m in \u001b[0;36m<module>\u001b[1;34m\u001b[0m\n\u001b[0;32m      1\u001b[0m \u001b[1;31m#8min 47s\u001b[0m\u001b[1;33m\u001b[0m\u001b[1;33m\u001b[0m\u001b[1;33m\u001b[0m\u001b[0m\n\u001b[1;32m----> 2\u001b[1;33m \u001b[0mdf_sentiment_male\u001b[0m \u001b[1;33m=\u001b[0m \u001b[0mss\u001b[0m\u001b[1;33m.\u001b[0m\u001b[0mget_sentiment_df\u001b[0m\u001b[1;33m(\u001b[0m\u001b[0mdf_male\u001b[0m\u001b[1;33m,\u001b[0m\u001b[1;34m\"lor\"\u001b[0m\u001b[1;33m,\u001b[0m\u001b[0mdrop_sent_scores\u001b[0m \u001b[1;33m=\u001b[0m \u001b[1;32mFalse\u001b[0m\u001b[1;33m)\u001b[0m\u001b[1;33m\u001b[0m\u001b[1;33m\u001b[0m\u001b[0m\n\u001b[0m\u001b[0;32m      3\u001b[0m \u001b[1;31m#2min 50s\u001b[0m\u001b[1;33m\u001b[0m\u001b[1;33m\u001b[0m\u001b[1;33m\u001b[0m\u001b[0m\n\u001b[0;32m      4\u001b[0m \u001b[0mdf_sentiment_female\u001b[0m \u001b[1;33m=\u001b[0m \u001b[0mss\u001b[0m\u001b[1;33m.\u001b[0m\u001b[0mget_sentiment_df\u001b[0m\u001b[1;33m(\u001b[0m\u001b[0mdf_female\u001b[0m\u001b[1;33m,\u001b[0m\u001b[1;34m\"lor\"\u001b[0m\u001b[1;33m,\u001b[0m\u001b[0mdrop_sent_scores\u001b[0m \u001b[1;33m=\u001b[0m \u001b[1;32mFalse\u001b[0m\u001b[1;33m)\u001b[0m\u001b[1;33m\u001b[0m\u001b[1;33m\u001b[0m\u001b[0m\n",
      "\u001b[1;32mf:\\Workspace\\GIT\\AURA_REFERENCE_LETTER\\sentiment_score.py\u001b[0m in \u001b[0;36mget_sentiment_df\u001b[1;34m(df, sentence_column, drop_sent_scores)\u001b[0m\n\u001b[0;32m     99\u001b[0m     \u001b[0mscores_list\u001b[0m \u001b[1;33m=\u001b[0m \u001b[1;33m[\u001b[0m\u001b[1;36m0\u001b[0m\u001b[1;33m]\u001b[0m\u001b[1;33m*\u001b[0m\u001b[0mdf\u001b[0m\u001b[1;33m[\u001b[0m\u001b[0msentence_column\u001b[0m\u001b[1;33m]\u001b[0m\u001b[1;33m.\u001b[0m\u001b[0mshape\u001b[0m\u001b[1;33m[\u001b[0m\u001b[1;36m0\u001b[0m\u001b[1;33m]\u001b[0m\u001b[1;33m\u001b[0m\u001b[1;33m\u001b[0m\u001b[0m\n\u001b[0;32m    100\u001b[0m     \u001b[1;32mfor\u001b[0m \u001b[0minx\u001b[0m\u001b[1;33m,\u001b[0m\u001b[0msentence\u001b[0m \u001b[1;32min\u001b[0m \u001b[0menumerate\u001b[0m\u001b[1;33m(\u001b[0m\u001b[0mdf\u001b[0m\u001b[1;33m[\u001b[0m\u001b[0msentence_column\u001b[0m\u001b[1;33m]\u001b[0m\u001b[1;33m.\u001b[0m\u001b[0mvalues\u001b[0m\u001b[1;33m)\u001b[0m\u001b[1;33m:\u001b[0m\u001b[1;33m\u001b[0m\u001b[1;33m\u001b[0m\u001b[0m\n\u001b[1;32m--> 101\u001b[1;33m         \u001b[0mscore\u001b[0m \u001b[1;33m=\u001b[0m \u001b[0mget_sentiment_score\u001b[0m\u001b[1;33m(\u001b[0m\u001b[0msentence\u001b[0m\u001b[1;33m)\u001b[0m\u001b[1;33m\u001b[0m\u001b[1;33m\u001b[0m\u001b[0m\n\u001b[0m\u001b[0;32m    102\u001b[0m         \u001b[0mscores_list\u001b[0m\u001b[1;33m[\u001b[0m\u001b[0minx\u001b[0m\u001b[1;33m]\u001b[0m \u001b[1;33m=\u001b[0m \u001b[0mscore\u001b[0m\u001b[1;33m\u001b[0m\u001b[1;33m\u001b[0m\u001b[0m\n\u001b[0;32m    103\u001b[0m     \u001b[0mscores_array\u001b[0m \u001b[1;33m=\u001b[0m \u001b[0mnp\u001b[0m\u001b[1;33m.\u001b[0m\u001b[0marray\u001b[0m\u001b[1;33m(\u001b[0m\u001b[0mscores_list\u001b[0m\u001b[1;33m)\u001b[0m\u001b[1;33m\u001b[0m\u001b[1;33m\u001b[0m\u001b[0m\n",
      "\u001b[1;32mf:\\Workspace\\GIT\\AURA_REFERENCE_LETTER\\sentiment_score.py\u001b[0m in \u001b[0;36mget_sentiment_score\u001b[1;34m(text)\u001b[0m\n\u001b[0;32m     91\u001b[0m         \u001b[0mencoded_input\u001b[0m\u001b[1;33m[\u001b[0m\u001b[1;34m\"input_ids\"\u001b[0m\u001b[1;33m]\u001b[0m \u001b[1;33m=\u001b[0m \u001b[0mencoded_input\u001b[0m\u001b[1;33m[\u001b[0m\u001b[1;34m\"input_ids\"\u001b[0m\u001b[1;33m]\u001b[0m\u001b[1;33m[\u001b[0m\u001b[1;33m:\u001b[0m\u001b[1;33m,\u001b[0m\u001b[1;36m0\u001b[0m\u001b[1;33m:\u001b[0m\u001b[1;36m512\u001b[0m\u001b[1;33m]\u001b[0m\u001b[1;33m\u001b[0m\u001b[1;33m\u001b[0m\u001b[0m\n\u001b[0;32m     92\u001b[0m         \u001b[0mencoded_input\u001b[0m\u001b[1;33m[\u001b[0m\u001b[1;34m\"attention_mask\"\u001b[0m\u001b[1;33m]\u001b[0m \u001b[1;33m=\u001b[0m \u001b[0mencoded_input\u001b[0m\u001b[1;33m[\u001b[0m\u001b[1;34m\"attention_mask\"\u001b[0m\u001b[1;33m]\u001b[0m\u001b[1;33m[\u001b[0m\u001b[1;33m:\u001b[0m\u001b[1;33m,\u001b[0m\u001b[1;36m0\u001b[0m\u001b[1;33m:\u001b[0m\u001b[1;36m512\u001b[0m\u001b[1;33m]\u001b[0m\u001b[1;33m\u001b[0m\u001b[1;33m\u001b[0m\u001b[0m\n\u001b[1;32m---> 93\u001b[1;33m     \u001b[0moutput\u001b[0m \u001b[1;33m=\u001b[0m \u001b[0mmodel_sentiment\u001b[0m\u001b[1;33m(\u001b[0m\u001b[1;33m**\u001b[0m\u001b[0mencoded_input\u001b[0m\u001b[1;33m)\u001b[0m\u001b[1;33m\u001b[0m\u001b[1;33m\u001b[0m\u001b[0m\n\u001b[0m\u001b[0;32m     94\u001b[0m     \u001b[0mscores\u001b[0m \u001b[1;33m=\u001b[0m \u001b[0moutput\u001b[0m\u001b[1;33m[\u001b[0m\u001b[1;36m0\u001b[0m\u001b[1;33m]\u001b[0m\u001b[1;33m[\u001b[0m\u001b[1;36m0\u001b[0m\u001b[1;33m]\u001b[0m\u001b[1;33m.\u001b[0m\u001b[0mdetach\u001b[0m\u001b[1;33m(\u001b[0m\u001b[1;33m)\u001b[0m\u001b[1;33m.\u001b[0m\u001b[0mnumpy\u001b[0m\u001b[1;33m(\u001b[0m\u001b[1;33m)\u001b[0m\u001b[1;33m\u001b[0m\u001b[1;33m\u001b[0m\u001b[0m\n\u001b[0;32m     95\u001b[0m     \u001b[0mscores\u001b[0m \u001b[1;33m=\u001b[0m \u001b[0msoftmax\u001b[0m\u001b[1;33m(\u001b[0m\u001b[0mscores\u001b[0m\u001b[1;33m)\u001b[0m\u001b[1;33m\u001b[0m\u001b[1;33m\u001b[0m\u001b[0m\n",
      "\u001b[1;32mc:\\ProgramData\\Anaconda3\\envs\\k12\\lib\\site-packages\\torch\\nn\\modules\\module.py\u001b[0m in \u001b[0;36m_call_impl\u001b[1;34m(self, *input, **kwargs)\u001b[0m\n\u001b[0;32m   1128\u001b[0m         if not (self._backward_hooks or self._forward_hooks or self._forward_pre_hooks or _global_backward_hooks\n\u001b[0;32m   1129\u001b[0m                 or _global_forward_hooks or _global_forward_pre_hooks):\n\u001b[1;32m-> 1130\u001b[1;33m             \u001b[1;32mreturn\u001b[0m \u001b[0mforward_call\u001b[0m\u001b[1;33m(\u001b[0m\u001b[1;33m*\u001b[0m\u001b[0minput\u001b[0m\u001b[1;33m,\u001b[0m \u001b[1;33m**\u001b[0m\u001b[0mkwargs\u001b[0m\u001b[1;33m)\u001b[0m\u001b[1;33m\u001b[0m\u001b[1;33m\u001b[0m\u001b[0m\n\u001b[0m\u001b[0;32m   1131\u001b[0m         \u001b[1;31m# Do not call functions when jit is used\u001b[0m\u001b[1;33m\u001b[0m\u001b[1;33m\u001b[0m\u001b[1;33m\u001b[0m\u001b[0m\n\u001b[0;32m   1132\u001b[0m         \u001b[0mfull_backward_hooks\u001b[0m\u001b[1;33m,\u001b[0m \u001b[0mnon_full_backward_hooks\u001b[0m \u001b[1;33m=\u001b[0m \u001b[1;33m[\u001b[0m\u001b[1;33m]\u001b[0m\u001b[1;33m,\u001b[0m \u001b[1;33m[\u001b[0m\u001b[1;33m]\u001b[0m\u001b[1;33m\u001b[0m\u001b[1;33m\u001b[0m\u001b[0m\n",
      "\u001b[1;32mc:\\ProgramData\\Anaconda3\\envs\\k12\\lib\\site-packages\\transformers\\models\\roberta\\modeling_roberta.py\u001b[0m in \u001b[0;36mforward\u001b[1;34m(self, input_ids, attention_mask, token_type_ids, position_ids, head_mask, inputs_embeds, labels, output_attentions, output_hidden_states, return_dict)\u001b[0m\n\u001b[0;32m   1182\u001b[0m             \u001b[0moutput_attentions\u001b[0m\u001b[1;33m=\u001b[0m\u001b[0moutput_attentions\u001b[0m\u001b[1;33m,\u001b[0m\u001b[1;33m\u001b[0m\u001b[1;33m\u001b[0m\u001b[0m\n\u001b[0;32m   1183\u001b[0m             \u001b[0moutput_hidden_states\u001b[0m\u001b[1;33m=\u001b[0m\u001b[0moutput_hidden_states\u001b[0m\u001b[1;33m,\u001b[0m\u001b[1;33m\u001b[0m\u001b[1;33m\u001b[0m\u001b[0m\n\u001b[1;32m-> 1184\u001b[1;33m             \u001b[0mreturn_dict\u001b[0m\u001b[1;33m=\u001b[0m\u001b[0mreturn_dict\u001b[0m\u001b[1;33m,\u001b[0m\u001b[1;33m\u001b[0m\u001b[1;33m\u001b[0m\u001b[0m\n\u001b[0m\u001b[0;32m   1185\u001b[0m         )\n\u001b[0;32m   1186\u001b[0m         \u001b[0msequence_output\u001b[0m \u001b[1;33m=\u001b[0m \u001b[0moutputs\u001b[0m\u001b[1;33m[\u001b[0m\u001b[1;36m0\u001b[0m\u001b[1;33m]\u001b[0m\u001b[1;33m\u001b[0m\u001b[1;33m\u001b[0m\u001b[0m\n",
      "\u001b[1;32mc:\\ProgramData\\Anaconda3\\envs\\k12\\lib\\site-packages\\torch\\nn\\modules\\module.py\u001b[0m in \u001b[0;36m_call_impl\u001b[1;34m(self, *input, **kwargs)\u001b[0m\n\u001b[0;32m   1128\u001b[0m         if not (self._backward_hooks or self._forward_hooks or self._forward_pre_hooks or _global_backward_hooks\n\u001b[0;32m   1129\u001b[0m                 or _global_forward_hooks or _global_forward_pre_hooks):\n\u001b[1;32m-> 1130\u001b[1;33m             \u001b[1;32mreturn\u001b[0m \u001b[0mforward_call\u001b[0m\u001b[1;33m(\u001b[0m\u001b[1;33m*\u001b[0m\u001b[0minput\u001b[0m\u001b[1;33m,\u001b[0m \u001b[1;33m**\u001b[0m\u001b[0mkwargs\u001b[0m\u001b[1;33m)\u001b[0m\u001b[1;33m\u001b[0m\u001b[1;33m\u001b[0m\u001b[0m\n\u001b[0m\u001b[0;32m   1131\u001b[0m         \u001b[1;31m# Do not call functions when jit is used\u001b[0m\u001b[1;33m\u001b[0m\u001b[1;33m\u001b[0m\u001b[1;33m\u001b[0m\u001b[0m\n\u001b[0;32m   1132\u001b[0m         \u001b[0mfull_backward_hooks\u001b[0m\u001b[1;33m,\u001b[0m \u001b[0mnon_full_backward_hooks\u001b[0m \u001b[1;33m=\u001b[0m \u001b[1;33m[\u001b[0m\u001b[1;33m]\u001b[0m\u001b[1;33m,\u001b[0m \u001b[1;33m[\u001b[0m\u001b[1;33m]\u001b[0m\u001b[1;33m\u001b[0m\u001b[1;33m\u001b[0m\u001b[0m\n",
      "\u001b[1;32mc:\\ProgramData\\Anaconda3\\envs\\k12\\lib\\site-packages\\transformers\\models\\roberta\\modeling_roberta.py\u001b[0m in \u001b[0;36mforward\u001b[1;34m(self, input_ids, attention_mask, token_type_ids, position_ids, head_mask, inputs_embeds, encoder_hidden_states, encoder_attention_mask, past_key_values, use_cache, output_attentions, output_hidden_states, return_dict)\u001b[0m\n\u001b[0;32m    843\u001b[0m             \u001b[0moutput_attentions\u001b[0m\u001b[1;33m=\u001b[0m\u001b[0moutput_attentions\u001b[0m\u001b[1;33m,\u001b[0m\u001b[1;33m\u001b[0m\u001b[1;33m\u001b[0m\u001b[0m\n\u001b[0;32m    844\u001b[0m             \u001b[0moutput_hidden_states\u001b[0m\u001b[1;33m=\u001b[0m\u001b[0moutput_hidden_states\u001b[0m\u001b[1;33m,\u001b[0m\u001b[1;33m\u001b[0m\u001b[1;33m\u001b[0m\u001b[0m\n\u001b[1;32m--> 845\u001b[1;33m             \u001b[0mreturn_dict\u001b[0m\u001b[1;33m=\u001b[0m\u001b[0mreturn_dict\u001b[0m\u001b[1;33m,\u001b[0m\u001b[1;33m\u001b[0m\u001b[1;33m\u001b[0m\u001b[0m\n\u001b[0m\u001b[0;32m    846\u001b[0m         )\n\u001b[0;32m    847\u001b[0m         \u001b[0msequence_output\u001b[0m \u001b[1;33m=\u001b[0m \u001b[0mencoder_outputs\u001b[0m\u001b[1;33m[\u001b[0m\u001b[1;36m0\u001b[0m\u001b[1;33m]\u001b[0m\u001b[1;33m\u001b[0m\u001b[1;33m\u001b[0m\u001b[0m\n",
      "\u001b[1;32mc:\\ProgramData\\Anaconda3\\envs\\k12\\lib\\site-packages\\torch\\nn\\modules\\module.py\u001b[0m in \u001b[0;36m_call_impl\u001b[1;34m(self, *input, **kwargs)\u001b[0m\n\u001b[0;32m   1128\u001b[0m         if not (self._backward_hooks or self._forward_hooks or self._forward_pre_hooks or _global_backward_hooks\n\u001b[0;32m   1129\u001b[0m                 or _global_forward_hooks or _global_forward_pre_hooks):\n\u001b[1;32m-> 1130\u001b[1;33m             \u001b[1;32mreturn\u001b[0m \u001b[0mforward_call\u001b[0m\u001b[1;33m(\u001b[0m\u001b[1;33m*\u001b[0m\u001b[0minput\u001b[0m\u001b[1;33m,\u001b[0m \u001b[1;33m**\u001b[0m\u001b[0mkwargs\u001b[0m\u001b[1;33m)\u001b[0m\u001b[1;33m\u001b[0m\u001b[1;33m\u001b[0m\u001b[0m\n\u001b[0m\u001b[0;32m   1131\u001b[0m         \u001b[1;31m# Do not call functions when jit is used\u001b[0m\u001b[1;33m\u001b[0m\u001b[1;33m\u001b[0m\u001b[1;33m\u001b[0m\u001b[0m\n\u001b[0;32m   1132\u001b[0m         \u001b[0mfull_backward_hooks\u001b[0m\u001b[1;33m,\u001b[0m \u001b[0mnon_full_backward_hooks\u001b[0m \u001b[1;33m=\u001b[0m \u001b[1;33m[\u001b[0m\u001b[1;33m]\u001b[0m\u001b[1;33m,\u001b[0m \u001b[1;33m[\u001b[0m\u001b[1;33m]\u001b[0m\u001b[1;33m\u001b[0m\u001b[1;33m\u001b[0m\u001b[0m\n",
      "\u001b[1;32mc:\\ProgramData\\Anaconda3\\envs\\k12\\lib\\site-packages\\transformers\\models\\roberta\\modeling_roberta.py\u001b[0m in \u001b[0;36mforward\u001b[1;34m(self, hidden_states, attention_mask, head_mask, encoder_hidden_states, encoder_attention_mask, past_key_values, use_cache, output_attentions, output_hidden_states, return_dict)\u001b[0m\n\u001b[0;32m    527\u001b[0m                     \u001b[0mencoder_attention_mask\u001b[0m\u001b[1;33m,\u001b[0m\u001b[1;33m\u001b[0m\u001b[1;33m\u001b[0m\u001b[0m\n\u001b[0;32m    528\u001b[0m                     \u001b[0mpast_key_value\u001b[0m\u001b[1;33m,\u001b[0m\u001b[1;33m\u001b[0m\u001b[1;33m\u001b[0m\u001b[0m\n\u001b[1;32m--> 529\u001b[1;33m                     \u001b[0moutput_attentions\u001b[0m\u001b[1;33m,\u001b[0m\u001b[1;33m\u001b[0m\u001b[1;33m\u001b[0m\u001b[0m\n\u001b[0m\u001b[0;32m    530\u001b[0m                 )\n\u001b[0;32m    531\u001b[0m \u001b[1;33m\u001b[0m\u001b[0m\n",
      "\u001b[1;32mc:\\ProgramData\\Anaconda3\\envs\\k12\\lib\\site-packages\\torch\\nn\\modules\\module.py\u001b[0m in \u001b[0;36m_call_impl\u001b[1;34m(self, *input, **kwargs)\u001b[0m\n\u001b[0;32m   1128\u001b[0m         if not (self._backward_hooks or self._forward_hooks or self._forward_pre_hooks or _global_backward_hooks\n\u001b[0;32m   1129\u001b[0m                 or _global_forward_hooks or _global_forward_pre_hooks):\n\u001b[1;32m-> 1130\u001b[1;33m             \u001b[1;32mreturn\u001b[0m \u001b[0mforward_call\u001b[0m\u001b[1;33m(\u001b[0m\u001b[1;33m*\u001b[0m\u001b[0minput\u001b[0m\u001b[1;33m,\u001b[0m \u001b[1;33m**\u001b[0m\u001b[0mkwargs\u001b[0m\u001b[1;33m)\u001b[0m\u001b[1;33m\u001b[0m\u001b[1;33m\u001b[0m\u001b[0m\n\u001b[0m\u001b[0;32m   1131\u001b[0m         \u001b[1;31m# Do not call functions when jit is used\u001b[0m\u001b[1;33m\u001b[0m\u001b[1;33m\u001b[0m\u001b[1;33m\u001b[0m\u001b[0m\n\u001b[0;32m   1132\u001b[0m         \u001b[0mfull_backward_hooks\u001b[0m\u001b[1;33m,\u001b[0m \u001b[0mnon_full_backward_hooks\u001b[0m \u001b[1;33m=\u001b[0m \u001b[1;33m[\u001b[0m\u001b[1;33m]\u001b[0m\u001b[1;33m,\u001b[0m \u001b[1;33m[\u001b[0m\u001b[1;33m]\u001b[0m\u001b[1;33m\u001b[0m\u001b[1;33m\u001b[0m\u001b[0m\n",
      "\u001b[1;32mc:\\ProgramData\\Anaconda3\\envs\\k12\\lib\\site-packages\\transformers\\models\\roberta\\modeling_roberta.py\u001b[0m in \u001b[0;36mforward\u001b[1;34m(self, hidden_states, attention_mask, head_mask, encoder_hidden_states, encoder_attention_mask, past_key_value, output_attentions)\u001b[0m\n\u001b[0;32m    448\u001b[0m \u001b[1;33m\u001b[0m\u001b[0m\n\u001b[0;32m    449\u001b[0m         layer_output = apply_chunking_to_forward(\n\u001b[1;32m--> 450\u001b[1;33m             \u001b[0mself\u001b[0m\u001b[1;33m.\u001b[0m\u001b[0mfeed_forward_chunk\u001b[0m\u001b[1;33m,\u001b[0m \u001b[0mself\u001b[0m\u001b[1;33m.\u001b[0m\u001b[0mchunk_size_feed_forward\u001b[0m\u001b[1;33m,\u001b[0m \u001b[0mself\u001b[0m\u001b[1;33m.\u001b[0m\u001b[0mseq_len_dim\u001b[0m\u001b[1;33m,\u001b[0m \u001b[0mattention_output\u001b[0m\u001b[1;33m\u001b[0m\u001b[1;33m\u001b[0m\u001b[0m\n\u001b[0m\u001b[0;32m    451\u001b[0m         )\n\u001b[0;32m    452\u001b[0m         \u001b[0moutputs\u001b[0m \u001b[1;33m=\u001b[0m \u001b[1;33m(\u001b[0m\u001b[0mlayer_output\u001b[0m\u001b[1;33m,\u001b[0m\u001b[1;33m)\u001b[0m \u001b[1;33m+\u001b[0m \u001b[0moutputs\u001b[0m\u001b[1;33m\u001b[0m\u001b[1;33m\u001b[0m\u001b[0m\n",
      "\u001b[1;32mc:\\ProgramData\\Anaconda3\\envs\\k12\\lib\\site-packages\\transformers\\modeling_utils.py\u001b[0m in \u001b[0;36mapply_chunking_to_forward\u001b[1;34m(forward_fn, chunk_size, chunk_dim, *input_tensors)\u001b[0m\n\u001b[0;32m   1999\u001b[0m         \u001b[1;32mreturn\u001b[0m \u001b[0mtorch\u001b[0m\u001b[1;33m.\u001b[0m\u001b[0mcat\u001b[0m\u001b[1;33m(\u001b[0m\u001b[0moutput_chunks\u001b[0m\u001b[1;33m,\u001b[0m \u001b[0mdim\u001b[0m\u001b[1;33m=\u001b[0m\u001b[0mchunk_dim\u001b[0m\u001b[1;33m)\u001b[0m\u001b[1;33m\u001b[0m\u001b[1;33m\u001b[0m\u001b[0m\n\u001b[0;32m   2000\u001b[0m \u001b[1;33m\u001b[0m\u001b[0m\n\u001b[1;32m-> 2001\u001b[1;33m     \u001b[1;32mreturn\u001b[0m \u001b[0mforward_fn\u001b[0m\u001b[1;33m(\u001b[0m\u001b[1;33m*\u001b[0m\u001b[0minput_tensors\u001b[0m\u001b[1;33m)\u001b[0m\u001b[1;33m\u001b[0m\u001b[1;33m\u001b[0m\u001b[0m\n\u001b[0m",
      "\u001b[1;32mc:\\ProgramData\\Anaconda3\\envs\\k12\\lib\\site-packages\\transformers\\models\\roberta\\modeling_roberta.py\u001b[0m in \u001b[0;36mfeed_forward_chunk\u001b[1;34m(self, attention_output)\u001b[0m\n\u001b[0;32m    460\u001b[0m     \u001b[1;32mdef\u001b[0m \u001b[0mfeed_forward_chunk\u001b[0m\u001b[1;33m(\u001b[0m\u001b[0mself\u001b[0m\u001b[1;33m,\u001b[0m \u001b[0mattention_output\u001b[0m\u001b[1;33m)\u001b[0m\u001b[1;33m:\u001b[0m\u001b[1;33m\u001b[0m\u001b[1;33m\u001b[0m\u001b[0m\n\u001b[0;32m    461\u001b[0m         \u001b[0mintermediate_output\u001b[0m \u001b[1;33m=\u001b[0m \u001b[0mself\u001b[0m\u001b[1;33m.\u001b[0m\u001b[0mintermediate\u001b[0m\u001b[1;33m(\u001b[0m\u001b[0mattention_output\u001b[0m\u001b[1;33m)\u001b[0m\u001b[1;33m\u001b[0m\u001b[1;33m\u001b[0m\u001b[0m\n\u001b[1;32m--> 462\u001b[1;33m         \u001b[0mlayer_output\u001b[0m \u001b[1;33m=\u001b[0m \u001b[0mself\u001b[0m\u001b[1;33m.\u001b[0m\u001b[0moutput\u001b[0m\u001b[1;33m(\u001b[0m\u001b[0mintermediate_output\u001b[0m\u001b[1;33m,\u001b[0m \u001b[0mattention_output\u001b[0m\u001b[1;33m)\u001b[0m\u001b[1;33m\u001b[0m\u001b[1;33m\u001b[0m\u001b[0m\n\u001b[0m\u001b[0;32m    463\u001b[0m         \u001b[1;32mreturn\u001b[0m \u001b[0mlayer_output\u001b[0m\u001b[1;33m\u001b[0m\u001b[1;33m\u001b[0m\u001b[0m\n\u001b[0;32m    464\u001b[0m \u001b[1;33m\u001b[0m\u001b[0m\n",
      "\u001b[1;32mc:\\ProgramData\\Anaconda3\\envs\\k12\\lib\\site-packages\\torch\\nn\\modules\\module.py\u001b[0m in \u001b[0;36m_call_impl\u001b[1;34m(self, *input, **kwargs)\u001b[0m\n\u001b[0;32m   1128\u001b[0m         if not (self._backward_hooks or self._forward_hooks or self._forward_pre_hooks or _global_backward_hooks\n\u001b[0;32m   1129\u001b[0m                 or _global_forward_hooks or _global_forward_pre_hooks):\n\u001b[1;32m-> 1130\u001b[1;33m             \u001b[1;32mreturn\u001b[0m \u001b[0mforward_call\u001b[0m\u001b[1;33m(\u001b[0m\u001b[1;33m*\u001b[0m\u001b[0minput\u001b[0m\u001b[1;33m,\u001b[0m \u001b[1;33m**\u001b[0m\u001b[0mkwargs\u001b[0m\u001b[1;33m)\u001b[0m\u001b[1;33m\u001b[0m\u001b[1;33m\u001b[0m\u001b[0m\n\u001b[0m\u001b[0;32m   1131\u001b[0m         \u001b[1;31m# Do not call functions when jit is used\u001b[0m\u001b[1;33m\u001b[0m\u001b[1;33m\u001b[0m\u001b[1;33m\u001b[0m\u001b[0m\n\u001b[0;32m   1132\u001b[0m         \u001b[0mfull_backward_hooks\u001b[0m\u001b[1;33m,\u001b[0m \u001b[0mnon_full_backward_hooks\u001b[0m \u001b[1;33m=\u001b[0m \u001b[1;33m[\u001b[0m\u001b[1;33m]\u001b[0m\u001b[1;33m,\u001b[0m \u001b[1;33m[\u001b[0m\u001b[1;33m]\u001b[0m\u001b[1;33m\u001b[0m\u001b[1;33m\u001b[0m\u001b[0m\n",
      "\u001b[1;32mc:\\ProgramData\\Anaconda3\\envs\\k12\\lib\\site-packages\\transformers\\models\\roberta\\modeling_roberta.py\u001b[0m in \u001b[0;36mforward\u001b[1;34m(self, hidden_states, input_tensor)\u001b[0m\n\u001b[0;32m    374\u001b[0m \u001b[1;33m\u001b[0m\u001b[0m\n\u001b[0;32m    375\u001b[0m     \u001b[1;32mdef\u001b[0m \u001b[0mforward\u001b[0m\u001b[1;33m(\u001b[0m\u001b[0mself\u001b[0m\u001b[1;33m,\u001b[0m \u001b[0mhidden_states\u001b[0m\u001b[1;33m,\u001b[0m \u001b[0minput_tensor\u001b[0m\u001b[1;33m)\u001b[0m\u001b[1;33m:\u001b[0m\u001b[1;33m\u001b[0m\u001b[1;33m\u001b[0m\u001b[0m\n\u001b[1;32m--> 376\u001b[1;33m         \u001b[0mhidden_states\u001b[0m \u001b[1;33m=\u001b[0m \u001b[0mself\u001b[0m\u001b[1;33m.\u001b[0m\u001b[0mdense\u001b[0m\u001b[1;33m(\u001b[0m\u001b[0mhidden_states\u001b[0m\u001b[1;33m)\u001b[0m\u001b[1;33m\u001b[0m\u001b[1;33m\u001b[0m\u001b[0m\n\u001b[0m\u001b[0;32m    377\u001b[0m         \u001b[0mhidden_states\u001b[0m \u001b[1;33m=\u001b[0m \u001b[0mself\u001b[0m\u001b[1;33m.\u001b[0m\u001b[0mdropout\u001b[0m\u001b[1;33m(\u001b[0m\u001b[0mhidden_states\u001b[0m\u001b[1;33m)\u001b[0m\u001b[1;33m\u001b[0m\u001b[1;33m\u001b[0m\u001b[0m\n\u001b[0;32m    378\u001b[0m         \u001b[0mhidden_states\u001b[0m \u001b[1;33m=\u001b[0m \u001b[0mself\u001b[0m\u001b[1;33m.\u001b[0m\u001b[0mLayerNorm\u001b[0m\u001b[1;33m(\u001b[0m\u001b[0mhidden_states\u001b[0m \u001b[1;33m+\u001b[0m \u001b[0minput_tensor\u001b[0m\u001b[1;33m)\u001b[0m\u001b[1;33m\u001b[0m\u001b[1;33m\u001b[0m\u001b[0m\n",
      "\u001b[1;32mc:\\ProgramData\\Anaconda3\\envs\\k12\\lib\\site-packages\\torch\\nn\\modules\\module.py\u001b[0m in \u001b[0;36m_call_impl\u001b[1;34m(self, *input, **kwargs)\u001b[0m\n\u001b[0;32m   1128\u001b[0m         if not (self._backward_hooks or self._forward_hooks or self._forward_pre_hooks or _global_backward_hooks\n\u001b[0;32m   1129\u001b[0m                 or _global_forward_hooks or _global_forward_pre_hooks):\n\u001b[1;32m-> 1130\u001b[1;33m             \u001b[1;32mreturn\u001b[0m \u001b[0mforward_call\u001b[0m\u001b[1;33m(\u001b[0m\u001b[1;33m*\u001b[0m\u001b[0minput\u001b[0m\u001b[1;33m,\u001b[0m \u001b[1;33m**\u001b[0m\u001b[0mkwargs\u001b[0m\u001b[1;33m)\u001b[0m\u001b[1;33m\u001b[0m\u001b[1;33m\u001b[0m\u001b[0m\n\u001b[0m\u001b[0;32m   1131\u001b[0m         \u001b[1;31m# Do not call functions when jit is used\u001b[0m\u001b[1;33m\u001b[0m\u001b[1;33m\u001b[0m\u001b[1;33m\u001b[0m\u001b[0m\n\u001b[0;32m   1132\u001b[0m         \u001b[0mfull_backward_hooks\u001b[0m\u001b[1;33m,\u001b[0m \u001b[0mnon_full_backward_hooks\u001b[0m \u001b[1;33m=\u001b[0m \u001b[1;33m[\u001b[0m\u001b[1;33m]\u001b[0m\u001b[1;33m,\u001b[0m \u001b[1;33m[\u001b[0m\u001b[1;33m]\u001b[0m\u001b[1;33m\u001b[0m\u001b[1;33m\u001b[0m\u001b[0m\n",
      "\u001b[1;32mc:\\ProgramData\\Anaconda3\\envs\\k12\\lib\\site-packages\\torch\\nn\\modules\\linear.py\u001b[0m in \u001b[0;36mforward\u001b[1;34m(self, input)\u001b[0m\n\u001b[0;32m    112\u001b[0m \u001b[1;33m\u001b[0m\u001b[0m\n\u001b[0;32m    113\u001b[0m     \u001b[1;32mdef\u001b[0m \u001b[0mforward\u001b[0m\u001b[1;33m(\u001b[0m\u001b[0mself\u001b[0m\u001b[1;33m,\u001b[0m \u001b[0minput\u001b[0m\u001b[1;33m:\u001b[0m \u001b[0mTensor\u001b[0m\u001b[1;33m)\u001b[0m \u001b[1;33m->\u001b[0m \u001b[0mTensor\u001b[0m\u001b[1;33m:\u001b[0m\u001b[1;33m\u001b[0m\u001b[1;33m\u001b[0m\u001b[0m\n\u001b[1;32m--> 114\u001b[1;33m         \u001b[1;32mreturn\u001b[0m \u001b[0mF\u001b[0m\u001b[1;33m.\u001b[0m\u001b[0mlinear\u001b[0m\u001b[1;33m(\u001b[0m\u001b[0minput\u001b[0m\u001b[1;33m,\u001b[0m \u001b[0mself\u001b[0m\u001b[1;33m.\u001b[0m\u001b[0mweight\u001b[0m\u001b[1;33m,\u001b[0m \u001b[0mself\u001b[0m\u001b[1;33m.\u001b[0m\u001b[0mbias\u001b[0m\u001b[1;33m)\u001b[0m\u001b[1;33m\u001b[0m\u001b[1;33m\u001b[0m\u001b[0m\n\u001b[0m\u001b[0;32m    115\u001b[0m \u001b[1;33m\u001b[0m\u001b[0m\n\u001b[0;32m    116\u001b[0m     \u001b[1;32mdef\u001b[0m \u001b[0mextra_repr\u001b[0m\u001b[1;33m(\u001b[0m\u001b[0mself\u001b[0m\u001b[1;33m)\u001b[0m \u001b[1;33m->\u001b[0m \u001b[0mstr\u001b[0m\u001b[1;33m:\u001b[0m\u001b[1;33m\u001b[0m\u001b[1;33m\u001b[0m\u001b[0m\n",
      "\u001b[1;31mKeyboardInterrupt\u001b[0m: "
     ]
    }
   ],
   "source": [
    "#8min 47s\n",
    "df_sentiment_male = ss.get_sentiment_df(df_male,\"lor\",drop_sent_scores = False)\n",
    "#2min 50s\n",
    "df_sentiment_female = ss.get_sentiment_df(df_female,\"lor\",drop_sent_scores = False)\n"
   ]
  },
  {
   "cell_type": "code",
   "execution_count": 110,
   "metadata": {},
   "outputs": [],
   "source": [
    "\n",
    "# %%\n",
    "df_sentiment_male.to_excel(\"df_sentiment_male.xlsx\")\n",
    "df_sentiment_female.to_excel(\"df_sentiment_female.xlsx\")\n",
    "# %%\n"
   ]
  },
  {
   "cell_type": "code",
   "execution_count": 13,
   "metadata": {},
   "outputs": [],
   "source": [
    "df_sentiment_male = pd.read_excel(\"df_sentiment_male.xlsx\")\n",
    "df_sentiment_female = pd.read_excel(\"df_sentiment_female.xlsx\")"
   ]
  },
  {
   "cell_type": "code",
   "execution_count": 14,
   "metadata": {},
   "outputs": [
    {
     "data": {
      "text/plain": [
       "0.9236042756369224"
      ]
     },
     "execution_count": 14,
     "metadata": {},
     "output_type": "execute_result"
    }
   ],
   "source": [
    "df_sentiment_male.score.mean()\n",
    "#0.922\n",
    "\n",
    "\n"
   ]
  },
  {
   "cell_type": "code",
   "execution_count": 15,
   "metadata": {},
   "outputs": [
    {
     "data": {
      "text/plain": [
       "0.5799181461334229"
      ]
     },
     "execution_count": 15,
     "metadata": {},
     "output_type": "execute_result"
    }
   ],
   "source": [
    "df_sentiment_male.score.min()"
   ]
  },
  {
   "cell_type": "code",
   "execution_count": 19,
   "metadata": {},
   "outputs": [
    {
     "data": {
      "text/plain": [
       "0.9861493110656738"
      ]
     },
     "execution_count": 19,
     "metadata": {},
     "output_type": "execute_result"
    }
   ],
   "source": [
    "df_sentiment_male.score.max()"
   ]
  },
  {
   "cell_type": "code",
   "execution_count": 16,
   "metadata": {},
   "outputs": [
    {
     "data": {
      "text/plain": [
       "0.9211257851177267"
      ]
     },
     "execution_count": 16,
     "metadata": {},
     "output_type": "execute_result"
    }
   ],
   "source": [
    "# %%\n",
    "df_sentiment_female.score.mean()\n",
    "#0.920\n"
   ]
  },
  {
   "cell_type": "code",
   "execution_count": 17,
   "metadata": {},
   "outputs": [
    {
     "data": {
      "text/plain": [
       "0.5491375923156738"
      ]
     },
     "execution_count": 17,
     "metadata": {},
     "output_type": "execute_result"
    }
   ],
   "source": [
    "df_sentiment_female.score.min()"
   ]
  },
  {
   "cell_type": "code",
   "execution_count": 18,
   "metadata": {},
   "outputs": [
    {
     "data": {
      "text/plain": [
       "0.9836942553520203"
      ]
     },
     "execution_count": 18,
     "metadata": {},
     "output_type": "execute_result"
    }
   ],
   "source": [
    "# %%\n",
    "df_sentiment_female.score.max()"
   ]
  },
  {
   "cell_type": "code",
   "execution_count": 87,
   "metadata": {},
   "outputs": [],
   "source": [
    "#%%\n",
    "from scipy.stats import ttest_ind\n",
    "#%%\n"
   ]
  },
  {
   "cell_type": "code",
   "execution_count": null,
   "metadata": {},
   "outputs": [],
   "source": [
    "# %%\n",
    "ttest_ind(df_sentiment_male['score'], df_sentiment_female['score'])\n",
    "# Ttest_indResult(statistic=0.4477779636275707, pvalue=0.6544202583903076)\n"
   ]
  },
  {
   "cell_type": "code",
   "execution_count": 161,
   "metadata": {},
   "outputs": [
    {
     "ename": "NameError",
     "evalue": "name 'df_sentiment_male' is not defined",
     "output_type": "error",
     "traceback": [
      "\u001b[1;31m---------------------------------------------------------------------------\u001b[0m",
      "\u001b[1;31mNameError\u001b[0m                                 Traceback (most recent call last)",
      "\u001b[1;32m<ipython-input-161-f0e278a5e3c5>\u001b[0m in \u001b[0;36m<module>\u001b[1;34m\u001b[0m\n\u001b[0;32m      1\u001b[0m \u001b[1;33m\u001b[0m\u001b[0m\n\u001b[0;32m      2\u001b[0m \u001b[1;31m# %%\u001b[0m\u001b[1;33m\u001b[0m\u001b[1;33m\u001b[0m\u001b[1;33m\u001b[0m\u001b[0m\n\u001b[1;32m----> 3\u001b[1;33m \u001b[0mdf_male_sentence\u001b[0m \u001b[1;33m=\u001b[0m \u001b[0mget_df_sentence\u001b[0m\u001b[1;33m(\u001b[0m\u001b[0mdf_sentiment_male\u001b[0m\u001b[1;33m,\u001b[0m \u001b[1;34m\"lor\"\u001b[0m\u001b[1;33m)\u001b[0m\u001b[1;33m\u001b[0m\u001b[1;33m\u001b[0m\u001b[0m\n\u001b[0m\u001b[0;32m      4\u001b[0m \u001b[0mdf_female_sentence\u001b[0m \u001b[1;33m=\u001b[0m \u001b[0mget_df_sentence\u001b[0m\u001b[1;33m(\u001b[0m\u001b[0mdf_sentiment_female\u001b[0m\u001b[1;33m,\u001b[0m \u001b[1;34m\"lor\"\u001b[0m\u001b[1;33m)\u001b[0m\u001b[1;33m\u001b[0m\u001b[1;33m\u001b[0m\u001b[0m\n\u001b[0;32m      5\u001b[0m \u001b[1;31m# %%\u001b[0m\u001b[1;33m\u001b[0m\u001b[1;33m\u001b[0m\u001b[1;33m\u001b[0m\u001b[0m\n",
      "\u001b[1;31mNameError\u001b[0m: name 'df_sentiment_male' is not defined"
     ]
    }
   ],
   "source": [
    "\n",
    "# %%\n",
    "df_male_sentence = get_df_sentence(df_sentiment_male, \"lor\")\n",
    "df_female_sentence = get_df_sentence(df_sentiment_female, \"lor\")\n",
    "# %%\n",
    "\n",
    "df_male_sentence.head()\n",
    "male_sentence_ratio = df_male_sentence.shape[0]/df_sentiment_male.shape[0]\n",
    "print(\"male_sentence_ratio\", male_sentence_ratio)\n",
    "#%%\n",
    "\n",
    "female_sentence_ratio = df_female_sentence.shape[0]/df_sentiment_female.shape[0]\n",
    "print(\"female_sentence_ratio\", female_sentence_ratio)\n",
    "# 18.83\n",
    "# %%\n"
   ]
  },
  {
   "cell_type": "markdown",
   "metadata": {},
   "source": [
    "# writer gender anaylsis"
   ]
  },
  {
   "cell_type": "code",
   "execution_count": 97,
   "metadata": {},
   "outputs": [],
   "source": [
    "df_sentence =  get_df_sentence(df_new, \"lor\")"
   ]
  },
  {
   "cell_type": "code",
   "execution_count": 100,
   "metadata": {},
   "outputs": [
    {
     "data": {
      "text/plain": [
       "18.37934362934363"
      ]
     },
     "execution_count": 100,
     "metadata": {},
     "output_type": "execute_result"
    }
   ],
   "source": [
    "df_sentence.shape[0]/df_new.shape[0]"
   ]
  },
  {
   "cell_type": "code",
   "execution_count": 88,
   "metadata": {},
   "outputs": [],
   "source": [
    "df_new_lor_male = df_new.loc[df_new.lor_gender == \"male\"]\n",
    "df_new_lor_female = df_new.loc[df_new.lor_gender == \"female\"]"
   ]
  },
  {
   "cell_type": "code",
   "execution_count": 89,
   "metadata": {},
   "outputs": [
    {
     "name": "stderr",
     "output_type": "stream",
     "text": [
      "c:\\ProgramData\\Anaconda3\\envs\\k12\\lib\\site-packages\\ipykernel_launcher.py:30: SettingWithCopyWarning: \n",
      "A value is trying to be set on a copy of a slice from a DataFrame.\n",
      "Try using .loc[row_indexer,col_indexer] = value instead\n",
      "\n",
      "See the caveats in the documentation: https://pandas.pydata.org/pandas-docs/stable/user_guide/indexing.html#returning-a-view-versus-a-copy\n",
      "c:\\ProgramData\\Anaconda3\\envs\\k12\\lib\\site-packages\\ipykernel_launcher.py:31: SettingWithCopyWarning: \n",
      "A value is trying to be set on a copy of a slice from a DataFrame.\n",
      "Try using .loc[row_indexer,col_indexer] = value instead\n",
      "\n",
      "See the caveats in the documentation: https://pandas.pydata.org/pandas-docs/stable/user_guide/indexing.html#returning-a-view-versus-a-copy\n"
     ]
    }
   ],
   "source": [
    "df_new_lor_male_sentence = get_df_sentence(df_new_lor_male, \"lor\")\n",
    "df_new_lor_female_sentence = get_df_sentence(df_new_lor_female, \"lor\")"
   ]
  },
  {
   "cell_type": "code",
   "execution_count": 90,
   "metadata": {},
   "outputs": [
    {
     "name": "stdout",
     "output_type": "stream",
     "text": [
      "male_writer_sentence_ratio 18.181598062953995\n"
     ]
    }
   ],
   "source": [
    "lor_male_sentence_ratio = df_new_lor_male_sentence.shape[0]/df_new_lor_male.shape[0]\n",
    "print(\"male_writer_sentence_ratio\", lor_male_sentence_ratio)\n",
    "#%%"
   ]
  },
  {
   "cell_type": "code",
   "execution_count": 91,
   "metadata": {},
   "outputs": [
    {
     "name": "stdout",
     "output_type": "stream",
     "text": [
      "female_writer_sentence_ratio 19.32323232323232\n"
     ]
    }
   ],
   "source": [
    "lor_female_sentence_ratio = df_new_lor_female_sentence.shape[0]/df_new_lor_female.shape[0]\n",
    "print(\"female_writer_sentence_ratio\", lor_female_sentence_ratio)"
   ]
  },
  {
   "cell_type": "code",
   "execution_count": 92,
   "metadata": {},
   "outputs": [],
   "source": [
    "lor_male_report_size = df_new_lor_male_sentence.groupby(\"lor_id\").size()\n",
    "lor_female_report_size = df_new_lor_female_sentence.groupby(\"lor_id\").size()\n"
   ]
  },
  {
   "cell_type": "code",
   "execution_count": 96,
   "metadata": {},
   "outputs": [
    {
     "data": {
      "text/plain": [
       "19.32323232323232"
      ]
     },
     "execution_count": 96,
     "metadata": {},
     "output_type": "execute_result"
    }
   ],
   "source": [
    "lor_female_report_size.mean()"
   ]
  },
  {
   "cell_type": "code",
   "execution_count": 95,
   "metadata": {},
   "outputs": [
    {
     "data": {
      "text/plain": [
       "18.181598062953995"
      ]
     },
     "execution_count": 95,
     "metadata": {},
     "output_type": "execute_result"
    }
   ],
   "source": [
    "lor_male_report_size.mean()"
   ]
  },
  {
   "cell_type": "code",
   "execution_count": 93,
   "metadata": {},
   "outputs": [
    {
     "name": "stdout",
     "output_type": "stream",
     "text": [
      "mf Ttest_indResult(statistic=-2.1985143263709426, pvalue=0.02813601689610822)\n"
     ]
    }
   ],
   "source": [
    "print(\"mf\",ttest_ind(lor_male_report_size,lor_female_report_size))\n"
   ]
  },
  {
   "cell_type": "code",
   "execution_count": 168,
   "metadata": {},
   "outputs": [
    {
     "ename": "NameError",
     "evalue": "name 'df_sentiment_male' is not defined",
     "output_type": "error",
     "traceback": [
      "\u001b[1;31m---------------------------------------------------------------------------\u001b[0m",
      "\u001b[1;31mNameError\u001b[0m                                 Traceback (most recent call last)",
      "\u001b[1;32m<ipython-input-168-153c91be76b2>\u001b[0m in \u001b[0;36m<module>\u001b[1;34m\u001b[0m\n\u001b[1;32m----> 1\u001b[1;33m \u001b[0mdf_male_lor_male\u001b[0m \u001b[1;33m=\u001b[0m \u001b[0mdf_sentiment_male\u001b[0m\u001b[1;33m.\u001b[0m\u001b[0mloc\u001b[0m\u001b[1;33m[\u001b[0m\u001b[0mdf_sentiment_male\u001b[0m\u001b[1;33m[\u001b[0m\u001b[1;34m\"lor_gender\"\u001b[0m\u001b[1;33m]\u001b[0m\u001b[1;33m==\u001b[0m\u001b[1;34m\"male\"\u001b[0m\u001b[1;33m]\u001b[0m\u001b[1;33m\u001b[0m\u001b[1;33m\u001b[0m\u001b[0m\n\u001b[0m\u001b[0;32m      2\u001b[0m \u001b[0mdf_male_lor_female\u001b[0m \u001b[1;33m=\u001b[0m \u001b[0mdf_sentiment_male\u001b[0m\u001b[1;33m.\u001b[0m\u001b[0mloc\u001b[0m\u001b[1;33m[\u001b[0m\u001b[0mdf_sentiment_male\u001b[0m\u001b[1;33m[\u001b[0m\u001b[1;34m\"lor_gender\"\u001b[0m\u001b[1;33m]\u001b[0m\u001b[1;33m==\u001b[0m\u001b[1;34m\"female\"\u001b[0m\u001b[1;33m]\u001b[0m\u001b[1;33m\u001b[0m\u001b[1;33m\u001b[0m\u001b[0m\n\u001b[0;32m      3\u001b[0m \u001b[0mdf_female_lor_male\u001b[0m \u001b[1;33m=\u001b[0m \u001b[0mdf_sentiment_female\u001b[0m\u001b[1;33m.\u001b[0m\u001b[0mloc\u001b[0m\u001b[1;33m[\u001b[0m\u001b[0mdf_sentiment_female\u001b[0m\u001b[1;33m[\u001b[0m\u001b[1;34m\"lor_gender\"\u001b[0m\u001b[1;33m]\u001b[0m\u001b[1;33m==\u001b[0m\u001b[1;34m\"male\"\u001b[0m\u001b[1;33m]\u001b[0m\u001b[1;33m\u001b[0m\u001b[1;33m\u001b[0m\u001b[0m\n\u001b[0;32m      4\u001b[0m \u001b[0mdf_female_lor_female\u001b[0m \u001b[1;33m=\u001b[0m \u001b[0mdf_sentiment_female\u001b[0m\u001b[1;33m.\u001b[0m\u001b[0mloc\u001b[0m\u001b[1;33m[\u001b[0m\u001b[0mdf_sentiment_female\u001b[0m\u001b[1;33m[\u001b[0m\u001b[1;34m\"lor_gender\"\u001b[0m\u001b[1;33m]\u001b[0m\u001b[1;33m==\u001b[0m\u001b[1;34m\"female\"\u001b[0m\u001b[1;33m]\u001b[0m\u001b[1;33m\u001b[0m\u001b[1;33m\u001b[0m\u001b[0m\n\u001b[0;32m      5\u001b[0m \u001b[1;31m# %%\u001b[0m\u001b[1;33m\u001b[0m\u001b[1;33m\u001b[0m\u001b[1;33m\u001b[0m\u001b[0m\n",
      "\u001b[1;31mNameError\u001b[0m: name 'df_sentiment_male' is not defined"
     ]
    }
   ],
   "source": [
    "df_male_lor_male = df_sentiment_male.loc[df_sentiment_male[\"lor_gender\"]==\"male\"]\n",
    "df_male_lor_female = df_sentiment_male.loc[df_sentiment_male[\"lor_gender\"]==\"female\"]\n",
    "df_female_lor_male = df_sentiment_female.loc[df_sentiment_female[\"lor_gender\"]==\"male\"]\n",
    "df_female_lor_female = df_sentiment_female.loc[df_sentiment_female[\"lor_gender\"]==\"female\"]\n",
    "# %%\n",
    "mm_score = df_male_lor_male.score.mean()\n",
    "print(\"mm score\", mm_score)\n",
    "mf_score =  df_male_lor_female.score.mean()\n",
    "print(\"mf score\", mf_score)\n",
    "fm_score = df_female_lor_male.score.mean()\n",
    "print(\"fm score\", fm_score)\n",
    "ff_score = df_female_lor_female.score.mean()\n",
    "print(\"ff score\", ff_score)\n",
    "\n",
    "\"\"\" \n",
    "mm sentiment score 0.9233926798046475\n",
    "mf sentiment score 0.9181113643983824\n",
    "fm sentiment score 0.9162155736576427\n",
    "ff sentiment score 0.9328229874372482 \"\"\"\n"
   ]
  },
  {
   "cell_type": "code",
   "execution_count": 127,
   "metadata": {},
   "outputs": [
    {
     "name": "stdout",
     "output_type": "stream",
     "text": [
      "sentiment score ttest mf mm Ttest_indResult(statistic=-1.0427786915783985, pvalue=0.29736819089779143)\n",
      "sentiment score ttest mf fm Ttest_indResult(statistic=0.3122225055723968, pvalue=0.7550868922704312)\n",
      "sentiment score ttest mf ff Ttest_indResult(statistic=-1.5180770628021563, pvalue=0.13061454770018013)\n",
      "sentiment score ttest mm fm Ttest_indResult(statistic=1.509695500215058, pvalue=0.13150919130032976)\n",
      "sentiment score ttest mm ff Ttest_indResult(statistic=-1.0278042685198172, pvalue=0.3043934102130908)\n",
      "sentiment score ttest fm ff Ttest_indResult(statistic=-1.6023487039073878, pvalue=0.1105466614306393)\n"
     ]
    }
   ],
   "source": [
    "\n",
    "# %%\n",
    "print(\"sentiment score ttest mf mm\",ttest_ind(df_male_lor_female['score'], df_male_lor_male['score']))\n",
    "print(\"sentiment score ttest mf fm\",ttest_ind(df_male_lor_female['score'], df_female_lor_male['score']))\n",
    "print(\"sentiment score ttest mf ff\",ttest_ind(df_male_lor_female['score'], df_female_lor_female['score']))\n",
    "print(\"sentiment score ttest mm fm\",ttest_ind(df_male_lor_male['score'], df_female_lor_male['score']))\n",
    "print(\"sentiment score ttest mm ff\",ttest_ind(df_male_lor_male['score'], df_female_lor_female['score']))\n",
    "print(\"sentiment score ttest fm ff\",ttest_ind(df_female_lor_male['score'], df_female_lor_female['score']))\n",
    "#Ttest_indResult(statistic=1.6186915448626993, pvalue=0.10697964146838995)\n",
    "# %%\n",
    "# %%\n"
   ]
  },
  {
   "cell_type": "code",
   "execution_count": 128,
   "metadata": {},
   "outputs": [
    {
     "name": "stderr",
     "output_type": "stream",
     "text": [
      "c:\\ProgramData\\Anaconda3\\envs\\k12\\lib\\site-packages\\ipykernel_launcher.py:30: SettingWithCopyWarning: \n",
      "A value is trying to be set on a copy of a slice from a DataFrame.\n",
      "Try using .loc[row_indexer,col_indexer] = value instead\n",
      "\n",
      "See the caveats in the documentation: https://pandas.pydata.org/pandas-docs/stable/user_guide/indexing.html#returning-a-view-versus-a-copy\n",
      "c:\\ProgramData\\Anaconda3\\envs\\k12\\lib\\site-packages\\ipykernel_launcher.py:31: SettingWithCopyWarning: \n",
      "A value is trying to be set on a copy of a slice from a DataFrame.\n",
      "Try using .loc[row_indexer,col_indexer] = value instead\n",
      "\n",
      "See the caveats in the documentation: https://pandas.pydata.org/pandas-docs/stable/user_guide/indexing.html#returning-a-view-versus-a-copy\n"
     ]
    },
    {
     "name": "stdout",
     "output_type": "stream",
     "text": [
      "male_lor_male_sentence_ratio:  17.900611620795107\n",
      "male_lor_female_sentence_ratio:  19.345070422535212\n",
      "female_lor_male_sentence_ratio:  19.228395061728396\n",
      "female_lor_female_sentence_ratio:  19.054545454545455\n"
     ]
    },
    {
     "data": {
      "text/plain": [
       "' \\nmale_lor_male_sentence_ratio:  17.883802816901408\\nmale_lor_female_sentence_ratio:  20.17699115044248\\nfemale_lor_male_sentence_ratio:  19.01818181818182\\nfemale_lor_female_sentence_ratio:  18.442307692307693\\n'"
      ]
     },
     "execution_count": 128,
     "metadata": {},
     "output_type": "execute_result"
    }
   ],
   "source": [
    "df_male_lor_male_sentence = get_df_sentence(df_male_lor_male, \"lor\")\n",
    "df_male_lor_female_sentence = get_df_sentence(df_male_lor_female, \"lor\")\n",
    "df_female_lor_male_sentence = get_df_sentence(df_female_lor_male, \"lor\")\n",
    "df_female_lor_female_sentence = get_df_sentence(df_female_lor_female, \"lor\")\n",
    "\n",
    "male_lor_male_sentence_ratio = df_male_lor_male_sentence.shape[0]/df_male_lor_male.shape[0]\n",
    "male_lor_female_sentence_ratio = df_male_lor_female_sentence.shape[0]/df_male_lor_female.shape[0]\n",
    "female_lor_male_sentence_ratio = df_female_lor_male_sentence.shape[0]/df_female_lor_male.shape[0]\n",
    "female_lor_female_sentence_ratio = df_female_lor_female_sentence.shape[0]/df_female_lor_female.shape[0]\n",
    "print(\"male_lor_male_sentence_ratio: \",male_lor_male_sentence_ratio)\n",
    "print(\"male_lor_female_sentence_ratio: \",male_lor_female_sentence_ratio)\n",
    "print(\"female_lor_male_sentence_ratio: \",female_lor_male_sentence_ratio)\n",
    "print(\"female_lor_female_sentence_ratio: \",female_lor_female_sentence_ratio)\n",
    "\"\"\" \n",
    "male_lor_male_sentence_ratio:  17.883802816901408\n",
    "male_lor_female_sentence_ratio:  20.17699115044248\n",
    "female_lor_male_sentence_ratio:  19.01818181818182\n",
    "female_lor_female_sentence_ratio:  18.442307692307693\n",
    "\"\"\"\n",
    "#%%\n"
   ]
  },
  {
   "cell_type": "code",
   "execution_count": 129,
   "metadata": {},
   "outputs": [
    {
     "name": "stdout",
     "output_type": "stream",
     "text": [
      "mf-mm Ttest_indResult(statistic=2.441336328670331, pvalue=0.014850406470604406)\n",
      "mf-fm Ttest_indResult(statistic=0.1457896865806155, pvalue=0.8841846780772178)\n",
      "mf-ff Ttest_indResult(statistic=0.2792275450425467, pvalue=0.7803661312673813)\n",
      "mm-fm Ttest_indResult(statistic=-2.327853662126956, pvalue=0.020164109500698267)\n",
      "mm-ff Ttest_indResult(statistic=-1.3033177807287912, pvalue=0.19289056082942158)\n",
      "fm-ff Ttest_indResult(statistic=0.1607491873410399, pvalue=0.8724418858807576)\n"
     ]
    }
   ],
   "source": [
    "mm_report_size = df_male_lor_male_sentence.groupby(\"lor_id\").size()\n",
    "mf_report_size = df_male_lor_female_sentence.groupby(\"lor_id\").size()\n",
    "fm_report_size = df_female_lor_male_sentence.groupby(\"lor_id\").size()\n",
    "ff_report_size = df_female_lor_female_sentence.groupby(\"lor_id\").size()\n",
    "\n",
    "#%%\n",
    "print(\"mf-mm\",ttest_ind(mf_report_size,mm_report_size))\n",
    "print(\"mf-fm\",ttest_ind(mf_report_size,fm_report_size))\n",
    "print(\"mf-ff\",ttest_ind(mf_report_size,ff_report_size))\n",
    "print(\"mm-fm\",ttest_ind(mm_report_size,fm_report_size))\n",
    "print(\"mm-ff\",ttest_ind(mm_report_size,ff_report_size))\n",
    "print(\"fm-ff\",ttest_ind(fm_report_size,ff_report_size))\n",
    "\n"
   ]
  },
  {
   "cell_type": "markdown",
   "metadata": {},
   "source": [
    "* Female writers write longer than male writers.\n",
    "* When we dig into it; we see that, female applicants are given almost the same length letters from male and female writers, while male writers write significantly shorter letters for male applicants than they do for female applicants. And this causes the discrepancy above.\n"
   ]
  },
  {
   "cell_type": "code",
   "execution_count": 130,
   "metadata": {},
   "outputs": [],
   "source": [
    "def get_sentence_adj_pos(sentence):\n",
    "    \"\"\"\n",
    "\n",
    "    Args:\n",
    " \n",
    "        type (_type_): \"JJ\" or\"JJR\" or\"JJS\"\n",
    "\n",
    "    Returns:\n",
    "        _type_: adjectives\n",
    "    \"\"\"\n",
    "    \n",
    "    doc = nlp(sentence)\n",
    "    sent_list = [sent.text for sent in doc.sentences]\n",
    "    adjectives_jj = [word.text for sent in doc.sentences for word in sent.words if word.xpos in [\"JJ\"]]\n",
    "    adjectives_jjr = [word.text for sent in doc.sentences for word in sent.words if word.xpos in [\"JJR\"]]\n",
    "    adjectives_jjs = [word.text for sent in doc.sentences for word in sent.words if word.xpos in [\"JJS\"]]\n",
    "    return (adjectives_jj,adjectives_jjr,adjectives_jjs)\n"
   ]
  },
  {
   "cell_type": "code",
   "execution_count": 131,
   "metadata": {},
   "outputs": [
    {
     "name": "stdout",
     "output_type": "stream",
     "text": [
      "Wall time: 8min 55s\n"
     ]
    },
    {
     "name": "stderr",
     "output_type": "stream",
     "text": [
      "c:\\ProgramData\\Anaconda3\\envs\\k12\\lib\\site-packages\\ipykernel_launcher.py:1: SettingWithCopyWarning: \n",
      "A value is trying to be set on a copy of a slice from a DataFrame.\n",
      "Try using .loc[row_indexer,col_indexer] = value instead\n",
      "\n",
      "See the caveats in the documentation: https://pandas.pydata.org/pandas-docs/stable/user_guide/indexing.html#returning-a-view-versus-a-copy\n",
      "  \"\"\"Entry point for launching an IPython kernel.\n"
     ]
    }
   ],
   "source": [
    "%time df_sentiment_male[\"adj\"] = df_sentiment_male.lor.apply(get_sentence_adj_pos)\n",
    "\n"
   ]
  },
  {
   "cell_type": "code",
   "execution_count": 132,
   "metadata": {},
   "outputs": [
    {
     "name": "stderr",
     "output_type": "stream",
     "text": [
      "c:\\ProgramData\\Anaconda3\\envs\\k12\\lib\\site-packages\\ipykernel_launcher.py:1: SettingWithCopyWarning: \n",
      "A value is trying to be set on a copy of a slice from a DataFrame.\n",
      "Try using .loc[row_indexer,col_indexer] = value instead\n",
      "\n",
      "See the caveats in the documentation: https://pandas.pydata.org/pandas-docs/stable/user_guide/indexing.html#returning-a-view-versus-a-copy\n",
      "  \"\"\"Entry point for launching an IPython kernel.\n",
      "c:\\ProgramData\\Anaconda3\\envs\\k12\\lib\\site-packages\\ipykernel_launcher.py:2: SettingWithCopyWarning: \n",
      "A value is trying to be set on a copy of a slice from a DataFrame.\n",
      "Try using .loc[row_indexer,col_indexer] = value instead\n",
      "\n",
      "See the caveats in the documentation: https://pandas.pydata.org/pandas-docs/stable/user_guide/indexing.html#returning-a-view-versus-a-copy\n",
      "  \n",
      "c:\\ProgramData\\Anaconda3\\envs\\k12\\lib\\site-packages\\ipykernel_launcher.py:3: SettingWithCopyWarning: \n",
      "A value is trying to be set on a copy of a slice from a DataFrame.\n",
      "Try using .loc[row_indexer,col_indexer] = value instead\n",
      "\n",
      "See the caveats in the documentation: https://pandas.pydata.org/pandas-docs/stable/user_guide/indexing.html#returning-a-view-versus-a-copy\n",
      "  This is separate from the ipykernel package so we can avoid doing imports until\n"
     ]
    }
   ],
   "source": [
    "df_sentiment_male[\"adj_jj\"] = df_sentiment_male[\"adj\"].apply(lambda x : x[0])\n",
    "df_sentiment_male[\"adj_jjr\"] = df_sentiment_male[\"adj\"].apply(lambda x : x[1])\n",
    "df_sentiment_male[\"adj_jjs\"] = df_sentiment_male[\"adj\"].apply(lambda x : x[2])"
   ]
  },
  {
   "cell_type": "code",
   "execution_count": 133,
   "metadata": {},
   "outputs": [],
   "source": [
    "df_sentiment_female[\"adj\"] = df_sentiment_female.lor.apply(get_sentence_adj_pos)\n",
    "df_sentiment_female[\"adj_jj\"] = df_sentiment_female[\"adj\"].apply(lambda x : x[0])\n",
    "df_sentiment_female[\"adj_jjr\"] = df_sentiment_female[\"adj\"].apply(lambda x : x[1])\n",
    "df_sentiment_female[\"adj_jjs\"] = df_sentiment_female[\"adj\"].apply(lambda x : x[2])"
   ]
  },
  {
   "cell_type": "code",
   "execution_count": 134,
   "metadata": {},
   "outputs": [],
   "source": [
    "df_sentiment_female[\"adj\"] = df_sentiment_female[\"adj\"].apply(lambda x : sum(x, []))"
   ]
  },
  {
   "cell_type": "code",
   "execution_count": 135,
   "metadata": {},
   "outputs": [
    {
     "name": "stderr",
     "output_type": "stream",
     "text": [
      "c:\\ProgramData\\Anaconda3\\envs\\k12\\lib\\site-packages\\ipykernel_launcher.py:1: SettingWithCopyWarning: \n",
      "A value is trying to be set on a copy of a slice from a DataFrame.\n",
      "Try using .loc[row_indexer,col_indexer] = value instead\n",
      "\n",
      "See the caveats in the documentation: https://pandas.pydata.org/pandas-docs/stable/user_guide/indexing.html#returning-a-view-versus-a-copy\n",
      "  \"\"\"Entry point for launching an IPython kernel.\n"
     ]
    }
   ],
   "source": [
    "df_sentiment_male[\"adj\"] = df_sentiment_male[\"adj\"].apply(lambda x : sum(x, []))"
   ]
  },
  {
   "cell_type": "code",
   "execution_count": 136,
   "metadata": {},
   "outputs": [],
   "source": [
    "df_sentiment_male.to_excel(\"df_sentiment_male.xlsx\")\n",
    "df_sentiment_female.to_excel(\"df_sentiment_female.xlsx\")"
   ]
  },
  {
   "cell_type": "code",
   "execution_count": 22,
   "metadata": {},
   "outputs": [],
   "source": [
    "df_sentiment_male = pd.read_excel(\"df_sentiment_male.xlsx\")\n",
    "df_sentiment_female = pd.read_excel(\"df_sentiment_female.xlsx\")"
   ]
  },
  {
   "cell_type": "code",
   "execution_count": 23,
   "metadata": {},
   "outputs": [
    {
     "ename": "ValueError",
     "evalue": "DataFrame constructor not properly called!",
     "output_type": "error",
     "traceback": [
      "\u001b[1;31m---------------------------------------------------------------------------\u001b[0m",
      "\u001b[1;31mValueError\u001b[0m                                Traceback (most recent call last)",
      "\u001b[1;32m<ipython-input-23-d8b82ce1a112>\u001b[0m in \u001b[0;36m<module>\u001b[1;34m\u001b[0m\n\u001b[1;32m----> 1\u001b[1;33m \u001b[0mlor_female_adj\u001b[0m \u001b[1;33m=\u001b[0m \u001b[0mpd\u001b[0m\u001b[1;33m.\u001b[0m\u001b[0mDataFrame\u001b[0m\u001b[1;33m(\u001b[0m\u001b[0mdf_sentiment_female\u001b[0m\u001b[1;33m.\u001b[0m\u001b[0madj\u001b[0m\u001b[1;33m.\u001b[0m\u001b[0msum\u001b[0m\u001b[1;33m(\u001b[0m\u001b[1;33m)\u001b[0m\u001b[1;33m,\u001b[0m\u001b[0mcolumns\u001b[0m\u001b[1;33m=\u001b[0m\u001b[1;33m[\u001b[0m\u001b[1;34m\"adj\"\u001b[0m\u001b[1;33m]\u001b[0m\u001b[1;33m)\u001b[0m\u001b[1;33m\u001b[0m\u001b[1;33m\u001b[0m\u001b[0m\n\u001b[0m",
      "\u001b[1;32mc:\\ProgramData\\Anaconda3\\envs\\k12\\lib\\site-packages\\pandas\\core\\frame.py\u001b[0m in \u001b[0;36m__init__\u001b[1;34m(self, data, index, columns, dtype, copy)\u001b[0m\n\u001b[0;32m    728\u001b[0m         \u001b[1;32melse\u001b[0m\u001b[1;33m:\u001b[0m\u001b[1;33m\u001b[0m\u001b[1;33m\u001b[0m\u001b[0m\n\u001b[0;32m    729\u001b[0m             \u001b[1;32mif\u001b[0m \u001b[0mindex\u001b[0m \u001b[1;32mis\u001b[0m \u001b[1;32mNone\u001b[0m \u001b[1;32mor\u001b[0m \u001b[0mcolumns\u001b[0m \u001b[1;32mis\u001b[0m \u001b[1;32mNone\u001b[0m\u001b[1;33m:\u001b[0m\u001b[1;33m\u001b[0m\u001b[1;33m\u001b[0m\u001b[0m\n\u001b[1;32m--> 730\u001b[1;33m                 \u001b[1;32mraise\u001b[0m \u001b[0mValueError\u001b[0m\u001b[1;33m(\u001b[0m\u001b[1;34m\"DataFrame constructor not properly called!\"\u001b[0m\u001b[1;33m)\u001b[0m\u001b[1;33m\u001b[0m\u001b[1;33m\u001b[0m\u001b[0m\n\u001b[0m\u001b[0;32m    731\u001b[0m \u001b[1;33m\u001b[0m\u001b[0m\n\u001b[0;32m    732\u001b[0m             \u001b[1;31m# Argument 1 to \"ensure_index\" has incompatible type \"Collection[Any]\";\u001b[0m\u001b[1;33m\u001b[0m\u001b[1;33m\u001b[0m\u001b[1;33m\u001b[0m\u001b[0m\n",
      "\u001b[1;31mValueError\u001b[0m: DataFrame constructor not properly called!"
     ]
    }
   ],
   "source": [
    "lor_female_adj = pd.DataFrame(df_sentiment_female.adj.sum(),columns=[\"adj\"])"
   ]
  },
  {
   "cell_type": "code",
   "execution_count": 24,
   "metadata": {},
   "outputs": [
    {
     "ename": "ValueError",
     "evalue": "DataFrame constructor not properly called!",
     "output_type": "error",
     "traceback": [
      "\u001b[1;31m---------------------------------------------------------------------------\u001b[0m",
      "\u001b[1;31mValueError\u001b[0m                                Traceback (most recent call last)",
      "\u001b[1;32m<ipython-input-24-17c5c8d4dba1>\u001b[0m in \u001b[0;36m<module>\u001b[1;34m\u001b[0m\n\u001b[1;32m----> 1\u001b[1;33m \u001b[0mlor_male_adj\u001b[0m \u001b[1;33m=\u001b[0m \u001b[0mpd\u001b[0m\u001b[1;33m.\u001b[0m\u001b[0mDataFrame\u001b[0m\u001b[1;33m(\u001b[0m\u001b[0mdf_sentiment_male\u001b[0m\u001b[1;33m.\u001b[0m\u001b[0madj\u001b[0m\u001b[1;33m.\u001b[0m\u001b[0msum\u001b[0m\u001b[1;33m(\u001b[0m\u001b[1;33m)\u001b[0m\u001b[1;33m,\u001b[0m\u001b[0mcolumns\u001b[0m\u001b[1;33m=\u001b[0m\u001b[1;33m[\u001b[0m\u001b[1;34m\"adj\"\u001b[0m\u001b[1;33m]\u001b[0m\u001b[1;33m)\u001b[0m\u001b[1;33m\u001b[0m\u001b[1;33m\u001b[0m\u001b[0m\n\u001b[0m",
      "\u001b[1;32mc:\\ProgramData\\Anaconda3\\envs\\k12\\lib\\site-packages\\pandas\\core\\frame.py\u001b[0m in \u001b[0;36m__init__\u001b[1;34m(self, data, index, columns, dtype, copy)\u001b[0m\n\u001b[0;32m    728\u001b[0m         \u001b[1;32melse\u001b[0m\u001b[1;33m:\u001b[0m\u001b[1;33m\u001b[0m\u001b[1;33m\u001b[0m\u001b[0m\n\u001b[0;32m    729\u001b[0m             \u001b[1;32mif\u001b[0m \u001b[0mindex\u001b[0m \u001b[1;32mis\u001b[0m \u001b[1;32mNone\u001b[0m \u001b[1;32mor\u001b[0m \u001b[0mcolumns\u001b[0m \u001b[1;32mis\u001b[0m \u001b[1;32mNone\u001b[0m\u001b[1;33m:\u001b[0m\u001b[1;33m\u001b[0m\u001b[1;33m\u001b[0m\u001b[0m\n\u001b[1;32m--> 730\u001b[1;33m                 \u001b[1;32mraise\u001b[0m \u001b[0mValueError\u001b[0m\u001b[1;33m(\u001b[0m\u001b[1;34m\"DataFrame constructor not properly called!\"\u001b[0m\u001b[1;33m)\u001b[0m\u001b[1;33m\u001b[0m\u001b[1;33m\u001b[0m\u001b[0m\n\u001b[0m\u001b[0;32m    731\u001b[0m \u001b[1;33m\u001b[0m\u001b[0m\n\u001b[0;32m    732\u001b[0m             \u001b[1;31m# Argument 1 to \"ensure_index\" has incompatible type \"Collection[Any]\";\u001b[0m\u001b[1;33m\u001b[0m\u001b[1;33m\u001b[0m\u001b[1;33m\u001b[0m\u001b[0m\n",
      "\u001b[1;31mValueError\u001b[0m: DataFrame constructor not properly called!"
     ]
    }
   ],
   "source": [
    "lor_male_adj = pd.DataFrame(df_sentiment_male.adj.sum(),columns=[\"adj\"])"
   ]
  },
  {
   "cell_type": "code",
   "execution_count": 141,
   "metadata": {},
   "outputs": [],
   "source": [
    "lor_male_adj_counts = lor_male_adj.adj.value_counts().head(5)"
   ]
  },
  {
   "cell_type": "code",
   "execution_count": 139,
   "metadata": {},
   "outputs": [],
   "source": [
    "lor_female_adj_counts = lor_female_adj.adj.value_counts().head(5)"
   ]
  },
  {
   "cell_type": "code",
   "execution_count": 142,
   "metadata": {},
   "outputs": [
    {
     "data": {
      "text/plain": [
       "excellent    739\n",
       "great        622\n",
       "medical      606\n",
       "clinical     567\n",
       "strong       396\n",
       "Name: adj, dtype: int64"
      ]
     },
     "execution_count": 142,
     "metadata": {},
     "output_type": "execute_result"
    }
   ],
   "source": [
    "lor_male_adj_counts"
   ]
  },
  {
   "cell_type": "code",
   "execution_count": 143,
   "metadata": {},
   "outputs": [],
   "source": [
    "from matplotlib import pyplot as plt\n",
    "import seaborn as sns"
   ]
  },
  {
   "cell_type": "code",
   "execution_count": 144,
   "metadata": {},
   "outputs": [
    {
     "data": {
      "image/png": "[encoded data removed]",
      "text/plain": [
       "<Figure size 1440x360 with 2 Axes>"
      ]
     },
     "metadata": {
      "needs_background": "light"
     },
     "output_type": "display_data"
    }
   ],
   "source": [
    "fig, axes = plt.subplots(1, 2, figsize=(20, 5), sharey=True)\n",
    "fig.suptitle('Initial Pokemon - 1st Generation')\n",
    "\n",
    "# Bulbasaur\n",
    "ax_0 = axes[0]\n",
    "ax_1 = axes[1]\n",
    "sns.barplot(ax =ax_0, x=lor_male_adj_counts.index,y=lor_male_adj_counts.values)\n",
    "ax_0.set_title(\"adjectives used for male applicant\")\n",
    "\n",
    "# Charmander\n",
    "sns.barplot(ax = ax_1, x=lor_female_adj_counts.index,y=lor_female_adj_counts.values)\n",
    "ax_1.set_title(\"adjectives used for female applicant\")\n",
    "\n",
    "ax_0.set_xticklabels(labels = lor_male_adj_counts.index,rotation='45', fontsize=15)\n",
    "ax_1.set_xticklabels(labels = lor_female_adj_counts.index,rotation='45', fontsize=15)\n",
    "\n",
    "fig.tight_layout()\n",
    "plt.gcf().autofmt_xdate()\n"
   ]
  },
  {
   "cell_type": "code",
   "execution_count": 145,
   "metadata": {},
   "outputs": [],
   "source": [
    "lor_male_lor_male_adj = pd.DataFrame(df_sentiment_male[df_sentiment_male.lor_gender == \"male\"].adj.sum(),columns=[\"adj\"])\n",
    "lor_male_lor_female_adj = pd.DataFrame(df_sentiment_male[df_sentiment_male.lor_gender == \"female\"].adj.sum(),columns=[\"adj\"])\n",
    "lor_female_lor_male_adj = pd.DataFrame(df_sentiment_female[df_sentiment_female.lor_gender == \"male\"].adj.sum(),columns=[\"adj\"])\n",
    "lor_female_lor_female_adj = pd.DataFrame(df_sentiment_female[df_sentiment_female.lor_gender == \"female\"].adj.sum(),columns=[\"adj\"])\n",
    "\n",
    "lor_male_lor_male_adj_counts     = lor_male_lor_male_adj.adj.value_counts().head(5)\n",
    "lor_male_lor_female_adj_counts   = lor_male_lor_female_adj.adj.value_counts().head(5)\n",
    "lor_female_lor_male_adj_counts   = lor_female_lor_male_adj.adj.value_counts().head(5)\n",
    "lor_female_lor_female_adj_counts = lor_female_lor_female_adj.adj.value_counts().head(5)"
   ]
  },
  {
   "cell_type": "code",
   "execution_count": 146,
   "metadata": {},
   "outputs": [
    {
     "data": {
      "image/png": "[encoded data removed]",
      "text/plain": [
       "<Figure size 1440x720 with 4 Axes>"
      ]
     },
     "metadata": {
      "needs_background": "light"
     },
     "output_type": "display_data"
    }
   ],
   "source": [
    "fig, axes = plt.subplots(2, 2, figsize=(20, 10), sharey=True)\n",
    "fig.suptitle('Initial Pokemon - 1st Generation')\n",
    "\n",
    "# Bulbasaur\n",
    "ax_0 = axes[0,0]\n",
    "ax_1 = axes[0,1]\n",
    "ax_2 = axes[1,0]\n",
    "ax_3 = axes[1,1]\n",
    "\n",
    "sns.barplot(ax =ax_0, x=lor_male_lor_male_adj_counts.index,y=lor_male_lor_male_adj_counts.values)\n",
    "ax_0.set_title(\"adjectives used for male-male applicant\")\n",
    "\n",
    "# Charmander\n",
    "sns.barplot(ax = ax_1, x=lor_male_lor_female_adj_counts.index,y=lor_male_lor_female_adj_counts.values)\n",
    "ax_1.set_title(\"adjectives used for male-female applicant\")\n",
    "\n",
    "sns.barplot(ax =ax_2, x=lor_female_lor_male_adj_counts.index,y=lor_female_lor_male_adj_counts.values)\n",
    "ax_2.set_title(\"adjectives used for female-male applicant\")\n",
    "\n",
    "# Charmander\n",
    "sns.barplot(ax = ax_3, x=lor_female_lor_female_adj_counts.index,y=lor_female_lor_female_adj_counts.values)\n",
    "ax_3.set_title(\"adjectives used for female-female applicant\")\n",
    "\n",
    "ax_0.set_xticklabels(labels = lor_male_lor_male_adj_counts.index,rotation='45', fontsize=15)\n",
    "ax_1.set_xticklabels(labels = lor_male_lor_female_adj_counts.index,rotation='45', fontsize=15)\n",
    "ax_2.set_xticklabels(labels = lor_female_lor_male_adj_counts.index,rotation='45', fontsize=15)\n",
    "ax_3.set_xticklabels(labels = lor_female_lor_female_adj_counts.index,rotation='45', fontsize=15)\n",
    "\n",
    "fig.tight_layout()\n"
   ]
  },
  {
   "cell_type": "code",
   "execution_count": 63,
   "metadata": {},
   "outputs": [],
   "source": [
    "# Sentence clustering"
   ]
  },
  {
   "cell_type": "code",
   "execution_count": 59,
   "metadata": {},
   "outputs": [],
   "source": [
    "import hdbscan\n",
    "from sentence_transformers import SentenceTransformer\n",
    "import umap.umap_ as umap\n",
    "model = SentenceTransformer('multi-qa-mpnet-base-dot-v1')"
   ]
  },
  {
   "cell_type": "code",
   "execution_count": 61,
   "metadata": {},
   "outputs": [],
   "source": [
    "def bert_embedding(text):\n",
    "    \"\"\"\n",
    "    Return BERT embeddings\n",
    "    :param model: SentenceTransformer object\n",
    "    :param text: strings to be embedded\n",
    "    :return: array\n",
    "    \"\"\"\n",
    "    bert_embeddings = model.encode(text, show_progress_bar = False)\n",
    "    return bert_embeddings"
   ]
  },
  {
   "cell_type": "code",
   "execution_count": null,
   "metadata": {},
   "outputs": [],
   "source": [
    "bert_embedding(text)"
   ]
  },
  {
   "cell_type": "code",
   "execution_count": 63,
   "metadata": {},
   "outputs": [],
   "source": [
    "male_sentence_embedding = df_male_sentence.sentence_split.apply(bert_embedding)"
   ]
  },
  {
   "cell_type": "code",
   "execution_count": null,
   "metadata": {},
   "outputs": [],
   "source": [
    "female_sentence_embedding = df_male_sentence.sentence_split.apply(bert_embedding)"
   ]
  },
  {
   "cell_type": "code",
   "execution_count": null,
   "metadata": {},
   "outputs": [],
   "source": [
    "male_sentence_embedding = a"
   ]
  },
  {
   "cell_type": "code",
   "execution_count": 1,
   "metadata": {},
   "outputs": [
    {
     "data": {
      "text/plain": [
       "'f:\\\\Workspace\\\\GIT\\\\AURA_REFERENCE_LETTER'"
      ]
     },
     "execution_count": 1,
     "metadata": {},
     "output_type": "execute_result"
    }
   ],
   "source": [
    "pwd"
   ]
  },
  {
   "cell_type": "markdown",
   "metadata": {},
   "source": [
    "# Demographics Table"
   ]
  },
  {
   "cell_type": "markdown",
   "metadata": {},
   "source": [
    "## Overall Column"
   ]
  },
  {
   "cell_type": "code",
   "execution_count": 27,
   "metadata": {},
   "outputs": [],
   "source": [
    "import joblib\n",
    "df_new = joblib.load(\"df_new.h5\")"
   ]
  },
  {
   "cell_type": "code",
   "execution_count": 42,
   "metadata": {},
   "outputs": [],
   "source": [
    "df_new.loc[(df_new.lor_gender == \"msle\") | (df_new.lor_gender == \" male\"),\"lor_gender\"] = \"male\""
   ]
  },
  {
   "cell_type": "code",
   "execution_count": 43,
   "metadata": {},
   "outputs": [
    {
     "data": {
      "text/plain": [
       "['df_new.h5']"
      ]
     },
     "execution_count": 43,
     "metadata": {},
     "output_type": "execute_result"
    }
   ],
   "source": [
    "joblib.dump(df_new,\"df_new.h5\")"
   ]
  },
  {
   "cell_type": "code",
   "execution_count": 2,
   "metadata": {},
   "outputs": [
    {
     "name": "stderr",
     "output_type": "stream",
     "text": [
      "c:\\ProgramData\\Anaconda3\\envs\\k12\\lib\\site-packages\\ipykernel_launcher.py:1: UserWarning: This pattern has match groups. To actually get the groups, use str.extract.\n",
      "  \"\"\"Entry point for launching an IPython kernel.\n"
     ]
    },
    {
     "data": {
      "text/plain": [
       "28"
      ]
     },
     "execution_count": 2,
     "metadata": {},
     "output_type": "execute_result"
    }
   ],
   "source": [
    "df_new.lor.str.contains(r\"(keen eye)\",case=False).sum()"
   ]
  },
  {
   "cell_type": "code",
   "execution_count": 21,
   "metadata": {},
   "outputs": [
    {
     "name": "stderr",
     "output_type": "stream",
     "text": [
      "c:\\ProgramData\\Anaconda3\\envs\\k12\\lib\\site-packages\\ipykernel_launcher.py:1: UserWarning: This pattern has match groups. To actually get the groups, use str.extract.\n",
      "  \"\"\"Entry point for launching an IPython kernel.\n"
     ]
    },
    {
     "data": {
      "text/plain": [
       "38                                                                                                                                                                                                                                                                                                                                                                                                                                                 Dear Program Director: It is my great pleasure to highly recommend Rajeev Aravapalli for a body imaging fellowship. As a fellowship trained body and breast imager myself at Beaumont, Farmington Hills, I have come to know Rajeev very well during his time here. Due to our department being on the smaller side, with eight full-time staff, I have had near daily interactions with him. During our time together, he has continually impressed me with his observation skills and meticulous attention to detail. He has repeatedly demonstrated an ability to pick up subtle findings that could be overlooked by other residents or even attendings. I recall one case in particular where Rajeev detected an inconspicuous hyperechoic intratesticular mass on an outpatient ultrasound. This was initially missed by the sonographer and seen by Rajeev on only one of many cine clips. We called the patient back for additional imaging which confirmed the mass. in the interim between the two studies the patient was diagnosed with metastatic seminoma, later confirmed to be of testicular origin at orchiectomy. Rajeev is also extremely hardworking and well read. He is thoughtful and chooses his words carefully. Outside of the reading room he is kind, engaging, and well-liked by the staff and his peers. He is a true team player who is consistently mindful of others' needs. From my own experience with him, I have no doubt he will be an exceptional asset to your program. If you have any questions or if I can be of assistance in any way, please do not hesitate to contact me. Sincerely, \n",
       "117                                                                                                                                                                                                                                                      Dear Fellowship Interview Committee, It Is my distinct pleasure to recommend Or. Adam Wadzinski to your Body Imaging Fellowship Program without reservation. As a faculty staff member at Aurora St. Luke's Medical Center in the Body Imaging section I have had the privilege of working with and getting to know Adam over the past 2 years. I know that he would make a positive addition to your team. He has waived his right to see this letter. Adam is a real pleasure to work with. He is reliable, responsible, mild mannered and courteous. He does not Interrupt, is punctual, and gets the work done. He listens carefully to Instruction, Is a critical thinker, and processes Information quickly. Adam's reports are well thought out and concise, and he has a good eye for subtle findings. In my experience with him, Adam Is functioning at a level nearly one year ahead of his level of training. His thoughtful demeanor and natural leadership skills make him popular with peers and faculty. Each spring our residency program has formal second year resident presentations for scholarly activity. This year Adam chose MRI Enterography: Exam and Findings11 for his formal presentation which was well thought out, Informative, and well received. Perhaps the biggest compliment I can pay Adam, one I reserve for only select residents, Is that I would like to hire him into our group once he finishes his fellowship if we have an opening. Other faculty I have spoken with feel the same way about Adam. In summary, Adam Is an Intelligent, pleasant, and confident resident and will make an outstanding addition to the field of body imaging. I recommend him very highly for your fellowship program. Please feel free to contact me if you have any questions. Sincerely Yours, \n",
       "133                                                                                                                                                                                                                                                                                                                                                                                                                       Dear Dr. Dachman, It is my distinct pleasure to write this strong letter of recommendation for Rafay Ahmed, MD, in his application for a body imaging fellowship position in your program. Rafay has a very strong background in imaging. Prior to joining our radiology residency, he completed a nuclear medicine residency at Yale and also completed a 2-year fellowship in molecular imaging at University of Pittsburgh. During his residency here, he has been selected as a reviewer for AJR. He also has made 2 oral presentations at the 2017 ASNR conference. In April 2018, he will be representing Geisinger at the ARRS introduction to academic radiology course. I have supervised him extensively on the pediatric and emergency medicine rotation. Rafay has an inquisitive mind, calm demeanor, and a methodical approach to imaging. He listens carefully and takes feedback well. I have allowed him greater independence in dispensing stat reads and performing pediatric fluoroscopic studies as compared to similar peers in his level. On a personal level, he enjoys playing cricket and soccer. I can vouch that he a skilled conversationalist - when not discussing radiology cases, I have enjoyed our conversations outside of medicine. He has an easy-going nature about him that produces positive vibes in the environment around him. In summary, Rafay is a superb resident. He is blossoming into a fine a radiologist, and I have no doubt he will be a valuable asset to your department during his time in fellowship. If you have any question, feel free to contact me at my email gswu@geisinger.edu Sincerely, \n",
       "162     Dear Fellowship Director, I am writing this letter of support for Dr. Casey Bishop for a position in your Neuroradiology fellowship. Casey is currently a 3rd year radiology resident in good standing at Boston University Medical Center. I have worked with Casey closely for the past 2.5 years so I feel that I know him very well. During this time, he has been an excellent resident with an impressive work ethic and knowledge base. Casey also has an exceptionally keen eye and is able to pick up on subtle abnormalities while still being able to synthesize an accurate diagnosis based on all the information available. I am equally impressed with him ability to carefully think through challenging cases using all the information to what is usually a strong differential or a diagnosis. These outstanding perceptual skills will serve him well in a neuroradiology imaging fellowship. Casey has a very interesting background as you can see from his CV. He majored in theatre and history at Northwestern University and worked in theatre prior to matriculating to medical school at Georgetown. He has worked on a national healthcare disparities curriculum with myself and other faculty across the nation which was recently published and now being implemented at many programs. In addition, he worked with one of my colleagues to develop an online, comprehensive Neuroradiology curriculum to provide resources to our residents throughout residency. He has a level of energy and enthusiasm which he focuses and uses extremely well. On a personal level, Casey is an extremely personable and caring individual which is one of him many strong assets when dealing with patients. He is very well liked and respected by him peers, attending staff and technologists alike and is routinely pro-active and takes initiative during the busy work day. In summary, I most strongly recommend Dr. Casey Bishop as an outstanding candidate for your neuroradiology fellowship program. He has an excellent knowledge base a...\n",
       "398     Dear Fellowship Director, It is my pleasure to recommend Dr Justin Bauer for admission to your neuroradiology fellowship. I am a faculty at the Department of Neuroradiology at Stanford University and have worked with Justin since he started his residency. Justin is an extremely hardworking, inquisitive, and thorough resident. He is both very earnest and pleasant to work with. It has been a great pleasure to see him grow and develop as a radiologist during his time at Stanford. I wholeheartedly recommend him and think you would enjoy working with him as your neuroradiology fellow. During the times I have worked with Justin over the past three years of his residency, I have been very positively impressed by the attitude and dedication that he brings to his work. Every day, he pushes himself to read more numerous and more complicated studies, keeping himself outside of his comfort zone in order to grow as a physician by dealing with new and challenging problems. He is extremely eager and inquisitive, always asking questions to be sure that he fully understands the imaging he interprets. Even after our readout has been completed, he carefully checks how his reports are edited and works on improving his reports. Through his hard work on the job and continual self-study, Justin has developed an excellent knowledge base both in neuroradiology and general radiology as well. Over his academic career, Justin has performed extensive research regarding diseases of the head and neck. During his time at Stanford, I have been very pleased to act as research mentor on a quality improvement project he designed to analyze the effect of clinical history on resident imaging interpretation. He came up with a meaningful hypothesis and worked independently to seek out resources, collect data, perform statistical analysis, and draw conclusions from the results. Justin is an outstanding resident and I am certain that he will be an outstanding neuroradiology fellow. I know you will enjoy...\n",
       "428     Dear Dr. Yang: I am pleased to write in support of Dr. Daniel Son who is applying for Neuroradiology Fellowship training at your Institution. I am Program Director of the Radiology Residency training at Beaumont Hospital Dearborn and serve as Section Chief in Body CT/MRI. Daniel has been a resident with us since July 2014. Over this time I have had ample opportunity to work with Dr. Son and feel very comfortable evaluating his progress. Daniel has impressed me as a very aggressive resident, always taking the lead and never shying away from a challenge or unwanted responsibility. He has the motivation necessary to undertake a difficult assignment and possesses the drive and perseverance required to follow the task to a successful completion. He is quite a resilient young physician, able to carefully assess the situation at hand and make any alterations or revisions of the plans should the need arise. Daniel has a good fundamental knowledge of medicine and radiology: he supplements this with a lot of outside learning and reading. He interacts well with his colleagues and ancillary staff, being one of our most popular residents with attending clinicians. He is an honest, up front'' kind of guy; one who inspires trust and confidence. Being a close supervisor of the residents In their cross-sectional and body imaging rotations, I can comfortably vouch for Daniel's ability in these radiologic subspecialties. He is advanced for his stage of training, participates actively at the read out sessions and is always in search of the most challenging cases. He has mastered quite well the art of assimilating information from a complicated radiographic study and transferring this data into a succinct, well organized dictated report. Our institution Is able to afford the residents lots of hands on experience. This applies to all of our subspecialties and is quite prevalent in their rotations within the neuroradiology service. Daniel is a natural at all types of Invasive procedur...\n",
       "474     Dear Program Director, It is my sincere pleasure to write this letter of recommendation in strong support of Dr. Anas Al-Smadi's application for a position in your neurointerventional radiology fellowship program. In my capacity as an IR and ED faculty and also as the chair of the department, I have had the opportunity to work closely with Anas since he began his position as a resident at Wayne State/Detroit Medical Center in Juley 2018. In that time, I have found Anas to be an exceptional resident and colleague. Prior to joining us, Anas has demonstrated a track record of academic excellence in his pre and post-graduation examinations in Jordan, culminated by high scores in USMLE board exams. Anas did a preliminary surgery year at his university hospital in Jordan and then joined neurosurgery residency at Hamad Medical Corporation in Qatar trying to satisfy his interest in neurointervention. In order to achieve his main ambition of getting radiology training followed by interventional neuroradiology fellowship, Anas joined the interventional neuroradiology department at Northwestern University as post-doctoral research fellow where his productivity is evident from his CV, with the number of papers, oral presentations, and abstracts he has produced focusing on neurovascular research. This background enabled him to hit the ground running when he joined us accomplishing multiple research projects as a first author. Anas conducted a valuable quality improvement project analyzing the adequacy and appropriateness of CT pulmonary angiography studies in our institution. He has also recently submitted a paper assessing the temporal changes and potential value of chest radiograph as a prognostic indicator in COVID-19 pneumonia patients in addition to another small case series in which he presented our experience of mechanical thrombectomy in COVID-19 related stroke. On the clinical side, I have very carefully evaluated Anas's performance and participation in the reading ...\n",
       "524     Dear Dr. Yang: I am pleased to write In support of Dr. Syed Khasim-Ali Jafri who is applying for Neuroradiology Fellowship at your Institution. I am Program Director of the Radiology Residency training at Beaumont Hospital-Dearborn and serve as Section Chief In Body CT/MRI. Khasim has been a resident with us since July 2015. over this time I have had ample opportunity to work with Dr. Jafri and feel very comfortable evaluating his progress. My program had an unexpected vacancy as one of my junior residents transferred to an east coast program. As the word spread in the hospital, several people approached inquiring about the spot. One of my colleagues, a cardiologist who is involved In the cardiac fellowship training program here, informed me that his son, a recent medical school graduate had recently been denied a position in the anesthesia match and was currently In a transitional program elsewhere. I offered to meet with his son, and in so doing, discovered that his uncle was one of my mentors during my own fellowship training. After speaking with him at length about radiology, and requiring him to speak to his uncle on the same topic, I was convinced he would be happy with a career in Radiology. He is my first free agent acquisition and has made me look like a genius! Khasim has impressed me as a very aggressive resident, always taking the lead and never shying away from a challenge or unwanted responsibility. He has the motivation necessary to undertake a difficult assignment and possesses the drive and perseverance required to follow the task to a successful completion. He Is quite a resilient young physician, able to carefully assess the situation at hand and make any alterations or revisions of the plans should the need arise. Khasim has a good fundamental knowledge of medicine and radiology: he supplements this with a lot of outside learning and reading. He interacts well with his colleagues and ancillary staff, being one of our most popular residents wi...\n",
       "548     Dear Program Director: I am pleased to write in support of Dr. Alex Woehlke who is applying for Neuroradiology Fellowship training at your institution. I am Program Director of the Radiology Residency training at Beaumont Hospital, Dearborn and serve as Section Chief in Body CT/MRI. Alex has been a resident with us since July 2016. Over this time I have had ample opportunity to work with Dr. Woehlke and feel very comfortable evaluating his progress. Alex has impressed me as a very aggressive resident, always taking the lead and never shying away from a challenge or unwanted responsibility. He has the motivation necessary to undertake a difficult assignment and possesses the drive and perseverance required to follow the task to a successful completion. He is quite a resilient young physician, able to carefully assess the situation at hand and make any alterations or revisions of the plans should the need arise. Alex has a good fundamental knowledge of medicine and radiology; he supplements this with a lot of outside learning and reading. He interacts well with his colleagues and ancillary staff, being one of our most popular residents with attending clinicians. He is an honest, up front kind of guy; one who inspires trust and confidence. Being a close supervisor of the residents in their neuro and body imaging rotations, I can comfortably vouch for Alex's ability in these radiologic subspecialties. He is advanced for his stage of training, participates actively at the read out sessions and is always in search of the most challenging cases. He has mastered quite well the art of assimilating information from a complicated radiographic study and transferring this data into a succinct, well organized dictated report. Our institution is able to afford the residents lots of hands on experience. This applies to all of our subspecialties and is quite prevalent in their rotations within the neuroradiology and interventional radiology services. Alex is a natural at all typ...\n",
       "906     I am pleased to write in support of Dr. Daniel Son who is applying for Neuroradiology Fellowship training at your Institution. I am Program Director of the Radiology Residency training at Beaumont Hospital Dearborn and serve as Section Chief in Body CT/MRI. Daniel has been a resident with us since July 2014. Over this time I have had ample opportunity to work with Dr. Son and feel very comfortable evaluating his progress. Daniel has impressed me as a very aggressive resident, always taking the lead and never shying away from a challenge or unwanted responsibility. He has the motivation necessary to undertake a difficult assignment and possesses the drive and perseverance required to follow the task to a successful completion. He is quite a resilient young physician, able to carefully assess the situation at hand and make any alterations or revisions of the plans should the need arise. Daniel has a good fundamental knowledge of medicine and radiology: he supplements this with a lot of outside learning and reading. He interacts well with his colleagues and ancillary staff, being one of our most popular residents with attending clinicians. He is an honest, up front kind of guy; one who inspires trust and confidence. Being a close supervisor of the residents In their cross-sectional and body imaging rotations, I can comfortably vouch for Daniel's ability in these radiologic subspecialties. He is advanced for his stage of training, participates actively at the read out sessions and is always in search of the most challenging cases. He has mastered quite well the art of assimilating information from a complicated radiographic study and transferring this data into a succinct, well organized dictated report. Our institution is able to afford the residents lots of hands on experience. This applies to all of our subspecialties and is quite prevalent in their rotations within the neuroradiology service. Daniel is a natural at all types of Invasive procedures, having perfor...\n",
       "957     It is my pleasure to provide this letter of recommendation for Dr. Shaji Khan as he is con­ sidered for a Musculoskeletal fellowship position in your department He is currently a second year resident at St. Francis Hospital and will graduate in 2019. I have interacted with him on a number of different rotations and I proud to say that he is one of our best residents. I initially met Shaji when he rotated in our department as a third year medical student. He showed dedication to the field of radiology early on as noted by his inquisitiveness, punc­ tuality, and hard work. The quality of the content his presentations were well beyond the expectations of a medical student. We were very lucky to have Shaji return to our de­ partment as a resident, and he has been a wonderful addition. He is always a pleasure to work with on service; he is dependable, conscientious, and very intelligent. It is a rarity that he does not know the details of a disease entity, and if there is something he does not know, he will promptly perform a literature search to find the answer. His dictations are clear, concise, and accurate, and any interactions or phone ca1Is with referring physicians are well documented. One of the real joys of working with Shaji is watching him grow into not just a great diagnostic radiologist, but a very good clinician as well. He can be depended upon to obtain consent for procedures and puts the patient and family members at ease with his sincerity and relaxed demeanor. He is a1so very adept at performing procedures carefully, quickly, and skillfully. Shaji has also become more involved in educational projects. I have bad the pleasure of working with him on one of his projects that is being presented at ARRS 2017. It has been such a joy to see him become more involved in educational activities and research. 1 foresee him being involved in more projects in the future as well. In summary, Dr. Khan is an outstanding radiologist. He will make an excellent fellow ...\n",
       "1021                                                                                                                                                                                                                                                                                                                                                              I am pleased to write a letter of recommendation of behalf of Rahul Verma, who is applying for a fellowship in breast imaging. • I have had the pleasure of knowing Rahul, since he started his diagnostic radiology residency at Einstein two years ago. I have worked closely with him during his rotations in mammography, in conferences, as weJI as pursuing several academic projects. Rahul is truly one of the most kind and sincere residents with whom I have worked in the past 22 years. He is always pleasant and comes to work each day eager to learn and tackle whatever needs to be done. He has a wonderful way of combining his true passion for learning with an incredible work ethic that is relatively unusual these days. It is clear from his curriculum vitae that he has been both a special and valued student based the number of scholarships he has received. I believe Rahul's interest in breast imaging stems from his desire to feel connected directly to patients. While on the mammography rotation he has demonstrated this by the way he handles all aspects of patient care. More than one patient has commented on how kind, caring, and helpful he was as he explained results and recommendations. Rahul's skills in breast imaging continue to improve as he learns to gather information quickly and integrate it into problem solving with diagnostic mammography. He very carefully learned how to do interventiona1 procedures, always preparing and asking important questions. He has an inquisitive mind which has led him to do several research projects in radiology, including mammography. If I can be of further assistance, do not hesitate to contact me.\n",
       "1104                                                                                                                                                                                                                                                                                                                                                                                                                                                                                                                                                                                                                                                                                                                             It is my pleasure to recommend of Dr. Priyal Patel for you Breast Imaging Fellowship. I have known Priyal since she started her residency in 2016. My comments below are based on my own personal observations. Breast Imaging at Cleveland Clinic is a subspecialty practice with radiologists covering multiple sites. We have the opportunity to work closely with the residents when covering Main Campus. Although Priyal has only had one breast imaging rotation, I've had the pleasure of working with her a few, memorable times. She is an engaged learner participating in the reading room and taking diagnostic cases. She carefully reviews each case and makes an assessment. She eager to partake in all cases including ultrasound, MRI, and biopsies. In fact, in order to prepare for her first day on procedures, Priyal honed her ultrasound biopsy skills practicing on a phantom. In addition to her enthusiasm for breast imaging, Priyal has a good bedside manner. She is able to put patients as ease and explain procedures. On a personal level, Priyal is a kind person. The technologists enjoy working with her and she is a pleasure to teach. If Priyal chose to stay at Cleveland Clinic, we would be happy to have her in our fellowship. Please feel free to contact me should you have any questions. Sincerely,\n",
       "1106    It is my great pleasure to recommend Dr. Priyal Patel for the Breast Imaging Fellowship Program at the University of Chicago. Priyal is a resident in good standing in our program; her expected dates of attendance are July 1, 2016 through June 30, 2020. I have worked with Priyal throughout her residency as staff and as the Radiology Residency Program Director. My comments are based own my personal observations as well as a review of Priyal's residency portfolio. One faculty evaluation summed up Priyal's progression through residency very accurately, She is on track to become a great radiologist! She has not one strength, but many. Clinically, Priyal has a very good knowledge base which she continually builds upon through practice and reading. She is very thoughtful in her approach to exams, carefully evaluating imaging, and developing appropriate search patterns. When considering protocols, she is not afraid to ask questions to enhance her understanding, and she utilizes constructive criticism to improve performance. Priyal's interpretations are accurate and she generates good quality, organized, efficient reports. In fact, efficiency is one of her marked characteristics. Without sacrificing accuracy, Priyal was functioning at a third year level during some second year rotations. The combination of efficiency and good humor, helps her handle stressful workloads and serves as an excellent example to more junior residents on service. As a consultant, she demonstrates professionalism and politeness in person or on the phone, easily explaining answers to imaging questions posed by clinical colleagues. Many evaluations note her laudable interpersonal communication skills, as well as work ethic which is characterized by a sincere desire for self-improvement. In summary, I very highly recommend Dr. Priyal Patel to your Breast Imaging Fellowship Program without reservation. Priyal has waived her right to read this letter. If you wish, you may contact me for more informat...\n",
       "1107                                                                                                                                                                                                                                                                                                                                                                                                                                                                                                                                                                                                                                                                                                                              It is my pleasure to recommend of Dr. Priyal Patel for you Breast Imaging Fellowship. I have known Priyal since she started her residency in 2016. My comments below are based on my own personal observations. Breast Imaging at Cleveland Clinic is a subspecialty practice with radiologists covering multiple sites. We have the opportunity to work closely with the residents when covering Main Campus. Although Priyal has only had one breast imaging rotation, I've had the pleasure of working with her a few, memorable times. She is an engaged learner participating in the reading room and taking diagnostic cases. She carefully reviews each case and makes an assessment. She eager to partake in all cases including ultrasound, MRI, and biopsies. In fact, in order to prepare for her first day on procedures, Priyal honed her ultrasound biopsy skills practicing on a phantom. In addition to her enthusiasm for breast imaging, Priyal has a good bedside manner. She is able to put patients as ease and explain procedures. On a personal level, Priyal is a kind person. The technologists enjoy working with her and she is a pleasure to teach. If Priyal chose to stay at Cleveland Clinic, we would be happy to have her in our fellowship. Please feel free to contact me should you have any questions. Sincerely\n",
       "1153                                                                                                                                                                                                                                                                                                                                                                                                                                                                                                                                                                                                                                                                                Dear Neuroradiology Program Director and Staff: It is my pleasure to strongly and without reservation recommend Alex AJ Hall, MD for a neuroradiology fellowship. I have worked directly with AJ for three years and have observed him in several roles. In both Neuro Interventional and General Body Interventional Labs, AJ is attentive and prepared. He reviews cases in advance and is eager to participate. His questions and willingness to search out answers demonstrated to me his dedication to patient care on several occasions. While interacting with patients, I observed compassion that brought calm to nervous patients. He will excel with the procedural aspects of neuroradiology training. At the workstation AJ is known for his good eye, resourcefulness and hard work. He is friendly and quick to offer assistance to more junior learners. He supports his classmates and makes the residency stronger with his excellent attitude. I am confident he will be a future Radiology leader. His past academic and research accomplishments as an undergraduate and in medical school continued in residency. He is well suited to contribute to research in fellowship as well. Alex Hall, MD will no doubt excel in neuroradiology fellowship and quickly become a valued part of your team; I recommend him highly and ask that you carefully consider his application\n",
       "1216                                                                                                                                                                                                                            Attention: Caitlin Dale, Fellowship Program Administrator Dear Dr. Yang: It is my pleasure to recommend Albert Sohn to your n2uroradiology fellowship program without reservation. As Assistant Professor of Radiology and recently appointed Residency Program Director at the Loyola University Medical Center, I have had the privilege of working with and getting to know Al for the past two years. I am convinced A! will be a positive addition to your team. Al is a pleasure to work with, an all-around great guy. The first thing you will notice is that Al is an easy-going person. Although soft-spoken, you will discover over time that Al is very social and has already proceeded to create a network of contacts. He is always agreeable and has a high level of respect for his educators. He never interrupts, is always on time, and gets the work done. He listens carefully to instruction, is a critical thinker 2-!ld processes the information quickly. I am certain he will be able to perform well at your institution, both clinically and academically. Al is clearly dedicated to career in academics. He enjoys the educational aspect of academia, and is our newest participant of our education pathway. The education pathway emphasizes the development of skills necessary to become productive and excellent leaders and educators in medicine. This pathway exposes the resident to leadership roles, formal didactics and activities within both the residency program and the Loyola H0alth Care System. We receive applications annually and choose a single representative from each class. I recommend Al without reservation. I am confident that you will enjoy working and getting to know Al. If you have any questions or need further insight into Al's character, please feel free to contact me.\n",
       "Name: lor, dtype: object"
      ]
     },
     "execution_count": 21,
     "metadata": {},
     "output_type": "execute_result"
    }
   ],
   "source": [
    "df_new.lor[df_new.lor.str.contains(r\"(carefull)\",case=False)]"
   ]
  },
  {
   "attachments": {},
   "cell_type": "markdown",
   "metadata": {},
   "source": [
    "# Outlier Analysis"
   ]
  },
  {
   "cell_type": "code",
   "execution_count": 32,
   "metadata": {},
   "outputs": [],
   "source": [
    "letter_length_array = df_new.lor.str.len().values"
   ]
  },
  {
   "cell_type": "code",
   "execution_count": 76,
   "metadata": {},
   "outputs": [
    {
     "data": {
      "text/plain": [
       "1.7712111561514987"
      ]
     },
     "execution_count": 76,
     "metadata": {},
     "output_type": "execute_result"
    }
   ],
   "source": [
    "from scipy.stats import skew\n",
    "skew(letter_length_array)"
   ]
  },
  {
   "cell_type": "code",
   "execution_count": 34,
   "metadata": {},
   "outputs": [],
   "source": [
    "# method 1.\n",
    "import numpy as np\n",
    "Q1 = np.percentile(letter_length_array , 25)\n",
    "Q3 = np.percentile(letter_length_array , 75)\n",
    "# method 2.\n",
    "Q1,Q3 = np.percentile(letter_length_array , [25,75])\n",
    "IQR = Q3 - Q1\n",
    "ul = Q3+1.5*IQR\n",
    "ll = Q1-1.5*IQR"
   ]
  },
  {
   "cell_type": "code",
   "execution_count": 77,
   "metadata": {},
   "outputs": [
    {
     "data": {
      "text/plain": [
       "<AxesSubplot:>"
      ]
     },
     "execution_count": 77,
     "metadata": {},
     "output_type": "execute_result"
    },
    {
     "data": {
      "image/png": "[encoded data removed]",
      "text/plain": [
       "<Figure size 432x288 with 1 Axes>"
      ]
     },
     "metadata": {
      "needs_background": "light"
     },
     "output_type": "display_data"
    }
   ],
   "source": [
    "sns.boxplot(letter_length_array)"
   ]
  },
  {
   "cell_type": "code",
   "execution_count": 47,
   "metadata": {},
   "outputs": [
    {
     "data": {
      "text/plain": [
       "array([2536, 3065, 1506, ..., 1375, 1721, 1670], dtype=int64)"
      ]
     },
     "execution_count": 47,
     "metadata": {},
     "output_type": "execute_result"
    }
   ],
   "source": [
    "letter_length_array"
   ]
  },
  {
   "cell_type": "code",
   "execution_count": 67,
   "metadata": {},
   "outputs": [
    {
     "data": {
      "text/plain": [
       "<AxesSubplot:ylabel='Count'>"
      ]
     },
     "execution_count": 67,
     "metadata": {},
     "output_type": "execute_result"
    },
    {
     "data": {
      "image/png": "[encoded data removed]",
      "text/plain": [
       "<Figure size 432x288 with 1 Axes>"
      ]
     },
     "metadata": {
      "needs_background": "light"
     },
     "output_type": "display_data"
    }
   ],
   "source": [
    "sns.histplot(x=letter_length_array, binwidth=200)"
   ]
  },
  {
   "cell_type": "code",
   "execution_count": 44,
   "metadata": {},
   "outputs": [
    {
     "data": {
      "text/plain": [
       "3659.25"
      ]
     },
     "execution_count": 44,
     "metadata": {},
     "output_type": "execute_result"
    }
   ],
   "source": [
    "#upper limit\n",
    "ul"
   ]
  },
  {
   "cell_type": "code",
   "execution_count": 36,
   "metadata": {},
   "outputs": [
    {
     "data": {
      "text/plain": [
       "175.25"
      ]
     },
     "execution_count": 36,
     "metadata": {},
     "output_type": "execute_result"
    }
   ],
   "source": [
    "#lower limit\n",
    "ll"
   ]
  },
  {
   "attachments": {},
   "cell_type": "markdown",
   "metadata": {},
   "source": [
    "* total letter count"
   ]
  },
  {
   "cell_type": "code",
   "execution_count": 39,
   "metadata": {},
   "outputs": [
    {
     "data": {
      "text/plain": [
       "1036"
      ]
     },
     "execution_count": 39,
     "metadata": {},
     "output_type": "execute_result"
    }
   ],
   "source": [
    "len(letter_length_array)"
   ]
  },
  {
   "attachments": {},
   "cell_type": "markdown",
   "metadata": {},
   "source": [
    "* Number of letter above upper limit "
   ]
  },
  {
   "cell_type": "code",
   "execution_count": 61,
   "metadata": {},
   "outputs": [
    {
     "data": {
      "text/plain": [
       "54"
      ]
     },
     "execution_count": 61,
     "metadata": {},
     "output_type": "execute_result"
    }
   ],
   "source": [
    "(letter_length_array>ul).sum()"
   ]
  },
  {
   "attachments": {},
   "cell_type": "markdown",
   "metadata": {},
   "source": [
    "* Number of letter below lower limit "
   ]
  },
  {
   "cell_type": "code",
   "execution_count": 63,
   "metadata": {},
   "outputs": [
    {
     "data": {
      "text/plain": [
       "1"
      ]
     },
     "execution_count": 63,
     "metadata": {},
     "output_type": "execute_result"
    }
   ],
   "source": [
    "(letter_length_array<ll).sum()"
   ]
  },
  {
   "cell_type": "code",
   "execution_count": 55,
   "metadata": {},
   "outputs": [
    {
     "data": {
      "text/plain": [
       "8738"
      ]
     },
     "execution_count": 55,
     "metadata": {},
     "output_type": "execute_result"
    }
   ],
   "source": [
    "max(letter_length_array)\n"
   ]
  },
  {
   "cell_type": "code",
   "execution_count": 60,
   "metadata": {},
   "outputs": [
    {
     "data": {
      "text/plain": [
       "array([   1,  468,  502, ..., 5701, 5904, 8738], dtype=int64)"
      ]
     },
     "execution_count": 60,
     "metadata": {},
     "output_type": "execute_result"
    }
   ],
   "source": [
    "np.sort(letter_length_array)"
   ]
  },
  {
   "cell_type": "code",
   "execution_count": 57,
   "metadata": {},
   "outputs": [
    {
     "data": {
      "text/plain": [
       "array(['It is my tremendous pleasure to write this extremely strong letter of recommendation for Dr. Jami Jadidi’s application to your outstanding neuroradiology fellowship. I have known Dr. Jadidi since July 2016 when he began our radiology residency program. I have personally supervised him at length during his rotations in musculoskeletal imaging and while on call in the emergency room. Additionally, I have been a mentor and advisor to him in his numerous academic scholarly endeavors. I cannot stress enough that Dr. Jadidi is to date the finest resident I have ever worked with in my 12 years of being an attending physician at SUNY Downstate Health Sciences University. He has demonstrated a command of radiology medical knowledge, has shown tremendous involvement and significant interest in research activities, participates in unending University and Hospital service and gives unwavering dedication to his patients and those less fortunate than himself. It is because of these qualities that I give Dr. Jami Jadidi the highest recommendation I have ever given to any radiology resident for an application to a fellowship program. Dr. Jadidi graduated with a Bachelors of Arts degree in economics from York University in Toronto and a Medical Doctorate degree from Saba University School of Medicine. Prior to beginning his radiology residency, he completed a preliminary internship year in internal medicine at MedStar Harbor Hospital in Baltimore and is now enrolled in our diagnostic radiology residency program here at SUNY Downstate Health Sciences University. Many of our residents jump through the required hoops of being involved in a research or educational project presented at a national meeting that many fellowships now require. Dr. Jadidi, however, actually enjoys the intellectual stimulation of scientific research and as such his Curriculum Vitae in this area reflects significant abstracts and publications, not only with respect to number but also with regard to quality. Dr. Jadidi has experience applying for and writing grants with success; these grants are not insignificant, especially when considering the largest awarded to him was for the amount of $95,040 to fund the purchase of a new ultrasound machine used in research. An additional grant that he was awarded supported a quality improvement project of reducing screening times for mammography patient visits. Of a personal note with respect to research, Dr. Jadidi has taken on the role of lead resident researcher by participating in a retrospective study of which I am the lead investigator. We are studying the relative intensity of bone marrow edema pattern on MRI fluid sensitive sequences without corresponding T1 images and its relationship to the sensitivity and specificity of an osteomyelitis diagnosis. Dr. Jadidi has taken his responsibilities on with zeal. At our bi-weekly research meetings, I let him lead our team, questioning each attending, resident and medical student on their progress over the past two weeks and his or her plan for advancing the research until our next meeting. He conducts these meetings as though he were a 50-year-old radiology research attending who has perfected the technique by doing it hundreds of times before: professionally, succinctly and with an inquisitive manner. Perhaps most importantly, he keeps our research moving forward through positive reinforcement, encouraging the medical student to do the grunt work no one wants to do, making assignments to radiology residents for more complicated tasks and concludes with a private follow-up one on one discussion with me to review future areas of concern or progress. In all my years of being an attending physician, no radiology resident has pleasantly surprised me more frequently than Dr. Jadidi with regard to his interest in research, his leadership skills in leading a research team, being actively involved in study design and moving the project along at a rapid pace. In addition to the above research project, Dr. Jadidi has written over ten peer-reviewed abstracts and papers, many of which have been published in respected journals such as Radiographics, and been presented at the Annual Meetings of the Radiologic Society of North America and the American Roentgen Ray Society. Of these abstracts and papers, I was personally involved in at least five of them and I can state that he approached each of these projects with as much enthusiasm as our current ongoing retrospective study. With regard to University and Hospital service, Dr. Jadidi has held numerous leadership positions here at SUNY Downstate. He is not only the Chair of the Committee for our Dual Certification Program in Diagnostic Radiology and Nuclear Radiology but he was the founder of the committee that initiated the proposal, a task that would normally be delegated to a senior attending physician. He also serves as the Chair of our Radiology Resident Wellness Committee, is the Class Representative for his year during departmental meetings, and is Vice- Chief of our RAD-AID chapter. In addition to these time-consuming leadership roles, he also represents our department in university service by serving as the representative of our radiology department in the University Graduate Medical Education Technology Subcommittee and Hospital House Staff Quality Council. These activities only represent University and Hospital service activities he is currently participating in. Prior to these roles, he represented his radiology class year during our Clinical Learning Environment Review CLER and Accreditation Council for Graduate Medical Education ACGME site visits. Concerning his medical knowledge and procedural ability skills, Dr. Jadidi excels far more than his classmates. He is one of the few residents I trust to perform injections, biopsies and aspirations independently; it is not uncommon for me to watch him perform an entire procedure from the control room without getting scrubbed in beside him at the fluoroscopy table. Dr. Jadidi understands that one of the most important aspects of a successful procedure is being adequately prepared, performing thorough pre-procedure patient histories and ensuring the interventional suite has any medical device that may be needed. His outstanding patient care continues after the procedure; I am always confident that our patients will receive appropriate post-procedure follow-up and discharge instructions while in his safekeeping. Dr. Jadidi also loves teaching. In the activities I described above regarding research, university service and procedural ability, he almost always invites a first year to participate and guides them towards what is required to achieve success. Importantly for me, he teaches his mentees the importance of showing up early and staying late, how I like to work and what to say in their reports to ensure I am satisfied. Because of his mentorship of younger residents, I am able to be involved in activities that I would rather be doing such as teaching pathology instead of how to dictate, mentoring younger attendings, interacting more with patients and having a greater role in the medical school with curricular development. In simpler words, he does a lot of my job for me and he does it well. Of special note, Dr. Jadidi has been one of the most amiable residents I have known in my radiology career which to me is just as important as demonstrating the qualities of scholarly curiosity, hard work and dedication. He is friendly, genuine and a pleasure to be around. He has planned after work happy hours that both faculty and residents attend that help instill a comradery within our department that trickles into our daily clinical work. He’s funny, someone who can tell a joke as well as he can take one, and if he were not my resident, someone I would invite out with my friends for a beer at a local bar. In summary, Dr. Jami Jadidi demonstrates dedication to hard work involving research, university service and teaching. I have to admit that I will be somewhat sad to see him graduate because I believe it will be a very long time until I see a resident who will be able to perform at his level again. Quite frankly, his CV, work ethic and professionalism are as good as some of our best radiology attendings. Dr. Jami Jadidi is the best resident I have ever worked with and I am confident that he will make me proud with respect to whichever neuroradiology fellowship he chooses. I can assure you that I’m also confident he will similarly pleasantly surprise you and make you proud as well. Please do not hesitate to contact me further 718-270-1603 if you require any further information. Dr. Jami Jadidi has waived his right to see this letter. Respectfully,'],\n",
       "      dtype=object)"
      ]
     },
     "execution_count": 57,
     "metadata": {},
     "output_type": "execute_result"
    }
   ],
   "source": [
    "df_new[df_new.lor.str.len() == max(letter_length_array)].lor.values"
   ]
  },
  {
   "cell_type": "code",
   "execution_count": 65,
   "metadata": {},
   "outputs": [
    {
     "data": {
      "text/plain": [
       "array([' '], dtype=object)"
      ]
     },
     "execution_count": 65,
     "metadata": {},
     "output_type": "execute_result"
    }
   ],
   "source": [
    "df_new[df_new.lor.str.len() == min(letter_length_array)].lor.values"
   ]
  },
  {
   "cell_type": "code",
   "execution_count": 64,
   "metadata": {},
   "outputs": [
    {
     "data": {
      "text/plain": [
       "1"
      ]
     },
     "execution_count": 64,
     "metadata": {},
     "output_type": "execute_result"
    }
   ],
   "source": [
    "min(letter_length_array)"
   ]
  },
  {
   "attachments": {},
   "cell_type": "markdown",
   "metadata": {},
   "source": [
    "## end of the outlier analysis"
   ]
  },
  {
   "cell_type": "code",
   "execution_count": 78,
   "metadata": {},
   "outputs": [],
   "source": [
    "df_new_sentence = get_df_sentence(df_new, \"lor\")"
   ]
  },
  {
   "cell_type": "code",
   "execution_count": 79,
   "metadata": {},
   "outputs": [
    {
     "data": {
      "text/html": [
       "<div>\n",
       "<style scoped>\n",
       "    .dataframe tbody tr th:only-of-type {\n",
       "        vertical-align: middle;\n",
       "    }\n",
       "\n",
       "    .dataframe tbody tr th {\n",
       "        vertical-align: top;\n",
       "    }\n",
       "\n",
       "    .dataframe thead th {\n",
       "        text-align: right;\n",
       "    }\n",
       "</style>\n",
       "<table border=\"1\" class=\"dataframe\">\n",
       "  <thead>\n",
       "    <tr style=\"text-align: right;\">\n",
       "      <th></th>\n",
       "      <th>sentence_split</th>\n",
       "      <th>lor_id</th>\n",
       "    </tr>\n",
       "  </thead>\n",
       "  <tbody>\n",
       "    <tr>\n",
       "      <th>0</th>\n",
       "      <td>dear dr. dachman, i am writing this letter to enthusiastically support dr. caline azzi for a fellowship position in your department</td>\n",
       "      <td>0</td>\n",
       "    </tr>\n",
       "    <tr>\n",
       "      <th>1</th>\n",
       "      <td>dr. azzi is currently a 3rd-year radiology resident pgy-4 at the american university of beirut medical center</td>\n",
       "      <td>0</td>\n",
       "    </tr>\n",
       "    <tr>\n",
       "      <th>2</th>\n",
       "      <td>the radiology residency program at aub is accredited by the acgme- international</td>\n",
       "      <td>0</td>\n",
       "    </tr>\n",
       "    <tr>\n",
       "      <th>3</th>\n",
       "      <td>in addition, residents are eligible to sit for the fellowship of the royal college of radiology frcr</td>\n",
       "      <td>0</td>\n",
       "    </tr>\n",
       "    <tr>\n",
       "      <th>4</th>\n",
       "      <td>i have known dr. azzi since february 2018</td>\n",
       "      <td>0</td>\n",
       "    </tr>\n",
       "    <tr>\n",
       "      <th>...</th>\n",
       "      <td>...</td>\n",
       "      <td>...</td>\n",
       "    </tr>\n",
       "    <tr>\n",
       "      <th>19046</th>\n",
       "      <td>robert has been well trained and is competent in all bread and butter radiology procedures including ct and ultrasound guided biopsies, abscess drainages, picc placement, arthrograms, and myelograms</td>\n",
       "      <td>1342</td>\n",
       "    </tr>\n",
       "    <tr>\n",
       "      <th>19047</th>\n",
       "      <td>our residents receive excellent training in mammography and breast imaging and robert is quite skilled at stereotactic and ultrasound guided breast biopsies</td>\n",
       "      <td>1342</td>\n",
       "    </tr>\n",
       "    <tr>\n",
       "      <th>19048</th>\n",
       "      <td>his patient care skills are excellent, the patients love him</td>\n",
       "      <td>1342</td>\n",
       "    </tr>\n",
       "    <tr>\n",
       "      <th>19049</th>\n",
       "      <td>in summary, robert niedermeyer is an excellent radiology resident and i heartily endorse him for any position to which he is applying</td>\n",
       "      <td>1342</td>\n",
       "    </tr>\n",
       "    <tr>\n",
       "      <th>19050</th>\n",
       "      <td>please call me with any inquiries,</td>\n",
       "      <td>1342</td>\n",
       "    </tr>\n",
       "  </tbody>\n",
       "</table>\n",
       "<p>19051 rows × 2 columns</p>\n",
       "</div>"
      ],
      "text/plain": [
       "                                                                                                                                                                                               sentence_split  \\\n",
       "0                                                                         dear dr. dachman, i am writing this letter to enthusiastically support dr. caline azzi for a fellowship position in your department   \n",
       "1                                                                                               dr. azzi is currently a 3rd-year radiology resident pgy-4 at the american university of beirut medical center   \n",
       "2                                                                                                                            the radiology residency program at aub is accredited by the acgme- international   \n",
       "3                                                                                                        in addition, residents are eligible to sit for the fellowship of the royal college of radiology frcr   \n",
       "4                                                                                                                                                                   i have known dr. azzi since february 2018   \n",
       "...                                                                                                                                                                                                       ...   \n",
       "19046  robert has been well trained and is competent in all bread and butter radiology procedures including ct and ultrasound guided biopsies, abscess drainages, picc placement, arthrograms, and myelograms   \n",
       "19047                                            our residents receive excellent training in mammography and breast imaging and robert is quite skilled at stereotactic and ultrasound guided breast biopsies   \n",
       "19048                                                                                                                                            his patient care skills are excellent, the patients love him   \n",
       "19049                                                                   in summary, robert niedermeyer is an excellent radiology resident and i heartily endorse him for any position to which he is applying   \n",
       "19050                                                                                                                                                                      please call me with any inquiries,   \n",
       "\n",
       "       lor_id  \n",
       "0           0  \n",
       "1           0  \n",
       "2           0  \n",
       "3           0  \n",
       "4           0  \n",
       "...       ...  \n",
       "19046    1342  \n",
       "19047    1342  \n",
       "19048    1342  \n",
       "19049    1342  \n",
       "19050    1342  \n",
       "\n",
       "[19051 rows x 2 columns]"
      ]
     },
     "execution_count": 79,
     "metadata": {},
     "output_type": "execute_result"
    }
   ],
   "source": [
    "df_new_sentence"
   ]
  },
  {
   "cell_type": "code",
   "execution_count": null,
   "metadata": {},
   "outputs": [],
   "source": []
  },
  {
   "cell_type": "markdown",
   "metadata": {},
   "source": [
    "# writer gender anaylsis"
   ]
  },
  {
   "cell_type": "code",
   "execution_count": null,
   "metadata": {},
   "outputs": [],
   "source": [
    "df_sentence =  get_df_sentence(df_new, \"lor\")"
   ]
  },
  {
   "cell_type": "code",
   "execution_count": null,
   "metadata": {},
   "outputs": [
    {
     "data": {
      "text/plain": [
       "18.37934362934363"
      ]
     },
     "metadata": {},
     "output_type": "display_data"
    }
   ],
   "source": [
    "df_sentence.shape[0]/df_new.shape[0]"
   ]
  },
  {
   "cell_type": "code",
   "execution_count": null,
   "metadata": {},
   "outputs": [],
   "source": [
    "df_new_lor_male = df_new.loc[df_new.lor_gender == \"male\"]\n",
    "df_new_lor_female = df_new.loc[df_new.lor_gender == \"female\"]"
   ]
  },
  {
   "cell_type": "code",
   "execution_count": null,
   "metadata": {},
   "outputs": [
    {
     "name": "stderr",
     "output_type": "stream",
     "text": [
      "c:\\ProgramData\\Anaconda3\\envs\\k12\\lib\\site-packages\\ipykernel_launcher.py:30: SettingWithCopyWarning: \n",
      "A value is trying to be set on a copy of a slice from a DataFrame.\n",
      "Try using .loc[row_indexer,col_indexer] = value instead\n",
      "\n",
      "See the caveats in the documentation: https://pandas.pydata.org/pandas-docs/stable/user_guide/indexing.html#returning-a-view-versus-a-copy\n",
      "c:\\ProgramData\\Anaconda3\\envs\\k12\\lib\\site-packages\\ipykernel_launcher.py:31: SettingWithCopyWarning: \n",
      "A value is trying to be set on a copy of a slice from a DataFrame.\n",
      "Try using .loc[row_indexer,col_indexer] = value instead\n",
      "\n",
      "See the caveats in the documentation: https://pandas.pydata.org/pandas-docs/stable/user_guide/indexing.html#returning-a-view-versus-a-copy\n"
     ]
    }
   ],
   "source": [
    "df_new_lor_male_sentence = get_df_sentence(df_new_lor_male, \"lor\")\n",
    "df_new_lor_female_sentence = get_df_sentence(df_new_lor_female, \"lor\")"
   ]
  },
  {
   "cell_type": "code",
   "execution_count": null,
   "metadata": {},
   "outputs": [
    {
     "name": "stdout",
     "output_type": "stream",
     "text": [
      "male_writer_sentence_ratio 18.181598062953995\n"
     ]
    }
   ],
   "source": [
    "lor_male_sentence_ratio = df_new_lor_male_sentence.shape[0]/df_new_lor_male.shape[0]\n",
    "print(\"male_writer_sentence_ratio\", lor_male_sentence_ratio)\n",
    "#%%"
   ]
  },
  {
   "cell_type": "code",
   "execution_count": null,
   "metadata": {},
   "outputs": [
    {
     "name": "stdout",
     "output_type": "stream",
     "text": [
      "female_writer_sentence_ratio 19.32323232323232\n"
     ]
    }
   ],
   "source": [
    "lor_female_sentence_ratio = df_new_lor_female_sentence.shape[0]/df_new_lor_female.shape[0]\n",
    "print(\"female_writer_sentence_ratio\", lor_female_sentence_ratio)"
   ]
  },
  {
   "cell_type": "code",
   "execution_count": null,
   "metadata": {},
   "outputs": [],
   "source": [
    "lor_male_report_size = df_new_lor_male_sentence.groupby(\"lor_id\").size()\n",
    "lor_female_report_size = df_new_lor_female_sentence.groupby(\"lor_id\").size()\n"
   ]
  },
  {
   "cell_type": "code",
   "execution_count": null,
   "metadata": {},
   "outputs": [
    {
     "data": {
      "text/plain": [
       "19.32323232323232"
      ]
     },
     "metadata": {},
     "output_type": "display_data"
    }
   ],
   "source": [
    "lor_female_report_size.mean()"
   ]
  },
  {
   "cell_type": "code",
   "execution_count": null,
   "metadata": {},
   "outputs": [
    {
     "data": {
      "text/plain": [
       "18.181598062953995"
      ]
     },
     "metadata": {},
     "output_type": "display_data"
    }
   ],
   "source": [
    "lor_male_report_size.mean()"
   ]
  },
  {
   "cell_type": "code",
   "execution_count": null,
   "metadata": {},
   "outputs": [
    {
     "name": "stdout",
     "output_type": "stream",
     "text": [
      "mf Ttest_indResult(statistic=-2.1985143263709426, pvalue=0.02813601689610822)\n"
     ]
    }
   ],
   "source": [
    "print(\"mf\",ttest_ind(lor_male_report_size,lor_female_report_size))\n"
   ]
  },
  {
   "attachments": {},
   "cell_type": "markdown",
   "metadata": {},
   "source": [
    "### Word average"
   ]
  },
  {
   "cell_type": "code",
   "execution_count": 101,
   "metadata": {},
   "outputs": [
    {
     "name": "stdout",
     "output_type": "stream",
     "text": [
      "male_writer_average_word_count_per_letter 338.953995157385\n"
     ]
    }
   ],
   "source": [
    "df_new_lor_male_sentence[\"word\"] = df_new_lor_male_sentence.sentence_split.apply(word_tokenize)\n",
    "male_writer_word_count = df_new_lor_male_sentence.word.str.len().sum()\n",
    "male_writer_average_word_count_per_letter = male_writer_word_count/df_new_lor_male.shape[0]\n",
    "print(\"male_writer_average_word_count_per_letter\",male_writer_average_word_count_per_letter)"
   ]
  },
  {
   "cell_type": "code",
   "execution_count": 102,
   "metadata": {},
   "outputs": [
    {
     "name": "stdout",
     "output_type": "stream",
     "text": [
      "female_writer_average_word_count_per_letter 368.8939393939394\n"
     ]
    }
   ],
   "source": [
    "df_new_lor_female_sentence[\"word\"] = df_new_lor_female_sentence.sentence_split.apply(word_tokenize)\n",
    "female_writer_word_count = df_new_lor_female_sentence.word.str.len().sum()\n",
    "female_writer_average_word_count_per_letter = female_writer_word_count/df_new_lor_female.shape[0]\n",
    "print(\"female_writer_average_word_count_per_letter\",female_writer_average_word_count_per_letter)"
   ]
  },
  {
   "cell_type": "code",
   "execution_count": 115,
   "metadata": {},
   "outputs": [
    {
     "name": "stdout",
     "output_type": "stream",
     "text": [
      "writer_average_word_count_per_letter 344.52702702702703\n"
     ]
    }
   ],
   "source": [
    "df_sentence[\"word\"] = df_sentence.sentence_split.apply(word_tokenize)\n",
    "writer_word_count = df_sentence.word.str.len().sum()\n",
    "writer_average_word_count_per_letter = writer_word_count/df_new.shape[0]\n",
    "print(\"writer_average_word_count_per_letter\",writer_average_word_count_per_letter)"
   ]
  },
  {
   "cell_type": "code",
   "execution_count": 112,
   "metadata": {},
   "outputs": [],
   "source": [
    "writer_female_word_counts = df_new_lor_female_sentence.explode(\"word\").groupby(\"lor_id\").count().word.values"
   ]
  },
  {
   "cell_type": "code",
   "execution_count": 113,
   "metadata": {},
   "outputs": [],
   "source": [
    "writer_male_word_counts = df_new_lor_male_sentence.explode(\"word\").groupby(\"lor_id\").count().word.values"
   ]
  },
  {
   "cell_type": "code",
   "execution_count": 114,
   "metadata": {},
   "outputs": [
    {
     "name": "stdout",
     "output_type": "stream",
     "text": [
      "mf Ttest_indResult(statistic=-2.6988427434025857, pvalue=0.007072862347735987)\n"
     ]
    }
   ],
   "source": [
    "print(\"mf\",ttest_ind(writer_male_word_counts,writer_female_word_counts))"
   ]
  },
  {
   "attachments": {},
   "cell_type": "markdown",
   "metadata": {},
   "source": [
    "## end of writer gender anaylsis"
   ]
  },
  {
   "cell_type": "code",
   "execution_count": 62,
   "metadata": {},
   "outputs": [],
   "source": [
    "df_new[\"standard_position\"] = \"\"\n",
    "df_new.lor_position = df_new.lor_position.fillna(\"\")\n",
    "df_new.loc[df_new.lor_position.str.contains(r\"asso[\\w\\.]*\\s*prof[\\w\\.]*\",case=False),\"standard_position\"] = \"associate professor\"\n",
    "df_new.loc[df_new.lor_position.str.contains(r\"assi[\\w\\.]*\\s*prof[\\w\\.]*\",case=False),\"standard_position\"] = \"assistant professor\"\n",
    "df_new.loc[ ~df_new.lor_position.str.contains(r\"as[\\w\\.]*\\s*prof[\\w\\.]*|assistant\\s*clinical\\s*prof[\\w\\.]|associate\\s*clinical\\s*prof[\\w\\.]*\",case=False) & df_new.lor_position.str.contains(\"prof[\\w\\.]*\",case=False),\"standard_position\"] = \"professor\"\n",
    "df_new.loc[(df_new[\"standard_position\"] != \"associate professor\") &\n",
    "           (df_new[\"standard_position\"] != \"assistant professor\") & \n",
    "           (df_new[\"standard_position\"] != \"professor\"),\"standard_position\"] = \"others\"\n",
    "df_new.loc[(df_new[\"standard_position\"] == \"others\") & (df_new.lor_position.str.contains(r\"director|chair|dean\",case=False)),\"standard_position\"] = \"manager\""
   ]
  },
  {
   "cell_type": "code",
   "execution_count": 45,
   "metadata": {},
   "outputs": [
    {
     "data": {
      "text/plain": [
       "manager                240\n",
       "assistant professor    234\n",
       "others                 195\n",
       "professor              193\n",
       "associate professor    174\n",
       "Name: standard_position, dtype: int64"
      ]
     },
     "execution_count": 45,
     "metadata": {},
     "output_type": "execute_result"
    }
   ],
   "source": [
    "df_new.standard_position.value_counts()\n"
   ]
  },
  {
   "cell_type": "code",
   "execution_count": 52,
   "metadata": {},
   "outputs": [
    {
     "data": {
      "text/plain": [
       "male      139\n",
       "female     34\n",
       "NaN         1\n",
       "Name: lor_gender, dtype: int64"
      ]
     },
     "execution_count": 52,
     "metadata": {},
     "output_type": "execute_result"
    }
   ],
   "source": [
    "df_asso = df_new.loc[(df_new.standard_position==\"associate professor\")]\n",
    "df_asso.lor_gender.value_counts(dropna=False)"
   ]
  },
  {
   "cell_type": "code",
   "execution_count": 53,
   "metadata": {},
   "outputs": [
    {
     "data": {
      "text/plain": [
       "male      172\n",
       "female     58\n",
       "NaN         3\n",
       "?           1\n",
       "Name: lor_gender, dtype: int64"
      ]
     },
     "execution_count": 53,
     "metadata": {},
     "output_type": "execute_result"
    }
   ],
   "source": [
    "df_ass = df_new.loc[(df_new.standard_position==\"assistant professor\")]\n",
    "df_ass.lor_gender.value_counts(dropna=False)"
   ]
  },
  {
   "cell_type": "code",
   "execution_count": 54,
   "metadata": {},
   "outputs": [
    {
     "data": {
      "text/plain": [
       "male      156\n",
       "female     35\n",
       "NaN         1\n",
       "?           1\n",
       "Name: lor_gender, dtype: int64"
      ]
     },
     "execution_count": 54,
     "metadata": {},
     "output_type": "execute_result"
    }
   ],
   "source": [
    "df_prof = df_new.loc[(df_new.standard_position==\"professor\")]\n",
    "df_prof.lor_gender.value_counts(dropna=False)"
   ]
  },
  {
   "cell_type": "code",
   "execution_count": 55,
   "metadata": {},
   "outputs": [
    {
     "data": {
      "text/plain": [
       "male      196\n",
       "female     40\n",
       "NaN         3\n",
       "?           1\n",
       "Name: lor_gender, dtype: int64"
      ]
     },
     "execution_count": 55,
     "metadata": {},
     "output_type": "execute_result"
    }
   ],
   "source": [
    "df_manager = df_new.loc[(df_new.standard_position==\"manager\")]\n",
    "df_manager.lor_gender.value_counts(dropna=False)"
   ]
  },
  {
   "cell_type": "code",
   "execution_count": 56,
   "metadata": {},
   "outputs": [
    {
     "data": {
      "text/plain": [
       "(1027,)"
      ]
     },
     "execution_count": 56,
     "metadata": {},
     "output_type": "execute_result"
    }
   ],
   "source": [
    "df_new.lor_gender.dropna().shape"
   ]
  },
  {
   "cell_type": "code",
   "execution_count": 37,
   "metadata": {},
   "outputs": [
    {
     "data": {
      "text/plain": [
       "0          0\n",
       "1          1\n",
       "2          2\n",
       "3          3\n",
       "4          4\n",
       "        ... \n",
       "1337    1337\n",
       "1338    1338\n",
       "1340    1340\n",
       "1341    1341\n",
       "1342    1342\n",
       "Name: lor_id, Length: 1036, dtype: int64"
      ]
     },
     "execution_count": 37,
     "metadata": {},
     "output_type": "execute_result"
    }
   ],
   "source": [
    "df_new.lor_id"
   ]
  },
  {
   "cell_type": "code",
   "execution_count": 57,
   "metadata": {},
   "outputs": [
    {
     "data": {
      "text/plain": [
       "male      163\n",
       "female     31\n",
       "NaN         1\n",
       "Name: lor_gender, dtype: int64"
      ]
     },
     "execution_count": 57,
     "metadata": {},
     "output_type": "execute_result"
    }
   ],
   "source": [
    "df_other = df_new.loc[(df_new.standard_position==\"others\")]\n",
    "df_other.lor_gender.value_counts(dropna=False)"
   ]
  },
  {
   "cell_type": "code",
   "execution_count": 58,
   "metadata": {},
   "outputs": [
    {
     "data": {
      "text/plain": [
       "male      133\n",
       "female     39\n",
       "NaN         2\n",
       "Name: gender, dtype: int64"
      ]
     },
     "execution_count": 58,
     "metadata": {},
     "output_type": "execute_result"
    }
   ],
   "source": [
    "df_asso.gender.value_counts(dropna=False)"
   ]
  },
  {
   "cell_type": "code",
   "execution_count": null,
   "metadata": {},
   "outputs": [],
   "source": [
    "df"
   ]
  },
  {
   "cell_type": "code",
   "execution_count": 59,
   "metadata": {},
   "outputs": [
    {
     "data": {
      "text/plain": [
       "1033"
      ]
     },
     "execution_count": 59,
     "metadata": {},
     "output_type": "execute_result"
    }
   ],
   "source": [
    "(df_new.lor_gender==\"female\").sum() + df_new.lor_gender.isna().sum() + (df_new.lor_gender==\"male\").sum()"
   ]
  },
  {
   "cell_type": "code",
   "execution_count": 29,
   "metadata": {},
   "outputs": [
    {
     "data": {
      "text/plain": [
       "9"
      ]
     },
     "execution_count": 29,
     "metadata": {},
     "output_type": "execute_result"
    }
   ],
   "source": [
    "df_new.lor_gender.isna().sum()"
   ]
  },
  {
   "cell_type": "code",
   "execution_count": 47,
   "metadata": {},
   "outputs": [
    {
     "data": {
      "text/html": [
       "<div>\n",
       "<style scoped>\n",
       "    .dataframe tbody tr th:only-of-type {\n",
       "        vertical-align: middle;\n",
       "    }\n",
       "\n",
       "    .dataframe tbody tr th {\n",
       "        vertical-align: top;\n",
       "    }\n",
       "\n",
       "    .dataframe thead th {\n",
       "        text-align: right;\n",
       "    }\n",
       "</style>\n",
       "<table border=\"1\" class=\"dataframe\">\n",
       "  <thead>\n",
       "    <tr style=\"text-align: right;\">\n",
       "      <th></th>\n",
       "      <th>applicant_id</th>\n",
       "      <th>application_year</th>\n",
       "      <th>birth_year</th>\n",
       "      <th>citizenship</th>\n",
       "      <th>foreign</th>\n",
       "      <th>medical_school</th>\n",
       "      <th>residency_school</th>\n",
       "      <th>md_year</th>\n",
       "      <th>residency_year</th>\n",
       "      <th>step1</th>\n",
       "      <th>step2</th>\n",
       "      <th>step3</th>\n",
       "      <th>step_old</th>\n",
       "      <th>IMG</th>\n",
       "      <th>class_rank</th>\n",
       "      <th>honors</th>\n",
       "      <th>received_offer</th>\n",
       "      <th>language_skills</th>\n",
       "      <th>interests</th>\n",
       "      <th>number_of_publications</th>\n",
       "      <th>speciality</th>\n",
       "      <th>gender</th>\n",
       "      <th>lor</th>\n",
       "      <th>lor_position</th>\n",
       "      <th>lor_university</th>\n",
       "      <th>lor_gender</th>\n",
       "      <th>lor_number</th>\n",
       "      <th>lor_id</th>\n",
       "      <th>standard_position</th>\n",
       "    </tr>\n",
       "  </thead>\n",
       "  <tbody>\n",
       "    <tr>\n",
       "      <th>76</th>\n",
       "      <td>19</td>\n",
       "      <td>2018.0</td>\n",
       "      <td>1986</td>\n",
       "      <td>0</td>\n",
       "      <td>1</td>\n",
       "      <td>bachelar of medicine ond bachelor of surgery kasturba medical college</td>\n",
       "      <td>Mercy Catholic Medical Center</td>\n",
       "      <td>2010.0</td>\n",
       "      <td>2014-current</td>\n",
       "      <td>192</td>\n",
       "      <td>223</td>\n",
       "      <td>201</td>\n",
       "      <td>0</td>\n",
       "      <td>0.0</td>\n",
       "      <td>NaN</td>\n",
       "      <td>NaN</td>\n",
       "      <td>NaN</td>\n",
       "      <td>English,hindi,sanskrit,kannada</td>\n",
       "      <td>Hockey, Soccer, Cricket, Table tennis.</td>\n",
       "      <td>NaN</td>\n",
       "      <td>NaN</td>\n",
       "      <td>NaN</td>\n",
       "      <td>Dear Dr. Dachman, I am writing this letter in enthusiastic support of Vivek Halappa for an abdominal imaging fellowship position with your department. As one of Vivek's attendings at Mercy Catholic Medical Center MCMC, I feel qualified to comment on his skills and talents as a radiology resident. As the assistant program director for the radiology residency, I can also provide you with information regarding his leadership and interpersonal skills. Before joining our program, Vivek was a postdoctoral research fellow at Johns Hopkins where he authored numerous papers and won several awards. He came highly recommended and Vivek quickly distinguished himself as one of our most compassionate and hard working residents. in addition to being the best resident in his class, l would rank him in the top ten percent of residents I have interacted with during my own training at the Mallinckrodt Institute of Radiology and the University of Pennsylvania. Objective evidence of Vivek's talents can be found in his recent ACR in training scores which rank in the 80-90 percentile of all radiology residents at his PGY level. Attending radiologists in our department look forward to Vivek being on their service because he has great enthusiasm and functions at a high !eve!. His reports are concise yet thorough and require little editing. one of Vivek's strongest attributes is his ability to discuss cases with referring clinical teams in a manner that makes the imaging findings understandable to everyone on the team, from the attending physician to the medical student. On night float, he effıciently reviews and dictates cases at the !eve! ofa fellow/junior attending. in addition to his clinical work, Vivek has continued producing multiple book chapters, articles and presentations. He has expressed an interest in academic radiology particularly oncologic imaging and his work ethic, intellectual curiosity, and dedication to the fıeld of radiology will be the foundations for a bright fut...</td>\n",
       "      <td>Associate Program Director,Assistant Professor</td>\n",
       "      <td>Mercy Catholic Medical Center,Drexel University College of Medicine</td>\n",
       "      <td>male</td>\n",
       "      <td>lor1</td>\n",
       "      <td>76</td>\n",
       "      <td>assistant professor</td>\n",
       "    </tr>\n",
       "    <tr>\n",
       "      <th>77</th>\n",
       "      <td>19</td>\n",
       "      <td>2018.0</td>\n",
       "      <td>1986</td>\n",
       "      <td>0</td>\n",
       "      <td>1</td>\n",
       "      <td>bachelar of medicine ond bachelor of surgery kasturba medical college</td>\n",
       "      <td>Mercy Catholic Medical Center</td>\n",
       "      <td>2010.0</td>\n",
       "      <td>2014-current</td>\n",
       "      <td>192</td>\n",
       "      <td>223</td>\n",
       "      <td>201</td>\n",
       "      <td>0</td>\n",
       "      <td>0.0</td>\n",
       "      <td>NaN</td>\n",
       "      <td>NaN</td>\n",
       "      <td>NaN</td>\n",
       "      <td>English,hindi,sanskrit,kannada</td>\n",
       "      <td>Hockey, Soccer, Cricket, Table tennis.</td>\n",
       "      <td>NaN</td>\n",
       "      <td>NaN</td>\n",
       "      <td>NaN</td>\n",
       "      <td>Dear Dr. Dachman, it is a pleasure to write a recommendation for Dr. Vivek Halappa for an abdominal imaging fellowship position in your institution. Dr. Halappa is embarking on his third year of radiology residency at Mercy Catholic Medical Center. He also spent his internship in the medicine department here. 1 have known him and worked with him for the last three years in my capacity as section head of interventional radiology. Vivek is a competent and conscientious young physician who brings a strong clinical background to our program. He is well read and applies his knowledge with a practical and common sense approach. As such he is an easy apprentice to teach. I have had the opportunity to teach and observe Vivek during routine conferences as well as three interventional radiology rotations, thus far. Vivek approaches every task and responsibility with an indomitable spirit. His zeal for interventional radiology was clear as he melded youthful enthusiasm with purposeful industry. When on service, residents are encouraged to triage and direct work flow under the supervision of the attending interventional radiologist. During his first rotation, Vivek quickly shed any apprehension and assumed his role with diligence. in his daily work, he always researched cases, thus maximizing his educational benefit as well as his contribution to the service. Vivek has worked indefatigably to train his hands and surgical technique with progressive success over the last three years. He was initially unaccustomed to procedure based practice but embraced it wholeheartedly. He has advanced steadily to become adept at training level appropriate procedures and even beyond. He is able to integrate information well in analyzing each complex interventional case, demonstrating proficiency in general medicine and other areas of radiology. immersed in a busy interventional section, he quickly became a responsible and dependable team player, contributing to the smooth running of the ser...</td>\n",
       "      <td>Section Head of lnterventional Radiology,Assistant Professor</td>\n",
       "      <td>Mercy Catholic Medical Center,Drexel University College of Medicine</td>\n",
       "      <td>female</td>\n",
       "      <td>lor2</td>\n",
       "      <td>77</td>\n",
       "      <td>assistant professor</td>\n",
       "    </tr>\n",
       "    <tr>\n",
       "      <th>78</th>\n",
       "      <td>19</td>\n",
       "      <td>2018.0</td>\n",
       "      <td>1986</td>\n",
       "      <td>0</td>\n",
       "      <td>1</td>\n",
       "      <td>bachelar of medicine ond bachelor of surgery kasturba medical college</td>\n",
       "      <td>Mercy Catholic Medical Center</td>\n",
       "      <td>2010.0</td>\n",
       "      <td>2014-current</td>\n",
       "      <td>192</td>\n",
       "      <td>223</td>\n",
       "      <td>201</td>\n",
       "      <td>0</td>\n",
       "      <td>0.0</td>\n",
       "      <td>NaN</td>\n",
       "      <td>NaN</td>\n",
       "      <td>NaN</td>\n",
       "      <td>English,hindi,sanskrit,kannada</td>\n",
       "      <td>Hockey, Soccer, Cricket, Table tennis.</td>\n",
       "      <td>NaN</td>\n",
       "      <td>NaN</td>\n",
       "      <td>NaN</td>\n",
       "      <td>Dear Dr. Dachman, It is with great pleasure that I write this letter in support of Dr. Vivek Gowdra Halappa in his pursuit for placement in the Abdominal Imaging Fellowship at your institution. As a member of the radiology faculty at Mercy Catholic Medical Center and having pursued a Body Imaging fellowship myself at the Hospital of the University of Pennsylvania from 2009-2010, I feel qualified to evaluate Dr. Halappa's skills as a radiologist and his potential as an abdominal imaging fellow. Having started as an attending at Mercy in 201O, I have seen a wide variety of residents complete our radiology residency. I can say with ali honesty and sincerity that Dr. Halappa is one of the best that I have seen thus far. He is intelligent, extremely hard working, and responsible. He possesses an intellectual curiosity that is essential in order to excel in the field of radiology. A few of my first memories of Dr. Halappa occurred while working together during a few weekend calls early in his residency. Normally when on call with a first year resident or early second year resident, expectations are not set very high in terms of the number of cases reviewed and dictated by the resident. The goal of this early exposure to weekend call is to become familiar with the workflow, help answer phones, field consults, answer questions of the technologists, and finally review as many cases as possible. Dr. Halappa made it a point to go above and beyond these expectations, oftentimes reviewing ALL of the body CT's and ultrasounds performed during the day. He truly takes advantage of the one-on-one time with his attendings trying to learn as much as possible and see as many cases as possible. He has a true passion for the field of radiology and it shows on a daily basis. Dr. Halappa's journey to the field of radiology has taken him from lndia to the USA. it became evident to him during medical school that radiology was the field in medicine that most interested him. in order to be...</td>\n",
       "      <td>Section Head,Assistant Professor</td>\n",
       "      <td>Mercy Catholic Medical Center,Drexel University College of Medicine</td>\n",
       "      <td>male</td>\n",
       "      <td>lor3</td>\n",
       "      <td>78</td>\n",
       "      <td>assistant professor</td>\n",
       "    </tr>\n",
       "    <tr>\n",
       "      <th>79</th>\n",
       "      <td>19</td>\n",
       "      <td>2018.0</td>\n",
       "      <td>1986</td>\n",
       "      <td>0</td>\n",
       "      <td>1</td>\n",
       "      <td>bachelar of medicine ond bachelor of surgery kasturba medical college</td>\n",
       "      <td>Mercy Catholic Medical Center</td>\n",
       "      <td>2010.0</td>\n",
       "      <td>2014-current</td>\n",
       "      <td>192</td>\n",
       "      <td>223</td>\n",
       "      <td>201</td>\n",
       "      <td>0</td>\n",
       "      <td>0.0</td>\n",
       "      <td>NaN</td>\n",
       "      <td>NaN</td>\n",
       "      <td>NaN</td>\n",
       "      <td>English,hindi,sanskrit,kannada</td>\n",
       "      <td>Hockey, Soccer, Cricket, Table tennis.</td>\n",
       "      <td>NaN</td>\n",
       "      <td>NaN</td>\n",
       "      <td>NaN</td>\n",
       "      <td>Dear Dr. Dachman, it is a great pleasure to write this recommendation letter on behalf of Vivek Gowdra Halappa, who is applying for an abdominal imaging fellowship at your institution. Vivek is a superstar. He is one the best radiology residents ı have ever seen both at Mercy and during my prior faculty appointment at Hopkins. I recruited Vivek to my residency based on the strength of recommendations from his research mentors at Hopkins who I have known for many years. Vivek has substantially exceeded my expectations. Prior to coming to Mercy, Vivek has had an exceptional career. He completed medical school at Kasturba Medical College in lndia, which is one of the most prestigious in lndia. He went on to become an extremely successful postdoctoral research fellow at Hopkins, working closely with lhab Khamel. During 3 years at Hopkins, Vivek had 15 journal publications and wrote multiple book chapters that resulted in multiple conference presentations and awards. Most of his papers have been published in the leading journals including Radiology and AJR. Vivek has made a very successful transition to clinical medicine and radiology as my resident at Mercy. He is a very hard worker, very bright and eager to learn. He truly possesses an intellectual curiosity. Vivek is a pleasure to have on service. He is always enthusiastic about learning and that makes it fun to teach him. He is fast and accurate, fully running the clinical service he is on. He has performed exceedingly well during overnight independent call. Vivek is one of very few radiologists that have the magic eye and spot on judgment. He is able to fly through the clinical volume, without mistakes, while making exceptional diagnostic pick­ ups. I remember a recent case of Vivek diagnosing an epiploic appendagitis of the appendix when he was working with me on CT! I have personally seen many other similar remarkable calls. Ona personal note, when making faculty and resident schedule, 1 am always tempted to a...</td>\n",
       "      <td>director,assistant professor</td>\n",
       "      <td>Mercy Catholic Medical Center,Drexel University College of Medicine</td>\n",
       "      <td>male</td>\n",
       "      <td>lor4</td>\n",
       "      <td>79</td>\n",
       "      <td>assistant professor</td>\n",
       "    </tr>\n",
       "    <tr>\n",
       "      <th>460</th>\n",
       "      <td>115</td>\n",
       "      <td>NaN</td>\n",
       "      <td>1992</td>\n",
       "      <td>1</td>\n",
       "      <td>1</td>\n",
       "      <td>imperial college london faculty of medicine</td>\n",
       "      <td>University of Oklahoma Health Sciences</td>\n",
       "      <td>2016.0</td>\n",
       "      <td>2022</td>\n",
       "      <td>251</td>\n",
       "      <td>252</td>\n",
       "      <td>243</td>\n",
       "      <td>0</td>\n",
       "      <td>0.0</td>\n",
       "      <td>137 of 383</td>\n",
       "      <td>\\nDistinction in Clinical Science and Clinical Practice Year 6. Distinction in Clinical Pharmacy and Therapeutics Year 6. Distinction in Year 5 Pathology Exam.\\nDistinction (Star) in Psychiatry.\\nMerit in General Practice.\\nMerit in Year 3 Written Paper.\\n</td>\n",
       "      <td>NaN</td>\n",
       "      <td>NaN</td>\n",
       "      <td>NaN</td>\n",
       "      <td>NaN</td>\n",
       "      <td>NaN</td>\n",
       "      <td>NaN</td>\n",
       "      <td>dear program director I am delighted to write this letter in support of Dr. Monica Dhillon's application for a Neuroradiology fellowship at your institution, I have known Dr. Dhillon since she began her Radiology Residency in 2018. She has demonstrated superior qualities throughout this time, .and I have seen her evolve into one of our best residents. Dr. Dhillon is a caring, empathic physician. She• has performed her duties in an exemplary fashion including the stressful conditions of high volume-on-call which often includes complex cases. Dr. Dhillon works very hard and is willing to go above and beyond to provide optimal patient care. for me one .of the most important qualities a physician can have beyond superior cognitive abilities which she has is tine ability to work well with others •n a collegial fashion.. She is respectful to all individuals whether they be physicians or ancillary staff. During her rotations in Neuroradiology I would often find Dr. Dhillon at the workstation before normal working hours reviewing cases on her own with a book or the computer open researching various disorders. She would consistently assimilate newly learned knowledge into her practice. One of my interests is neuroanatomy and I. spend a lot of time going through this with the residents during our interactions at the workstation_ Dr. Dhilton was one of a few residents who would consistently put ihto daily practice the principles of neuroanatomy I reviewed with her. I have had the pleasure of interactk1g with residents and fellows at many academic institutions and feel that Dr. Dhillon,has been a standout. I know she will be a highly competent successful radiologist and a delightful individual to work with. If I can be of further assistance; please feel free to contact me at {610 220-3131.sincerely</td>\n",
       "      <td>Associate Professor</td>\n",
       "      <td>Oklahoma University Health Science center</td>\n",
       "      <td>male</td>\n",
       "      <td>lor1</td>\n",
       "      <td>460</td>\n",
       "      <td>associate professor</td>\n",
       "    </tr>\n",
       "    <tr>\n",
       "      <th>461</th>\n",
       "      <td>115</td>\n",
       "      <td>NaN</td>\n",
       "      <td>1992</td>\n",
       "      <td>1</td>\n",
       "      <td>1</td>\n",
       "      <td>imperial college london faculty of medicine</td>\n",
       "      <td>University of Oklahoma Health Sciences</td>\n",
       "      <td>2016.0</td>\n",
       "      <td>2022</td>\n",
       "      <td>251</td>\n",
       "      <td>252</td>\n",
       "      <td>243</td>\n",
       "      <td>0</td>\n",
       "      <td>0.0</td>\n",
       "      <td>137 of 383</td>\n",
       "      <td>\\nDistinction in Clinical Science and Clinical Practice Year 6. Distinction in Clinical Pharmacy and Therapeutics Year 6. Distinction in Year 5 Pathology Exam.\\nDistinction (Star) in Psychiatry.\\nMerit in General Practice.\\nMerit in Year 3 Written Paper.\\n</td>\n",
       "      <td>NaN</td>\n",
       "      <td>NaN</td>\n",
       "      <td>NaN</td>\n",
       "      <td>NaN</td>\n",
       "      <td>NaN</td>\n",
       "      <td>NaN</td>\n",
       "      <td>To whom it may concern, My name is Ben Cornwell and I am an Assistant Professor in the neuroradiology section at the University of Oklahoma. I have gotten to know Dr. Monica Dhillon very well as she has rotated through the section. She is a hard worker and has a strong interest in neuroradiology. I have worked on several projects with Monica during her time here at OU. Monica has been a great attribute to the department through her dedication to patient care and interest in teaching other residents and medical students. Monica has excelled in our busy night float rotation. She has proven to be efficient and accurate while working independently. She is dependable and shows up on time. I highly recommend her for a neuroradiology fellowship. Feel free to contact me if you have any questions. Sincerely,</td>\n",
       "      <td>section chief,DO</td>\n",
       "      <td>University of Oklahoma</td>\n",
       "      <td>male</td>\n",
       "      <td>lor2</td>\n",
       "      <td>461</td>\n",
       "      <td>others</td>\n",
       "    </tr>\n",
       "    <tr>\n",
       "      <th>462</th>\n",
       "      <td>115</td>\n",
       "      <td>NaN</td>\n",
       "      <td>1992</td>\n",
       "      <td>1</td>\n",
       "      <td>1</td>\n",
       "      <td>imperial college london faculty of medicine</td>\n",
       "      <td>University of Oklahoma Health Sciences</td>\n",
       "      <td>2016.0</td>\n",
       "      <td>2022</td>\n",
       "      <td>251</td>\n",
       "      <td>252</td>\n",
       "      <td>243</td>\n",
       "      <td>0</td>\n",
       "      <td>0.0</td>\n",
       "      <td>137 of 383</td>\n",
       "      <td>\\nDistinction in Clinical Science and Clinical Practice Year 6. Distinction in Clinical Pharmacy and Therapeutics Year 6. Distinction in Year 5 Pathology Exam.\\nDistinction (Star) in Psychiatry.\\nMerit in General Practice.\\nMerit in Year 3 Written Paper.\\n</td>\n",
       "      <td>NaN</td>\n",
       "      <td>NaN</td>\n",
       "      <td>NaN</td>\n",
       "      <td>NaN</td>\n",
       "      <td>NaN</td>\n",
       "      <td>NaN</td>\n",
       "      <td>Dear Fellowship Program: It is with distinct honor that I write this recommendation letter on behalf of Dr. Monica Dhillon in support of her Neuroradiology fellowship application to your program. During the past few years, it has been a great pleasure working with Monica and I’ve been able to watch her remarkably grow into a quality Radiologist. I can also attest to her character as a person. Since I’ve known Monica, she always has a very professional demeanor in her interactions with colleagues and among the hospital staff members. I had ample opportunity to supervise Monica and am confident in her abilities. Our cases can be extremely complex/challenging and Monica has shown the ability to handle these, which is quite impressive. I consider the call our residents take one of the toughest as they are responsible for handling Level 1 trauma, Neuro, Chest, Body, and Pediatric cases overnight by themselves. Monica never avoids an opportunity to undertake a complex case. Since I’ve known Monica at the beginning of her first year, she has always shown a genuine passion for Neuroradiology. She has continued this throughout her resident education being involved in various research projects/presentations. In her daily work, Monica shows the ability to generate well-thought out differential diagnoses. Monica always strives to produce a well-organized and accurate report. Currently, I serve as the medical student course director and Monica has been very helpful to me volunteering her time to help teach medical students. The teaching I was able to witness her provide to students/junior residents has made me highly confident in her abilities. I have always been impressed with her background, especially with her having learned and/or trained in numerous countries around the world. I can only imagine the challenges necessary to do this, yet she has done it and always with a pleasant demeanor. Recently, she has expressed to me her excitement about the prospect of continuing h...</td>\n",
       "      <td>Assistant Professor,Medical Student Course Director</td>\n",
       "      <td>University of Oklahoma</td>\n",
       "      <td>male</td>\n",
       "      <td>lor3</td>\n",
       "      <td>462</td>\n",
       "      <td>assistant professor</td>\n",
       "    </tr>\n",
       "    <tr>\n",
       "      <th>463</th>\n",
       "      <td>115</td>\n",
       "      <td>NaN</td>\n",
       "      <td>1992</td>\n",
       "      <td>1</td>\n",
       "      <td>1</td>\n",
       "      <td>imperial college london faculty of medicine</td>\n",
       "      <td>University of Oklahoma Health Sciences</td>\n",
       "      <td>2016.0</td>\n",
       "      <td>2022</td>\n",
       "      <td>251</td>\n",
       "      <td>252</td>\n",
       "      <td>243</td>\n",
       "      <td>0</td>\n",
       "      <td>0.0</td>\n",
       "      <td>137 of 383</td>\n",
       "      <td>\\nDistinction in Clinical Science and Clinical Practice Year 6. Distinction in Clinical Pharmacy and Therapeutics Year 6. Distinction in Year 5 Pathology Exam.\\nDistinction (Star) in Psychiatry.\\nMerit in General Practice.\\nMerit in Year 3 Written Paper.\\n</td>\n",
       "      <td>NaN</td>\n",
       "      <td>NaN</td>\n",
       "      <td>NaN</td>\n",
       "      <td>NaN</td>\n",
       "      <td>NaN</td>\n",
       "      <td>NaN</td>\n",
       "      <td>Dear Fellowship Director, November 6, 2020 This letter is in strong support of Dr. Monica Dhillon, who is applying for your fellowship in Neuroradiology starting in July of 2022. Dr. Dhillon joined our Radiology residency in July of 2018, and I have served as her program director and faculty over that time. Dr. Dhillon has been an outstanding resident during her time with us and has received excellent evaluations and comments from the departmental faculty. Monica is very knowledgeable and did an excellent job on our very difficult float rotation. The nights and days she covered we knew things would go well no matter how busy she was or how complicated the cases were. She has a superb work ethic and is hard working. Monica is a pleasure to work with, is dependable and very trustworthy. Monica is well respected and liked by both the faculty and her fellow residents. Also based on her actions and activities since arriving in the program, I believe she is one of the leading candidates in her class for Chief Resident when the residents make their selection later this year. Being from Canada, I believe she would love to return home for fellowship. I know that Dr. Dhillon will do a fantastic job during her fellowship and will make an outstanding Neuroradiologist in the future. I hope she will consider returning to Oklahoma after her fellowship and consider a position in our department. Monica is the kind of person I would like to have as a colleague and teaching our residents. Again, I strongly and fully recommend Dr. Dhillon for your Neuroradiology fellowship. Sincerely,</td>\n",
       "      <td>Residency Program Director ,Associate Professor,service chief</td>\n",
       "      <td>University of Oklahoma</td>\n",
       "      <td>male</td>\n",
       "      <td>lor4</td>\n",
       "      <td>463</td>\n",
       "      <td>associate professor</td>\n",
       "    </tr>\n",
       "  </tbody>\n",
       "</table>\n",
       "</div>"
      ],
      "text/plain": [
       "     applicant_id  application_year birth_year  citizenship  foreign  \\\n",
       "76             19            2018.0       1986            0        1   \n",
       "77             19            2018.0       1986            0        1   \n",
       "78             19            2018.0       1986            0        1   \n",
       "79             19            2018.0       1986            0        1   \n",
       "460           115               NaN       1992            1        1   \n",
       "461           115               NaN       1992            1        1   \n",
       "462           115               NaN       1992            1        1   \n",
       "463           115               NaN       1992            1        1   \n",
       "\n",
       "                                                            medical_school  \\\n",
       "76   bachelar of medicine ond bachelor of surgery kasturba medical college   \n",
       "77   bachelar of medicine ond bachelor of surgery kasturba medical college   \n",
       "78   bachelar of medicine ond bachelor of surgery kasturba medical college   \n",
       "79   bachelar of medicine ond bachelor of surgery kasturba medical college   \n",
       "460                            imperial college london faculty of medicine   \n",
       "461                            imperial college london faculty of medicine   \n",
       "462                            imperial college london faculty of medicine   \n",
       "463                            imperial college london faculty of medicine   \n",
       "\n",
       "                            residency_school  md_year residency_year step1  \\\n",
       "76             Mercy Catholic Medical Center   2010.0   2014-current   192   \n",
       "77             Mercy Catholic Medical Center   2010.0   2014-current   192   \n",
       "78             Mercy Catholic Medical Center   2010.0   2014-current   192   \n",
       "79             Mercy Catholic Medical Center   2010.0   2014-current   192   \n",
       "460  University of Oklahoma Health Sciences    2016.0           2022   251   \n",
       "461  University of Oklahoma Health Sciences    2016.0           2022   251   \n",
       "462  University of Oklahoma Health Sciences    2016.0           2022   251   \n",
       "463  University of Oklahoma Health Sciences    2016.0           2022   251   \n",
       "\n",
       "    step2 step3  step_old  IMG   class_rank  \\\n",
       "76    223   201         0  0.0          NaN   \n",
       "77    223   201         0  0.0          NaN   \n",
       "78    223   201         0  0.0          NaN   \n",
       "79    223   201         0  0.0          NaN   \n",
       "460   252   243         0  0.0  137 of 383    \n",
       "461   252   243         0  0.0  137 of 383    \n",
       "462   252   243         0  0.0  137 of 383    \n",
       "463   252   243         0  0.0  137 of 383    \n",
       "\n",
       "                                                                                                                                                                                                                                                               honors  \\\n",
       "76                                                                                                                                                                                                                                                                NaN   \n",
       "77                                                                                                                                                                                                                                                                NaN   \n",
       "78                                                                                                                                                                                                                                                                NaN   \n",
       "79                                                                                                                                                                                                                                                                NaN   \n",
       "460  \\nDistinction in Clinical Science and Clinical Practice Year 6. Distinction in Clinical Pharmacy and Therapeutics Year 6. Distinction in Year 5 Pathology Exam.\\nDistinction (Star) in Psychiatry.\\nMerit in General Practice.\\nMerit in Year 3 Written Paper.\\n   \n",
       "461  \\nDistinction in Clinical Science and Clinical Practice Year 6. Distinction in Clinical Pharmacy and Therapeutics Year 6. Distinction in Year 5 Pathology Exam.\\nDistinction (Star) in Psychiatry.\\nMerit in General Practice.\\nMerit in Year 3 Written Paper.\\n   \n",
       "462  \\nDistinction in Clinical Science and Clinical Practice Year 6. Distinction in Clinical Pharmacy and Therapeutics Year 6. Distinction in Year 5 Pathology Exam.\\nDistinction (Star) in Psychiatry.\\nMerit in General Practice.\\nMerit in Year 3 Written Paper.\\n   \n",
       "463  \\nDistinction in Clinical Science and Clinical Practice Year 6. Distinction in Clinical Pharmacy and Therapeutics Year 6. Distinction in Year 5 Pathology Exam.\\nDistinction (Star) in Psychiatry.\\nMerit in General Practice.\\nMerit in Year 3 Written Paper.\\n   \n",
       "\n",
       "    received_offer                 language_skills  \\\n",
       "76             NaN  English,hindi,sanskrit,kannada   \n",
       "77             NaN  English,hindi,sanskrit,kannada   \n",
       "78             NaN  English,hindi,sanskrit,kannada   \n",
       "79             NaN  English,hindi,sanskrit,kannada   \n",
       "460            NaN                             NaN   \n",
       "461            NaN                             NaN   \n",
       "462            NaN                             NaN   \n",
       "463            NaN                             NaN   \n",
       "\n",
       "                                  interests  number_of_publications  \\\n",
       "76   Hockey, Soccer, Cricket, Table tennis.                     NaN   \n",
       "77   Hockey, Soccer, Cricket, Table tennis.                     NaN   \n",
       "78   Hockey, Soccer, Cricket, Table tennis.                     NaN   \n",
       "79   Hockey, Soccer, Cricket, Table tennis.                     NaN   \n",
       "460                                     NaN                     NaN   \n",
       "461                                     NaN                     NaN   \n",
       "462                                     NaN                     NaN   \n",
       "463                                     NaN                     NaN   \n",
       "\n",
       "     speciality gender  \\\n",
       "76          NaN    NaN   \n",
       "77          NaN    NaN   \n",
       "78          NaN    NaN   \n",
       "79          NaN    NaN   \n",
       "460         NaN    NaN   \n",
       "461         NaN    NaN   \n",
       "462         NaN    NaN   \n",
       "463         NaN    NaN   \n",
       "\n",
       "                                                                                                                                                                                                                                                                                                                                                                                                                                                                                                                                                                                                                                                                                                                                                                                                                                                                                                                                                                                                                                                                                                                                                                                                                                                                                                                                                                                                                                                                                                                                                                                                                                                                                                                                                                                                                                                                                                                                                                                                                                                                                 lor  \\\n",
       "76    Dear Dr. Dachman, I am writing this letter in enthusiastic support of Vivek Halappa for an abdominal imaging fellowship position with your department. As one of Vivek's attendings at Mercy Catholic Medical Center MCMC, I feel qualified to comment on his skills and talents as a radiology resident. As the assistant program director for the radiology residency, I can also provide you with information regarding his leadership and interpersonal skills. Before joining our program, Vivek was a postdoctoral research fellow at Johns Hopkins where he authored numerous papers and won several awards. He came highly recommended and Vivek quickly distinguished himself as one of our most compassionate and hard working residents. in addition to being the best resident in his class, l would rank him in the top ten percent of residents I have interacted with during my own training at the Mallinckrodt Institute of Radiology and the University of Pennsylvania. Objective evidence of Vivek's talents can be found in his recent ACR in training scores which rank in the 80-90 percentile of all radiology residents at his PGY level. Attending radiologists in our department look forward to Vivek being on their service because he has great enthusiasm and functions at a high !eve!. His reports are concise yet thorough and require little editing. one of Vivek's strongest attributes is his ability to discuss cases with referring clinical teams in a manner that makes the imaging findings understandable to everyone on the team, from the attending physician to the medical student. On night float, he effıciently reviews and dictates cases at the !eve! ofa fellow/junior attending. in addition to his clinical work, Vivek has continued producing multiple book chapters, articles and presentations. He has expressed an interest in academic radiology particularly oncologic imaging and his work ethic, intellectual curiosity, and dedication to the fıeld of radiology will be the foundations for a bright fut...   \n",
       "77   Dear Dr. Dachman, it is a pleasure to write a recommendation for Dr. Vivek Halappa for an abdominal imaging fellowship position in your institution. Dr. Halappa is embarking on his third year of radiology residency at Mercy Catholic Medical Center. He also spent his internship in the medicine department here. 1 have known him and worked with him for the last three years in my capacity as section head of interventional radiology. Vivek is a competent and conscientious young physician who brings a strong clinical background to our program. He is well read and applies his knowledge with a practical and common sense approach. As such he is an easy apprentice to teach. I have had the opportunity to teach and observe Vivek during routine conferences as well as three interventional radiology rotations, thus far. Vivek approaches every task and responsibility with an indomitable spirit. His zeal for interventional radiology was clear as he melded youthful enthusiasm with purposeful industry. When on service, residents are encouraged to triage and direct work flow under the supervision of the attending interventional radiologist. During his first rotation, Vivek quickly shed any apprehension and assumed his role with diligence. in his daily work, he always researched cases, thus maximizing his educational benefit as well as his contribution to the service. Vivek has worked indefatigably to train his hands and surgical technique with progressive success over the last three years. He was initially unaccustomed to procedure based practice but embraced it wholeheartedly. He has advanced steadily to become adept at training level appropriate procedures and even beyond. He is able to integrate information well in analyzing each complex interventional case, demonstrating proficiency in general medicine and other areas of radiology. immersed in a busy interventional section, he quickly became a responsible and dependable team player, contributing to the smooth running of the ser...   \n",
       "78   Dear Dr. Dachman, It is with great pleasure that I write this letter in support of Dr. Vivek Gowdra Halappa in his pursuit for placement in the Abdominal Imaging Fellowship at your institution. As a member of the radiology faculty at Mercy Catholic Medical Center and having pursued a Body Imaging fellowship myself at the Hospital of the University of Pennsylvania from 2009-2010, I feel qualified to evaluate Dr. Halappa's skills as a radiologist and his potential as an abdominal imaging fellow. Having started as an attending at Mercy in 201O, I have seen a wide variety of residents complete our radiology residency. I can say with ali honesty and sincerity that Dr. Halappa is one of the best that I have seen thus far. He is intelligent, extremely hard working, and responsible. He possesses an intellectual curiosity that is essential in order to excel in the field of radiology. A few of my first memories of Dr. Halappa occurred while working together during a few weekend calls early in his residency. Normally when on call with a first year resident or early second year resident, expectations are not set very high in terms of the number of cases reviewed and dictated by the resident. The goal of this early exposure to weekend call is to become familiar with the workflow, help answer phones, field consults, answer questions of the technologists, and finally review as many cases as possible. Dr. Halappa made it a point to go above and beyond these expectations, oftentimes reviewing ALL of the body CT's and ultrasounds performed during the day. He truly takes advantage of the one-on-one time with his attendings trying to learn as much as possible and see as many cases as possible. He has a true passion for the field of radiology and it shows on a daily basis. Dr. Halappa's journey to the field of radiology has taken him from lndia to the USA. it became evident to him during medical school that radiology was the field in medicine that most interested him. in order to be...   \n",
       "79   Dear Dr. Dachman, it is a great pleasure to write this recommendation letter on behalf of Vivek Gowdra Halappa, who is applying for an abdominal imaging fellowship at your institution. Vivek is a superstar. He is one the best radiology residents ı have ever seen both at Mercy and during my prior faculty appointment at Hopkins. I recruited Vivek to my residency based on the strength of recommendations from his research mentors at Hopkins who I have known for many years. Vivek has substantially exceeded my expectations. Prior to coming to Mercy, Vivek has had an exceptional career. He completed medical school at Kasturba Medical College in lndia, which is one of the most prestigious in lndia. He went on to become an extremely successful postdoctoral research fellow at Hopkins, working closely with lhab Khamel. During 3 years at Hopkins, Vivek had 15 journal publications and wrote multiple book chapters that resulted in multiple conference presentations and awards. Most of his papers have been published in the leading journals including Radiology and AJR. Vivek has made a very successful transition to clinical medicine and radiology as my resident at Mercy. He is a very hard worker, very bright and eager to learn. He truly possesses an intellectual curiosity. Vivek is a pleasure to have on service. He is always enthusiastic about learning and that makes it fun to teach him. He is fast and accurate, fully running the clinical service he is on. He has performed exceedingly well during overnight independent call. Vivek is one of very few radiologists that have the magic eye and spot on judgment. He is able to fly through the clinical volume, without mistakes, while making exceptional diagnostic pick­ ups. I remember a recent case of Vivek diagnosing an epiploic appendagitis of the appendix when he was working with me on CT! I have personally seen many other similar remarkable calls. Ona personal note, when making faculty and resident schedule, 1 am always tempted to a...   \n",
       "460                                                                                                                                                                                       dear program director I am delighted to write this letter in support of Dr. Monica Dhillon's application for a Neuroradiology fellowship at your institution, I have known Dr. Dhillon since she began her Radiology Residency in 2018. She has demonstrated superior qualities throughout this time, .and I have seen her evolve into one of our best residents. Dr. Dhillon is a caring, empathic physician. She• has performed her duties in an exemplary fashion including the stressful conditions of high volume-on-call which often includes complex cases. Dr. Dhillon works very hard and is willing to go above and beyond to provide optimal patient care. for me one .of the most important qualities a physician can have beyond superior cognitive abilities which she has is tine ability to work well with others •n a collegial fashion.. She is respectful to all individuals whether they be physicians or ancillary staff. During her rotations in Neuroradiology I would often find Dr. Dhillon at the workstation before normal working hours reviewing cases on her own with a book or the computer open researching various disorders. She would consistently assimilate newly learned knowledge into her practice. One of my interests is neuroanatomy and I. spend a lot of time going through this with the residents during our interactions at the workstation_ Dr. Dhilton was one of a few residents who would consistently put ihto daily practice the principles of neuroanatomy I reviewed with her. I have had the pleasure of interactk1g with residents and fellows at many academic institutions and feel that Dr. Dhillon,has been a standout. I know she will be a highly competent successful radiologist and a delightful individual to work with. If I can be of further assistance; please feel free to contact me at {610 220-3131.sincerely    \n",
       "461                                                                                                                                                                                                                                                                                                                                                                                                                                                                                                                                                                                                                                                                                                                                                                                                                                                                                                                                                                                                                                                                                                                                                                                                                                      To whom it may concern, My name is Ben Cornwell and I am an Assistant Professor in the neuroradiology section at the University of Oklahoma. I have gotten to know Dr. Monica Dhillon very well as she has rotated through the section. She is a hard worker and has a strong interest in neuroradiology. I have worked on several projects with Monica during her time here at OU. Monica has been a great attribute to the department through her dedication to patient care and interest in teaching other residents and medical students. Monica has excelled in our busy night float rotation. She has proven to be efficient and accurate while working independently. She is dependable and shows up on time. I highly recommend her for a neuroradiology fellowship. Feel free to contact me if you have any questions. Sincerely,    \n",
       "462  Dear Fellowship Program: It is with distinct honor that I write this recommendation letter on behalf of Dr. Monica Dhillon in support of her Neuroradiology fellowship application to your program. During the past few years, it has been a great pleasure working with Monica and I’ve been able to watch her remarkably grow into a quality Radiologist. I can also attest to her character as a person. Since I’ve known Monica, she always has a very professional demeanor in her interactions with colleagues and among the hospital staff members. I had ample opportunity to supervise Monica and am confident in her abilities. Our cases can be extremely complex/challenging and Monica has shown the ability to handle these, which is quite impressive. I consider the call our residents take one of the toughest as they are responsible for handling Level 1 trauma, Neuro, Chest, Body, and Pediatric cases overnight by themselves. Monica never avoids an opportunity to undertake a complex case. Since I’ve known Monica at the beginning of her first year, she has always shown a genuine passion for Neuroradiology. She has continued this throughout her resident education being involved in various research projects/presentations. In her daily work, Monica shows the ability to generate well-thought out differential diagnoses. Monica always strives to produce a well-organized and accurate report. Currently, I serve as the medical student course director and Monica has been very helpful to me volunteering her time to help teach medical students. The teaching I was able to witness her provide to students/junior residents has made me highly confident in her abilities. I have always been impressed with her background, especially with her having learned and/or trained in numerous countries around the world. I can only imagine the challenges necessary to do this, yet she has done it and always with a pleasant demeanor. Recently, she has expressed to me her excitement about the prospect of continuing h...   \n",
       "463                                                                                                                                                                                                                                                                                                                                                                                                                         Dear Fellowship Director, November 6, 2020 This letter is in strong support of Dr. Monica Dhillon, who is applying for your fellowship in Neuroradiology starting in July of 2022. Dr. Dhillon joined our Radiology residency in July of 2018, and I have served as her program director and faculty over that time. Dr. Dhillon has been an outstanding resident during her time with us and has received excellent evaluations and comments from the departmental faculty. Monica is very knowledgeable and did an excellent job on our very difficult float rotation. The nights and days she covered we knew things would go well no matter how busy she was or how complicated the cases were. She has a superb work ethic and is hard working. Monica is a pleasure to work with, is dependable and very trustworthy. Monica is well respected and liked by both the faculty and her fellow residents. Also based on her actions and activities since arriving in the program, I believe she is one of the leading candidates in her class for Chief Resident when the residents make their selection later this year. Being from Canada, I believe she would love to return home for fellowship. I know that Dr. Dhillon will do a fantastic job during her fellowship and will make an outstanding Neuroradiologist in the future. I hope she will consider returning to Oklahoma after her fellowship and consider a position in our department. Monica is the kind of person I would like to have as a colleague and teaching our residents. Again, I strongly and fully recommend Dr. Dhillon for your Neuroradiology fellowship. Sincerely,    \n",
       "\n",
       "                                                      lor_position  \\\n",
       "76                  Associate Program Director,Assistant Professor   \n",
       "77    Section Head of lnterventional Radiology,Assistant Professor   \n",
       "78                               Section Head,Assistant Professor    \n",
       "79                                   director,assistant professor    \n",
       "460                                           Associate Professor    \n",
       "461                                               section chief,DO   \n",
       "462            Assistant Professor,Medical Student Course Director   \n",
       "463  Residency Program Director ,Associate Professor,service chief   \n",
       "\n",
       "                                                           lor_university  \\\n",
       "76   Mercy Catholic Medical Center,Drexel University College of Medicine    \n",
       "77   Mercy Catholic Medical Center,Drexel University College of Medicine    \n",
       "78   Mercy Catholic Medical Center,Drexel University College of Medicine    \n",
       "79   Mercy Catholic Medical Center,Drexel University College of Medicine    \n",
       "460                             Oklahoma University Health Science center   \n",
       "461                                               University of Oklahoma    \n",
       "462                                               University of Oklahoma    \n",
       "463                                               University of Oklahoma    \n",
       "\n",
       "    lor_gender lor_number  lor_id    standard_position  \n",
       "76        male       lor1      76  assistant professor  \n",
       "77      female       lor2      77  assistant professor  \n",
       "78        male       lor3      78  assistant professor  \n",
       "79        male       lor4      79  assistant professor  \n",
       "460       male       lor1     460  associate professor  \n",
       "461       male       lor2     461               others  \n",
       "462       male       lor3     462  assistant professor  \n",
       "463       male       lor4     463  associate professor  "
      ]
     },
     "execution_count": 47,
     "metadata": {},
     "output_type": "execute_result"
    }
   ],
   "source": [
    "df_new[df_new.gender.isna()]"
   ]
  },
  {
   "cell_type": "code",
   "execution_count": 65,
   "metadata": {},
   "outputs": [
    {
     "name": "stdout",
     "output_type": "stream",
     "text": [
      "total_number_of_applicants 336\n",
      "total_number_of_letters 1036\n",
      "average_number_of_letters 3.0833333333333335\n",
      "average_sentence_count_per_letter 18.37934362934363\n",
      "average_word_count_per_letter 344.52702702702703\n",
      "male_writer_count 826\n",
      "female_writer_count 198\n",
      "asso_prof_count 174\n",
      "assis_prof_count 234\n",
      "prof_count 193\n",
      "manager_count 240\n",
      "others_count 195\n"
     ]
    }
   ],
   "source": [
    "\n",
    "overall_total_number_of_applicants = df_new.applicant_id.unique().shape[0]\n",
    "print(\"total_number_of_applicants\",overall_total_number_of_applicants)\n",
    "overall_total_number_of_letters = df_new.shape[0]\n",
    "print(\"total_number_of_letters\",overall_total_number_of_letters)\n",
    "overall_average_number_of_letters = overall_total_number_of_letters/overall_total_number_of_applicants\n",
    "print(\"average_number_of_letters\",overall_average_number_of_letters)\n",
    "df_new_sentence = get_df_sentence(df_new, \"lor\")\n",
    "overall_average_sentence_count_per_letter = df_new_sentence.shape[0]/df_new.shape[0]\n",
    "print(\"average_sentence_count_per_letter\",overall_average_sentence_count_per_letter)\n",
    "df_new_sentence[\"word\"] = df_new_sentence.sentence_split.apply(word_tokenize)\n",
    "overall_total_word_count = df_new_sentence.word.str.len().sum()\n",
    "overall_average_word_count_per_letter = overall_total_word_count/df_new.shape[0]\n",
    "print(\"average_word_count_per_letter\",overall_average_word_count_per_letter)\n",
    "overall_male_writer_count = (df_new.lor_gender==\"male\").sum()\n",
    "print(\"male_writer_count\",overall_male_writer_count)\n",
    "\n",
    "overall_female_writer_count = (df_new.lor_gender==\"female\").sum()\n",
    "print(\"female_writer_count\",overall_female_writer_count)\n",
    "\n",
    "df_new.lor_position = df_new.lor_position.fillna(\"\")\n",
    "\n",
    "df_new.lor_position.value_counts()\n",
    "overall_asso_prof_count = df_new.loc[df_new[\"standard_position\"] == \"associate professor\"].shape[0]\n",
    "print(\"asso_prof_count\",overall_asso_prof_count)\n",
    "\n",
    "overall_assis_prof_count = df_new.loc[df_new[\"standard_position\"] == \"assistant professor\"].shape[0]\n",
    "print(\"assis_prof_count\",overall_assis_prof_count)\n",
    "\n",
    "overall_prof_count = df_new.loc[df_new[\"standard_position\"] == \"professor\"].shape[0]\n",
    "print(\"prof_count\",overall_prof_count)\n",
    "\n",
    "overall_manager_count = df_new.loc[df_new[\"standard_position\"] == \"manager\"].shape[0]\n",
    "print(\"manager_count\",overall_manager_count)\n",
    "\n",
    "overall_others_count = df_new.loc[df_new[\"standard_position\"] == \"others\"].shape[0] \n",
    "print(\"others_count\",overall_others_count)\n"
   ]
  },
  {
   "cell_type": "code",
   "execution_count": 64,
   "metadata": {},
   "outputs": [
    {
     "data": {
      "text/plain": [
       "manager                240\n",
       "assistant professor    234\n",
       "others                 195\n",
       "professor              193\n",
       "associate professor    174\n",
       "Name: standard_position, dtype: int64"
      ]
     },
     "execution_count": 64,
     "metadata": {},
     "output_type": "execute_result"
    }
   ],
   "source": [
    "df_new[\"standard_position\"].value_counts()"
   ]
  },
  {
   "cell_type": "code",
   "execution_count": 171,
   "metadata": {},
   "outputs": [
    {
     "name": "stdout",
     "output_type": "stream",
     "text": [
      "others 427\n"
     ]
    }
   ],
   "source": [
    "print(\"others\",overall_others_count)"
   ]
  },
  {
   "cell_type": "code",
   "execution_count": 8,
   "metadata": {},
   "outputs": [
    {
     "data": {
      "text/plain": [
       "Index(['applicant_id', 'application_year', 'birth_year', 'citizenship',\n",
       "       'foreign', 'medical_school', 'residency_school', 'md_year',\n",
       "       'residency_year', 'step1', 'step2', 'step3', 'step_old', 'IMG',\n",
       "       'class_rank', 'honors', 'received_offer', 'language_skills',\n",
       "       'interests', 'number_of_publications', 'speciality', 'gender', 'lor',\n",
       "       'lor_position', 'lor_university', 'lor_gender', 'lor_number', 'lor_id',\n",
       "       'standard_position'],\n",
       "      dtype='object')"
      ]
     },
     "execution_count": 8,
     "metadata": {},
     "output_type": "execute_result"
    }
   ],
   "source": [
    "df_new.columns"
   ]
  },
  {
   "cell_type": "code",
   "execution_count": 69,
   "metadata": {},
   "outputs": [],
   "source": [
    "def get_table_column(df,column_name,csv_name):\n",
    "    count_list = []\n",
    "    percentage_list = []\n",
    "    \n",
    "    total_number_of_applicants = df.applicant_id.unique().shape[0]\n",
    "    total_number_of_applicants_percentage = (total_number_of_applicants/overall_total_number_of_applicants)*100\n",
    "    print(f\"{column_name}_total_number_of_applicants\",total_number_of_applicants)\n",
    "    print(f\"{column_name}_precentage_total_number_of_applicants\",total_number_of_applicants_percentage)\n",
    "    count_list.append(total_number_of_applicants)\n",
    "    percentage_list.append(total_number_of_applicants_percentage)\n",
    "    \n",
    "    \n",
    "    total_number_of_letters = df.shape[0]\n",
    "    total_number_of_letters_percentage = (total_number_of_letters/overall_total_number_of_letters)*100\n",
    "    print(f\"{column_name}_total_number_of_letters\",total_number_of_letters)\n",
    "    print(f\"{column_name}_precentage_total_number_of_letters\",total_number_of_letters_percentage)\n",
    "    count_list.append(total_number_of_letters)\n",
    "    percentage_list.append(total_number_of_letters_percentage)\n",
    "    \n",
    "    \n",
    "    average_number_of_letters = total_number_of_letters/total_number_of_applicants\n",
    "    print(f\"{column_name}_average_number_of_letters\",average_number_of_letters)\n",
    "    print(f\"{column_name}_precentage_average_number_of_letters\",(average_number_of_letters/overall_average_number_of_letters)*100)\n",
    "    count_list.append(average_number_of_letters)\n",
    "    percentage_list.append((average_number_of_letters/overall_average_number_of_letters)*100)   \n",
    "    \n",
    "    \n",
    "    df_sentence = get_df_sentence(df, \"lor\")\n",
    "    average_sentence_count_per_letter = df_sentence.shape[0]/df.shape[0]\n",
    "    print(f\"{column_name}_average_sentence_count_per_letter\",average_sentence_count_per_letter)\n",
    "    print(f\"{column_name}_precentage_average_sentence_count_per_letter\",(average_sentence_count_per_letter/overall_average_sentence_count_per_letter)*100)\n",
    "    count_list.append(average_sentence_count_per_letter)\n",
    "    percentage_list.append((average_sentence_count_per_letter/overall_average_sentence_count_per_letter)*100)  \n",
    "    \n",
    "    df_sentence[\"word\"] = df_sentence.sentence_split.apply(word_tokenize)\n",
    "    total_word_count = df_sentence.word.str.len().sum()\n",
    "    average_word_count_per_letter = total_word_count/df.shape[0]\n",
    "    print(f\"{column_name}_average_word_count_per_letter\",average_word_count_per_letter)\n",
    "    print(f\"{column_name}_precentage_average_word_count_per_letter\",(average_word_count_per_letter/overall_average_word_count_per_letter)*100)\n",
    "    count_list.append(average_word_count_per_letter)\n",
    "    percentage_list.append((average_word_count_per_letter/overall_average_word_count_per_letter)*100)  \n",
    "    \n",
    "    female_writer_count = (df.lor_gender==\"female\").sum()\n",
    "    print(f\"{column_name}_female_writer_count\",female_writer_count)\n",
    "    print(f\"{column_name}_precentage_female_writer_count\",(female_writer_count/overall_female_writer_count)*100)\n",
    "    count_list.append(female_writer_count)\n",
    "    percentage_list.append((female_writer_count/overall_female_writer_count)*100)  \n",
    "    \n",
    "    male_writer_count = (df.lor_gender==\"male\").sum()\n",
    "    print(f\"{column_name}_male_writer_count\",male_writer_count)\n",
    "    print(f\"{column_name}_precentage_male_writer_count\",(male_writer_count/overall_male_writer_count)*100)\n",
    "    count_list.append(male_writer_count)\n",
    "    percentage_list.append((male_writer_count/overall_male_writer_count)*100)  \n",
    "   \n",
    "    df.lor_position = df.lor_position.fillna(\"\")\n",
    "\n",
    "    prof_count = df.loc[df.standard_position == \"professor\"].shape[0]\n",
    "    print(f\"{column_name}_prof_count\",prof_count)\n",
    "    print(f\"{column_name}_precentage_prof_count\",(prof_count/overall_prof_count)*100)\n",
    "    count_list.append(prof_count)\n",
    "    percentage_list.append((prof_count/overall_prof_count)*100)  \n",
    "\n",
    "    asso_prof_count = df.loc[df.standard_position == \"associate professor\"].shape[0]\n",
    "    print(f\"{column_name}_asso_prof_count\",asso_prof_count)\n",
    "    print(f\"{column_name}_precentage_asso_prof_count\",(asso_prof_count/overall_asso_prof_count)*100)\n",
    "    count_list.append(asso_prof_count)\n",
    "    percentage_list.append((asso_prof_count/overall_asso_prof_count)*100)  \n",
    "    \n",
    "    assis_prof_count = df.loc[df.standard_position == \"assistant professor\"].shape[0]\n",
    "    print(f\"{column_name}_assis_prof_count\",assis_prof_count)\n",
    "    print(f\"{column_name}_precentage_assis_prof_count\",(assis_prof_count/overall_assis_prof_count)*100)\n",
    "    count_list.append(assis_prof_count)\n",
    "    percentage_list.append((assis_prof_count/overall_assis_prof_count)*100)  \n",
    "    \n",
    "    manager_count = df.loc[df.standard_position == \"manager\"].shape[0]\n",
    "    print(f\"{column_name}_manager_count\",manager_count)\n",
    "    print(f\"{column_name}_precentage_manager_count\",(manager_count/overall_manager_count)*100)\n",
    "    count_list.append(manager_count)\n",
    "    percentage_list.append((manager_count/overall_manager_count)*100)  \n",
    "    \n",
    "    \n",
    "    \n",
    "    others_count = df.loc[df.standard_position == \"others\"].shape[0]\n",
    "    print(f\"{column_name}others_count\",others_count)\n",
    "    print(f\"{column_name}_precentage_others_count\",(others_count/overall_others_count)*100)\n",
    "    count_list.append(others_count)\n",
    "    percentage_list.append((others_count/overall_others_count)*100)    \n",
    "    \n",
    "    index_list = [\"Total number of applicants\",\n",
    "                  \"Total number of letters\",\n",
    "                  \"Average number of letters\",\n",
    "                  \"Average sentence count per letter\",\n",
    "                  \"Average word count per letter\",\n",
    "                  \"Female\",\n",
    "                  \"Male\",\n",
    "                  \"Full professor\",\n",
    "                  \"Associate professor\",\n",
    "                  \"Assistant professor\",\n",
    "                  \"Manager\",\n",
    "                  \"Not applicable/Unknown\"]\n",
    "\n",
    "    df = pd.DataFrame({\"counts\":count_list, \"percentage\":percentage_list},index =index_list ) \n",
    "    df.to_csv(\".//demographics_results//\" + csv_name + \".csv\")"
   ]
  },
  {
   "cell_type": "code",
   "execution_count": 70,
   "metadata": {},
   "outputs": [
    {
     "name": "stdout",
     "output_type": "stream",
     "text": [
      "male_total_number_of_applicants 261\n",
      "male_precentage_total_number_of_applicants 77.67857142857143\n",
      "male_total_number_of_letters 805\n",
      "male_precentage_total_number_of_letters 77.7027027027027\n",
      "male_average_number_of_letters 3.0842911877394634\n",
      "male_precentage_average_number_of_letters 100.03106554830691\n"
     ]
    },
    {
     "name": "stderr",
     "output_type": "stream",
     "text": [
      "c:\\ProgramData\\Anaconda3\\envs\\k12\\lib\\site-packages\\ipykernel_launcher.py:30: SettingWithCopyWarning: \n",
      "A value is trying to be set on a copy of a slice from a DataFrame.\n",
      "Try using .loc[row_indexer,col_indexer] = value instead\n",
      "\n",
      "See the caveats in the documentation: https://pandas.pydata.org/pandas-docs/stable/user_guide/indexing.html#returning-a-view-versus-a-copy\n",
      "c:\\ProgramData\\Anaconda3\\envs\\k12\\lib\\site-packages\\ipykernel_launcher.py:31: SettingWithCopyWarning: \n",
      "A value is trying to be set on a copy of a slice from a DataFrame.\n",
      "Try using .loc[row_indexer,col_indexer] = value instead\n",
      "\n",
      "See the caveats in the documentation: https://pandas.pydata.org/pandas-docs/stable/user_guide/indexing.html#returning-a-view-versus-a-copy\n"
     ]
    },
    {
     "name": "stdout",
     "output_type": "stream",
     "text": [
      "male_average_sentence_count_per_letter 18.104347826086958\n",
      "male_precentage_average_sentence_count_per_letter 98.50377788890336\n",
      "male_average_word_count_per_letter 340.4086956521739\n",
      "male_precentage_average_word_count_per_letter 98.80464200141544\n",
      "male_female_writer_count 142\n",
      "male_precentage_female_writer_count 71.71717171717171\n",
      "male_male_writer_count 657\n",
      "male_precentage_male_writer_count 79.53995157384988\n",
      "male_prof_count 152\n",
      "male_precentage_prof_count 78.75647668393782\n",
      "male_asso_prof_count 133\n",
      "male_precentage_asso_prof_count 76.4367816091954\n",
      "male_assis_prof_count 170\n",
      "male_precentage_assis_prof_count 72.64957264957265\n",
      "male_manager_count 198\n",
      "male_precentage_manager_count 82.5\n",
      "maleothers_count 152\n",
      "male_precentage_others_count 77.94871794871796\n"
     ]
    }
   ],
   "source": [
    "df_male = df_new.loc[df_new.gender == \"male\"]\n",
    "get_table_column(df_male,\"male\",\"male\")"
   ]
  },
  {
   "cell_type": "code",
   "execution_count": 71,
   "metadata": {},
   "outputs": [
    {
     "name": "stdout",
     "output_type": "stream",
     "text": [
      "female_total_number_of_applicants 73\n",
      "female_precentage_total_number_of_applicants 21.726190476190478\n",
      "female_total_number_of_letters 223\n",
      "female_precentage_total_number_of_letters 21.525096525096522\n",
      "female_average_number_of_letters 3.0547945205479454\n",
      "female_precentage_average_number_of_letters 99.07441688263606\n",
      "female_average_sentence_count_per_letter 19.2152466367713\n",
      "female_precentage_average_sentence_count_per_letter 104.54805690717434\n"
     ]
    },
    {
     "name": "stderr",
     "output_type": "stream",
     "text": [
      "c:\\ProgramData\\Anaconda3\\envs\\k12\\lib\\site-packages\\ipykernel_launcher.py:30: SettingWithCopyWarning: \n",
      "A value is trying to be set on a copy of a slice from a DataFrame.\n",
      "Try using .loc[row_indexer,col_indexer] = value instead\n",
      "\n",
      "See the caveats in the documentation: https://pandas.pydata.org/pandas-docs/stable/user_guide/indexing.html#returning-a-view-versus-a-copy\n",
      "c:\\ProgramData\\Anaconda3\\envs\\k12\\lib\\site-packages\\ipykernel_launcher.py:31: SettingWithCopyWarning: \n",
      "A value is trying to be set on a copy of a slice from a DataFrame.\n",
      "Try using .loc[row_indexer,col_indexer] = value instead\n",
      "\n",
      "See the caveats in the documentation: https://pandas.pydata.org/pandas-docs/stable/user_guide/indexing.html#returning-a-view-versus-a-copy\n"
     ]
    },
    {
     "name": "stdout",
     "output_type": "stream",
     "text": [
      "female_average_word_count_per_letter 356.9237668161435\n",
      "female_precentage_average_word_count_per_letter 103.59819079974355\n",
      "female_female_writer_count 55\n",
      "female_precentage_female_writer_count 27.77777777777778\n",
      "female_male_writer_count 162\n",
      "female_precentage_male_writer_count 19.612590799031477\n",
      "female_prof_count 41\n",
      "female_precentage_prof_count 21.243523316062177\n",
      "female_asso_prof_count 39\n",
      "female_precentage_asso_prof_count 22.413793103448278\n",
      "female_assis_prof_count 59\n",
      "female_precentage_assis_prof_count 25.213675213675213\n",
      "female_manager_count 42\n",
      "female_precentage_manager_count 17.5\n",
      "femaleothers_count 42\n",
      "female_precentage_others_count 21.53846153846154\n"
     ]
    }
   ],
   "source": [
    "df_female = df_new.loc[df_new.gender == \"female\"]\n",
    "get_table_column(df_female,\"female\",\"female\")"
   ]
  },
  {
   "cell_type": "code",
   "execution_count": 72,
   "metadata": {},
   "outputs": [
    {
     "name": "stdout",
     "output_type": "stream",
     "text": [
      "foreign_total_number_of_applicants 95\n",
      "foreign_precentage_total_number_of_applicants 28.273809523809522\n",
      "foreign_total_number_of_letters 295\n",
      "foreign_precentage_total_number_of_letters 28.474903474903474\n",
      "foreign_average_number_of_letters 3.1052631578947367\n",
      "foreign_precentage_average_number_of_letters 100.71123755334281\n",
      "foreign_average_sentence_count_per_letter 18.11864406779661\n",
      "foreign_precentage_average_sentence_count_per_letter 98.58156217760246\n"
     ]
    },
    {
     "name": "stderr",
     "output_type": "stream",
     "text": [
      "c:\\ProgramData\\Anaconda3\\envs\\k12\\lib\\site-packages\\ipykernel_launcher.py:30: SettingWithCopyWarning: \n",
      "A value is trying to be set on a copy of a slice from a DataFrame.\n",
      "Try using .loc[row_indexer,col_indexer] = value instead\n",
      "\n",
      "See the caveats in the documentation: https://pandas.pydata.org/pandas-docs/stable/user_guide/indexing.html#returning-a-view-versus-a-copy\n",
      "c:\\ProgramData\\Anaconda3\\envs\\k12\\lib\\site-packages\\ipykernel_launcher.py:31: SettingWithCopyWarning: \n",
      "A value is trying to be set on a copy of a slice from a DataFrame.\n",
      "Try using .loc[row_indexer,col_indexer] = value instead\n",
      "\n",
      "See the caveats in the documentation: https://pandas.pydata.org/pandas-docs/stable/user_guide/indexing.html#returning-a-view-versus-a-copy\n"
     ]
    },
    {
     "name": "stdout",
     "output_type": "stream",
     "text": [
      "foreign_average_word_count_per_letter 346.64406779661016\n",
      "foreign_precentage_average_word_count_per_letter 100.61447741498\n",
      "foreign_female_writer_count 39\n",
      "foreign_precentage_female_writer_count 19.696969696969695\n",
      "foreign_male_writer_count 253\n",
      "foreign_precentage_male_writer_count 30.629539951573847\n",
      "foreign_prof_count 62\n",
      "foreign_precentage_prof_count 32.12435233160622\n",
      "foreign_asso_prof_count 37\n",
      "foreign_precentage_asso_prof_count 21.26436781609195\n",
      "foreign_assis_prof_count 54\n",
      "foreign_precentage_assis_prof_count 23.076923076923077\n",
      "foreign_manager_count 69\n",
      "foreign_precentage_manager_count 28.749999999999996\n",
      "foreignothers_count 73\n",
      "foreign_precentage_others_count 37.43589743589744\n"
     ]
    }
   ],
   "source": [
    "df_foreign = df_new.loc[df_new.foreign == 1]\n",
    "get_table_column(df_foreign,\"foreign\",\"foreign_yes\")"
   ]
  },
  {
   "cell_type": "code",
   "execution_count": 73,
   "metadata": {},
   "outputs": [
    {
     "name": "stdout",
     "output_type": "stream",
     "text": [
      "not_foreign_total_number_of_applicants 241\n",
      "not_foreign_precentage_total_number_of_applicants 71.72619047619048\n",
      "not_foreign_total_number_of_letters 741\n",
      "not_foreign_precentage_total_number_of_letters 71.52509652509652\n",
      "not_foreign_average_number_of_letters 3.074688796680498\n",
      "not_foreign_precentage_average_number_of_letters 99.71963664909723\n"
     ]
    },
    {
     "name": "stderr",
     "output_type": "stream",
     "text": [
      "c:\\ProgramData\\Anaconda3\\envs\\k12\\lib\\site-packages\\ipykernel_launcher.py:30: SettingWithCopyWarning: \n",
      "A value is trying to be set on a copy of a slice from a DataFrame.\n",
      "Try using .loc[row_indexer,col_indexer] = value instead\n",
      "\n",
      "See the caveats in the documentation: https://pandas.pydata.org/pandas-docs/stable/user_guide/indexing.html#returning-a-view-versus-a-copy\n",
      "c:\\ProgramData\\Anaconda3\\envs\\k12\\lib\\site-packages\\ipykernel_launcher.py:31: SettingWithCopyWarning: \n",
      "A value is trying to be set on a copy of a slice from a DataFrame.\n",
      "Try using .loc[row_indexer,col_indexer] = value instead\n",
      "\n",
      "See the caveats in the documentation: https://pandas.pydata.org/pandas-docs/stable/user_guide/indexing.html#returning-a-view-versus-a-copy\n"
     ]
    },
    {
     "name": "stdout",
     "output_type": "stream",
     "text": [
      "not_foreign_average_sentence_count_per_letter 18.483130904183536\n",
      "not_foreign_precentage_average_sentence_count_per_letter 100.564695219443\n",
      "not_foreign_average_word_count_per_letter 343.6842105263158\n",
      "not_foreign_precentage_average_word_count_per_letter 99.75536998998771\n",
      "not_foreign_female_writer_count 159\n",
      "not_foreign_precentage_female_writer_count 80.3030303030303\n",
      "not_foreign_male_writer_count 573\n",
      "not_foreign_precentage_male_writer_count 69.37046004842615\n",
      "not_foreign_prof_count 131\n",
      "not_foreign_precentage_prof_count 67.87564766839378\n",
      "not_foreign_asso_prof_count 137\n",
      "not_foreign_precentage_asso_prof_count 78.73563218390804\n",
      "not_foreign_assis_prof_count 180\n",
      "not_foreign_precentage_assis_prof_count 76.92307692307693\n",
      "not_foreign_manager_count 171\n",
      "not_foreign_precentage_manager_count 71.25\n",
      "not_foreignothers_count 122\n",
      "not_foreign_precentage_others_count 62.56410256410256\n"
     ]
    }
   ],
   "source": [
    "df_foreign = df_new.loc[df_new.foreign == 0]\n",
    "get_table_column(df_foreign,\"not_foreign\",\"foreign_no\")"
   ]
  },
  {
   "cell_type": "code",
   "execution_count": 1,
   "metadata": {},
   "outputs": [
    {
     "ename": "NameError",
     "evalue": "name 'df_new' is not defined",
     "output_type": "error",
     "traceback": [
      "\u001b[1;31m---------------------------------------------------------------------------\u001b[0m",
      "\u001b[1;31mNameError\u001b[0m                                 Traceback (most recent call last)",
      "\u001b[1;32m<ipython-input-1-94dbd581444b>\u001b[0m in \u001b[0;36m<module>\u001b[1;34m\u001b[0m\n\u001b[1;32m----> 1\u001b[1;33m \u001b[0mdf_new\u001b[0m\u001b[1;33m\u001b[0m\u001b[1;33m\u001b[0m\u001b[0m\n\u001b[0m",
      "\u001b[1;31mNameError\u001b[0m: name 'df_new' is not defined"
     ]
    }
   ],
   "source": [
    "df_new"
   ]
  },
  {
   "cell_type": "markdown",
   "metadata": {},
   "source": [
    "# Word Analysis"
   ]
  },
  {
   "cell_type": "code",
   "execution_count": 108,
   "metadata": {},
   "outputs": [],
   "source": [
    "import pandas as pd\n",
    "import re\n",
    "import numpy as np\n",
    "import scipy.stats as stats\n",
    "df_word_list = pd.read_excel(\"LOR Project_reviewed.xlsx\",sheet_name=\"Word list\")"
   ]
  },
  {
   "cell_type": "code",
   "execution_count": 109,
   "metadata": {},
   "outputs": [
    {
     "name": "stderr",
     "output_type": "stream",
     "text": [
      "c:\\ProgramData\\Anaconda3\\envs\\k12\\lib\\site-packages\\ipykernel_launcher.py:1: FutureWarning: The default value of regex will change from True to False in a future version.\n",
      "  \"\"\"Entry point for launching an IPython kernel.\n"
     ]
    },
    {
     "data": {
      "text/plain": [
       "['achieve\\\\w*',\n",
       " 'active\\\\w*',\n",
       " 'aggressive',\n",
       " 'ambitio\\\\w*',\n",
       " 'analyt\\\\w*',\n",
       " 'aspirat\\\\w*',\n",
       " 'assertive',\n",
       " 'attention',\n",
       " 'autonom\\\\w*',\n",
       " 'competen\\\\w*',\n",
       " 'competing',\n",
       " 'confiden\\\\w*',\n",
       " 'courage\\\\w*',\n",
       " 'decisive',\n",
       " 'dedicat\\\\w*',\n",
       " 'defend',\n",
       " 'desire',\n",
       " 'determination',\n",
       " 'determined',\n",
       " 'force\\\\w*',\n",
       " 'goal oriented',\n",
       " 'goal-oriented',\n",
       " 'hard work\\\\w*',\n",
       " 'independen\\\\w*',\n",
       " 'industrious',\n",
       " 'industrious\\\\w*',\n",
       " 'intelligen\\\\w*',\n",
       " 'lead\\\\w*',\n",
       " 'master',\n",
       " 'mastered',\n",
       " 'mastery',\n",
       " 'outspoken',\n",
       " 'rewards',\n",
       " 'self direct\\\\w*',\n",
       " 'self motivated',\n",
       " 'self starter',\n",
       " 'self-assure\\\\w*',\n",
       " 'self-direct\\\\w*',\n",
       " 'self driven',\n",
       " 'self-driven',\n",
       " 'self-motivated',\n",
       " 'self-relian\\\\w*',\n",
       " 'self-starter',\n",
       " 'serious',\n",
       " 'skill\\\\w*',\n",
       " 'strong',\n",
       " 'tough',\n",
       " 'under pressure',\n",
       " 'work ethic',\n",
       " 'work-ethic']"
      ]
     },
     "execution_count": 109,
     "metadata": {},
     "output_type": "execute_result"
    }
   ],
   "source": [
    "df_word_list[\"Agency\"].str.strip().str.lower().str.replace(r\"\\*\",r\"/w*\").dropna().tolist()"
   ]
  },
  {
   "cell_type": "code",
   "execution_count": 140,
   "metadata": {},
   "outputs": [
    {
     "name": "stderr",
     "output_type": "stream",
     "text": [
      "c:\\ProgramData\\Anaconda3\\envs\\k12\\lib\\site-packages\\ipykernel_launcher.py:1: FutureWarning: The default value of regex will change from True to False in a future version.\n",
      "  \"\"\"Entry point for launching an IPython kernel.\n",
      "c:\\ProgramData\\Anaconda3\\envs\\k12\\lib\\site-packages\\ipykernel_launcher.py:2: FutureWarning: The default value of regex will change from True to False in a future version.\n",
      "  \n",
      "c:\\ProgramData\\Anaconda3\\envs\\k12\\lib\\site-packages\\ipykernel_launcher.py:3: FutureWarning: The default value of regex will change from True to False in a future version.\n",
      "  This is separate from the ipykernel package so we can avoid doing imports until\n",
      "c:\\ProgramData\\Anaconda3\\envs\\k12\\lib\\site-packages\\ipykernel_launcher.py:4: FutureWarning: The default value of regex will change from True to False in a future version.\n",
      "  after removing the cwd from sys.path.\n",
      "c:\\ProgramData\\Anaconda3\\envs\\k12\\lib\\site-packages\\ipykernel_launcher.py:5: FutureWarning: The default value of regex will change from True to False in a future version.\n",
      "  \"\"\"\n",
      "c:\\ProgramData\\Anaconda3\\envs\\k12\\lib\\site-packages\\ipykernel_launcher.py:6: FutureWarning: The default value of regex will change from True to False in a future version.\n",
      "  \n"
     ]
    }
   ],
   "source": [
    "agency = df_word_list[\"Agency\"].str.strip().str.lower().str.replace(r\"\\*\",r\"\\\\w*\").dropna().tolist()\n",
    "communality = df_word_list[\"Communality\"].str.strip().str.lower().str.replace(r\"\\*\",r\"\\\\w*\").dropna().tolist()\n",
    "grindstone = df_word_list[\"Grindstone\"].str.strip().str.lower().str.replace(r\"\\*\",r\"\\\\w*\").dropna().tolist()\n",
    "standout = df_word_list[\"Standout\"].str.strip().str.lower().str.replace(r\"\\*\",r\"\\\\w*\").dropna().tolist()\n",
    "social = df_word_list[\"Social\"].str.strip().str.lower().str.replace(r\"\\*\",r\"\\\\w*\").dropna().tolist()\n",
    "radiology = df_word_list[\"Radiology\"].str.strip().str.lower().str.replace(r\"\\*\",r\"\\\\w*\").dropna().tolist()\n",
    "keen_good = [\"keen eye\",\"good eye\"]\n"
   ]
  },
  {
   "cell_type": "code",
   "execution_count": 137,
   "metadata": {},
   "outputs": [
    {
     "data": {
      "text/plain": [
       "['good eye',\n",
       " 'high volume',\n",
       " 'observational skills',\n",
       " 'focus',\n",
       " 'attention',\n",
       " 'keen eye']"
      ]
     },
     "execution_count": 137,
     "metadata": {},
     "output_type": "execute_result"
    }
   ],
   "source": [
    "radiology"
   ]
  },
  {
   "cell_type": "code",
   "execution_count": 111,
   "metadata": {},
   "outputs": [
    {
     "data": {
      "text/plain": [
       "['good eye',\n",
       " 'high volume',\n",
       " 'observational skills',\n",
       " 'focus',\n",
       " 'attention',\n",
       " 'keen eye']"
      ]
     },
     "execution_count": 111,
     "metadata": {},
     "output_type": "execute_result"
    }
   ],
   "source": [
    "radiology"
   ]
  },
  {
   "cell_type": "code",
   "execution_count": 138,
   "metadata": {},
   "outputs": [],
   "source": [
    "agency_pattern = r\"\\b\" + r\"\\b|\\b\".join(agency) + r\"\\b\"\n",
    "communality_pattern = r\"\\b\" + r\"\\b|\\b\".join(communality) + r\"\\b\"\n",
    "grindstone_pattern = r\"\\b\" + r\"\\b|\\b\".join(grindstone) + r\"\\b\"\n",
    "standout_pattern = r\"\\b\" + r\"\\b|\\b\".join(standout) + r\"\\b\"\n",
    "social_pattern = r\"\\b\" + r\"\\b|\\b\".join(social) + r\"\\b\"\n",
    "radiology_pattern = r\"\\b\" + r\"\\b|\\b\".join(radiology) + r\"\\b\"\n",
    "keen_good_pattern = r\"\\b\" + r\"\\b|\\b\".join(keen_good) + r\"\\b\"\n"
   ]
  },
  {
   "cell_type": "code",
   "execution_count": 141,
   "metadata": {},
   "outputs": [],
   "source": [
    "def create_pattern(word_list):\n",
    "    pattern = r\"\\b\" + r\"\\b|\\b\".join(word_list) + r\"\\b\"\n",
    "    pattern = re.sub(r\"\\s+\",r\" \",pattern)\n",
    "    pattern = re.sub(r\"$\\s+|^\\s+\",r\"\",pattern)\n",
    "    pattern = re.sub(r\"\\s\",r\"-\",pattern)\n",
    "\n",
    "    \n",
    "\n",
    "    pattern = re.sub(r\"-\",r\"\\\\s*-*\\\\s*\",pattern)\n",
    "    return pattern"
   ]
  },
  {
   "cell_type": "code",
   "execution_count": 142,
   "metadata": {},
   "outputs": [],
   "source": [
    "agency_pattern = create_pattern(agency)\n",
    "communality_pattern = create_pattern(communality) \n",
    "grindstone_pattern = create_pattern(grindstone) \n",
    "standout_pattern = create_pattern(standout)\n",
    "social_pattern = create_pattern(social)\n",
    "radiology_pattern = create_pattern(radiology)\n",
    "keen_good_pattern = create_pattern(keen_good)"
   ]
  },
  {
   "cell_type": "code",
   "execution_count": 143,
   "metadata": {},
   "outputs": [],
   "source": [
    "df_female = df_new.loc[(df_new.gender == \"female\")]\n",
    "df_male = df_new.loc[(df_new.gender == \"male\")]\n",
    "df_writer_male = df_new.loc[(df_new.lor_gender == \"male\")]\n",
    "df_writer_female = df_new.loc[(df_new.lor_gender == \"female\")]\n",
    "df_prof = df_new.loc[df_new.standard_position == \"professor\"]\n",
    "df_asso_prof = df_new.loc[df_new.standard_position == \"associate professor\"]\n",
    "df_asis_prof = df_new.loc[df_new.standard_position == \"assistant professor\"]\n",
    "df_other = df_new.loc[df_new.standard_position == \"others\"]\n",
    "df_female_male = df_new.loc[(df_new.lor_gender == \"male\") & (df_new.gender == \"female\")]\n",
    "df_male_male = df_new.loc[(df_new.lor_gender == \"male\") & (df_new.gender == \"male\")]\n",
    "df_female_female = df_new.loc[(df_new.lor_gender == \"female\") & (df_new.gender == \"female\")]\n",
    "df_male_female = df_new.loc[(df_new.lor_gender == \"female\") & (df_new.gender == \"male\")]\n"
   ]
  },
  {
   "cell_type": "code",
   "execution_count": 117,
   "metadata": {},
   "outputs": [],
   "source": [
    "# def get_word_result_agecy_comm(df,column_name):\n",
    "#     df_sentence = get_df_sentence(df, \"lor\")\n",
    "#     df_sentence[\"word\"] = df_sentence.sentence_split.apply(word_tokenize)\n",
    "#     overall_total_word_count = df_sentence.word.str.len().sum()\n",
    "\n",
    "#     found_words_list = df.lor.str.lower().str.findall(agency_pattern).sum()    \n",
    "#     total_agency_comm_words_list = df.lor.str.lower().str.findall(agency_pattern).sum() + df.lor.str.lower().str.findall(communality_pattern).sum()\n",
    "\n",
    "#     if type(found_words_list) == list:\n",
    "#         agency_result = len(found_words_list)\n",
    "#         total_agency_comm_words_list_result = len(total_agency_comm_words_list)\n",
    "#     else:\n",
    "#         agency_result = 0\n",
    "#     print(f\"{column_name}_agency_result\",agency_result)\n",
    "#     print(f\"{column_name}_percentage_agency_result: %\",(agency_result/total_agency_comm_words_list_result)*100)\n",
    "    \n",
    "#     found_words_list = df.lor.str.lower().str.findall(communality_pattern).sum()\n",
    "#     if type(found_words_list) == list:\n",
    "#         communality_result = len(found_words_list)\n",
    "#     else:\n",
    "#         communality_result = 0\n",
    "        \n",
    "#     print(f\"{column_name}_communality_result\",communality_result)\n",
    "#     print(f\"{column_name}_percentage_communality_result: %\",(communality_result/total_agency_comm_words_list_result)*100)"
   ]
  },
  {
   "cell_type": "code",
   "execution_count": 118,
   "metadata": {},
   "outputs": [
    {
     "data": {
      "text/plain": [
       "12"
      ]
     },
     "execution_count": 118,
     "metadata": {},
     "output_type": "execute_result"
    }
   ],
   "source": [
    "sum([3,4,5])"
   ]
  },
  {
   "cell_type": "code",
   "execution_count": null,
   "metadata": {},
   "outputs": [],
   "source": []
  },
  {
   "cell_type": "code",
   "execution_count": 196,
   "metadata": {},
   "outputs": [],
   "source": [
    "word_pattern_list = [agency_pattern,communality_pattern, grindstone_pattern, standout_pattern,social_pattern, radiology_pattern,keen_good_pattern]\n",
    "\n",
    "\n",
    "def get_word_result(df,column_name):\n",
    "    df_sentence = get_df_sentence(df, \"lor\")\n",
    "    df_sentence[\"word\"] = df_sentence.sentence_split.apply(word_tokenize)\n",
    "    #total word count for all word patterns\n",
    "    overall_total_word_count = 0\n",
    "    for pattern in word_pattern_list:\n",
    "        found_special_word_list = df.lor.str.lower().str.findall(pattern).sum() \n",
    "        if type(found_special_word_list) == list:\n",
    "            word_count = len(found_special_word_list)\n",
    "        else:\n",
    "            word_count = 0\n",
    "        overall_total_word_count +=word_count\n",
    "\n",
    "    #overall_total_word_count = df_sentence.word.str.len().sum()\n",
    "\n",
    "    found_words_list = df.lor.str.lower().str.findall(agency_pattern).sum()    \n",
    "\n",
    "    if type(found_words_list) == list:\n",
    "        agency_result = len(found_words_list)\n",
    "    else:\n",
    "        agency_result = 0\n",
    "    print(f\"{column_name}_agency_result\",agency_result)\n",
    "    agency_percentage = (agency_result/overall_total_word_count)*100\n",
    "    print(f\"{column_name}_percentage_agency_result: %\",agency_percentage)\n",
    "    \n",
    "    found_words_list = df.lor.str.lower().str.findall(communality_pattern).sum()\n",
    "    if type(found_words_list) == list:\n",
    "        communality_result = len(found_words_list)\n",
    "    else:\n",
    "        communality_result = 0\n",
    "        \n",
    "    print(f\"{column_name}_communality_result\",communality_result)\n",
    "    communality_percentage = (communality_result/overall_total_word_count)*100\n",
    "    print(f\"{column_name}_percentage_communality_result: %\",communality_percentage)\n",
    "    \n",
    "    found_words_list = df.lor.str.lower().str.findall(grindstone_pattern).sum()\n",
    "    if type(found_words_list) == list:\n",
    "        grindstone_result = len(found_words_list)\n",
    "    else:\n",
    "        grindstone_result = 0\n",
    "    print(f\"{column_name}_grindstone_result\",grindstone_result)\n",
    "    grindstone_percentage = (grindstone_result/overall_total_word_count)*100\n",
    "    print(f\"{column_name}_percentage__grindstone_result: %\",grindstone_percentage)\n",
    "    \n",
    "    found_words_list = df.lor.str.lower().str.findall(standout_pattern).sum()\n",
    "    if type(found_words_list) == list:\n",
    "        standout_result = len(found_words_list)\n",
    "    else:\n",
    "        standout_result = 0\n",
    "    print(f\"{column_name}_standout_result\",standout_result)\n",
    "    standout_percentage = (standout_result/overall_total_word_count)*100\n",
    "    print(f\"{column_name}_percentage_standout_result: %\",standout_percentage)\n",
    "    \n",
    "    found_words_list = df.lor.str.lower().str.findall(social_pattern).sum()\n",
    "    if type(found_words_list) == list:\n",
    "        social_result = len(found_words_list)\n",
    "    else:\n",
    "        social_result = 0\n",
    "    print(f\"{column_name}_social_result\",social_result)\n",
    "    social_percentage = (social_result/overall_total_word_count)*100\n",
    "    print(f\"{column_name}_percentage_social_result: %\",social_percentage)\n",
    "    \n",
    "    \n",
    "    found_words_list = df.lor.str.lower().str.findall(radiology_pattern).sum()\n",
    "    if type(found_words_list) == list:\n",
    "        radiology_result = len(found_words_list)\n",
    "    else:\n",
    "        radiology_result = 0\n",
    "\n",
    "    print(f\"{column_name}_radiology_result\",radiology_result)\n",
    "    radiology_percentage = (radiology_result/overall_total_word_count)*100\n",
    "    print(f\"{column_name}_percentage_radiology_result: %\",radiology_percentage)\n",
    "    \n",
    "    found_words_list = df.lor.str.lower().str.findall(keen_good_pattern).sum()\n",
    "    if type(found_words_list) == list:\n",
    "        keen_good_result = len(found_words_list)\n",
    "    else:\n",
    "        keen_good_result = 0\n",
    "    \n",
    "    print(f\"{column_name}_keen_good_result\",keen_good_result)\n",
    "    keen_good_percentage = (keen_good_result/overall_total_word_count)*100\n",
    "    print(f\"{column_name}_percentage_keen_good_result: %\",keen_good_percentage)\n",
    "    \n",
    "    result_dic = {\"agency_count\":agency_result,\n",
    "                  \"communality_count\":communality_result,\n",
    "                  \"grindstone_count\":grindstone_result,\n",
    "                  \"standout_count\":standout_result,\n",
    "                  \"social_count\": social_result,\n",
    "                  \"radiology_count\":radiology_result,\n",
    "                  \"keen_good_count\":keen_good_result                         \n",
    "                  }\n",
    "    \n",
    "    result_list = result_dic.values()\n",
    "    percentage_list = [agency_percentage,communality_percentage, grindstone_percentage, standout_percentage, social_percentage, radiology_percentage,keen_good_percentage]\n",
    "    df_result = pd.DataFrame({\"word_counts\":result_list,\n",
    "                  \"percentages\":percentage_list},index= list(result_dic.keys()))\n",
    "    df_result.to_csv(f\"./word_counts_results/{column_name}.csv\")\n",
    "    return result_dic"
   ]
  },
  {
   "cell_type": "code",
   "execution_count": 197,
   "metadata": {},
   "outputs": [
    {
     "data": {
      "text/plain": [
       "20.0"
      ]
     },
     "execution_count": 197,
     "metadata": {},
     "output_type": "execute_result"
    }
   ],
   "source": [
    "from scipy.stats import fisher_exact\n",
    "oddsratio, pvalue = fisher_exact([[8, 2], [1, 5]])\n",
    "oddsratio"
   ]
  },
  {
   "cell_type": "code",
   "execution_count": 198,
   "metadata": {},
   "outputs": [
    {
     "ename": "NameError",
     "evalue": "name 'get_word_result_agecy_comm' is not defined",
     "output_type": "error",
     "traceback": [
      "\u001b[1;31m---------------------------------------------------------------------------\u001b[0m",
      "\u001b[1;31mNameError\u001b[0m                                 Traceback (most recent call last)",
      "\u001b[1;32m<ipython-input-198-1abded74ad82>\u001b[0m in \u001b[0;36m<module>\u001b[1;34m\u001b[0m\n\u001b[1;32m----> 1\u001b[1;33m \u001b[0mapp_male_dict\u001b[0m \u001b[1;33m=\u001b[0m \u001b[0mget_word_result_agecy_comm\u001b[0m\u001b[1;33m(\u001b[0m\u001b[0mdf_male\u001b[0m\u001b[1;33m,\u001b[0m\u001b[1;34m\"applicant_male\"\u001b[0m\u001b[1;33m)\u001b[0m\u001b[1;33m\u001b[0m\u001b[1;33m\u001b[0m\u001b[0m\n\u001b[0m",
      "\u001b[1;31mNameError\u001b[0m: name 'get_word_result_agecy_comm' is not defined"
     ]
    }
   ],
   "source": [
    "app_male_dict = get_word_result_agecy_comm(df_male,\"applicant_male\")"
   ]
  },
  {
   "cell_type": "code",
   "execution_count": 199,
   "metadata": {},
   "outputs": [
    {
     "name": "stdout",
     "output_type": "stream",
     "text": [
      "{'agency_count': 3496, 'communality_count': 1536, 'grindstone_count': 917, 'standout_count': 1740, 'social_count': 93, 'radiology_count': 183, 'keen_good_count': 51}\n"
     ]
    }
   ],
   "source": [
    "print(app_male_dict)"
   ]
  },
  {
   "cell_type": "code",
   "execution_count": 200,
   "metadata": {},
   "outputs": [
    {
     "ename": "NameError",
     "evalue": "name 'get_word_result_agecy_comm' is not defined",
     "output_type": "error",
     "traceback": [
      "\u001b[1;31m---------------------------------------------------------------------------\u001b[0m",
      "\u001b[1;31mNameError\u001b[0m                                 Traceback (most recent call last)",
      "\u001b[1;32m<ipython-input-200-66aca9c87bc4>\u001b[0m in \u001b[0;36m<module>\u001b[1;34m\u001b[0m\n\u001b[1;32m----> 1\u001b[1;33m \u001b[0mget_word_result_agecy_comm\u001b[0m\u001b[1;33m(\u001b[0m\u001b[0mdf_female\u001b[0m\u001b[1;33m,\u001b[0m\u001b[1;34m\"applicant_female\"\u001b[0m\u001b[1;33m)\u001b[0m\u001b[1;33m\u001b[0m\u001b[1;33m\u001b[0m\u001b[0m\n\u001b[0m",
      "\u001b[1;31mNameError\u001b[0m: name 'get_word_result_agecy_comm' is not defined"
     ]
    }
   ],
   "source": [
    "get_word_result_agecy_comm(df_female,\"applicant_female\")"
   ]
  },
  {
   "cell_type": "code",
   "execution_count": 201,
   "metadata": {},
   "outputs": [
    {
     "name": "stderr",
     "output_type": "stream",
     "text": [
      "c:\\ProgramData\\Anaconda3\\envs\\k12\\lib\\site-packages\\ipykernel_launcher.py:30: SettingWithCopyWarning: \n",
      "A value is trying to be set on a copy of a slice from a DataFrame.\n",
      "Try using .loc[row_indexer,col_indexer] = value instead\n",
      "\n",
      "See the caveats in the documentation: https://pandas.pydata.org/pandas-docs/stable/user_guide/indexing.html#returning-a-view-versus-a-copy\n",
      "c:\\ProgramData\\Anaconda3\\envs\\k12\\lib\\site-packages\\ipykernel_launcher.py:31: SettingWithCopyWarning: \n",
      "A value is trying to be set on a copy of a slice from a DataFrame.\n",
      "Try using .loc[row_indexer,col_indexer] = value instead\n",
      "\n",
      "See the caveats in the documentation: https://pandas.pydata.org/pandas-docs/stable/user_guide/indexing.html#returning-a-view-versus-a-copy\n"
     ]
    },
    {
     "name": "stdout",
     "output_type": "stream",
     "text": [
      "applicant_male_agency_result 3496\n",
      "applicant_male_percentage_agency_result: % 43.6127744510978\n",
      "applicant_male_communality_result 1536\n",
      "applicant_male_percentage_communality_result: % 19.16167664670659\n",
      "applicant_male_grindstone_result 917\n",
      "applicant_male_percentage__grindstone_result: % 11.439620758483034\n",
      "applicant_male_standout_result 1740\n",
      "applicant_male_percentage_standout_result: % 21.706586826347305\n",
      "applicant_male_social_result 93\n",
      "applicant_male_percentage_social_result: % 1.1601796407185627\n",
      "applicant_male_radiology_result 183\n",
      "applicant_male_percentage_radiology_result: % 2.282934131736527\n",
      "applicant_male_keen_good_result 51\n",
      "applicant_male_percentage_keen_good_result: % 0.6362275449101796\n"
     ]
    }
   ],
   "source": [
    "app_male_dict = get_word_result(df_male,\"applicant_male\")"
   ]
  },
  {
   "cell_type": "code",
   "execution_count": 202,
   "metadata": {},
   "outputs": [
    {
     "data": {
      "text/plain": [
       "{'agency_count': 3496,\n",
       " 'communality_count': 1536,\n",
       " 'grindstone_count': 917,\n",
       " 'standout_count': 1740,\n",
       " 'social_count': 93,\n",
       " 'radiology_count': 183,\n",
       " 'keen_good_count': 51}"
      ]
     },
     "execution_count": 202,
     "metadata": {},
     "output_type": "execute_result"
    }
   ],
   "source": [
    "app_male_dict"
   ]
  },
  {
   "cell_type": "code",
   "execution_count": 203,
   "metadata": {},
   "outputs": [
    {
     "name": "stderr",
     "output_type": "stream",
     "text": [
      "c:\\ProgramData\\Anaconda3\\envs\\k12\\lib\\site-packages\\ipykernel_launcher.py:30: SettingWithCopyWarning: \n",
      "A value is trying to be set on a copy of a slice from a DataFrame.\n",
      "Try using .loc[row_indexer,col_indexer] = value instead\n",
      "\n",
      "See the caveats in the documentation: https://pandas.pydata.org/pandas-docs/stable/user_guide/indexing.html#returning-a-view-versus-a-copy\n",
      "c:\\ProgramData\\Anaconda3\\envs\\k12\\lib\\site-packages\\ipykernel_launcher.py:31: SettingWithCopyWarning: \n",
      "A value is trying to be set on a copy of a slice from a DataFrame.\n",
      "Try using .loc[row_indexer,col_indexer] = value instead\n",
      "\n",
      "See the caveats in the documentation: https://pandas.pydata.org/pandas-docs/stable/user_guide/indexing.html#returning-a-view-versus-a-copy\n"
     ]
    },
    {
     "name": "stdout",
     "output_type": "stream",
     "text": [
      "applicant_female_agency_result 1067\n",
      "applicant_female_percentage_agency_result: % 43.56880359330339\n",
      "applicant_female_communality_result 449\n",
      "applicant_female_percentage_communality_result: % 18.33401388321764\n",
      "applicant_female_grindstone_result 250\n",
      "applicant_female_percentage__grindstone_result: % 10.208248264597795\n",
      "applicant_female_standout_result 567\n",
      "applicant_female_percentage_standout_result: % 23.1523070641078\n",
      "applicant_female_social_result 33\n",
      "applicant_female_percentage_social_result: % 1.347488770926909\n",
      "applicant_female_radiology_result 72\n",
      "applicant_female_percentage_radiology_result: % 2.939975500204165\n",
      "applicant_female_keen_good_result 11\n",
      "applicant_female_percentage_keen_good_result: % 0.449162923642303\n"
     ]
    }
   ],
   "source": [
    "app_female_dict = get_word_result(df_female,\"applicant_female\")"
   ]
  },
  {
   "cell_type": "code",
   "execution_count": 204,
   "metadata": {},
   "outputs": [
    {
     "name": "stdout",
     "output_type": "stream",
     "text": [
      "1.0017898167884483 0.9814282757595731\n"
     ]
    }
   ],
   "source": [
    "\n",
    "app_male_choosen = app_male_dict[\"agency_count\"]\n",
    "app_male_others = sum([value for key,value in app_male_dict.items() if key != \"agency_count\"])\n",
    "app_female_choosen = app_female_dict[\"agency_count\"]\n",
    "app_female_others = sum([value for key,value in app_female_dict.items() if key != \"agency_count\"])\n",
    "\n",
    "\n",
    "oddsratio, pvalue = stats.fisher_exact([[app_male_choosen, app_male_others],[app_female_choosen,app_female_others]])  \n",
    "print(oddsratio, pvalue)\n"
   ]
  },
  {
   "cell_type": "code",
   "execution_count": 205,
   "metadata": {},
   "outputs": [],
   "source": [
    "def get_odds_ratio(word_type,dict_1,dict_2):\n",
    "    \n",
    "    group_1_choosen_type_count = dict_1[word_type+\"_count\"]\n",
    "    group_1_others_count = sum([value for key,value in dict_1.items() if key != word_type+\"_count\"])\n",
    "    group_2_choosen_type_count = dict_2[word_type+\"_count\"]\n",
    "    group_2_others_count = sum([value for key,value in dict_2.items() if key != word_type+\"_count\"])\n",
    "\n",
    "\n",
    "    oddsratio, pvalue = stats.fisher_exact([[group_1_choosen_type_count, group_1_others_count],[group_2_choosen_type_count, group_2_others_count]])  \n",
    "    #print(\"oddsratio:\",oddsratio, \"\\npvalue:\",pvalue)\n",
    "    return oddsratio, pvalue"
   ]
  },
  {
   "cell_type": "code",
   "execution_count": 206,
   "metadata": {},
   "outputs": [],
   "source": [
    "word_type_list = [\"agency\",\"communality\", \"grindstone\", \"standout\",\"social\", \"radiology\",\"keen_good\"]\n"
   ]
  },
  {
   "cell_type": "code",
   "execution_count": 207,
   "metadata": {},
   "outputs": [],
   "source": [
    "def word_odd_analyse(dict_1,dict_2,csv_name):\n",
    "    odds_ratio_list  = []\n",
    "    p_value_list=[]\n",
    "    for word_type in word_type_list:\n",
    "        odds_ratio,p_value = get_odds_ratio(word_type,dict_1,dict_2)\n",
    "        odds_ratio_list.append(odds_ratio)\n",
    "        p_value_list.append(p_value)\n",
    "    df = pd.DataFrame({\"od\":odds_ratio_list,\"p\":p_value_list},index = word_type_list)\n",
    "    df.to_csv(\"./word_odds_results/\"+csv_name)\n",
    "    return df"
   ]
  },
  {
   "cell_type": "code",
   "execution_count": 208,
   "metadata": {},
   "outputs": [],
   "source": [
    "df_appmale_appfemale = word_odd_analyse(app_female_dict,app_male_dict,\"word_odds_appmale_appfemale.csv\")\n"
   ]
  },
  {
   "cell_type": "code",
   "execution_count": 209,
   "metadata": {},
   "outputs": [
    {
     "data": {
      "text/html": [
       "<div>\n",
       "<style scoped>\n",
       "    .dataframe tbody tr th:only-of-type {\n",
       "        vertical-align: middle;\n",
       "    }\n",
       "\n",
       "    .dataframe tbody tr th {\n",
       "        vertical-align: top;\n",
       "    }\n",
       "\n",
       "    .dataframe thead th {\n",
       "        text-align: right;\n",
       "    }\n",
       "</style>\n",
       "<table border=\"1\" class=\"dataframe\">\n",
       "  <thead>\n",
       "    <tr style=\"text-align: right;\">\n",
       "      <th></th>\n",
       "      <th>od</th>\n",
       "      <th>p</th>\n",
       "    </tr>\n",
       "  </thead>\n",
       "  <tbody>\n",
       "    <tr>\n",
       "      <th>agency</th>\n",
       "      <td>0.998213</td>\n",
       "      <td>0.981428</td>\n",
       "    </tr>\n",
       "    <tr>\n",
       "      <th>communality</th>\n",
       "      <td>0.947109</td>\n",
       "      <td>0.377025</td>\n",
       "    </tr>\n",
       "    <tr>\n",
       "      <th>grindstone</th>\n",
       "      <td>0.880121</td>\n",
       "      <td>0.091660</td>\n",
       "    </tr>\n",
       "    <tr>\n",
       "      <th>standout</th>\n",
       "      <td>1.086669</td>\n",
       "      <td>0.132680</td>\n",
       "    </tr>\n",
       "    <tr>\n",
       "      <th>social</th>\n",
       "      <td>1.163654</td>\n",
       "      <td>0.459124</td>\n",
       "    </tr>\n",
       "    <tr>\n",
       "      <th>radiology</th>\n",
       "      <td>1.296523</td>\n",
       "      <td>0.072048</td>\n",
       "    </tr>\n",
       "    <tr>\n",
       "      <th>keen_good</th>\n",
       "      <td>0.704652</td>\n",
       "      <td>0.366498</td>\n",
       "    </tr>\n",
       "  </tbody>\n",
       "</table>\n",
       "</div>"
      ],
      "text/plain": [
       "                   od         p\n",
       "agency       0.998213  0.981428\n",
       "communality  0.947109  0.377025\n",
       "grindstone   0.880121  0.091660\n",
       "standout     1.086669  0.132680\n",
       "social       1.163654  0.459124\n",
       "radiology    1.296523  0.072048\n",
       "keen_good    0.704652  0.366498"
      ]
     },
     "execution_count": 209,
     "metadata": {},
     "output_type": "execute_result"
    }
   ],
   "source": [
    "df_appmale_appfemale"
   ]
  },
  {
   "cell_type": "code",
   "execution_count": 210,
   "metadata": {},
   "outputs": [
    {
     "data": {
      "text/plain": [
       "1.0017898167884483"
      ]
     },
     "execution_count": 210,
     "metadata": {},
     "output_type": "execute_result"
    }
   ],
   "source": [
    "(app_male_choosen/app_male_others)/(app_female_choosen/app_female_others)"
   ]
  },
  {
   "cell_type": "code",
   "execution_count": 211,
   "metadata": {},
   "outputs": [
    {
     "data": {
      "text/plain": [
       "0.9982133809323536"
      ]
     },
     "execution_count": 211,
     "metadata": {},
     "output_type": "execute_result"
    }
   ],
   "source": [
    "(app_female_choosen/app_female_others)/(app_male_choosen/app_male_others)"
   ]
  },
  {
   "cell_type": "code",
   "execution_count": 212,
   "metadata": {},
   "outputs": [
    {
     "data": {
      "text/html": [
       "<div>\n",
       "<style scoped>\n",
       "    .dataframe tbody tr th:only-of-type {\n",
       "        vertical-align: middle;\n",
       "    }\n",
       "\n",
       "    .dataframe tbody tr th {\n",
       "        vertical-align: top;\n",
       "    }\n",
       "\n",
       "    .dataframe thead th {\n",
       "        text-align: right;\n",
       "    }\n",
       "</style>\n",
       "<table border=\"1\" class=\"dataframe\">\n",
       "  <thead>\n",
       "    <tr style=\"text-align: right;\">\n",
       "      <th></th>\n",
       "      <th>Responded</th>\n",
       "      <th>No Response</th>\n",
       "    </tr>\n",
       "  </thead>\n",
       "  <tbody>\n",
       "    <tr>\n",
       "      <th>Males</th>\n",
       "      <td>3496</td>\n",
       "      <td>4520</td>\n",
       "    </tr>\n",
       "    <tr>\n",
       "      <th>Females</th>\n",
       "      <td>1067</td>\n",
       "      <td>1382</td>\n",
       "    </tr>\n",
       "  </tbody>\n",
       "</table>\n",
       "</div>"
      ],
      "text/plain": [
       "         Responded  No Response\n",
       "Males         3496         4520\n",
       "Females       1067         1382"
      ]
     },
     "execution_count": 212,
     "metadata": {},
     "output_type": "execute_result"
    }
   ],
   "source": [
    "ar=np.array([[app_male_choosen, app_male_others],[app_female_choosen, app_female_others]])    \n",
    "df=pd.DataFrame(ar, columns=[\"Responded\", \"No Response\"])\n",
    "df.index=[\"Males\", \"Females\"] \n",
    "df "
   ]
  },
  {
   "cell_type": "code",
   "execution_count": null,
   "metadata": {},
   "outputs": [],
   "source": [
    "\n"
   ]
  },
  {
   "cell_type": "markdown",
   "metadata": {},
   "source": [
    "# Aşağıdaki fonksiyon sonuçlarını ilgili dictionary'e eşitle ve expanded exceldekine göre yeni dataframeler ayarla\n",
    "# Çıktıları otomatikleştir ve kolayca hepsini çıktı al"
   ]
  },
  {
   "cell_type": "code",
   "execution_count": 213,
   "metadata": {},
   "outputs": [
    {
     "name": "stderr",
     "output_type": "stream",
     "text": [
      "c:\\ProgramData\\Anaconda3\\envs\\k12\\lib\\site-packages\\ipykernel_launcher.py:30: SettingWithCopyWarning: \n",
      "A value is trying to be set on a copy of a slice from a DataFrame.\n",
      "Try using .loc[row_indexer,col_indexer] = value instead\n",
      "\n",
      "See the caveats in the documentation: https://pandas.pydata.org/pandas-docs/stable/user_guide/indexing.html#returning-a-view-versus-a-copy\n",
      "c:\\ProgramData\\Anaconda3\\envs\\k12\\lib\\site-packages\\ipykernel_launcher.py:31: SettingWithCopyWarning: \n",
      "A value is trying to be set on a copy of a slice from a DataFrame.\n",
      "Try using .loc[row_indexer,col_indexer] = value instead\n",
      "\n",
      "See the caveats in the documentation: https://pandas.pydata.org/pandas-docs/stable/user_guide/indexing.html#returning-a-view-versus-a-copy\n"
     ]
    },
    {
     "name": "stdout",
     "output_type": "stream",
     "text": [
      "writer_male_agency_result 3639\n",
      "writer_male_percentage_agency_result: % 43.73798076923077\n",
      "writer_male_communality_result 1527\n",
      "writer_male_percentage_communality_result: % 18.353365384615383\n",
      "writer_male_grindstone_result 914\n",
      "writer_male_percentage__grindstone_result: % 10.985576923076923\n",
      "writer_male_standout_result 1895\n",
      "writer_male_percentage_standout_result: % 22.776442307692307\n",
      "writer_male_social_result 100\n",
      "writer_male_percentage_social_result: % 1.201923076923077\n",
      "writer_male_radiology_result 194\n",
      "writer_male_percentage_radiology_result: % 2.331730769230769\n",
      "writer_male_keen_good_result 51\n",
      "writer_male_percentage_keen_good_result: % 0.6129807692307693\n"
     ]
    }
   ],
   "source": [
    "writer_male_dic = get_word_result(df_writer_male,\"writer_male\")"
   ]
  },
  {
   "cell_type": "code",
   "execution_count": 214,
   "metadata": {},
   "outputs": [
    {
     "data": {
      "text/plain": [
       "{'agency_count': 3639,\n",
       " 'communality_count': 1527,\n",
       " 'grindstone_count': 914,\n",
       " 'standout_count': 1895,\n",
       " 'social_count': 100,\n",
       " 'radiology_count': 194,\n",
       " 'keen_good_count': 51}"
      ]
     },
     "execution_count": 214,
     "metadata": {},
     "output_type": "execute_result"
    }
   ],
   "source": [
    "writer_male_dic"
   ]
  },
  {
   "cell_type": "code",
   "execution_count": 215,
   "metadata": {},
   "outputs": [],
   "source": [
    "found_words_list = df_writer_male.lor.str.lower().str.findall(agency_pattern).sum()  "
   ]
  },
  {
   "cell_type": "code",
   "execution_count": 221,
   "metadata": {},
   "outputs": [
    {
     "name": "stderr",
     "output_type": "stream",
     "text": [
      "c:\\ProgramData\\Anaconda3\\envs\\k12\\lib\\site-packages\\ipykernel_launcher.py:30: SettingWithCopyWarning: \n",
      "A value is trying to be set on a copy of a slice from a DataFrame.\n",
      "Try using .loc[row_indexer,col_indexer] = value instead\n",
      "\n",
      "See the caveats in the documentation: https://pandas.pydata.org/pandas-docs/stable/user_guide/indexing.html#returning-a-view-versus-a-copy\n",
      "c:\\ProgramData\\Anaconda3\\envs\\k12\\lib\\site-packages\\ipykernel_launcher.py:31: SettingWithCopyWarning: \n",
      "A value is trying to be set on a copy of a slice from a DataFrame.\n",
      "Try using .loc[row_indexer,col_indexer] = value instead\n",
      "\n",
      "See the caveats in the documentation: https://pandas.pydata.org/pandas-docs/stable/user_guide/indexing.html#returning-a-view-versus-a-copy\n"
     ]
    },
    {
     "name": "stdout",
     "output_type": "stream",
     "text": [
      "applicant_male_agency_result 3496\n",
      "applicant_male_percentage_agency_result: % 43.6127744510978\n",
      "applicant_male_communality_result 1536\n",
      "applicant_male_percentage_communality_result: % 19.16167664670659\n",
      "applicant_male_grindstone_result 917\n",
      "applicant_male_percentage__grindstone_result: % 11.439620758483034\n",
      "applicant_male_standout_result 1740\n",
      "applicant_male_percentage_standout_result: % 21.706586826347305\n",
      "applicant_male_social_result 93\n",
      "applicant_male_percentage_social_result: % 1.1601796407185627\n",
      "applicant_male_radiology_result 183\n",
      "applicant_male_percentage_radiology_result: % 2.282934131736527\n",
      "applicant_male_keen_good_result 51\n",
      "applicant_male_percentage_keen_good_result: % 0.6362275449101796\n",
      "applicant_female_agency_result 1067\n",
      "applicant_female_percentage_agency_result: % 43.56880359330339\n",
      "applicant_female_communality_result 449\n",
      "applicant_female_percentage_communality_result: % 18.33401388321764\n",
      "applicant_female_grindstone_result 250\n",
      "applicant_female_percentage__grindstone_result: % 10.208248264597795\n",
      "applicant_female_standout_result 567\n",
      "applicant_female_percentage_standout_result: % 23.1523070641078\n",
      "applicant_female_social_result 33\n",
      "applicant_female_percentage_social_result: % 1.347488770926909\n",
      "applicant_female_radiology_result 72\n",
      "applicant_female_percentage_radiology_result: % 2.939975500204165\n",
      "applicant_female_keen_good_result 11\n",
      "applicant_female_percentage_keen_good_result: % 0.449162923642303\n"
     ]
    }
   ],
   "source": [
    "app_male_dic = get_word_result(df_male,\"applicant_male\")\n",
    "app_female_dic = get_word_result(df_female,\"applicant_female\")"
   ]
  },
  {
   "cell_type": "code",
   "execution_count": 222,
   "metadata": {},
   "outputs": [
    {
     "name": "stderr",
     "output_type": "stream",
     "text": [
      "c:\\ProgramData\\Anaconda3\\envs\\k12\\lib\\site-packages\\ipykernel_launcher.py:30: SettingWithCopyWarning: \n",
      "A value is trying to be set on a copy of a slice from a DataFrame.\n",
      "Try using .loc[row_indexer,col_indexer] = value instead\n",
      "\n",
      "See the caveats in the documentation: https://pandas.pydata.org/pandas-docs/stable/user_guide/indexing.html#returning-a-view-versus-a-copy\n",
      "c:\\ProgramData\\Anaconda3\\envs\\k12\\lib\\site-packages\\ipykernel_launcher.py:31: SettingWithCopyWarning: \n",
      "A value is trying to be set on a copy of a slice from a DataFrame.\n",
      "Try using .loc[row_indexer,col_indexer] = value instead\n",
      "\n",
      "See the caveats in the documentation: https://pandas.pydata.org/pandas-docs/stable/user_guide/indexing.html#returning-a-view-versus-a-copy\n"
     ]
    },
    {
     "name": "stdout",
     "output_type": "stream",
     "text": [
      "applicant_male_agency_result 3496\n",
      "applicant_male_percentage_agency_result: % 43.6127744510978\n",
      "applicant_male_communality_result 1536\n",
      "applicant_male_percentage_communality_result: % 19.16167664670659\n",
      "applicant_male_grindstone_result 917\n",
      "applicant_male_percentage__grindstone_result: % 11.439620758483034\n",
      "applicant_male_standout_result 1740\n",
      "applicant_male_percentage_standout_result: % 21.706586826347305\n",
      "applicant_male_social_result 93\n",
      "applicant_male_percentage_social_result: % 1.1601796407185627\n",
      "applicant_male_radiology_result 183\n",
      "applicant_male_percentage_radiology_result: % 2.282934131736527\n",
      "applicant_male_keen_good_result 51\n",
      "applicant_male_percentage_keen_good_result: % 0.6362275449101796\n",
      "applicant_female_agency_result 1067\n",
      "applicant_female_percentage_agency_result: % 43.56880359330339\n",
      "applicant_female_communality_result 449\n",
      "applicant_female_percentage_communality_result: % 18.33401388321764\n",
      "applicant_female_grindstone_result 250\n",
      "applicant_female_percentage__grindstone_result: % 10.208248264597795\n",
      "applicant_female_standout_result 567\n",
      "applicant_female_percentage_standout_result: % 23.1523070641078\n",
      "applicant_female_social_result 33\n",
      "applicant_female_percentage_social_result: % 1.347488770926909\n",
      "applicant_female_radiology_result 72\n",
      "applicant_female_percentage_radiology_result: % 2.939975500204165\n",
      "applicant_female_keen_good_result 11\n",
      "applicant_female_percentage_keen_good_result: % 0.449162923642303\n",
      "writer_male_agency_result 3639\n",
      "writer_male_percentage_agency_result: % 43.73798076923077\n",
      "writer_male_communality_result 1527\n",
      "writer_male_percentage_communality_result: % 18.353365384615383\n",
      "writer_male_grindstone_result 914\n",
      "writer_male_percentage__grindstone_result: % 10.985576923076923\n",
      "writer_male_standout_result 1895\n",
      "writer_male_percentage_standout_result: % 22.776442307692307\n",
      "writer_male_social_result 100\n",
      "writer_male_percentage_social_result: % 1.201923076923077\n",
      "writer_male_radiology_result 194\n",
      "writer_male_percentage_radiology_result: % 2.331730769230769\n",
      "writer_male_keen_good_result 51\n",
      "writer_male_percentage_keen_good_result: % 0.6129807692307693\n",
      "writer_female_agency_result 923\n",
      "writer_female_percentage_agency_result: % 43.5377358490566\n",
      "writer_female_communality_result 447\n",
      "writer_female_percentage_communality_result: % 21.08490566037736\n",
      "writer_female_grindstone_result 255\n",
      "writer_female_percentage__grindstone_result: % 12.028301886792454\n",
      "writer_female_standout_result 407\n",
      "writer_female_percentage_standout_result: % 19.19811320754717\n",
      "writer_female_social_result 24\n",
      "writer_female_percentage_social_result: % 1.1320754716981132\n",
      "writer_female_radiology_result 56\n",
      "writer_female_percentage_radiology_result: % 2.6415094339622645\n",
      "writer_female_keen_good_result 8\n",
      "writer_female_percentage_keen_good_result: % 0.37735849056603776\n",
      "writer_male_applicant_female_agency_result 769\n",
      "writer_male_applicant_female_percentage_agency_result: % 44.11933448078027\n",
      "writer_male_applicant_female_communality_result 311\n",
      "writer_male_applicant_female_percentage_communality_result: % 17.842799770510613\n",
      "writer_male_applicant_female_grindstone_result 157\n",
      "writer_male_applicant_female_percentage__grindstone_result: % 9.007458405048768\n",
      "writer_male_applicant_female_standout_result 421\n",
      "writer_male_applicant_female_percentage_standout_result: % 24.153757888697648\n",
      "writer_male_applicant_female_social_result 24\n",
      "writer_male_applicant_female_percentage_social_result: % 1.376936316695353\n",
      "writer_male_applicant_female_radiology_result 53\n",
      "writer_male_applicant_female_percentage_radiology_result: % 3.040734366035571\n",
      "writer_male_applicant_female_keen_good_result 8\n",
      "writer_male_applicant_female_percentage_keen_good_result: % 0.45897877223178424\n",
      "writer_male_applicant_male_agency_result 2843\n",
      "writer_male_applicant_male_percentage_agency_result: % 43.67127496159755\n",
      "writer_male_applicant_male_communality_result 1203\n",
      "writer_male_applicant_male_percentage_communality_result: % 18.47926267281106\n",
      "writer_male_applicant_male_grindstone_result 748\n",
      "writer_male_applicant_male_percentage__grindstone_result: % 11.490015360983103\n",
      "writer_male_applicant_male_standout_result 1457\n",
      "writer_male_applicant_male_percentage_standout_result: % 22.380952380952383\n",
      "writer_male_applicant_male_social_result 76\n",
      "writer_male_applicant_male_percentage_social_result: % 1.1674347158218126\n",
      "writer_male_applicant_male_radiology_result 140\n",
      "writer_male_applicant_male_percentage_radiology_result: % 2.1505376344086025\n",
      "writer_male_applicant_male_keen_good_result 43\n",
      "writer_male_applicant_male_percentage_keen_good_result: % 0.6605222734254993\n",
      "writer_female_applicant_female_agency_result 283\n",
      "writer_female_applicant_female_percentage_agency_result: % 44.012441679626754\n",
      "writer_female_applicant_female_communality_result 119\n",
      "writer_female_applicant_female_percentage_communality_result: % 18.506998444790046\n",
      "writer_female_applicant_female_grindstone_result 86\n",
      "writer_female_applicant_female_percentage__grindstone_result: % 13.374805598755831\n",
      "writer_female_applicant_female_standout_result 130\n",
      "writer_female_applicant_female_percentage_standout_result: % 20.21772939346812\n",
      "writer_female_applicant_female_social_result 8\n",
      "writer_female_applicant_female_percentage_social_result: % 1.244167962674961\n",
      "writer_female_applicant_female_radiology_result 16\n",
      "writer_female_applicant_female_percentage_radiology_result: % 2.488335925349922\n",
      "writer_female_applicant_female_keen_good_result 1\n",
      "writer_female_applicant_female_percentage_keen_good_result: % 0.15552099533437014\n",
      "writer_female_applicant_male_agency_result 637\n",
      "writer_female_applicant_male_percentage_agency_result: % 43.333333333333336\n",
      "writer_female_applicant_male_communality_result 328\n",
      "writer_female_applicant_male_percentage_communality_result: % 22.312925170068027\n",
      "writer_female_applicant_male_grindstone_result 166\n",
      "writer_female_applicant_male_percentage__grindstone_result: % 11.292517006802722\n",
      "writer_female_applicant_male_standout_result 276\n",
      "writer_female_applicant_male_percentage_standout_result: % 18.775510204081634\n",
      "writer_female_applicant_male_social_result 16\n",
      "writer_female_applicant_male_percentage_social_result: % 1.0884353741496597\n",
      "writer_female_applicant_male_radiology_result 40\n",
      "writer_female_applicant_male_percentage_radiology_result: % 2.7210884353741496\n",
      "writer_female_applicant_male_keen_good_result 7\n",
      "writer_female_applicant_male_percentage_keen_good_result: % 0.4761904761904762\n",
      "prof_agency_result 832\n",
      "prof_percentage_agency_result: % 41.39303482587064\n",
      "prof_communality_result 374\n",
      "prof_percentage_communality_result: % 18.606965174129353\n",
      "prof_grindstone_result 221\n",
      "prof_percentage__grindstone_result: % 10.99502487562189\n",
      "prof_standout_result 506\n",
      "prof_percentage_standout_result: % 25.17412935323383\n",
      "prof_social_result 23\n",
      "prof_percentage_social_result: % 1.144278606965174\n",
      "prof_radiology_result 44\n",
      "prof_percentage_radiology_result: % 2.1890547263681595\n",
      "prof_keen_good_result 10\n",
      "prof_percentage_keen_good_result: % 0.4975124378109453\n",
      "asso_agency_result 889\n",
      "asso_percentage_agency_result: % 43.42940889106009\n",
      "asso_communality_result 387\n",
      "asso_percentage_communality_result: % 18.9057156814851\n",
      "asso_grindstone_result 233\n",
      "asso_percentage__grindstone_result: % 11.382510991695163\n",
      "asso_standout_result 445\n",
      "asso_percentage_standout_result: % 21.73913043478261\n",
      "asso_social_result 23\n",
      "asso_percentage_social_result: % 1.1235955056179776\n",
      "asso_radiology_result 53\n",
      "asso_percentage_radiology_result: % 2.589154860771861\n",
      "asso_keen_good_result 17\n",
      "asso_percentage_keen_good_result: % 0.8304836345872008\n",
      "asis_agency_result 1059\n",
      "asis_percentage_agency_result: % 46.06350587211831\n",
      "asis_communality_result 426\n",
      "asis_percentage_communality_result: % 18.52979556328839\n",
      "asis_grindstone_result 252\n",
      "asis_percentage__grindstone_result: % 10.96128751631144\n",
      "asis_standout_result 478\n",
      "asis_percentage_standout_result: % 20.791648542844715\n",
      "asis_social_result 23\n",
      "asis_percentage_social_result: % 1.0004349717268377\n",
      "asis_radiology_result 52\n",
      "asis_percentage_radiology_result: % 2.2618529795563287\n",
      "asis_keen_good_result 9\n",
      "asis_percentage_keen_good_result: % 0.39147455415397997\n",
      "others_agency_result 760\n",
      "others_percentage_agency_result: % 42.08194905869325\n",
      "others_communality_result 357\n",
      "others_percentage_communality_result: % 19.767441860465116\n",
      "others_grindstone_result 213\n",
      "others_percentage__grindstone_result: % 11.794019933554816\n",
      "others_standout_result 408\n",
      "others_percentage_standout_result: % 22.591362126245848\n",
      "others_social_result 22\n",
      "others_percentage_social_result: % 1.2181616832779625\n",
      "others_radiology_result 42\n",
      "others_percentage_radiology_result: % 2.3255813953488373\n",
      "others_keen_good_result 4\n",
      "others_percentage_keen_good_result: % 0.22148394241417496\n"
     ]
    }
   ],
   "source": [
    "app_male_dic = get_word_result(df_male, \"applicant_male\")\n",
    "app_female_dic = get_word_result(df_female, \"applicant_female\")\n",
    "writer_male_dic = get_word_result(df_writer_male, \"writer_male\")\n",
    "writer_female_dic = get_word_result(df_writer_female, \"writer_female\")\n",
    "writer_male_applicant_female_dic = get_word_result(\n",
    "    df_female_male, \"writer_male_applicant_female\"\n",
    ")\n",
    "writer_male_applicant_male_dic = get_word_result(\n",
    "    df_male_male, \"writer_male_applicant_male\"\n",
    ")\n",
    "writer_female_applicant_female_dic = get_word_result(\n",
    "    df_female_female, \"writer_female_applicant_female\"\n",
    ")\n",
    "writer_female_applicant_male_dic = get_word_result(\n",
    "    df_male_female, \"writer_female_applicant_male\"\n",
    ")\n",
    "prof_dic = get_word_result(df_prof, \"prof\")\n",
    "asso_dic = get_word_result(df_asso_prof, \"asso\")\n",
    "asis_dic = get_word_result(df_asis_prof, \"asis\")\n",
    "others_dic = get_word_result(df_other, \"others\")\n",
    "\n"
   ]
  },
  {
   "cell_type": "code",
   "execution_count": null,
   "metadata": {},
   "outputs": [
    {
     "data": {
      "text/plain": [
       "{'agency_count': 923,\n",
       " 'communality_count': 447,\n",
       " 'grindstone_count': 255,\n",
       " 'standout_count': 407,\n",
       " 'social_count': 24,\n",
       " 'radiology_count': 56,\n",
       " 'keen_good_count': 8}"
      ]
     },
     "execution_count": 194,
     "metadata": {},
     "output_type": "execute_result"
    }
   ],
   "source": [
    "writer_female_dic"
   ]
  },
  {
   "cell_type": "code",
   "execution_count": null,
   "metadata": {},
   "outputs": [
    {
     "data": {
      "text/plain": [
       "{'agency_count': 283,\n",
       " 'communality_count': 119,\n",
       " 'grindstone_count': 86,\n",
       " 'standout_count': 130,\n",
       " 'social_count': 8,\n",
       " 'radiology_count': 16,\n",
       " 'keen_good_count': 1}"
      ]
     },
     "execution_count": 162,
     "metadata": {},
     "output_type": "execute_result"
    }
   ],
   "source": [
    "writer_female_applicant_female_dic"
   ]
  },
  {
   "cell_type": "code",
   "execution_count": 223,
   "metadata": {},
   "outputs": [
    {
     "data": {
      "text/html": [
       "<div>\n",
       "<style scoped>\n",
       "    .dataframe tbody tr th:only-of-type {\n",
       "        vertical-align: middle;\n",
       "    }\n",
       "\n",
       "    .dataframe tbody tr th {\n",
       "        vertical-align: top;\n",
       "    }\n",
       "\n",
       "    .dataframe thead th {\n",
       "        text-align: right;\n",
       "    }\n",
       "</style>\n",
       "<table border=\"1\" class=\"dataframe\">\n",
       "  <thead>\n",
       "    <tr style=\"text-align: right;\">\n",
       "      <th></th>\n",
       "      <th>od</th>\n",
       "      <th>p</th>\n",
       "    </tr>\n",
       "  </thead>\n",
       "  <tbody>\n",
       "    <tr>\n",
       "      <th>agency</th>\n",
       "      <td>0.998213</td>\n",
       "      <td>0.981428</td>\n",
       "    </tr>\n",
       "    <tr>\n",
       "      <th>communality</th>\n",
       "      <td>0.947109</td>\n",
       "      <td>0.377025</td>\n",
       "    </tr>\n",
       "    <tr>\n",
       "      <th>grindstone</th>\n",
       "      <td>0.880121</td>\n",
       "      <td>0.091660</td>\n",
       "    </tr>\n",
       "    <tr>\n",
       "      <th>standout</th>\n",
       "      <td>1.086669</td>\n",
       "      <td>0.132680</td>\n",
       "    </tr>\n",
       "    <tr>\n",
       "      <th>social</th>\n",
       "      <td>1.163654</td>\n",
       "      <td>0.459124</td>\n",
       "    </tr>\n",
       "    <tr>\n",
       "      <th>radiology</th>\n",
       "      <td>1.296523</td>\n",
       "      <td>0.072048</td>\n",
       "    </tr>\n",
       "    <tr>\n",
       "      <th>keen_good</th>\n",
       "      <td>0.704652</td>\n",
       "      <td>0.366498</td>\n",
       "    </tr>\n",
       "  </tbody>\n",
       "</table>\n",
       "</div>"
      ],
      "text/plain": [
       "                   od         p\n",
       "agency       0.998213  0.981428\n",
       "communality  0.947109  0.377025\n",
       "grindstone   0.880121  0.091660\n",
       "standout     1.086669  0.132680\n",
       "social       1.163654  0.459124\n",
       "radiology    1.296523  0.072048\n",
       "keen_good    0.704652  0.366498"
      ]
     },
     "execution_count": 223,
     "metadata": {},
     "output_type": "execute_result"
    }
   ],
   "source": [
    "df_appmale_appfemale = word_odd_analyse(app_female_dict,app_male_dict,\"app_male-app_female.csv\")\n",
    "df_appmale_appfemale"
   ]
  },
  {
   "cell_type": "code",
   "execution_count": 224,
   "metadata": {},
   "outputs": [
    {
     "data": {
      "text/html": [
       "<div>\n",
       "<style scoped>\n",
       "    .dataframe tbody tr th:only-of-type {\n",
       "        vertical-align: middle;\n",
       "    }\n",
       "\n",
       "    .dataframe tbody tr th {\n",
       "        vertical-align: top;\n",
       "    }\n",
       "\n",
       "    .dataframe thead th {\n",
       "        text-align: right;\n",
       "    }\n",
       "</style>\n",
       "<table border=\"1\" class=\"dataframe\">\n",
       "  <thead>\n",
       "    <tr style=\"text-align: right;\">\n",
       "      <th></th>\n",
       "      <th>od</th>\n",
       "      <th>p</th>\n",
       "    </tr>\n",
       "  </thead>\n",
       "  <tbody>\n",
       "    <tr>\n",
       "      <th>agency</th>\n",
       "      <td>1.027991</td>\n",
       "      <td>0.775019</td>\n",
       "    </tr>\n",
       "    <tr>\n",
       "      <th>communality</th>\n",
       "      <td>0.790693</td>\n",
       "      <td>0.049239</td>\n",
       "    </tr>\n",
       "    <tr>\n",
       "      <th>grindstone</th>\n",
       "      <td>1.212866</td>\n",
       "      <td>0.189082</td>\n",
       "    </tr>\n",
       "    <tr>\n",
       "      <th>standout</th>\n",
       "      <td>1.096279</td>\n",
       "      <td>0.436036</td>\n",
       "    </tr>\n",
       "    <tr>\n",
       "      <th>social</th>\n",
       "      <td>1.144882</td>\n",
       "      <td>0.823857</td>\n",
       "    </tr>\n",
       "    <tr>\n",
       "      <th>radiology</th>\n",
       "      <td>0.912281</td>\n",
       "      <td>0.883150</td>\n",
       "    </tr>\n",
       "    <tr>\n",
       "      <th>keen_good</th>\n",
       "      <td>0.325545</td>\n",
       "      <td>0.447976</td>\n",
       "    </tr>\n",
       "  </tbody>\n",
       "</table>\n",
       "</div>"
      ],
      "text/plain": [
       "                   od         p\n",
       "agency       1.027991  0.775019\n",
       "communality  0.790693  0.049239\n",
       "grindstone   1.212866  0.189082\n",
       "standout     1.096279  0.436036\n",
       "social       1.144882  0.823857\n",
       "radiology    0.912281  0.883150\n",
       "keen_good    0.325545  0.447976"
      ]
     },
     "execution_count": 224,
     "metadata": {},
     "output_type": "execute_result"
    }
   ],
   "source": [
    "df_female_female_odds = word_odd_analyse(writer_female_applicant_female_dic,writer_female_applicant_male_dic,\"wr_female_app_female-wr_female_app_male.csv\")\n",
    "df_female_female_odds"
   ]
  },
  {
   "cell_type": "code",
   "execution_count": 225,
   "metadata": {},
   "outputs": [],
   "source": [
    "df_male_male_odds = word_odd_analyse(writer_male_applicant_female_dic,writer_male_applicant_male_dic,\"wr_male_app_female-wr_male_app_male.csv\")"
   ]
  },
  {
   "cell_type": "code",
   "execution_count": 226,
   "metadata": {},
   "outputs": [
    {
     "data": {
      "text/html": [
       "<div>\n",
       "<style scoped>\n",
       "    .dataframe tbody tr th:only-of-type {\n",
       "        vertical-align: middle;\n",
       "    }\n",
       "\n",
       "    .dataframe tbody tr th {\n",
       "        vertical-align: top;\n",
       "    }\n",
       "\n",
       "    .dataframe thead th {\n",
       "        text-align: right;\n",
       "    }\n",
       "</style>\n",
       "<table border=\"1\" class=\"dataframe\">\n",
       "  <thead>\n",
       "    <tr style=\"text-align: right;\">\n",
       "      <th></th>\n",
       "      <th>od</th>\n",
       "      <th>p</th>\n",
       "    </tr>\n",
       "  </thead>\n",
       "  <tbody>\n",
       "    <tr>\n",
       "      <th>agency</th>\n",
       "      <td>1.018360</td>\n",
       "      <td>0.744333</td>\n",
       "    </tr>\n",
       "    <tr>\n",
       "      <th>communality</th>\n",
       "      <td>0.958078</td>\n",
       "      <td>0.553809</td>\n",
       "    </tr>\n",
       "    <tr>\n",
       "      <th>grindstone</th>\n",
       "      <td>0.762550</td>\n",
       "      <td>0.002893</td>\n",
       "    </tr>\n",
       "    <tr>\n",
       "      <th>standout</th>\n",
       "      <td>1.104436</td>\n",
       "      <td>0.122592</td>\n",
       "    </tr>\n",
       "    <tr>\n",
       "      <th>social</th>\n",
       "      <td>1.181960</td>\n",
       "      <td>0.461027</td>\n",
       "    </tr>\n",
       "    <tr>\n",
       "      <th>radiology</th>\n",
       "      <td>1.426923</td>\n",
       "      <td>0.032177</td>\n",
       "    </tr>\n",
       "    <tr>\n",
       "      <th>keen_good</th>\n",
       "      <td>0.693466</td>\n",
       "      <td>0.393729</td>\n",
       "    </tr>\n",
       "  </tbody>\n",
       "</table>\n",
       "</div>"
      ],
      "text/plain": [
       "                   od         p\n",
       "agency       1.018360  0.744333\n",
       "communality  0.958078  0.553809\n",
       "grindstone   0.762550  0.002893\n",
       "standout     1.104436  0.122592\n",
       "social       1.181960  0.461027\n",
       "radiology    1.426923  0.032177\n",
       "keen_good    0.693466  0.393729"
      ]
     },
     "execution_count": 226,
     "metadata": {},
     "output_type": "execute_result"
    }
   ],
   "source": [
    "df_male_male_odds"
   ]
  },
  {
   "cell_type": "code",
   "execution_count": 227,
   "metadata": {},
   "outputs": [],
   "source": [
    "df_appfemale_odds = word_odd_analyse(writer_female_applicant_female_dic,writer_male_applicant_female_dic,\"wr_female_app_female-wr_male_app_female.csv\")"
   ]
  },
  {
   "cell_type": "code",
   "execution_count": 228,
   "metadata": {},
   "outputs": [],
   "source": [
    "df_appmale_odds = word_odd_analyse(writer_female_applicant_male_dic,writer_male_applicant_male_dic,\"wr_female_app_male-wr_male_app_male.csv\")"
   ]
  },
  {
   "cell_type": "code",
   "execution_count": 229,
   "metadata": {},
   "outputs": [],
   "source": [
    "writer_female_dic2writer_male_dic = word_odd_analyse(writer_female_dic,writer_male_dic,\"wr_female-wr_male.csv\")"
   ]
  },
  {
   "cell_type": "code",
   "execution_count": 230,
   "metadata": {},
   "outputs": [],
   "source": [
    "writer_female_dic2writer_male_dic = word_odd_analyse(writer_female_dic,writer_male_dic,\"wr_female-wr_male.csv\")"
   ]
  },
  {
   "cell_type": "code",
   "execution_count": 231,
   "metadata": {},
   "outputs": [],
   "source": [
    "df_female = df_new.loc[(df_new.gender == \"female\")]\n",
    "df_male = df_new.loc[(df_new.gender == \"male\")]\n",
    "df_writer_male = df_new.loc[(df_new.lor_gender == \"male\")]\n",
    "df_writer_female = df_new.loc[(df_new.lor_gender == \"female\")]\n"
   ]
  },
  {
   "cell_type": "code",
   "execution_count": 232,
   "metadata": {},
   "outputs": [
    {
     "name": "stderr",
     "output_type": "stream",
     "text": [
      "c:\\ProgramData\\Anaconda3\\envs\\k12\\lib\\site-packages\\ipykernel_launcher.py:30: SettingWithCopyWarning: \n",
      "A value is trying to be set on a copy of a slice from a DataFrame.\n",
      "Try using .loc[row_indexer,col_indexer] = value instead\n",
      "\n",
      "See the caveats in the documentation: https://pandas.pydata.org/pandas-docs/stable/user_guide/indexing.html#returning-a-view-versus-a-copy\n",
      "c:\\ProgramData\\Anaconda3\\envs\\k12\\lib\\site-packages\\ipykernel_launcher.py:31: SettingWithCopyWarning: \n",
      "A value is trying to be set on a copy of a slice from a DataFrame.\n",
      "Try using .loc[row_indexer,col_indexer] = value instead\n",
      "\n",
      "See the caveats in the documentation: https://pandas.pydata.org/pandas-docs/stable/user_guide/indexing.html#returning-a-view-versus-a-copy\n"
     ]
    },
    {
     "name": "stdout",
     "output_type": "stream",
     "text": [
      "female_prof_agency_result 174\n",
      "female_prof_percentage_agency_result: % 43.28358208955223\n",
      "female_prof_communality_result 81\n",
      "female_prof_percentage_communality_result: % 20.149253731343283\n",
      "female_prof_grindstone_result 50\n",
      "female_prof_percentage__grindstone_result: % 12.437810945273633\n",
      "female_prof_standout_result 76\n",
      "female_prof_percentage_standout_result: % 18.90547263681592\n",
      "female_prof_social_result 6\n",
      "female_prof_percentage_social_result: % 1.4925373134328357\n",
      "female_prof_radiology_result 14\n",
      "female_prof_percentage_radiology_result: % 3.482587064676617\n",
      "female_prof_keen_good_result 1\n",
      "female_prof_percentage_keen_good_result: % 0.24875621890547264\n",
      "female_asso_prof_agency_result 214\n",
      "female_asso_prof_percentage_agency_result: % 46.12068965517241\n",
      "female_asso_prof_communality_result 109\n",
      "female_asso_prof_percentage_communality_result: % 23.49137931034483\n",
      "female_asso_prof_grindstone_result 53\n",
      "female_asso_prof_percentage__grindstone_result: % 11.422413793103448\n",
      "female_asso_prof_standout_result 75\n",
      "female_asso_prof_percentage_standout_result: % 16.163793103448278\n",
      "female_asso_prof_social_result 4\n",
      "female_asso_prof_percentage_social_result: % 0.8620689655172413\n",
      "female_asso_prof_radiology_result 7\n",
      "female_asso_prof_percentage_radiology_result: % 1.5086206896551724\n",
      "female_asso_prof_keen_good_result 2\n",
      "female_asso_prof_percentage_keen_good_result: % 0.43103448275862066\n",
      "female_asis_prof_agency_result 249\n",
      "female_asis_prof_percentage_agency_result: % 46.02587800369686\n",
      "female_asis_prof_communality_result 108\n",
      "female_asis_prof_percentage_communality_result: % 19.963031423290204\n",
      "female_asis_prof_grindstone_result 65\n",
      "female_asis_prof_percentage__grindstone_result: % 12.014787430683919\n",
      "female_asis_prof_standout_result 105\n",
      "female_asis_prof_percentage_standout_result: % 19.408502772643253\n",
      "female_asis_prof_social_result 5\n",
      "female_asis_prof_percentage_social_result: % 0.9242144177449169\n",
      "female_asis_prof_radiology_result 8\n",
      "female_asis_prof_percentage_radiology_result: % 1.478743068391867\n",
      "female_asis_prof_keen_good_result 1\n",
      "female_asis_prof_percentage_keen_good_result: % 0.18484288354898337\n",
      "female_other_prof_agency_result 125\n",
      "female_other_prof_percentage_agency_result: % 39.80891719745223\n",
      "female_other_prof_communality_result 65\n",
      "female_other_prof_percentage_communality_result: % 20.70063694267516\n",
      "female_other_prof_grindstone_result 45\n",
      "female_other_prof_percentage__grindstone_result: % 14.331210191082802\n",
      "female_other_prof_standout_result 68\n",
      "female_other_prof_percentage_standout_result: % 21.656050955414013\n",
      "female_other_prof_social_result 4\n",
      "female_other_prof_percentage_social_result: % 1.2738853503184715\n",
      "female_other_prof_radiology_result 7\n",
      "female_other_prof_percentage_radiology_result: % 2.229299363057325\n",
      "female_other_prof_keen_good_result 0\n",
      "female_other_prof_percentage_keen_good_result: % 0.0\n"
     ]
    }
   ],
   "source": [
    "\n",
    "df_female_prof = df_new.loc[(df_new.standard_position == \"professor\") & (df_new.lor_gender == \"female\")]\n",
    "df_female_asso_prof = df_new.loc[(df_new.standard_position == \"associate professor\") & (df_new.lor_gender == \"female\")]\n",
    "df_female_asis_prof = df_new.loc[(df_new.standard_position == \"assistant professor\")& (df_new.lor_gender == \"female\")]\n",
    "df_female_other = df_new.loc[(df_new.standard_position == \"others\") & (df_new.lor_gender == \"female\")]\n",
    "\n",
    "female_prof_dic = get_word_result(df_female_prof, \"female_prof\")\n",
    "female_asso_prof_dic = get_word_result(df_female_asso_prof, \"female_asso_prof\")\n",
    "female_asis_prof_dic = get_word_result(df_female_asis_prof, \"female_asis_prof\")\n",
    "female_other_prof_dic = get_word_result(df_female_other, \"female_other_prof\")"
   ]
  },
  {
   "cell_type": "code",
   "execution_count": 233,
   "metadata": {},
   "outputs": [
    {
     "name": "stderr",
     "output_type": "stream",
     "text": [
      "c:\\ProgramData\\Anaconda3\\envs\\k12\\lib\\site-packages\\ipykernel_launcher.py:30: SettingWithCopyWarning: \n",
      "A value is trying to be set on a copy of a slice from a DataFrame.\n",
      "Try using .loc[row_indexer,col_indexer] = value instead\n",
      "\n",
      "See the caveats in the documentation: https://pandas.pydata.org/pandas-docs/stable/user_guide/indexing.html#returning-a-view-versus-a-copy\n",
      "c:\\ProgramData\\Anaconda3\\envs\\k12\\lib\\site-packages\\ipykernel_launcher.py:31: SettingWithCopyWarning: \n",
      "A value is trying to be set on a copy of a slice from a DataFrame.\n",
      "Try using .loc[row_indexer,col_indexer] = value instead\n",
      "\n",
      "See the caveats in the documentation: https://pandas.pydata.org/pandas-docs/stable/user_guide/indexing.html#returning-a-view-versus-a-copy\n"
     ]
    },
    {
     "name": "stdout",
     "output_type": "stream",
     "text": [
      "male_prof_agency_result 651\n",
      "male_prof_percentage_agency_result: % 40.81504702194357\n",
      "male_prof_communality_result 293\n",
      "male_prof_percentage_communality_result: % 18.369905956112852\n",
      "male_prof_grindstone_result 171\n",
      "male_prof_percentage__grindstone_result: % 10.721003134796238\n",
      "male_prof_standout_result 424\n",
      "male_prof_percentage_standout_result: % 26.583072100313483\n",
      "male_prof_social_result 17\n",
      "male_prof_percentage_social_result: % 1.0658307210031348\n",
      "male_prof_radiology_result 30\n",
      "male_prof_percentage_radiology_result: % 1.8808777429467085\n",
      "male_prof_keen_good_result 9\n",
      "male_prof_percentage_keen_good_result: % 0.5642633228840125\n",
      "male_asso_prof_agency_result 671\n",
      "male_asso_prof_percentage_agency_result: % 43.04041051956382\n",
      "male_asso_prof_communality_result 271\n",
      "male_asso_prof_percentage_communality_result: % 17.38293778062861\n",
      "male_asso_prof_grindstone_result 177\n",
      "male_asso_prof_percentage__grindstone_result: % 11.353431686978832\n",
      "male_asso_prof_standout_result 364\n",
      "male_asso_prof_percentage_standout_result: % 23.348300192431047\n",
      "male_asso_prof_social_result 19\n",
      "male_asso_prof_percentage_social_result: % 1.2187299550994226\n",
      "male_asso_prof_radiology_result 44\n",
      "male_asso_prof_percentage_radiology_result: % 2.8223220012828736\n",
      "male_asso_prof_keen_good_result 13\n",
      "male_asso_prof_percentage_keen_good_result: % 0.8338678640153944\n",
      "male_asis_prof_agency_result 797\n",
      "male_asis_prof_percentage_agency_result: % 46.39115250291036\n",
      "male_asis_prof_communality_result 311\n",
      "male_asis_prof_percentage_communality_result: % 18.10244470314319\n",
      "male_asis_prof_grindstone_result 180\n",
      "male_asis_prof_percentage__grindstone_result: % 10.477299185098952\n",
      "male_asis_prof_standout_result 363\n",
      "male_asis_prof_percentage_standout_result: % 21.129220023282887\n",
      "male_asis_prof_social_result 17\n",
      "male_asis_prof_percentage_social_result: % 0.989522700814901\n",
      "male_asis_prof_radiology_result 42\n",
      "male_asis_prof_percentage_radiology_result: % 2.4447031431897557\n",
      "male_asis_prof_keen_good_result 8\n",
      "male_asis_prof_percentage_keen_good_result: % 0.46565774155995343\n",
      "male_other_prof_agency_result 635\n",
      "male_other_prof_percentage_agency_result: % 42.56032171581769\n",
      "male_other_prof_communality_result 292\n",
      "male_other_prof_percentage_communality_result: % 19.571045576407506\n",
      "male_other_prof_grindstone_result 168\n",
      "male_other_prof_percentage__grindstone_result: % 11.26005361930295\n",
      "male_other_prof_standout_result 340\n",
      "male_other_prof_percentage_standout_result: % 22.78820375335121\n",
      "male_other_prof_social_result 18\n",
      "male_other_prof_percentage_social_result: % 1.2064343163538873\n",
      "male_other_prof_radiology_result 35\n",
      "male_other_prof_percentage_radiology_result: % 2.3458445040214477\n",
      "male_other_prof_keen_good_result 4\n",
      "male_other_prof_percentage_keen_good_result: % 0.2680965147453083\n"
     ]
    }
   ],
   "source": [
    "df_male_prof = df_new.loc[(df_new.standard_position == \"professor\") & (df_new.lor_gender == \"male\")]\n",
    "df_male_asso_prof = df_new.loc[(df_new.standard_position == \"associate professor\") & (df_new.lor_gender == \"male\")]\n",
    "df_male_asis_prof = df_new.loc[(df_new.standard_position == \"assistant professor\")& (df_new.lor_gender == \"male\")]\n",
    "df_male_other = df_new.loc[(df_new.standard_position == \"others\") & (df_new.lor_gender == \"male\")]\n",
    "\n",
    "male_prof_dic = get_word_result(df_male_prof, \"male_prof\")\n",
    "male_asso_prof_dic = get_word_result(df_male_asso_prof, \"male_asso_prof\")\n",
    "male_asis_prof_dic = get_word_result(df_male_asis_prof, \"male_asis_prof\")\n",
    "male_other_prof_dic = get_word_result(df_male_other, \"male_other_prof\")"
   ]
  },
  {
   "cell_type": "code",
   "execution_count": 234,
   "metadata": {},
   "outputs": [
    {
     "name": "stderr",
     "output_type": "stream",
     "text": [
      "c:\\ProgramData\\Anaconda3\\envs\\k12\\lib\\site-packages\\ipykernel_launcher.py:30: SettingWithCopyWarning: \n",
      "A value is trying to be set on a copy of a slice from a DataFrame.\n",
      "Try using .loc[row_indexer,col_indexer] = value instead\n",
      "\n",
      "See the caveats in the documentation: https://pandas.pydata.org/pandas-docs/stable/user_guide/indexing.html#returning-a-view-versus-a-copy\n",
      "c:\\ProgramData\\Anaconda3\\envs\\k12\\lib\\site-packages\\ipykernel_launcher.py:31: SettingWithCopyWarning: \n",
      "A value is trying to be set on a copy of a slice from a DataFrame.\n",
      "Try using .loc[row_indexer,col_indexer] = value instead\n",
      "\n",
      "See the caveats in the documentation: https://pandas.pydata.org/pandas-docs/stable/user_guide/indexing.html#returning-a-view-versus-a-copy\n"
     ]
    },
    {
     "name": "stdout",
     "output_type": "stream",
     "text": [
      "male_prof_male_app_agency_result 496\n",
      "male_prof_male_app_percentage_agency_result: % 39.96776792908944\n",
      "male_prof_male_app_communality_result 233\n",
      "male_prof_male_app_percentage_communality_result: % 18.77518130539887\n",
      "male_prof_male_app_grindstone_result 139\n",
      "male_prof_male_app_percentage__grindstone_result: % 11.200644641418211\n",
      "male_prof_male_app_standout_result 328\n",
      "male_prof_male_app_percentage_standout_result: % 26.43029814665592\n",
      "male_prof_male_app_social_result 14\n",
      "male_prof_male_app_percentage_social_result: % 1.1281224818694602\n",
      "male_prof_male_app_radiology_result 23\n",
      "male_prof_male_app_percentage_radiology_result: % 1.8533440773569703\n",
      "male_prof_male_app_keen_good_result 8\n",
      "male_prof_male_app_percentage_keen_good_result: % 0.6446414182111201\n",
      "male_asso_prof_male_app_agency_result 514\n",
      "male_asso_prof_male_app_percentage_agency_result: % 42.40924092409241\n",
      "male_asso_prof_male_app_communality_result 223\n",
      "male_asso_prof_male_app_percentage_communality_result: % 18.3993399339934\n",
      "male_asso_prof_male_app_grindstone_result 140\n",
      "male_asso_prof_male_app_percentage__grindstone_result: % 11.55115511551155\n",
      "male_asso_prof_male_app_standout_result 279\n",
      "male_asso_prof_male_app_percentage_standout_result: % 23.01980198019802\n",
      "male_asso_prof_male_app_social_result 14\n",
      "male_asso_prof_male_app_percentage_social_result: % 1.155115511551155\n",
      "male_asso_prof_male_app_radiology_result 30\n",
      "male_asso_prof_male_app_percentage_radiology_result: % 2.4752475247524752\n",
      "male_asso_prof_male_app_keen_good_result 12\n",
      "male_asso_prof_male_app_percentage_keen_good_result: % 0.9900990099009901\n",
      "male_asis_prof_male_app_agency_result 590\n",
      "male_asis_prof_male_app_percentage_agency_result: % 45.349730976172175\n",
      "male_asis_prof_male_app_communality_result 237\n",
      "male_asis_prof_male_app_percentage_communality_result: % 18.216756341275943\n",
      "male_asis_prof_male_app_grindstone_result 150\n",
      "male_asis_prof_male_app_percentage__grindstone_result: % 11.529592621060722\n",
      "male_asis_prof_male_app_standout_result 275\n",
      "male_asis_prof_male_app_percentage_standout_result: % 21.13758647194466\n",
      "male_asis_prof_male_app_social_result 14\n",
      "male_asis_prof_male_app_percentage_social_result: % 1.0760953112990008\n",
      "male_asis_prof_male_app_radiology_result 29\n",
      "male_asis_prof_male_app_percentage_radiology_result: % 2.2290545734050733\n",
      "male_asis_prof_male_app_keen_good_result 6\n",
      "male_asis_prof_male_app_percentage_keen_good_result: % 0.4611837048424289\n",
      "male_other_prof_male_app_agency_result 515\n",
      "male_other_prof_male_app_percentage_agency_result: % 43.68108566581849\n",
      "male_other_prof_male_app_communality_result 226\n",
      "male_other_prof_male_app_percentage_communality_result: % 19.168787107718405\n",
      "male_other_prof_male_app_grindstone_result 140\n",
      "male_other_prof_male_app_percentage__grindstone_result: % 11.874469889737066\n",
      "male_other_prof_male_app_standout_result 262\n",
      "male_other_prof_male_app_percentage_standout_result: % 22.22222222222222\n",
      "male_other_prof_male_app_social_result 10\n",
      "male_other_prof_male_app_percentage_social_result: % 0.8481764206955046\n",
      "male_other_prof_male_app_radiology_result 24\n",
      "male_other_prof_male_app_percentage_radiology_result: % 2.035623409669211\n",
      "male_other_prof_male_app_keen_good_result 2\n",
      "male_other_prof_male_app_percentage_keen_good_result: % 0.16963528413910092\n"
     ]
    }
   ],
   "source": [
    "\n",
    "df_male_prof_male_app = df_new.loc[(df_new.standard_position == \"professor\") & (df_new.lor_gender == \"male\")& (df_new.gender == \"male\")]\n",
    "df_male_asso_prof_male_app = df_new.loc[(df_new.standard_position == \"associate professor\") & (df_new.lor_gender == \"male\")& (df_new.gender == \"male\")]\n",
    "df_male_asis_prof_male_app = df_new.loc[(df_new.standard_position == \"assistant professor\")& (df_new.lor_gender == \"male\")& (df_new.gender == \"male\")]\n",
    "df_male_other_male_app = df_new.loc[(df_new.standard_position == \"others\") & (df_new.lor_gender == \"male\")& (df_new.gender == \"male\")]\n",
    "\n",
    "male_prof_male_app_dic = get_word_result(df_male_prof_male_app, \"male_prof_male_app\")\n",
    "male_asso_male_app_prof_dic = get_word_result(df_male_asso_prof_male_app, \"male_asso_prof_male_app\")\n",
    "male_asis_male_app_prof_dic = get_word_result(df_male_asis_prof_male_app, \"male_asis_prof_male_app\")\n",
    "male_other_male_app_prof_dic = get_word_result(df_male_other_male_app, \"male_other_prof_male_app\")"
   ]
  },
  {
   "cell_type": "code",
   "execution_count": 235,
   "metadata": {},
   "outputs": [
    {
     "name": "stdout",
     "output_type": "stream",
     "text": [
      "female_prof_male_app_agency_result 105\n",
      "female_prof_male_app_percentage_agency_result: % 42.68292682926829\n",
      "female_prof_male_app_communality_result"
     ]
    },
    {
     "name": "stderr",
     "output_type": "stream",
     "text": [
      "c:\\ProgramData\\Anaconda3\\envs\\k12\\lib\\site-packages\\ipykernel_launcher.py:30: SettingWithCopyWarning: \n",
      "A value is trying to be set on a copy of a slice from a DataFrame.\n",
      "Try using .loc[row_indexer,col_indexer] = value instead\n",
      "\n",
      "See the caveats in the documentation: https://pandas.pydata.org/pandas-docs/stable/user_guide/indexing.html#returning-a-view-versus-a-copy\n",
      "c:\\ProgramData\\Anaconda3\\envs\\k12\\lib\\site-packages\\ipykernel_launcher.py:31: SettingWithCopyWarning: \n",
      "A value is trying to be set on a copy of a slice from a DataFrame.\n",
      "Try using .loc[row_indexer,col_indexer] = value instead\n",
      "\n",
      "See the caveats in the documentation: https://pandas.pydata.org/pandas-docs/stable/user_guide/indexing.html#returning-a-view-versus-a-copy\n"
     ]
    },
    {
     "name": "stdout",
     "output_type": "stream",
     "text": [
      " 59\n",
      "female_prof_male_app_percentage_communality_result: % 23.983739837398375\n",
      "female_prof_male_app_grindstone_result 23\n",
      "female_prof_male_app_percentage__grindstone_result: % 9.34959349593496\n",
      "female_prof_male_app_standout_result 45\n",
      "female_prof_male_app_percentage_standout_result: % 18.29268292682927\n",
      "female_prof_male_app_social_result 3\n",
      "female_prof_male_app_percentage_social_result: % 1.2195121951219512\n",
      "female_prof_male_app_radiology_result 10\n",
      "female_prof_male_app_percentage_radiology_result: % 4.0650406504065035\n",
      "female_prof_male_app_keen_good_result 1\n",
      "female_prof_male_app_percentage_keen_good_result: % 0.40650406504065045\n",
      "female_asso_prof_male_app_agency_result 152\n",
      "female_asso_prof_male_app_percentage_agency_result: % 44.97041420118343\n",
      "female_asso_prof_male_app_communality_result 88\n",
      "female_asso_prof_male_app_percentage_communality_result: % 26.035502958579883\n",
      "female_asso_prof_male_app_grindstone_result 39\n",
      "female_asso_prof_male_app_percentage__grindstone_result: % 11.538461538461538\n",
      "female_asso_prof_male_app_standout_result 52\n",
      "female_asso_prof_male_app_percentage_standout_result: % 15.384615384615385\n",
      "female_asso_prof_male_app_social_result 1\n",
      "female_asso_prof_male_app_percentage_social_result: % 0.2958579881656805\n",
      "female_asso_prof_male_app_radiology_result 5\n",
      "female_asso_prof_male_app_percentage_radiology_result: % 1.4792899408284024\n",
      "female_asso_prof_male_app_keen_good_result 1\n",
      "female_asso_prof_male_app_percentage_keen_good_result: % 0.2958579881656805\n",
      "female_asis_prof_male_app_agency_result 161\n",
      "female_asis_prof_male_app_percentage_agency_result: % 46.39769452449568\n",
      "female_asis_prof_male_app_communality_result 77\n",
      "female_asis_prof_male_app_percentage_communality_result: % 22.19020172910663\n",
      "female_asis_prof_male_app_grindstone_result 39\n",
      "female_asis_prof_male_app_percentage__grindstone_result: % 11.239193083573488\n",
      "female_asis_prof_male_app_standout_result 59\n",
      "female_asis_prof_male_app_percentage_standout_result: % 17.002881844380404\n",
      "female_asis_prof_male_app_social_result 5\n",
      "female_asis_prof_male_app_percentage_social_result: % 1.440922190201729\n",
      "female_asis_prof_male_app_radiology_result 5\n",
      "female_asis_prof_male_app_percentage_radiology_result: % 1.440922190201729\n",
      "female_asis_prof_male_app_keen_good_result 1\n",
      "female_asis_prof_male_app_percentage_keen_good_result: % 0.2881844380403458\n",
      "female_other_prof_male_app_agency_result 96\n",
      "female_other_prof_male_app_percentage_agency_result: % 43.83561643835616\n",
      "female_other_prof_male_app_communality_result 37\n",
      "female_other_prof_male_app_percentage_communality_result: % 16.894977168949772\n",
      "female_other_prof_male_app_grindstone_result 30\n",
      "female_other_prof_male_app_percentage__grindstone_result: % 13.698630136986301\n",
      "female_other_prof_male_app_standout_result 51\n",
      "female_other_prof_male_app_percentage_standout_result: % 23.28767123287671\n",
      "female_other_prof_male_app_social_result 2\n",
      "female_other_prof_male_app_percentage_social_result: % 0.91324200913242\n",
      "female_other_prof_male_app_radiology_result 3\n",
      "female_other_prof_male_app_percentage_radiology_result: % 1.36986301369863\n",
      "female_other_prof_male_app_keen_good_result 0\n",
      "female_other_prof_male_app_percentage_keen_good_result: % 0.0\n"
     ]
    }
   ],
   "source": [
    "\n",
    "df_female_prof_male_app = df_new.loc[(df_new.standard_position == \"professor\") & (df_new.lor_gender == \"female\")& (df_new.gender == \"male\")]\n",
    "df_female_asso_prof_male_app = df_new.loc[(df_new.standard_position == \"associate professor\") & (df_new.lor_gender == \"female\")& (df_new.gender == \"male\")]\n",
    "df_female_asis_prof_male_app = df_new.loc[(df_new.standard_position == \"assistant professor\")& (df_new.lor_gender == \"female\")& (df_new.gender == \"male\")]\n",
    "df_female_other_male_app = df_new.loc[(df_new.standard_position == \"others\") & (df_new.lor_gender == \"female\")& (df_new.gender == \"male\")]\n",
    "\n",
    "female_prof_male_app_dic = get_word_result(df_female_prof_male_app, \"female_prof_male_app\")\n",
    "female_asso_male_app_prof_dic = get_word_result(df_female_asso_prof_male_app, \"female_asso_prof_male_app\")\n",
    "female_asis_male_app_prof_dic = get_word_result(df_female_asis_prof_male_app, \"female_asis_prof_male_app\")\n",
    "female_other_male_app_prof_dic = get_word_result(df_female_other_male_app, \"female_other_prof_male_app\")"
   ]
  },
  {
   "cell_type": "code",
   "execution_count": 236,
   "metadata": {},
   "outputs": [
    {
     "name": "stdout",
     "output_type": "stream",
     "text": [
      "female_prof_female_app_agency_result 69\n",
      "female_prof_female_app_percentage_agency_result: % 44.230769230769226\n",
      "female_prof_female_app_communality_result"
     ]
    },
    {
     "name": "stderr",
     "output_type": "stream",
     "text": [
      "c:\\ProgramData\\Anaconda3\\envs\\k12\\lib\\site-packages\\ipykernel_launcher.py:30: SettingWithCopyWarning: \n",
      "A value is trying to be set on a copy of a slice from a DataFrame.\n",
      "Try using .loc[row_indexer,col_indexer] = value instead\n",
      "\n",
      "See the caveats in the documentation: https://pandas.pydata.org/pandas-docs/stable/user_guide/indexing.html#returning-a-view-versus-a-copy\n",
      "c:\\ProgramData\\Anaconda3\\envs\\k12\\lib\\site-packages\\ipykernel_launcher.py:31: SettingWithCopyWarning: \n",
      "A value is trying to be set on a copy of a slice from a DataFrame.\n",
      "Try using .loc[row_indexer,col_indexer] = value instead\n",
      "\n",
      "See the caveats in the documentation: https://pandas.pydata.org/pandas-docs/stable/user_guide/indexing.html#returning-a-view-versus-a-copy\n"
     ]
    },
    {
     "name": "stdout",
     "output_type": "stream",
     "text": [
      " 22\n",
      "female_prof_female_app_percentage_communality_result: % 14.102564102564102\n",
      "female_prof_female_app_grindstone_result 27\n",
      "female_prof_female_app_percentage__grindstone_result: % 17.307692307692307\n",
      "female_prof_female_app_standout_result 31\n",
      "female_prof_female_app_percentage_standout_result: % 19.871794871794872\n",
      "female_prof_female_app_social_result 3\n",
      "female_prof_female_app_percentage_social_result: % 1.9230769230769231\n",
      "female_prof_female_app_radiology_result 4\n",
      "female_prof_female_app_percentage_radiology_result: % 2.564102564102564\n",
      "female_prof_female_app_keen_good_result 0\n",
      "female_prof_female_app_percentage_keen_good_result: % 0.0\n",
      "female_asso_prof_female_app_agency_result 62\n",
      "female_asso_prof_female_app_percentage_agency_result: % 49.2063492063492\n",
      "female_asso_prof_female_app_communality_result 21\n",
      "female_asso_prof_female_app_percentage_communality_result: % 16.666666666666664\n",
      "female_asso_prof_female_app_grindstone_result 14\n",
      "female_asso_prof_female_app_percentage__grindstone_result: % 11.11111111111111\n",
      "female_asso_prof_female_app_standout_result 23\n",
      "female_asso_prof_female_app_percentage_standout_result: % 18.253968253968253\n",
      "female_asso_prof_female_app_social_result 3\n",
      "female_asso_prof_female_app_percentage_social_result: % 2.380952380952381\n",
      "female_asso_prof_female_app_radiology_result 2\n",
      "female_asso_prof_female_app_percentage_radiology_result: % 1.5873015873015872\n",
      "female_asso_prof_female_app_keen_good_result 1\n",
      "female_asso_prof_female_app_percentage_keen_good_result: % 0.7936507936507936\n",
      "female_asis_prof_female_app_agency_result 85\n",
      "female_asis_prof_female_app_percentage_agency_result: % 45.45454545454545\n",
      "female_asis_prof_female_app_communality_result 31\n",
      "female_asis_prof_female_app_percentage_communality_result: % 16.577540106951872\n",
      "female_asis_prof_female_app_grindstone_result 23\n",
      "female_asis_prof_female_app_percentage__grindstone_result: % 12.299465240641712\n",
      "female_asis_prof_female_app_standout_result 45\n",
      "female_asis_prof_female_app_percentage_standout_result: % 24.06417112299465\n",
      "female_asis_prof_female_app_social_result 0\n",
      "female_asis_prof_female_app_percentage_social_result: % 0.0\n",
      "female_asis_prof_female_app_radiology_result 3\n",
      "female_asis_prof_female_app_percentage_radiology_result: % 1.6042780748663104\n",
      "female_asis_prof_female_app_keen_good_result 0\n",
      "female_asis_prof_female_app_percentage_keen_good_result: % 0.0\n",
      "female_other_prof_female_app_agency_result 29\n",
      "female_other_prof_female_app_percentage_agency_result: % 30.526315789473685\n",
      "female_other_prof_female_app_communality_result 28\n",
      "female_other_prof_female_app_percentage_communality_result: % 29.47368421052631\n",
      "female_other_prof_female_app_grindstone_result 15\n",
      "female_other_prof_female_app_percentage__grindstone_result: % 15.789473684210526\n",
      "female_other_prof_female_app_standout_result 17\n",
      "female_other_prof_female_app_percentage_standout_result: % 17.894736842105264\n",
      "female_other_prof_female_app_social_result 2\n",
      "female_other_prof_female_app_percentage_social_result: % 2.1052631578947367\n",
      "female_other_prof_female_app_radiology_result 4\n",
      "female_other_prof_female_app_percentage_radiology_result: % 4.2105263157894735\n",
      "female_other_prof_female_app_keen_good_result 0\n",
      "female_other_prof_female_app_percentage_keen_good_result: % 0.0\n"
     ]
    }
   ],
   "source": [
    "\n",
    "df_female_prof_female_app = df_new.loc[(df_new.standard_position == \"professor\") & (df_new.lor_gender == \"female\")& (df_new.gender == \"female\")]\n",
    "df_female_asso_prof_female_app = df_new.loc[(df_new.standard_position == \"associate professor\") & (df_new.lor_gender == \"female\")& (df_new.gender == \"female\")]\n",
    "df_female_asis_prof_female_app = df_new.loc[(df_new.standard_position == \"assistant professor\")& (df_new.lor_gender == \"female\")& (df_new.gender == \"female\")]\n",
    "df_female_other_female_app = df_new.loc[(df_new.standard_position == \"others\") & (df_new.lor_gender == \"female\")& (df_new.gender == \"female\")]\n",
    "\n",
    "female_prof_female_app_dic = get_word_result(df_female_prof_female_app, \"female_prof_female_app\")\n",
    "female_asso_female_app_prof_dic = get_word_result(df_female_asso_prof_female_app, \"female_asso_prof_female_app\")\n",
    "female_asis_female_app_prof_dic = get_word_result(df_female_asis_prof_female_app, \"female_asis_prof_female_app\")\n",
    "female_other_female_app_prof_dic = get_word_result(df_female_other_female_app, \"female_other_prof_female_app\")"
   ]
  },
  {
   "cell_type": "code",
   "execution_count": 237,
   "metadata": {},
   "outputs": [
    {
     "name": "stderr",
     "output_type": "stream",
     "text": [
      "c:\\ProgramData\\Anaconda3\\envs\\k12\\lib\\site-packages\\ipykernel_launcher.py:30: SettingWithCopyWarning: \n",
      "A value is trying to be set on a copy of a slice from a DataFrame.\n",
      "Try using .loc[row_indexer,col_indexer] = value instead\n",
      "\n",
      "See the caveats in the documentation: https://pandas.pydata.org/pandas-docs/stable/user_guide/indexing.html#returning-a-view-versus-a-copy\n",
      "c:\\ProgramData\\Anaconda3\\envs\\k12\\lib\\site-packages\\ipykernel_launcher.py:31: SettingWithCopyWarning: \n",
      "A value is trying to be set on a copy of a slice from a DataFrame.\n",
      "Try using .loc[row_indexer,col_indexer] = value instead\n",
      "\n",
      "See the caveats in the documentation: https://pandas.pydata.org/pandas-docs/stable/user_guide/indexing.html#returning-a-view-versus-a-copy\n"
     ]
    },
    {
     "name": "stdout",
     "output_type": "stream",
     "text": [
      "male_prof_female_app_agency_result 155\n",
      "male_prof_female_app_percentage_agency_result: % 43.78531073446328\n",
      "male_prof_female_app_communality_result 60\n",
      "male_prof_female_app_percentage_communality_result: % 16.94915254237288\n",
      "male_prof_female_app_grindstone_result 32\n",
      "male_prof_female_app_percentage__grindstone_result: % 9.03954802259887\n",
      "male_prof_female_app_standout_result 96\n",
      "male_prof_female_app_percentage_standout_result: % 27.11864406779661\n",
      "male_prof_female_app_social_result 3\n",
      "male_prof_female_app_percentage_social_result: % 0.847457627118644\n",
      "male_prof_female_app_radiology_result 7\n",
      "male_prof_female_app_percentage_radiology_result: % 1.977401129943503\n",
      "male_prof_female_app_keen_good_result 1\n",
      "male_prof_female_app_percentage_keen_good_result: % 0.2824858757062147\n",
      "male_asso_prof_female_app_agency_result 152\n",
      "male_asso_prof_female_app_percentage_agency_result: % 46.06060606060606\n",
      "male_asso_prof_female_app_communality_result 45\n",
      "male_asso_prof_female_app_percentage_communality_result: % 13.636363636363635\n",
      "male_asso_prof_female_app_grindstone_result 36\n",
      "male_asso_prof_female_app_percentage__grindstone_result: % 10.909090909090908\n",
      "male_asso_prof_female_app_standout_result 78\n",
      "male_asso_prof_female_app_percentage_standout_result: % 23.636363636363637\n",
      "male_asso_prof_female_app_social_result 5\n",
      "male_asso_prof_female_app_percentage_social_result: % 1.5151515151515151\n",
      "male_asso_prof_female_app_radiology_result 13\n",
      "male_asso_prof_female_app_percentage_radiology_result: % 3.939393939393939\n",
      "male_asso_prof_female_app_keen_good_result 1\n",
      "male_asso_prof_female_app_percentage_keen_good_result: % 0.30303030303030304\n",
      "male_asis_prof_female_app_agency_result 189\n",
      "male_asis_prof_female_app_percentage_agency_result: % 50.26595744680851\n",
      "male_asis_prof_female_app_communality_result 66\n",
      "male_asis_prof_female_app_percentage_communality_result: % 17.5531914893617\n",
      "male_asis_prof_female_app_grindstone_result 25\n",
      "male_asis_prof_female_app_percentage__grindstone_result: % 6.648936170212766\n",
      "male_asis_prof_female_app_standout_result 78\n",
      "male_asis_prof_female_app_percentage_standout_result: % 20.74468085106383\n",
      "male_asis_prof_female_app_social_result 3\n",
      "male_asis_prof_female_app_percentage_social_result: % 0.7978723404255319\n",
      "male_asis_prof_female_app_radiology_result 13\n",
      "male_asis_prof_female_app_percentage_radiology_result: % 3.4574468085106385\n",
      "male_asis_prof_female_app_keen_good_result 2\n",
      "male_asis_prof_female_app_percentage_keen_good_result: % 0.5319148936170213\n",
      "male_other_prof_female_app_agency_result 116\n",
      "male_other_prof_female_app_percentage_agency_result: % 38.15789473684211\n",
      "male_other_prof_female_app_communality_result 64\n",
      "male_other_prof_female_app_percentage_communality_result: % 21.052631578947366\n",
      "male_other_prof_female_app_grindstone_result 25\n",
      "male_other_prof_female_app_percentage__grindstone_result: % 8.223684210526317\n",
      "male_other_prof_female_app_standout_result 78\n",
      "male_other_prof_female_app_percentage_standout_result: % 25.657894736842106\n",
      "male_other_prof_female_app_social_result 8\n",
      "male_other_prof_female_app_percentage_social_result: % 2.631578947368421\n",
      "male_other_prof_female_app_radiology_result 11\n",
      "male_other_prof_female_app_percentage_radiology_result: % 3.618421052631579\n",
      "male_other_prof_female_app_keen_good_result 2\n",
      "male_other_prof_female_app_percentage_keen_good_result: % 0.6578947368421052\n"
     ]
    }
   ],
   "source": [
    "df_male_prof_female_app = df_new.loc[(df_new.standard_position == \"professor\") & (df_new.lor_gender == \"male\")& (df_new.gender == \"female\")]\n",
    "df_male_asso_prof_female_app = df_new.loc[(df_new.standard_position == \"associate professor\") & (df_new.lor_gender == \"male\")& (df_new.gender == \"female\")]\n",
    "df_male_asis_prof_female_app = df_new.loc[(df_new.standard_position == \"assistant professor\")& (df_new.lor_gender == \"male\")& (df_new.gender == \"female\")]\n",
    "df_male_other_female_app = df_new.loc[(df_new.standard_position == \"others\") & (df_new.lor_gender == \"male\")& (df_new.gender == \"female\")]\n",
    "\n",
    "male_prof_female_app_dic = get_word_result(df_male_prof_female_app, \"male_prof_female_app\")\n",
    "male_asso_female_app_prof_dic = get_word_result(df_male_asso_prof_female_app, \"male_asso_prof_female_app\")\n",
    "male_asis_female_app_prof_dic = get_word_result(df_male_asis_prof_female_app, \"male_asis_prof_female_app\")\n",
    "male_other_female_app_prof_dic = get_word_result(df_male_other_female_app, \"male_other_prof_female_app\")"
   ]
  },
  {
   "cell_type": "code",
   "execution_count": null,
   "metadata": {},
   "outputs": [],
   "source": []
  },
  {
   "cell_type": "code",
   "execution_count": null,
   "metadata": {},
   "outputs": [],
   "source": []
  }
 ],
 "metadata": {
  "kernelspec": {
   "display_name": "Python 3.7.13 ('k12')",
   "language": "python",
   "name": "python3"
  },
  "language_info": {
   "codemirror_mode": {
    "name": "ipython",
    "version": 3
   },
   "file_extension": ".py",
   "mimetype": "text/x-python",
   "name": "python",
   "nbconvert_exporter": "python",
   "pygments_lexer": "ipython3",
   "version": "3.8.8"
  },
  "orig_nbformat": 4,
  "vscode": {
   "interpreter": {
    "hash": "a0ac05954be45206abc4d78a3d9320c1342f93e808aeceb9b3e31a7cb51112f5"
   }
  }
 },
 "nbformat": 4,
 "nbformat_minor": 2
}
