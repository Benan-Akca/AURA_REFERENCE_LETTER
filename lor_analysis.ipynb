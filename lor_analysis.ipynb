{
 "cells": [
  {
   "cell_type": "code",
   "execution_count": 1,
   "metadata": {},
   "outputs": [
    {
     "name": "stderr",
     "output_type": "stream",
     "text": [
      "C:\\Users\\benan\\AppData\\Roaming\\Python\\Python37\\site-packages\\huggingface_hub\\snapshot_download.py:11: FutureWarning: snapshot_download.py has been made private and will no longer be available from version 0.11. Please use `from huggingface_hub import snapshot_download` to import the only public function in this module. Other members of the file may be changed without a deprecation notice.\n",
      "  FutureWarning,\n",
      "C:\\Users\\benan\\AppData\\Roaming\\Python\\Python37\\site-packages\\huggingface_hub\\file_download.py:591: FutureWarning: `cached_download` is the legacy way to download files from the HF hub, please consider upgrading to `hf_hub_download`\n",
      "  FutureWarning,\n"
     ]
    }
   ],
   "source": [
    "#%%\n",
    "\n",
    "from nltk.tokenize import sent_tokenize\n",
    "from nltk.tokenize import word_tokenize\n",
    "import pandas as pd\n",
    "import stanza\n",
    "import pandas as pd \n",
    "pd.options.display.max_rows = 2000\n",
    "pd.options.display.max_columns = 2000\n",
    "pd.options.display.max_colwidth = 2000\n",
    "\n",
    "\n",
    "\n",
    "import sentiment_score as ss\n",
    "import importlib\n",
    "#%%\n",
    "\n",
    "\n",
    "import re\n"
   ]
  },
  {
   "cell_type": "code",
   "execution_count": 2,
   "metadata": {},
   "outputs": [
    {
     "data": {
      "application/vnd.jupyter.widget-view+json": {
       "model_id": "3b890cde186b4d4a849c3b1c676d553e",
       "version_major": 2,
       "version_minor": 0
      },
      "text/plain": [
       "Downloading https://raw.githubusercontent.com/stanfordnlp/stanza-resources/main/resources_1.4.0.json:   0%|   …"
      ]
     },
     "metadata": {},
     "output_type": "display_data"
    },
    {
     "name": "stderr",
     "output_type": "stream",
     "text": [
      "2022-10-20 00:39:38 INFO: Loading these models for language: en (English):\n",
      "========================\n",
      "| Processor | Package  |\n",
      "------------------------\n",
      "| tokenize  | combined |\n",
      "| pos       | combined |\n",
      "========================\n",
      "\n",
      "2022-10-20 00:39:38 INFO: Use device: cpu\n",
      "2022-10-20 00:39:38 INFO: Loading: tokenize\n",
      "2022-10-20 00:39:38 INFO: Loading: pos\n",
      "2022-10-20 00:39:38 INFO: Done loading processors!\n"
     ]
    }
   ],
   "source": [
    "\n",
    "nlp = stanza.Pipeline('en', processors='tokenize,pos')\n",
    "def clean_text(lor):\n",
    "    lor = re.sub(r\"\\n\",\" \",lor)\n",
    "    lor = re.sub(r\"\\\"\",\"\",lor)\n",
    "    lor = re.sub(r\"\\\\\",\"\",lor)\n",
    "    lor = re.sub(r\"\\(\",\"\",lor)\n",
    "    lor = re.sub(r\"\\)\",\"\",lor)\n",
    "    lor = re.sub(r\"\\s+\",\" \",lor)\n",
    "    return lor\n",
    "\n",
    "\n",
    "def tokenize_sentences(text):\n",
    "    sentence_list = sent_tokenize(text)\n",
    "    return sentence_list\n",
    "\n",
    "def insert_space(text):\n",
    "    new_text = re.sub(r\"([a-zA-Z\\)]\\.)(\\w)\", r\"\\1 \\2\", text, count=50)\n",
    "    new_text = re.sub(r\"([0-9]\\.)([A-Z]+)\", r\"\\1 \\2\", new_text, count=20)\n",
    "    new_text = re.sub(\n",
    "        r\"(?:(^[0-9]\\.|^\\s[0-9]\\.))([a-zA-Z]+)\", r\"\\1 \\2\", new_text, count=20\n",
    "    )\n",
    "    new_text = re.sub(r\"(?:(^[0-9]\\s|^\\s[0-9]\\s))\", r\"\", new_text, count=20)\n",
    "    new_text = re.sub(r\"(?:\\s[0-9]\\.\\s|^[0-9]\\.\\s)\", r\" \", new_text, count=20)\n",
    "    new_text = new_text.lstrip().rstrip()\n",
    "    return new_text\n",
    "\n",
    "\n",
    "def get_df_sentence(df, column_name):\n",
    "    df[column_name] = df[column_name].astype(\"string\")\n",
    "    df[column_name] = df[column_name].apply(insert_space)\n",
    "    sentences = df[column_name].apply(tokenize_sentences)\n",
    "    df_sentence = pd.DataFrame(sentences.tolist(), index=df.lor_id).stack()\n",
    "    df_sentence = df_sentence.reset_index()[[0, \"lor_id\"]]\n",
    "    df_sentence.columns = [\"sentence_split\", \"lor_id\"]\n",
    "    df_sentence[\"sentence_split\"] = df_sentence[\"sentence_split\"].map(\n",
    "        lambda x: x.lstrip(\".\").rstrip(\".\")\n",
    "    )\n",
    "    df_sentence[\"sentence_split\"] = df_sentence[\"sentence_split\"].apply(str.lower)\n",
    "    return df_sentence\n",
    "\n"
   ]
  },
  {
   "cell_type": "code",
   "execution_count": 7,
   "metadata": {},
   "outputs": [],
   "source": [
    "\n",
    "\n",
    "\n",
    "# df1  = pd.read_excel(\".\\\\Data\\\\alperen_100.xlsx\")\n",
    "# df2  = pd.read_excel(\".\\\\Data\\\\Master.xlsx\")\n",
    "# df3  = pd.read_excel(\".\\\\Data\\\\RESEARCH -taranan.xlsx\")\n",
    "# df4  = pd.read_excel(\".\\\\Data\\\\data_4.xlsx\")\n",
    "# df5  = pd.read_excel(\".\\\\Data\\\\reference letter project updated20.09.2022.xlsx\")\n",
    "\n",
    "\n",
    "df = pd.concat([df1,df2,df3,df4,df5],axis=0)\n",
    "\n"
   ]
  },
  {
   "cell_type": "code",
   "execution_count": 129,
   "metadata": {},
   "outputs": [],
   "source": [
    "df_foreign =  pd.read_excel(\".\\\\df_master.xlsx\")"
   ]
  },
  {
   "cell_type": "code",
   "execution_count": 130,
   "metadata": {},
   "outputs": [],
   "source": [
    "def preprocess_medical(df_):\n",
    "    df = df_.copy()\n",
    "    df[\"medical_school\"] = df[\"medical_school\"].str.lower()\n",
    "    df[\"medical_school\"] = df[\"medical_school\"].str.strip()\n",
    "    df[\"medical_school\"] = df[\"medical_school\"].str.replace(r\"\\s+\",(r\" \"))\n",
    "    df[\"medical_school\"] = df[\"medical_school\"].str.replace(r\"[^\\w\\s]\",(r\"\"))\n",
    "    df[\"medical_school\"] = df[\"medical_school\"].str.replace(r\"\\s+\",(r\" \"))\n",
    "    df[\"medical_school\"] = df[\"medical_school\"].str.strip()\n",
    "    \n",
    "    return df"
   ]
  },
  {
   "cell_type": "code",
   "execution_count": 131,
   "metadata": {},
   "outputs": [
    {
     "name": "stderr",
     "output_type": "stream",
     "text": [
      "c:\\ProgramData\\Anaconda3\\envs\\k12\\lib\\site-packages\\ipykernel_launcher.py:5: FutureWarning: The default value of regex will change from True to False in a future version.\n",
      "  \"\"\"\n",
      "c:\\ProgramData\\Anaconda3\\envs\\k12\\lib\\site-packages\\ipykernel_launcher.py:6: FutureWarning: The default value of regex will change from True to False in a future version.\n",
      "  \n",
      "c:\\ProgramData\\Anaconda3\\envs\\k12\\lib\\site-packages\\ipykernel_launcher.py:7: FutureWarning: The default value of regex will change from True to False in a future version.\n",
      "  import sys\n"
     ]
    }
   ],
   "source": [
    "df_foreign = preprocess_medical(df_foreign)"
   ]
  },
  {
   "cell_type": "code",
   "execution_count": 132,
   "metadata": {},
   "outputs": [],
   "source": [
    "foreign_dic_1 = df_foreign.groupby(\"medical_school\")['foreign'].apply(list).apply(lambda x:x[0]).to_dict()"
   ]
  },
  {
   "cell_type": "code",
   "execution_count": 188,
   "metadata": {},
   "outputs": [],
   "source": [
    "df1  = pd.read_excel(\".\\\\Data\\\\alperen.xlsx\")\n",
    "df2  = pd.read_excel(\".\\\\Data\\\\sude.xlsx\")\n",
    "\n",
    "\n",
    "df = pd.concat([df1,df2],axis=0)"
   ]
  },
  {
   "cell_type": "code",
   "execution_count": 189,
   "metadata": {},
   "outputs": [],
   "source": [
    "df = df.dropna(subset = [\"lor1\"])\n",
    "df = df[~df.duplicated(subset = [\"lor1\"])]\n",
    "df = df.reset_index()\n",
    "df[\"applicant_id\"] = df.index\n"
   ]
  },
  {
   "cell_type": "code",
   "execution_count": 190,
   "metadata": {},
   "outputs": [
    {
     "data": {
      "text/plain": [
       "(336, 46)"
      ]
     },
     "execution_count": 190,
     "metadata": {},
     "output_type": "execute_result"
    }
   ],
   "source": [
    "df.shape"
   ]
  },
  {
   "cell_type": "code",
   "execution_count": 135,
   "metadata": {},
   "outputs": [
    {
     "name": "stderr",
     "output_type": "stream",
     "text": [
      "c:\\ProgramData\\Anaconda3\\envs\\k12\\lib\\site-packages\\ipykernel_launcher.py:5: FutureWarning: The default value of regex will change from True to False in a future version.\n",
      "  \"\"\"\n",
      "c:\\ProgramData\\Anaconda3\\envs\\k12\\lib\\site-packages\\ipykernel_launcher.py:6: FutureWarning: The default value of regex will change from True to False in a future version.\n",
      "  \n",
      "c:\\ProgramData\\Anaconda3\\envs\\k12\\lib\\site-packages\\ipykernel_launcher.py:7: FutureWarning: The default value of regex will change from True to False in a future version.\n",
      "  import sys\n"
     ]
    }
   ],
   "source": [
    "df = preprocess_medical(df)"
   ]
  },
  {
   "cell_type": "code",
   "execution_count": 136,
   "metadata": {},
   "outputs": [
    {
     "data": {
      "text/plain": [
       "Index(['index', 'applicant_id', 'application_year', 'birth_year',\n",
       "       'citizenship', 'medical_school', 'residency_school', 'md_year',\n",
       "       'residency_year', 'step1', 'step2', 'step3', 'step_old', 'IMG',\n",
       "       'class_rank', 'honors', 'received_offer', 'language_skills',\n",
       "       'interests', 'number_of_publications', 'speciality', 'gender', 'lor1',\n",
       "       'lor1_position', 'lor1_university', 'lor1_gender', 'lor2',\n",
       "       'lor2_position', 'lor2_university', 'lor2_gender', 'lor3',\n",
       "       'lor3_position', 'lor3_university', 'lor3_gender', 'lor4',\n",
       "       'lor4_position', 'lor4_university', 'lor4_gender', 'Unnamed: 37',\n",
       "       'Unnamed: 38', 'Unnamed: 39', 'Unnamed: 40', 'Unnamed: 41',\n",
       "       'Unnamed: 42', 'Unnamed: 43', 'Unnamed: 44'],\n",
       "      dtype='object')"
      ]
     },
     "execution_count": 136,
     "metadata": {},
     "output_type": "execute_result"
    }
   ],
   "source": [
    "df.columns"
   ]
  },
  {
   "cell_type": "code",
   "execution_count": 137,
   "metadata": {},
   "outputs": [
    {
     "name": "stdout",
     "output_type": "stream",
     "text": [
      "university of kansas school of medicine\n",
      "padmashree dr dy patil medical college\n",
      "morehouse school of medicine\n",
      "university of california san francisco\n",
      "saint james school of medicine\n",
      "nova southeastern university\n",
      "rush university medical college\n",
      "university of lisbon faculty of medicine\n",
      "gandhi medical college bhopal india\n",
      "chicago medical school at rosalind franklin university of medicine science\n",
      "mercer university school of medicine\n",
      "case western reserve university\n",
      "columbia university\n",
      "shifa college of medicine\n",
      "india institue of medical center\n",
      "sackler school of medicine\n",
      "menofia university school of medicine\n",
      "chicago college of osteopathic medicine\n",
      "marshall university school of medicine\n",
      "loyola university\n",
      "stanford university school of medicine\n",
      "trakya university medical school\n",
      "hacettepe uni medical school\n",
      "siddhartha medical college\n",
      "national university of science technology\n",
      "smt nhl municipal medical college\n",
      "midwestern university chicago college of osteopathic\n",
      "chicago medical school at rosalind franklin univ\n",
      "university of south carolina school of medicine\n"
     ]
    }
   ],
   "source": [
    "foreign = []\n",
    "for school in df[\"medical_school\"]:\n",
    "    if pd.isna(school):\n",
    "        foreign.append(\"empty\")\n",
    "    elif school in foreign_dic_1.keys():\n",
    "        \n",
    "        foreign.append(foreign_dic_1[school])\n",
    "    else:\n",
    "        print(school)\n",
    "        foreign.append(\"unk\")"
   ]
  },
  {
   "cell_type": "code",
   "execution_count": 138,
   "metadata": {},
   "outputs": [],
   "source": [
    "df[\"foreign\"] = foreign"
   ]
  },
  {
   "cell_type": "code",
   "execution_count": 139,
   "metadata": {},
   "outputs": [
    {
     "data": {
      "text/plain": [
       "143                                       university of kansas school of medicine\n",
       "145                                        padmashree dr dy patil medical college\n",
       "146                                                  morehouse school of medicine\n",
       "147                                        university of california san francisco\n",
       "148                                                saint james school of medicine\n",
       "149                                                  nova southeastern university\n",
       "150                                               rush university medical college\n",
       "152                                      university of lisbon faculty of medicine\n",
       "153                                           gandhi medical college bhopal india\n",
       "155    chicago medical school at rosalind franklin university of medicine science\n",
       "156                                          mercer university school of medicine\n",
       "157                                               case western reserve university\n",
       "158                                                           columbia university\n",
       "162                                                     shifa college of medicine\n",
       "164                                              india institue of medical center\n",
       "166                                                    sackler school of medicine\n",
       "169                                         menofia university school of medicine\n",
       "170                                       chicago college of osteopathic medicine\n",
       "171                                        marshall university school of medicine\n",
       "173                                                             loyola university\n",
       "174                                        stanford university school of medicine\n",
       "175                                              trakya university medical school\n",
       "176                                                  hacettepe uni medical school\n",
       "177                                                    siddhartha medical college\n",
       "179                                     national university of science technology\n",
       "180                                             smt nhl municipal medical college\n",
       "181                          midwestern university chicago college of osteopathic\n",
       "183                              chicago medical school at rosalind franklin univ\n",
       "185                               university of south carolina school of medicine\n",
       "Name: medical_school, dtype: object"
      ]
     },
     "execution_count": 139,
     "metadata": {},
     "output_type": "execute_result"
    }
   ],
   "source": [
    "df.loc[df[\"foreign\"] == \"unk\",\"medical_school\"]"
   ]
  },
  {
   "cell_type": "code",
   "execution_count": 140,
   "metadata": {},
   "outputs": [],
   "source": [
    "foreign_dic_2 = {\n",
    "    \"university of kansas school of medicine\" : 0,\n",
    "\"padmashree dr dy patil medical college\":1,\n",
    "\"morehouse school of medicine\":0,\n",
    "\"university of california san francisco\":0,\n",
    "\"saint james school of medicine\":1,\n",
    "\"nova southeastern university\":0,\n",
    "\"rush university medical college\":0,\n",
    "\"university of lisbon faculty of medicine\":1,\n",
    "\"gandhi medical college bhopal india\":1,\n",
    "\"chicago medical school at rosalind franklin university of medicine science\":0,\n",
    "\"mercer university school of medicine\":0,\n",
    "\"case western reserve university\":0,\n",
    "\"columbia university\":0,\n",
    "\"shifa college of medicine\":1,\n",
    "\"india institue of medical center\":1,\n",
    "\"sackler school of medicine\":1,\n",
    "\"menofia university school of medicine\":1,\n",
    "\"chicago college of osteopathic medicine\":0,\n",
    "\"marshall university school of medicine\":0,\n",
    "\"loyola university\":0,\n",
    "\"stanford university school of medicine\":0,\n",
    "\"trakya university medical school\":1,\n",
    "\"hacettepe uni medical school\":1,\n",
    "\"siddhartha medical college\":1,\n",
    "\"national university of science technology\":1,\n",
    "\"smt nhl municipal medical college\":1,\n",
    "\"midwestern university chicago college of osteopathic\":0,\n",
    "\"chicago medical school at rosalind franklin univ\":0,\n",
    "\"university of south carolina school of medicine\":0,\n",
    "\"louisiana state university health sciences center shreveport\":0}\n"
   ]
  },
  {
   "cell_type": "code",
   "execution_count": 141,
   "metadata": {},
   "outputs": [],
   "source": [
    "foreign_dic_1.update(foreign_dic_2)"
   ]
  },
  {
   "cell_type": "code",
   "execution_count": 142,
   "metadata": {},
   "outputs": [],
   "source": [
    "pd.DataFrame(foreign_dic_1,index = [0]).T.to_excel(\"foreign_schools.xlsx\")"
   ]
  },
  {
   "cell_type": "code",
   "execution_count": 109,
   "metadata": {},
   "outputs": [],
   "source": [
    "import joblib\n",
    "#joblib.dump(foreign_dic_1,\"foreign_dic.pkl\")\n",
    "foreign_dic_1 = joblib.load(\"foreign_dic.pkl\")"
   ]
  },
  {
   "cell_type": "code",
   "execution_count": 143,
   "metadata": {},
   "outputs": [],
   "source": [
    "foreign = []\n",
    "for school in df[\"medical_school\"]:\n",
    "    if pd.isna(school):\n",
    "        foreign.append(\"empty\")\n",
    "    elif school in foreign_dic_1.keys():\n",
    "        \n",
    "        foreign.append(foreign_dic_1[school])\n",
    "    else:\n",
    "        print(school)\n",
    "        foreign.append(\"unk\")"
   ]
  },
  {
   "cell_type": "code",
   "execution_count": 144,
   "metadata": {},
   "outputs": [],
   "source": [
    "df[\"foreign\"] = foreign"
   ]
  },
  {
   "cell_type": "code",
   "execution_count": 145,
   "metadata": {},
   "outputs": [
    {
     "name": "stderr",
     "output_type": "stream",
     "text": [
      "c:\\ProgramData\\Anaconda3\\envs\\k12\\lib\\site-packages\\ipykernel_launcher.py:1: SettingWithCopyWarning: \n",
      "A value is trying to be set on a copy of a slice from a DataFrame.\n",
      "Try using .loc[row_indexer,col_indexer] = value instead\n",
      "\n",
      "See the caveats in the documentation: https://pandas.pydata.org/pandas-docs/stable/user_guide/indexing.html#returning-a-view-versus-a-copy\n",
      "  \"\"\"Entry point for launching an IPython kernel.\n"
     ]
    }
   ],
   "source": [
    "df.loc[df[\"foreign\"] == \"empty\"][\"foreign\"] = 0"
   ]
  },
  {
   "cell_type": "code",
   "execution_count": 146,
   "metadata": {},
   "outputs": [
    {
     "data": {
      "text/plain": [
       "105    empty\n",
       "Name: foreign, dtype: object"
      ]
     },
     "execution_count": 146,
     "metadata": {},
     "output_type": "execute_result"
    }
   ],
   "source": [
    "df.loc[df[\"foreign\"] == \"empty\",\"foreign\"]"
   ]
  },
  {
   "cell_type": "code",
   "execution_count": 147,
   "metadata": {},
   "outputs": [
    {
     "data": {
      "text/html": [
       "<div>\n",
       "<style scoped>\n",
       "    .dataframe tbody tr th:only-of-type {\n",
       "        vertical-align: middle;\n",
       "    }\n",
       "\n",
       "    .dataframe tbody tr th {\n",
       "        vertical-align: top;\n",
       "    }\n",
       "\n",
       "    .dataframe thead th {\n",
       "        text-align: right;\n",
       "    }\n",
       "</style>\n",
       "<table border=\"1\" class=\"dataframe\">\n",
       "  <thead>\n",
       "    <tr style=\"text-align: right;\">\n",
       "      <th></th>\n",
       "      <th>index</th>\n",
       "      <th>applicant_id</th>\n",
       "      <th>application_year</th>\n",
       "      <th>birth_year</th>\n",
       "      <th>citizenship</th>\n",
       "      <th>medical_school</th>\n",
       "      <th>residency_school</th>\n",
       "      <th>md_year</th>\n",
       "      <th>residency_year</th>\n",
       "      <th>step1</th>\n",
       "      <th>step2</th>\n",
       "      <th>step3</th>\n",
       "      <th>step_old</th>\n",
       "      <th>IMG</th>\n",
       "      <th>class_rank</th>\n",
       "      <th>honors</th>\n",
       "      <th>received_offer</th>\n",
       "      <th>language_skills</th>\n",
       "      <th>interests</th>\n",
       "      <th>number_of_publications</th>\n",
       "      <th>speciality</th>\n",
       "      <th>gender</th>\n",
       "      <th>lor1</th>\n",
       "      <th>lor1_position</th>\n",
       "      <th>lor1_university</th>\n",
       "      <th>lor1_gender</th>\n",
       "      <th>lor2</th>\n",
       "      <th>lor2_position</th>\n",
       "      <th>lor2_university</th>\n",
       "      <th>lor2_gender</th>\n",
       "      <th>lor3</th>\n",
       "      <th>lor3_position</th>\n",
       "      <th>lor3_university</th>\n",
       "      <th>lor3_gender</th>\n",
       "      <th>lor4</th>\n",
       "      <th>lor4_position</th>\n",
       "      <th>lor4_university</th>\n",
       "      <th>lor4_gender</th>\n",
       "      <th>Unnamed: 37</th>\n",
       "      <th>Unnamed: 38</th>\n",
       "      <th>Unnamed: 39</th>\n",
       "      <th>Unnamed: 40</th>\n",
       "      <th>Unnamed: 41</th>\n",
       "      <th>Unnamed: 42</th>\n",
       "      <th>Unnamed: 43</th>\n",
       "      <th>Unnamed: 44</th>\n",
       "      <th>foreign</th>\n",
       "    </tr>\n",
       "  </thead>\n",
       "  <tbody>\n",
       "    <tr>\n",
       "      <th>105</th>\n",
       "      <td>108</td>\n",
       "      <td>105</td>\n",
       "      <td>NaN</td>\n",
       "      <td>1967.0</td>\n",
       "      <td>1.0</td>\n",
       "      <td>NaN</td>\n",
       "      <td>Louisiana State University Health Sciences Center Shreveport</td>\n",
       "      <td>1992.0</td>\n",
       "      <td>2022</td>\n",
       "      <td>214</td>\n",
       "      <td>241</td>\n",
       "      <td>222</td>\n",
       "      <td>0.0</td>\n",
       "      <td>0.0</td>\n",
       "      <td>NaN</td>\n",
       "      <td>\\n</td>\n",
       "      <td>NaN</td>\n",
       "      <td>English,Italian,Spanish/Spanish Creole\\n</td>\n",
       "      <td>\\nDog rescue, environmental care, hiking.\\n</td>\n",
       "      <td>1.0</td>\n",
       "      <td>3.0</td>\n",
       "      <td>female</td>\n",
       "      <td>The Program Director Neuroradiology Fellowship:\\n\\nIt is my pleasure and my privilege to write this letter of recommendation on behalf of Silvia Barbeito, MD.\\nDr. Barbeito had a Radiology observership in 2016 and later on she won her position as a Radiology Resident in 2017 in the Department of Radiology at LSU School of Medicine, where I have been the Director of Neuroradiology and Research.\\nShe is an outstanding, brilliant resident, always in the forefront of her colleagues. She is an achieved radiologist and she also is proficient in teaching and research.\\nIn Argentina she already completed her Radiology Residency and went through all the positions, as staff and reaching the position as a Chairman in San Juan de Dias Clinic, run by the San Juan de Dias Friars with Charity Hospitals in 50 Countries. She was also Radiology Chairman in a top ranked private Imaging Center, Diagnostico Maipu, pioneer_in argentinean radiology.\\nDr. Barbeito demonstrated interest in Neuroradiology and she is one of the few inquiring about new methodologies as DTI, resting state fMRI and Artificial Intelligence. She is always ready for teaching and research. As you can see in her CV, she has a number of publications and presentations uncommon for a resident. She shares her expertise not only with students and fellow residents but with staff in techniques as transcranial Doppler.\\nShe will be a great asset to any fellowship program wherever she may be accepted.\\nI will be glad to provide more information if required.</td>\n",
       "      <td>professor,director</td>\n",
       "      <td>. LSU School of Medicine</td>\n",
       "      <td>male</td>\n",
       "      <td>To whom it may concern:\\n\\nIt is my great pleasure to right in enthusiastic support of Dr. Silvia Barbeito’s application for your program. I worked closely with Silvia during her radiology rotations for the last 2 years at the VA Medical Center in Shreveport, Louisiana. As is evident from her CV, Dr. Barbeito has excelled throughout her career with many notable accomplishments. During her rotations, Silvia demonstrated qualities necessary for your program: excellent knowledge base (as expected from her years of experience), compassionate patient care, tenacious worker, attention to detail, and a willing teacher for more junior trainees and students. I have observed Silvia in both inpatient and outpatient settings and overseen her performance during her residency.\\n\\nIn addition to considerable intellect and exemplary performance during her radiology rotations, Silvia has made outstanding presentations to help others better understand concepts and disease patterns in radiology and has presented at a national meeting (American Society of Emergency Radiology). In the 2019-2020 academic year (her on-call heavy year), she interpreted more exams than any other resident in the program. As a result, she was recognized by our department for such excellence in work ethic.\\n\\nSilvia consistently exhibits curiosity and motivation to learn that exceeds all in her class. I personally enjoy how passionate she is to understand disease processes in the context of radiology, which has shown me her steady desire to maximize her knowledge. She has been consistently well-prepared for all types of learning situations that she faced on her radiology rotations. As she has much experience with performing ultrasounds from her time in Argentina, Silvia has brought that expertise to her rotations and helped our technologists learn new techniques and approaches for certain sonographic examinations that seldom arise in our practice. Silvia will bring tremendous experience and value to your p...</td>\n",
       "      <td>Clinical Assistant Professor ,</td>\n",
       "      <td>. LSU School of Medicine</td>\n",
       "      <td>male</td>\n",
       "      <td>To Whom it May Concern,\\n\\nIt is my privilege to write this letter of recommendation on behalf of Dr. Silvia Barbeito’s neuroradiology fellowship application. I have worked with Silvia for the past 3 years during her residency here at LSU Health Shreveport. I have worked closely with Silvia during her MSK rotations where I serve as head of the section. While working with her it has become apparent that she is an extraordinary individual. She has always shown special interest in neuroradiology and plans to pursue a career in this field.\\n\\nDr. Barbeito finished medical school at University of Buenos Aires, and completed a Radiology residency in Argentina. She worked as a staff radiologist in Argentina before coming to the U.S. We were ecstatic to have her match with us here for residency. Despite already serving in a staff capacity, Silvia has always served in her resident role with humility and an exceptionally strong work ethic. As proof, each year we give an award to the resident who read the most studies; Silvia won this award during her R2 year. She has been a stellar resident and is truly well-liked and respected by all. She is very professional in all her interactions and has a team- first approach.\\n\\nDr. Barbeito is extremely disciplined in her studying and it shows on a daily basis. She has an excellent medical knowledge base and demonstrates admirable clinical skills. In fact, she scored in the top percentile of the ACR in-service exam the past two years. She is a talented radiologist and has a good eye. She is intelligent, always eager to learn, and asks insightful questions. Not surprisingly, this has resulted in Silvia receiving very strong evaluations from all faculty throughout her residency.\\n\\nShe has also been extremely active in scholarly activity, resulting in abstract acceptances at the 2020 AUR meeting, and the 2019 ARRS and American Society of Emergency Radiology meetings.\\n\\nI have no hesitation in recommending Dr. Barbeito for your fello...</td>\n",
       "      <td>Professor,Residency Program Director</td>\n",
       "      <td>. LSU School of Medicine</td>\n",
       "      <td>male</td>\n",
       "      <td>Dear Program Director,\\n \\nI am happy to provide this letter of recommendation for Dr. Silvia Barbeito. She is applying for your fellowship program.\\n\\nDr. Barbeito is currently a resident in radiology at LSU Health Shreveport. I have had the pleasure of working with her during her neuroradiology rotations. Dr. Barbeito is very motivated, intelligent and a pleasure to work with. She is eager to learn and puts in extra effort to achieve her goals. Her scores on the past two ACR in-service exam administrations have been among the highest of all our residents.\\n\\nAcademically, she has been involved in several research and quality improvement projects. Her scholarly activity includes several projects presented at RSNA, as well as an abstract accepted for the 2020 AUR meeting titled “Value of FAST exam performed by Radiology Residents.” She also had two papers accepted for publication in Ear Nose &amp; Throat Journal titled “Post-traumatic discovery of unknown lymphangioma in a pediatric patient” and “An uncommon recurrence of Carcinoma expleomorphic adenoma of the parotid gland.” She continues to actively participate in research. Her attendings on these projects have been impressed with her enthusiasm and work ethic.\\n\\nI am certain Dr. Barbeito will make a strong fellow and that you will be impressed with her knowledge, skills, and performance. Please contact us if you have any questions regarding Dr. Barbeito.\\n\\nSincerely,\\n</td>\n",
       "      <td>Associate Program Director ,Associate Professor ,interim chairman</td>\n",
       "      <td>. LSU School of Medicine</td>\n",
       "      <td>male</td>\n",
       "      <td>NaN</td>\n",
       "      <td>NaN</td>\n",
       "      <td>NaN</td>\n",
       "      <td>NaN</td>\n",
       "      <td>NaN</td>\n",
       "      <td>NaN</td>\n",
       "      <td>NaN</td>\n",
       "      <td>NaN</td>\n",
       "      <td>empty</td>\n",
       "    </tr>\n",
       "  </tbody>\n",
       "</table>\n",
       "</div>"
      ],
      "text/plain": [
       "     index  applicant_id  application_year birth_year  citizenship  \\\n",
       "105    108           105               NaN     1967.0          1.0   \n",
       "\n",
       "    medical_school  \\\n",
       "105            NaN   \n",
       "\n",
       "                                                 residency_school  md_year  \\\n",
       "105  Louisiana State University Health Sciences Center Shreveport   1992.0   \n",
       "\n",
       "    residency_year step1 step2 step3  step_old  IMG class_rank honors  \\\n",
       "105           2022   214   241   222       0.0  0.0        NaN     \\n   \n",
       "\n",
       "    received_offer                           language_skills  \\\n",
       "105            NaN  English,Italian,Spanish/Spanish Creole\\n   \n",
       "\n",
       "                                       interests  number_of_publications  \\\n",
       "105  \\nDog rescue, environmental care, hiking.\\n                     1.0   \n",
       "\n",
       "     speciality  gender  \\\n",
       "105         3.0  female   \n",
       "\n",
       "                                                                                                                                                                                                                                                                                                                                                                                                                                                                                                                                                                                                                                                                                                                                                                                                                                                                                                                                                                                                                                                                                                                                                                                                                                                                                                                                                                                                                                                                                                                                                                                   lor1  \\\n",
       "105  The Program Director Neuroradiology Fellowship:\\n\\nIt is my pleasure and my privilege to write this letter of recommendation on behalf of Silvia Barbeito, MD.\\nDr. Barbeito had a Radiology observership in 2016 and later on she won her position as a Radiology Resident in 2017 in the Department of Radiology at LSU School of Medicine, where I have been the Director of Neuroradiology and Research.\\nShe is an outstanding, brilliant resident, always in the forefront of her colleagues. She is an achieved radiologist and she also is proficient in teaching and research.\\nIn Argentina she already completed her Radiology Residency and went through all the positions, as staff and reaching the position as a Chairman in San Juan de Dias Clinic, run by the San Juan de Dias Friars with Charity Hospitals in 50 Countries. She was also Radiology Chairman in a top ranked private Imaging Center, Diagnostico Maipu, pioneer_in argentinean radiology.\\nDr. Barbeito demonstrated interest in Neuroradiology and she is one of the few inquiring about new methodologies as DTI, resting state fMRI and Artificial Intelligence. She is always ready for teaching and research. As you can see in her CV, she has a number of publications and presentations uncommon for a resident. She shares her expertise not only with students and fellow residents but with staff in techniques as transcranial Doppler.\\nShe will be a great asset to any fellowship program wherever she may be accepted.\\nI will be glad to provide more information if required.   \n",
       "\n",
       "          lor1_position            lor1_university lor1_gender  \\\n",
       "105  professor,director  . LSU School of Medicine         male   \n",
       "\n",
       "                                                                                                                                                                                                                                                                                                                                                                                                                                                                                                                                                                                                                                                                                                                                                                                                                                                                                                                                                                                                                                                                                                                                                                                                                                                                                                                                                                                                                                                                                                                                                                                                                                                                                                                                                                                                                                                                                                                                                                                                                                                                                lor2  \\\n",
       "105  To whom it may concern:\\n\\nIt is my great pleasure to right in enthusiastic support of Dr. Silvia Barbeito’s application for your program. I worked closely with Silvia during her radiology rotations for the last 2 years at the VA Medical Center in Shreveport, Louisiana. As is evident from her CV, Dr. Barbeito has excelled throughout her career with many notable accomplishments. During her rotations, Silvia demonstrated qualities necessary for your program: excellent knowledge base (as expected from her years of experience), compassionate patient care, tenacious worker, attention to detail, and a willing teacher for more junior trainees and students. I have observed Silvia in both inpatient and outpatient settings and overseen her performance during her residency.\\n\\nIn addition to considerable intellect and exemplary performance during her radiology rotations, Silvia has made outstanding presentations to help others better understand concepts and disease patterns in radiology and has presented at a national meeting (American Society of Emergency Radiology). In the 2019-2020 academic year (her on-call heavy year), she interpreted more exams than any other resident in the program. As a result, she was recognized by our department for such excellence in work ethic.\\n\\nSilvia consistently exhibits curiosity and motivation to learn that exceeds all in her class. I personally enjoy how passionate she is to understand disease processes in the context of radiology, which has shown me her steady desire to maximize her knowledge. She has been consistently well-prepared for all types of learning situations that she faced on her radiology rotations. As she has much experience with performing ultrasounds from her time in Argentina, Silvia has brought that expertise to her rotations and helped our technologists learn new techniques and approaches for certain sonographic examinations that seldom arise in our practice. Silvia will bring tremendous experience and value to your p...   \n",
       "\n",
       "                      lor2_position            lor2_university lor2_gender  \\\n",
       "105  Clinical Assistant Professor ,  . LSU School of Medicine         male   \n",
       "\n",
       "                                                                                                                                                                                                                                                                                                                                                                                                                                                                                                                                                                                                                                                                                                                                                                                                                                                                                                                                                                                                                                                                                                                                                                                                                                                                                                                                                                                                                                                                                                                                                                                                                                                                                                                                                                                                                                                                                                                                                                                                                                                                                lor3  \\\n",
       "105  To Whom it May Concern,\\n\\nIt is my privilege to write this letter of recommendation on behalf of Dr. Silvia Barbeito’s neuroradiology fellowship application. I have worked with Silvia for the past 3 years during her residency here at LSU Health Shreveport. I have worked closely with Silvia during her MSK rotations where I serve as head of the section. While working with her it has become apparent that she is an extraordinary individual. She has always shown special interest in neuroradiology and plans to pursue a career in this field.\\n\\nDr. Barbeito finished medical school at University of Buenos Aires, and completed a Radiology residency in Argentina. She worked as a staff radiologist in Argentina before coming to the U.S. We were ecstatic to have her match with us here for residency. Despite already serving in a staff capacity, Silvia has always served in her resident role with humility and an exceptionally strong work ethic. As proof, each year we give an award to the resident who read the most studies; Silvia won this award during her R2 year. She has been a stellar resident and is truly well-liked and respected by all. She is very professional in all her interactions and has a team- first approach.\\n\\nDr. Barbeito is extremely disciplined in her studying and it shows on a daily basis. She has an excellent medical knowledge base and demonstrates admirable clinical skills. In fact, she scored in the top percentile of the ACR in-service exam the past two years. She is a talented radiologist and has a good eye. She is intelligent, always eager to learn, and asks insightful questions. Not surprisingly, this has resulted in Silvia receiving very strong evaluations from all faculty throughout her residency.\\n\\nShe has also been extremely active in scholarly activity, resulting in abstract acceptances at the 2020 AUR meeting, and the 2019 ARRS and American Society of Emergency Radiology meetings.\\n\\nI have no hesitation in recommending Dr. Barbeito for your fello...   \n",
       "\n",
       "                             lor3_position            lor3_university  \\\n",
       "105  Professor,Residency Program Director   . LSU School of Medicine    \n",
       "\n",
       "    lor3_gender  \\\n",
       "105        male   \n",
       "\n",
       "                                                                                                                                                                                                                                                                                                                                                                                                                                                                                                                                                                                                                                                                                                                                                                                                                                                                                                                                                                                                                                                                                                                                                                                                                                                                                                                                                                                                                                                                                                    lor4  \\\n",
       "105  Dear Program Director,\\n \\nI am happy to provide this letter of recommendation for Dr. Silvia Barbeito. She is applying for your fellowship program.\\n\\nDr. Barbeito is currently a resident in radiology at LSU Health Shreveport. I have had the pleasure of working with her during her neuroradiology rotations. Dr. Barbeito is very motivated, intelligent and a pleasure to work with. She is eager to learn and puts in extra effort to achieve her goals. Her scores on the past two ACR in-service exam administrations have been among the highest of all our residents.\\n\\nAcademically, she has been involved in several research and quality improvement projects. Her scholarly activity includes several projects presented at RSNA, as well as an abstract accepted for the 2020 AUR meeting titled “Value of FAST exam performed by Radiology Residents.” She also had two papers accepted for publication in Ear Nose & Throat Journal titled “Post-traumatic discovery of unknown lymphangioma in a pediatric patient” and “An uncommon recurrence of Carcinoma expleomorphic adenoma of the parotid gland.” She continues to actively participate in research. Her attendings on these projects have been impressed with her enthusiasm and work ethic.\\n\\nI am certain Dr. Barbeito will make a strong fellow and that you will be impressed with her knowledge, skills, and performance. Please contact us if you have any questions regarding Dr. Barbeito.\\n\\nSincerely,\\n   \n",
       "\n",
       "                                                         lor4_position  \\\n",
       "105  Associate Program Director ,Associate Professor ,interim chairman   \n",
       "\n",
       "               lor4_university lor4_gender Unnamed: 37 Unnamed: 38  \\\n",
       "105  . LSU School of Medicine         male         NaN         NaN   \n",
       "\n",
       "    Unnamed: 39 Unnamed: 40 Unnamed: 41 Unnamed: 42 Unnamed: 43 Unnamed: 44  \\\n",
       "105         NaN         NaN         NaN         NaN         NaN         NaN   \n",
       "\n",
       "    foreign  \n",
       "105   empty  "
      ]
     },
     "execution_count": 147,
     "metadata": {},
     "output_type": "execute_result"
    }
   ],
   "source": [
    "df.loc[df[\"foreign\"] == \"empty\"]"
   ]
  },
  {
   "cell_type": "code",
   "execution_count": 102,
   "metadata": {},
   "outputs": [],
   "source": [
    "df.to_excel(\"df_all_data_foreign_included.xlsx\")"
   ]
  },
  {
   "cell_type": "markdown",
   "metadata": {},
   "source": [
    "# Start Here"
   ]
  },
  {
   "cell_type": "code",
   "execution_count": 84,
   "metadata": {},
   "outputs": [],
   "source": [
    "df = pd.read_excel(\"df_all_data_foreign_included.xlsx\")"
   ]
  },
  {
   "cell_type": "code",
   "execution_count": 148,
   "metadata": {},
   "outputs": [],
   "source": [
    "df.gender = df.gender.str.strip()"
   ]
  },
  {
   "cell_type": "code",
   "execution_count": 149,
   "metadata": {},
   "outputs": [
    {
     "data": {
      "text/plain": [
       "male      261\n",
       "female     73\n",
       "Name: gender, dtype: int64"
      ]
     },
     "execution_count": 149,
     "metadata": {},
     "output_type": "execute_result"
    }
   ],
   "source": [
    "df.gender.value_counts()"
   ]
  },
  {
   "cell_type": "code",
   "execution_count": 150,
   "metadata": {},
   "outputs": [],
   "source": [
    "\n",
    "#%%\n",
    "applicant_columns = ['applicant_id', 'application_year', 'birth_year', 'citizenship',\"foreign\",\n",
    "       'medical_school', 'residency_school', 'md_year', 'residency_year',\n",
    "       'step1', 'step2', 'step3', 'step_old', 'IMG', 'class_rank', 'honors',\n",
    "       'received_offer', 'language_skills', 'interests',\n",
    "       'number_of_publications', 'speciality', 'gender']\n",
    "\n",
    "# %%\n",
    "from collections import defaultdict\n",
    "df_dic = defaultdict(list)\n",
    "#%%\n",
    "for inx,row in df.iterrows():\n",
    "    for lor in [\"lor1\",\"lor2\",\"lor3\",\"lor4\"]:\n",
    "        for column in applicant_columns:\n",
    "            df_dic[column].append(row[column])\n",
    "        df_dic[\"lor\"].append(row[lor])\n",
    "        df_dic[\"lor_position\"].append(row[lor + \"_position\"])\n",
    "        df_dic[\"lor_university\"].append(row[lor + \"_university\"])\n",
    "        df_dic[\"lor_gender\"].append(row[lor + \"_gender\"])\n",
    "        df_dic[\"lor_number\"].append(lor)\n",
    "  \n",
    "# %%\n",
    "df_new = pd.DataFrame(df_dic)\n",
    "\n",
    "# %%\n",
    "df_new = df_new.dropna(subset=[\"lor\"])\n",
    "\n",
    "#%%\n"
   ]
  },
  {
   "cell_type": "code",
   "execution_count": 151,
   "metadata": {},
   "outputs": [
    {
     "data": {
      "text/plain": [
       "(336,)"
      ]
     },
     "execution_count": 151,
     "metadata": {},
     "output_type": "execute_result"
    }
   ],
   "source": [
    "df_new.applicant_id.unique().shape\n",
    "#%%\n"
   ]
  },
  {
   "cell_type": "code",
   "execution_count": 152,
   "metadata": {},
   "outputs": [],
   "source": [
    "df_new[\"lor\"] = df_new[\"lor\"].apply(clean_text)\n",
    "#%%\n",
    "df_new[\"lor_id\"] = df_new.index\n",
    "# %%\n"
   ]
  },
  {
   "cell_type": "code",
   "execution_count": 90,
   "metadata": {},
   "outputs": [
    {
     "data": {
      "text/plain": [
       "['df_new.h5']"
      ]
     },
     "execution_count": 90,
     "metadata": {},
     "output_type": "execute_result"
    }
   ],
   "source": [
    "import joblib\n",
    "joblib.dump(df_new, \"df_new.h5\")"
   ]
  },
  {
   "cell_type": "code",
   "execution_count": 153,
   "metadata": {},
   "outputs": [],
   "source": [
    "df_male = df_new.loc[(df_new.gender == \"male\")]\n",
    "df_female = df_new.loc[df_new.gender == \"female\"]\n",
    "# %%\n"
   ]
  },
  {
   "cell_type": "code",
   "execution_count": 92,
   "metadata": {},
   "outputs": [
    {
     "ename": "KeyboardInterrupt",
     "evalue": "",
     "output_type": "error",
     "traceback": [
      "\u001b[1;31m---------------------------------------------------------------------------\u001b[0m",
      "\u001b[1;31mKeyboardInterrupt\u001b[0m                         Traceback (most recent call last)",
      "\u001b[1;32m<ipython-input-92-1f533b701b52>\u001b[0m in \u001b[0;36m<module>\u001b[1;34m\u001b[0m\n\u001b[0;32m      1\u001b[0m \u001b[1;31m#8min 47s\u001b[0m\u001b[1;33m\u001b[0m\u001b[1;33m\u001b[0m\u001b[1;33m\u001b[0m\u001b[0m\n\u001b[1;32m----> 2\u001b[1;33m \u001b[0mdf_sentiment_male\u001b[0m \u001b[1;33m=\u001b[0m \u001b[0mss\u001b[0m\u001b[1;33m.\u001b[0m\u001b[0mget_sentiment_df\u001b[0m\u001b[1;33m(\u001b[0m\u001b[0mdf_male\u001b[0m\u001b[1;33m,\u001b[0m\u001b[1;34m\"lor\"\u001b[0m\u001b[1;33m,\u001b[0m\u001b[0mdrop_sent_scores\u001b[0m \u001b[1;33m=\u001b[0m \u001b[1;32mFalse\u001b[0m\u001b[1;33m)\u001b[0m\u001b[1;33m\u001b[0m\u001b[1;33m\u001b[0m\u001b[0m\n\u001b[0m\u001b[0;32m      3\u001b[0m \u001b[1;31m#2min 50s\u001b[0m\u001b[1;33m\u001b[0m\u001b[1;33m\u001b[0m\u001b[1;33m\u001b[0m\u001b[0m\n\u001b[0;32m      4\u001b[0m \u001b[0mdf_sentiment_female\u001b[0m \u001b[1;33m=\u001b[0m \u001b[0mss\u001b[0m\u001b[1;33m.\u001b[0m\u001b[0mget_sentiment_df\u001b[0m\u001b[1;33m(\u001b[0m\u001b[0mdf_female\u001b[0m\u001b[1;33m,\u001b[0m\u001b[1;34m\"lor\"\u001b[0m\u001b[1;33m,\u001b[0m\u001b[0mdrop_sent_scores\u001b[0m \u001b[1;33m=\u001b[0m \u001b[1;32mFalse\u001b[0m\u001b[1;33m)\u001b[0m\u001b[1;33m\u001b[0m\u001b[1;33m\u001b[0m\u001b[0m\n",
      "\u001b[1;32mf:\\Workspace\\GIT\\AURA_REFERENCE_LETTER\\sentiment_score.py\u001b[0m in \u001b[0;36mget_sentiment_df\u001b[1;34m(df, sentence_column, drop_sent_scores)\u001b[0m\n\u001b[0;32m     99\u001b[0m     \u001b[0mscores_list\u001b[0m \u001b[1;33m=\u001b[0m \u001b[1;33m[\u001b[0m\u001b[1;36m0\u001b[0m\u001b[1;33m]\u001b[0m\u001b[1;33m*\u001b[0m\u001b[0mdf\u001b[0m\u001b[1;33m[\u001b[0m\u001b[0msentence_column\u001b[0m\u001b[1;33m]\u001b[0m\u001b[1;33m.\u001b[0m\u001b[0mshape\u001b[0m\u001b[1;33m[\u001b[0m\u001b[1;36m0\u001b[0m\u001b[1;33m]\u001b[0m\u001b[1;33m\u001b[0m\u001b[1;33m\u001b[0m\u001b[0m\n\u001b[0;32m    100\u001b[0m     \u001b[1;32mfor\u001b[0m \u001b[0minx\u001b[0m\u001b[1;33m,\u001b[0m\u001b[0msentence\u001b[0m \u001b[1;32min\u001b[0m \u001b[0menumerate\u001b[0m\u001b[1;33m(\u001b[0m\u001b[0mdf\u001b[0m\u001b[1;33m[\u001b[0m\u001b[0msentence_column\u001b[0m\u001b[1;33m]\u001b[0m\u001b[1;33m.\u001b[0m\u001b[0mvalues\u001b[0m\u001b[1;33m)\u001b[0m\u001b[1;33m:\u001b[0m\u001b[1;33m\u001b[0m\u001b[1;33m\u001b[0m\u001b[0m\n\u001b[1;32m--> 101\u001b[1;33m         \u001b[0mscore\u001b[0m \u001b[1;33m=\u001b[0m \u001b[0mget_sentiment_score\u001b[0m\u001b[1;33m(\u001b[0m\u001b[0msentence\u001b[0m\u001b[1;33m)\u001b[0m\u001b[1;33m\u001b[0m\u001b[1;33m\u001b[0m\u001b[0m\n\u001b[0m\u001b[0;32m    102\u001b[0m         \u001b[0mscores_list\u001b[0m\u001b[1;33m[\u001b[0m\u001b[0minx\u001b[0m\u001b[1;33m]\u001b[0m \u001b[1;33m=\u001b[0m \u001b[0mscore\u001b[0m\u001b[1;33m\u001b[0m\u001b[1;33m\u001b[0m\u001b[0m\n\u001b[0;32m    103\u001b[0m     \u001b[0mscores_array\u001b[0m \u001b[1;33m=\u001b[0m \u001b[0mnp\u001b[0m\u001b[1;33m.\u001b[0m\u001b[0marray\u001b[0m\u001b[1;33m(\u001b[0m\u001b[0mscores_list\u001b[0m\u001b[1;33m)\u001b[0m\u001b[1;33m\u001b[0m\u001b[1;33m\u001b[0m\u001b[0m\n",
      "\u001b[1;32mf:\\Workspace\\GIT\\AURA_REFERENCE_LETTER\\sentiment_score.py\u001b[0m in \u001b[0;36mget_sentiment_score\u001b[1;34m(text)\u001b[0m\n\u001b[0;32m     91\u001b[0m         \u001b[0mencoded_input\u001b[0m\u001b[1;33m[\u001b[0m\u001b[1;34m\"input_ids\"\u001b[0m\u001b[1;33m]\u001b[0m \u001b[1;33m=\u001b[0m \u001b[0mencoded_input\u001b[0m\u001b[1;33m[\u001b[0m\u001b[1;34m\"input_ids\"\u001b[0m\u001b[1;33m]\u001b[0m\u001b[1;33m[\u001b[0m\u001b[1;33m:\u001b[0m\u001b[1;33m,\u001b[0m\u001b[1;36m0\u001b[0m\u001b[1;33m:\u001b[0m\u001b[1;36m512\u001b[0m\u001b[1;33m]\u001b[0m\u001b[1;33m\u001b[0m\u001b[1;33m\u001b[0m\u001b[0m\n\u001b[0;32m     92\u001b[0m         \u001b[0mencoded_input\u001b[0m\u001b[1;33m[\u001b[0m\u001b[1;34m\"attention_mask\"\u001b[0m\u001b[1;33m]\u001b[0m \u001b[1;33m=\u001b[0m \u001b[0mencoded_input\u001b[0m\u001b[1;33m[\u001b[0m\u001b[1;34m\"attention_mask\"\u001b[0m\u001b[1;33m]\u001b[0m\u001b[1;33m[\u001b[0m\u001b[1;33m:\u001b[0m\u001b[1;33m,\u001b[0m\u001b[1;36m0\u001b[0m\u001b[1;33m:\u001b[0m\u001b[1;36m512\u001b[0m\u001b[1;33m]\u001b[0m\u001b[1;33m\u001b[0m\u001b[1;33m\u001b[0m\u001b[0m\n\u001b[1;32m---> 93\u001b[1;33m     \u001b[0moutput\u001b[0m \u001b[1;33m=\u001b[0m \u001b[0mmodel_sentiment\u001b[0m\u001b[1;33m(\u001b[0m\u001b[1;33m**\u001b[0m\u001b[0mencoded_input\u001b[0m\u001b[1;33m)\u001b[0m\u001b[1;33m\u001b[0m\u001b[1;33m\u001b[0m\u001b[0m\n\u001b[0m\u001b[0;32m     94\u001b[0m     \u001b[0mscores\u001b[0m \u001b[1;33m=\u001b[0m \u001b[0moutput\u001b[0m\u001b[1;33m[\u001b[0m\u001b[1;36m0\u001b[0m\u001b[1;33m]\u001b[0m\u001b[1;33m[\u001b[0m\u001b[1;36m0\u001b[0m\u001b[1;33m]\u001b[0m\u001b[1;33m.\u001b[0m\u001b[0mdetach\u001b[0m\u001b[1;33m(\u001b[0m\u001b[1;33m)\u001b[0m\u001b[1;33m.\u001b[0m\u001b[0mnumpy\u001b[0m\u001b[1;33m(\u001b[0m\u001b[1;33m)\u001b[0m\u001b[1;33m\u001b[0m\u001b[1;33m\u001b[0m\u001b[0m\n\u001b[0;32m     95\u001b[0m     \u001b[0mscores\u001b[0m \u001b[1;33m=\u001b[0m \u001b[0msoftmax\u001b[0m\u001b[1;33m(\u001b[0m\u001b[0mscores\u001b[0m\u001b[1;33m)\u001b[0m\u001b[1;33m\u001b[0m\u001b[1;33m\u001b[0m\u001b[0m\n",
      "\u001b[1;32mc:\\ProgramData\\Anaconda3\\envs\\k12\\lib\\site-packages\\torch\\nn\\modules\\module.py\u001b[0m in \u001b[0;36m_call_impl\u001b[1;34m(self, *input, **kwargs)\u001b[0m\n\u001b[0;32m   1128\u001b[0m         if not (self._backward_hooks or self._forward_hooks or self._forward_pre_hooks or _global_backward_hooks\n\u001b[0;32m   1129\u001b[0m                 or _global_forward_hooks or _global_forward_pre_hooks):\n\u001b[1;32m-> 1130\u001b[1;33m             \u001b[1;32mreturn\u001b[0m \u001b[0mforward_call\u001b[0m\u001b[1;33m(\u001b[0m\u001b[1;33m*\u001b[0m\u001b[0minput\u001b[0m\u001b[1;33m,\u001b[0m \u001b[1;33m**\u001b[0m\u001b[0mkwargs\u001b[0m\u001b[1;33m)\u001b[0m\u001b[1;33m\u001b[0m\u001b[1;33m\u001b[0m\u001b[0m\n\u001b[0m\u001b[0;32m   1131\u001b[0m         \u001b[1;31m# Do not call functions when jit is used\u001b[0m\u001b[1;33m\u001b[0m\u001b[1;33m\u001b[0m\u001b[1;33m\u001b[0m\u001b[0m\n\u001b[0;32m   1132\u001b[0m         \u001b[0mfull_backward_hooks\u001b[0m\u001b[1;33m,\u001b[0m \u001b[0mnon_full_backward_hooks\u001b[0m \u001b[1;33m=\u001b[0m \u001b[1;33m[\u001b[0m\u001b[1;33m]\u001b[0m\u001b[1;33m,\u001b[0m \u001b[1;33m[\u001b[0m\u001b[1;33m]\u001b[0m\u001b[1;33m\u001b[0m\u001b[1;33m\u001b[0m\u001b[0m\n",
      "\u001b[1;32mc:\\ProgramData\\Anaconda3\\envs\\k12\\lib\\site-packages\\transformers\\models\\roberta\\modeling_roberta.py\u001b[0m in \u001b[0;36mforward\u001b[1;34m(self, input_ids, attention_mask, token_type_ids, position_ids, head_mask, inputs_embeds, labels, output_attentions, output_hidden_states, return_dict)\u001b[0m\n\u001b[0;32m   1182\u001b[0m             \u001b[0moutput_attentions\u001b[0m\u001b[1;33m=\u001b[0m\u001b[0moutput_attentions\u001b[0m\u001b[1;33m,\u001b[0m\u001b[1;33m\u001b[0m\u001b[1;33m\u001b[0m\u001b[0m\n\u001b[0;32m   1183\u001b[0m             \u001b[0moutput_hidden_states\u001b[0m\u001b[1;33m=\u001b[0m\u001b[0moutput_hidden_states\u001b[0m\u001b[1;33m,\u001b[0m\u001b[1;33m\u001b[0m\u001b[1;33m\u001b[0m\u001b[0m\n\u001b[1;32m-> 1184\u001b[1;33m             \u001b[0mreturn_dict\u001b[0m\u001b[1;33m=\u001b[0m\u001b[0mreturn_dict\u001b[0m\u001b[1;33m,\u001b[0m\u001b[1;33m\u001b[0m\u001b[1;33m\u001b[0m\u001b[0m\n\u001b[0m\u001b[0;32m   1185\u001b[0m         )\n\u001b[0;32m   1186\u001b[0m         \u001b[0msequence_output\u001b[0m \u001b[1;33m=\u001b[0m \u001b[0moutputs\u001b[0m\u001b[1;33m[\u001b[0m\u001b[1;36m0\u001b[0m\u001b[1;33m]\u001b[0m\u001b[1;33m\u001b[0m\u001b[1;33m\u001b[0m\u001b[0m\n",
      "\u001b[1;32mc:\\ProgramData\\Anaconda3\\envs\\k12\\lib\\site-packages\\torch\\nn\\modules\\module.py\u001b[0m in \u001b[0;36m_call_impl\u001b[1;34m(self, *input, **kwargs)\u001b[0m\n\u001b[0;32m   1128\u001b[0m         if not (self._backward_hooks or self._forward_hooks or self._forward_pre_hooks or _global_backward_hooks\n\u001b[0;32m   1129\u001b[0m                 or _global_forward_hooks or _global_forward_pre_hooks):\n\u001b[1;32m-> 1130\u001b[1;33m             \u001b[1;32mreturn\u001b[0m \u001b[0mforward_call\u001b[0m\u001b[1;33m(\u001b[0m\u001b[1;33m*\u001b[0m\u001b[0minput\u001b[0m\u001b[1;33m,\u001b[0m \u001b[1;33m**\u001b[0m\u001b[0mkwargs\u001b[0m\u001b[1;33m)\u001b[0m\u001b[1;33m\u001b[0m\u001b[1;33m\u001b[0m\u001b[0m\n\u001b[0m\u001b[0;32m   1131\u001b[0m         \u001b[1;31m# Do not call functions when jit is used\u001b[0m\u001b[1;33m\u001b[0m\u001b[1;33m\u001b[0m\u001b[1;33m\u001b[0m\u001b[0m\n\u001b[0;32m   1132\u001b[0m         \u001b[0mfull_backward_hooks\u001b[0m\u001b[1;33m,\u001b[0m \u001b[0mnon_full_backward_hooks\u001b[0m \u001b[1;33m=\u001b[0m \u001b[1;33m[\u001b[0m\u001b[1;33m]\u001b[0m\u001b[1;33m,\u001b[0m \u001b[1;33m[\u001b[0m\u001b[1;33m]\u001b[0m\u001b[1;33m\u001b[0m\u001b[1;33m\u001b[0m\u001b[0m\n",
      "\u001b[1;32mc:\\ProgramData\\Anaconda3\\envs\\k12\\lib\\site-packages\\transformers\\models\\roberta\\modeling_roberta.py\u001b[0m in \u001b[0;36mforward\u001b[1;34m(self, input_ids, attention_mask, token_type_ids, position_ids, head_mask, inputs_embeds, encoder_hidden_states, encoder_attention_mask, past_key_values, use_cache, output_attentions, output_hidden_states, return_dict)\u001b[0m\n\u001b[0;32m    843\u001b[0m             \u001b[0moutput_attentions\u001b[0m\u001b[1;33m=\u001b[0m\u001b[0moutput_attentions\u001b[0m\u001b[1;33m,\u001b[0m\u001b[1;33m\u001b[0m\u001b[1;33m\u001b[0m\u001b[0m\n\u001b[0;32m    844\u001b[0m             \u001b[0moutput_hidden_states\u001b[0m\u001b[1;33m=\u001b[0m\u001b[0moutput_hidden_states\u001b[0m\u001b[1;33m,\u001b[0m\u001b[1;33m\u001b[0m\u001b[1;33m\u001b[0m\u001b[0m\n\u001b[1;32m--> 845\u001b[1;33m             \u001b[0mreturn_dict\u001b[0m\u001b[1;33m=\u001b[0m\u001b[0mreturn_dict\u001b[0m\u001b[1;33m,\u001b[0m\u001b[1;33m\u001b[0m\u001b[1;33m\u001b[0m\u001b[0m\n\u001b[0m\u001b[0;32m    846\u001b[0m         )\n\u001b[0;32m    847\u001b[0m         \u001b[0msequence_output\u001b[0m \u001b[1;33m=\u001b[0m \u001b[0mencoder_outputs\u001b[0m\u001b[1;33m[\u001b[0m\u001b[1;36m0\u001b[0m\u001b[1;33m]\u001b[0m\u001b[1;33m\u001b[0m\u001b[1;33m\u001b[0m\u001b[0m\n",
      "\u001b[1;32mc:\\ProgramData\\Anaconda3\\envs\\k12\\lib\\site-packages\\torch\\nn\\modules\\module.py\u001b[0m in \u001b[0;36m_call_impl\u001b[1;34m(self, *input, **kwargs)\u001b[0m\n\u001b[0;32m   1128\u001b[0m         if not (self._backward_hooks or self._forward_hooks or self._forward_pre_hooks or _global_backward_hooks\n\u001b[0;32m   1129\u001b[0m                 or _global_forward_hooks or _global_forward_pre_hooks):\n\u001b[1;32m-> 1130\u001b[1;33m             \u001b[1;32mreturn\u001b[0m \u001b[0mforward_call\u001b[0m\u001b[1;33m(\u001b[0m\u001b[1;33m*\u001b[0m\u001b[0minput\u001b[0m\u001b[1;33m,\u001b[0m \u001b[1;33m**\u001b[0m\u001b[0mkwargs\u001b[0m\u001b[1;33m)\u001b[0m\u001b[1;33m\u001b[0m\u001b[1;33m\u001b[0m\u001b[0m\n\u001b[0m\u001b[0;32m   1131\u001b[0m         \u001b[1;31m# Do not call functions when jit is used\u001b[0m\u001b[1;33m\u001b[0m\u001b[1;33m\u001b[0m\u001b[1;33m\u001b[0m\u001b[0m\n\u001b[0;32m   1132\u001b[0m         \u001b[0mfull_backward_hooks\u001b[0m\u001b[1;33m,\u001b[0m \u001b[0mnon_full_backward_hooks\u001b[0m \u001b[1;33m=\u001b[0m \u001b[1;33m[\u001b[0m\u001b[1;33m]\u001b[0m\u001b[1;33m,\u001b[0m \u001b[1;33m[\u001b[0m\u001b[1;33m]\u001b[0m\u001b[1;33m\u001b[0m\u001b[1;33m\u001b[0m\u001b[0m\n",
      "\u001b[1;32mc:\\ProgramData\\Anaconda3\\envs\\k12\\lib\\site-packages\\transformers\\models\\roberta\\modeling_roberta.py\u001b[0m in \u001b[0;36mforward\u001b[1;34m(self, hidden_states, attention_mask, head_mask, encoder_hidden_states, encoder_attention_mask, past_key_values, use_cache, output_attentions, output_hidden_states, return_dict)\u001b[0m\n\u001b[0;32m    527\u001b[0m                     \u001b[0mencoder_attention_mask\u001b[0m\u001b[1;33m,\u001b[0m\u001b[1;33m\u001b[0m\u001b[1;33m\u001b[0m\u001b[0m\n\u001b[0;32m    528\u001b[0m                     \u001b[0mpast_key_value\u001b[0m\u001b[1;33m,\u001b[0m\u001b[1;33m\u001b[0m\u001b[1;33m\u001b[0m\u001b[0m\n\u001b[1;32m--> 529\u001b[1;33m                     \u001b[0moutput_attentions\u001b[0m\u001b[1;33m,\u001b[0m\u001b[1;33m\u001b[0m\u001b[1;33m\u001b[0m\u001b[0m\n\u001b[0m\u001b[0;32m    530\u001b[0m                 )\n\u001b[0;32m    531\u001b[0m \u001b[1;33m\u001b[0m\u001b[0m\n",
      "\u001b[1;32mc:\\ProgramData\\Anaconda3\\envs\\k12\\lib\\site-packages\\torch\\nn\\modules\\module.py\u001b[0m in \u001b[0;36m_call_impl\u001b[1;34m(self, *input, **kwargs)\u001b[0m\n\u001b[0;32m   1128\u001b[0m         if not (self._backward_hooks or self._forward_hooks or self._forward_pre_hooks or _global_backward_hooks\n\u001b[0;32m   1129\u001b[0m                 or _global_forward_hooks or _global_forward_pre_hooks):\n\u001b[1;32m-> 1130\u001b[1;33m             \u001b[1;32mreturn\u001b[0m \u001b[0mforward_call\u001b[0m\u001b[1;33m(\u001b[0m\u001b[1;33m*\u001b[0m\u001b[0minput\u001b[0m\u001b[1;33m,\u001b[0m \u001b[1;33m**\u001b[0m\u001b[0mkwargs\u001b[0m\u001b[1;33m)\u001b[0m\u001b[1;33m\u001b[0m\u001b[1;33m\u001b[0m\u001b[0m\n\u001b[0m\u001b[0;32m   1131\u001b[0m         \u001b[1;31m# Do not call functions when jit is used\u001b[0m\u001b[1;33m\u001b[0m\u001b[1;33m\u001b[0m\u001b[1;33m\u001b[0m\u001b[0m\n\u001b[0;32m   1132\u001b[0m         \u001b[0mfull_backward_hooks\u001b[0m\u001b[1;33m,\u001b[0m \u001b[0mnon_full_backward_hooks\u001b[0m \u001b[1;33m=\u001b[0m \u001b[1;33m[\u001b[0m\u001b[1;33m]\u001b[0m\u001b[1;33m,\u001b[0m \u001b[1;33m[\u001b[0m\u001b[1;33m]\u001b[0m\u001b[1;33m\u001b[0m\u001b[1;33m\u001b[0m\u001b[0m\n",
      "\u001b[1;32mc:\\ProgramData\\Anaconda3\\envs\\k12\\lib\\site-packages\\transformers\\models\\roberta\\modeling_roberta.py\u001b[0m in \u001b[0;36mforward\u001b[1;34m(self, hidden_states, attention_mask, head_mask, encoder_hidden_states, encoder_attention_mask, past_key_value, output_attentions)\u001b[0m\n\u001b[0;32m    448\u001b[0m \u001b[1;33m\u001b[0m\u001b[0m\n\u001b[0;32m    449\u001b[0m         layer_output = apply_chunking_to_forward(\n\u001b[1;32m--> 450\u001b[1;33m             \u001b[0mself\u001b[0m\u001b[1;33m.\u001b[0m\u001b[0mfeed_forward_chunk\u001b[0m\u001b[1;33m,\u001b[0m \u001b[0mself\u001b[0m\u001b[1;33m.\u001b[0m\u001b[0mchunk_size_feed_forward\u001b[0m\u001b[1;33m,\u001b[0m \u001b[0mself\u001b[0m\u001b[1;33m.\u001b[0m\u001b[0mseq_len_dim\u001b[0m\u001b[1;33m,\u001b[0m \u001b[0mattention_output\u001b[0m\u001b[1;33m\u001b[0m\u001b[1;33m\u001b[0m\u001b[0m\n\u001b[0m\u001b[0;32m    451\u001b[0m         )\n\u001b[0;32m    452\u001b[0m         \u001b[0moutputs\u001b[0m \u001b[1;33m=\u001b[0m \u001b[1;33m(\u001b[0m\u001b[0mlayer_output\u001b[0m\u001b[1;33m,\u001b[0m\u001b[1;33m)\u001b[0m \u001b[1;33m+\u001b[0m \u001b[0moutputs\u001b[0m\u001b[1;33m\u001b[0m\u001b[1;33m\u001b[0m\u001b[0m\n",
      "\u001b[1;32mc:\\ProgramData\\Anaconda3\\envs\\k12\\lib\\site-packages\\transformers\\modeling_utils.py\u001b[0m in \u001b[0;36mapply_chunking_to_forward\u001b[1;34m(forward_fn, chunk_size, chunk_dim, *input_tensors)\u001b[0m\n\u001b[0;32m   1999\u001b[0m         \u001b[1;32mreturn\u001b[0m \u001b[0mtorch\u001b[0m\u001b[1;33m.\u001b[0m\u001b[0mcat\u001b[0m\u001b[1;33m(\u001b[0m\u001b[0moutput_chunks\u001b[0m\u001b[1;33m,\u001b[0m \u001b[0mdim\u001b[0m\u001b[1;33m=\u001b[0m\u001b[0mchunk_dim\u001b[0m\u001b[1;33m)\u001b[0m\u001b[1;33m\u001b[0m\u001b[1;33m\u001b[0m\u001b[0m\n\u001b[0;32m   2000\u001b[0m \u001b[1;33m\u001b[0m\u001b[0m\n\u001b[1;32m-> 2001\u001b[1;33m     \u001b[1;32mreturn\u001b[0m \u001b[0mforward_fn\u001b[0m\u001b[1;33m(\u001b[0m\u001b[1;33m*\u001b[0m\u001b[0minput_tensors\u001b[0m\u001b[1;33m)\u001b[0m\u001b[1;33m\u001b[0m\u001b[1;33m\u001b[0m\u001b[0m\n\u001b[0m",
      "\u001b[1;32mc:\\ProgramData\\Anaconda3\\envs\\k12\\lib\\site-packages\\transformers\\models\\roberta\\modeling_roberta.py\u001b[0m in \u001b[0;36mfeed_forward_chunk\u001b[1;34m(self, attention_output)\u001b[0m\n\u001b[0;32m    460\u001b[0m     \u001b[1;32mdef\u001b[0m \u001b[0mfeed_forward_chunk\u001b[0m\u001b[1;33m(\u001b[0m\u001b[0mself\u001b[0m\u001b[1;33m,\u001b[0m \u001b[0mattention_output\u001b[0m\u001b[1;33m)\u001b[0m\u001b[1;33m:\u001b[0m\u001b[1;33m\u001b[0m\u001b[1;33m\u001b[0m\u001b[0m\n\u001b[0;32m    461\u001b[0m         \u001b[0mintermediate_output\u001b[0m \u001b[1;33m=\u001b[0m \u001b[0mself\u001b[0m\u001b[1;33m.\u001b[0m\u001b[0mintermediate\u001b[0m\u001b[1;33m(\u001b[0m\u001b[0mattention_output\u001b[0m\u001b[1;33m)\u001b[0m\u001b[1;33m\u001b[0m\u001b[1;33m\u001b[0m\u001b[0m\n\u001b[1;32m--> 462\u001b[1;33m         \u001b[0mlayer_output\u001b[0m \u001b[1;33m=\u001b[0m \u001b[0mself\u001b[0m\u001b[1;33m.\u001b[0m\u001b[0moutput\u001b[0m\u001b[1;33m(\u001b[0m\u001b[0mintermediate_output\u001b[0m\u001b[1;33m,\u001b[0m \u001b[0mattention_output\u001b[0m\u001b[1;33m)\u001b[0m\u001b[1;33m\u001b[0m\u001b[1;33m\u001b[0m\u001b[0m\n\u001b[0m\u001b[0;32m    463\u001b[0m         \u001b[1;32mreturn\u001b[0m \u001b[0mlayer_output\u001b[0m\u001b[1;33m\u001b[0m\u001b[1;33m\u001b[0m\u001b[0m\n\u001b[0;32m    464\u001b[0m \u001b[1;33m\u001b[0m\u001b[0m\n",
      "\u001b[1;32mc:\\ProgramData\\Anaconda3\\envs\\k12\\lib\\site-packages\\torch\\nn\\modules\\module.py\u001b[0m in \u001b[0;36m_call_impl\u001b[1;34m(self, *input, **kwargs)\u001b[0m\n\u001b[0;32m   1128\u001b[0m         if not (self._backward_hooks or self._forward_hooks or self._forward_pre_hooks or _global_backward_hooks\n\u001b[0;32m   1129\u001b[0m                 or _global_forward_hooks or _global_forward_pre_hooks):\n\u001b[1;32m-> 1130\u001b[1;33m             \u001b[1;32mreturn\u001b[0m \u001b[0mforward_call\u001b[0m\u001b[1;33m(\u001b[0m\u001b[1;33m*\u001b[0m\u001b[0minput\u001b[0m\u001b[1;33m,\u001b[0m \u001b[1;33m**\u001b[0m\u001b[0mkwargs\u001b[0m\u001b[1;33m)\u001b[0m\u001b[1;33m\u001b[0m\u001b[1;33m\u001b[0m\u001b[0m\n\u001b[0m\u001b[0;32m   1131\u001b[0m         \u001b[1;31m# Do not call functions when jit is used\u001b[0m\u001b[1;33m\u001b[0m\u001b[1;33m\u001b[0m\u001b[1;33m\u001b[0m\u001b[0m\n\u001b[0;32m   1132\u001b[0m         \u001b[0mfull_backward_hooks\u001b[0m\u001b[1;33m,\u001b[0m \u001b[0mnon_full_backward_hooks\u001b[0m \u001b[1;33m=\u001b[0m \u001b[1;33m[\u001b[0m\u001b[1;33m]\u001b[0m\u001b[1;33m,\u001b[0m \u001b[1;33m[\u001b[0m\u001b[1;33m]\u001b[0m\u001b[1;33m\u001b[0m\u001b[1;33m\u001b[0m\u001b[0m\n",
      "\u001b[1;32mc:\\ProgramData\\Anaconda3\\envs\\k12\\lib\\site-packages\\transformers\\models\\roberta\\modeling_roberta.py\u001b[0m in \u001b[0;36mforward\u001b[1;34m(self, hidden_states, input_tensor)\u001b[0m\n\u001b[0;32m    374\u001b[0m \u001b[1;33m\u001b[0m\u001b[0m\n\u001b[0;32m    375\u001b[0m     \u001b[1;32mdef\u001b[0m \u001b[0mforward\u001b[0m\u001b[1;33m(\u001b[0m\u001b[0mself\u001b[0m\u001b[1;33m,\u001b[0m \u001b[0mhidden_states\u001b[0m\u001b[1;33m,\u001b[0m \u001b[0minput_tensor\u001b[0m\u001b[1;33m)\u001b[0m\u001b[1;33m:\u001b[0m\u001b[1;33m\u001b[0m\u001b[1;33m\u001b[0m\u001b[0m\n\u001b[1;32m--> 376\u001b[1;33m         \u001b[0mhidden_states\u001b[0m \u001b[1;33m=\u001b[0m \u001b[0mself\u001b[0m\u001b[1;33m.\u001b[0m\u001b[0mdense\u001b[0m\u001b[1;33m(\u001b[0m\u001b[0mhidden_states\u001b[0m\u001b[1;33m)\u001b[0m\u001b[1;33m\u001b[0m\u001b[1;33m\u001b[0m\u001b[0m\n\u001b[0m\u001b[0;32m    377\u001b[0m         \u001b[0mhidden_states\u001b[0m \u001b[1;33m=\u001b[0m \u001b[0mself\u001b[0m\u001b[1;33m.\u001b[0m\u001b[0mdropout\u001b[0m\u001b[1;33m(\u001b[0m\u001b[0mhidden_states\u001b[0m\u001b[1;33m)\u001b[0m\u001b[1;33m\u001b[0m\u001b[1;33m\u001b[0m\u001b[0m\n\u001b[0;32m    378\u001b[0m         \u001b[0mhidden_states\u001b[0m \u001b[1;33m=\u001b[0m \u001b[0mself\u001b[0m\u001b[1;33m.\u001b[0m\u001b[0mLayerNorm\u001b[0m\u001b[1;33m(\u001b[0m\u001b[0mhidden_states\u001b[0m \u001b[1;33m+\u001b[0m \u001b[0minput_tensor\u001b[0m\u001b[1;33m)\u001b[0m\u001b[1;33m\u001b[0m\u001b[1;33m\u001b[0m\u001b[0m\n",
      "\u001b[1;32mc:\\ProgramData\\Anaconda3\\envs\\k12\\lib\\site-packages\\torch\\nn\\modules\\module.py\u001b[0m in \u001b[0;36m_call_impl\u001b[1;34m(self, *input, **kwargs)\u001b[0m\n\u001b[0;32m   1128\u001b[0m         if not (self._backward_hooks or self._forward_hooks or self._forward_pre_hooks or _global_backward_hooks\n\u001b[0;32m   1129\u001b[0m                 or _global_forward_hooks or _global_forward_pre_hooks):\n\u001b[1;32m-> 1130\u001b[1;33m             \u001b[1;32mreturn\u001b[0m \u001b[0mforward_call\u001b[0m\u001b[1;33m(\u001b[0m\u001b[1;33m*\u001b[0m\u001b[0minput\u001b[0m\u001b[1;33m,\u001b[0m \u001b[1;33m**\u001b[0m\u001b[0mkwargs\u001b[0m\u001b[1;33m)\u001b[0m\u001b[1;33m\u001b[0m\u001b[1;33m\u001b[0m\u001b[0m\n\u001b[0m\u001b[0;32m   1131\u001b[0m         \u001b[1;31m# Do not call functions when jit is used\u001b[0m\u001b[1;33m\u001b[0m\u001b[1;33m\u001b[0m\u001b[1;33m\u001b[0m\u001b[0m\n\u001b[0;32m   1132\u001b[0m         \u001b[0mfull_backward_hooks\u001b[0m\u001b[1;33m,\u001b[0m \u001b[0mnon_full_backward_hooks\u001b[0m \u001b[1;33m=\u001b[0m \u001b[1;33m[\u001b[0m\u001b[1;33m]\u001b[0m\u001b[1;33m,\u001b[0m \u001b[1;33m[\u001b[0m\u001b[1;33m]\u001b[0m\u001b[1;33m\u001b[0m\u001b[1;33m\u001b[0m\u001b[0m\n",
      "\u001b[1;32mc:\\ProgramData\\Anaconda3\\envs\\k12\\lib\\site-packages\\torch\\nn\\modules\\linear.py\u001b[0m in \u001b[0;36mforward\u001b[1;34m(self, input)\u001b[0m\n\u001b[0;32m    112\u001b[0m \u001b[1;33m\u001b[0m\u001b[0m\n\u001b[0;32m    113\u001b[0m     \u001b[1;32mdef\u001b[0m \u001b[0mforward\u001b[0m\u001b[1;33m(\u001b[0m\u001b[0mself\u001b[0m\u001b[1;33m,\u001b[0m \u001b[0minput\u001b[0m\u001b[1;33m:\u001b[0m \u001b[0mTensor\u001b[0m\u001b[1;33m)\u001b[0m \u001b[1;33m->\u001b[0m \u001b[0mTensor\u001b[0m\u001b[1;33m:\u001b[0m\u001b[1;33m\u001b[0m\u001b[1;33m\u001b[0m\u001b[0m\n\u001b[1;32m--> 114\u001b[1;33m         \u001b[1;32mreturn\u001b[0m \u001b[0mF\u001b[0m\u001b[1;33m.\u001b[0m\u001b[0mlinear\u001b[0m\u001b[1;33m(\u001b[0m\u001b[0minput\u001b[0m\u001b[1;33m,\u001b[0m \u001b[0mself\u001b[0m\u001b[1;33m.\u001b[0m\u001b[0mweight\u001b[0m\u001b[1;33m,\u001b[0m \u001b[0mself\u001b[0m\u001b[1;33m.\u001b[0m\u001b[0mbias\u001b[0m\u001b[1;33m)\u001b[0m\u001b[1;33m\u001b[0m\u001b[1;33m\u001b[0m\u001b[0m\n\u001b[0m\u001b[0;32m    115\u001b[0m \u001b[1;33m\u001b[0m\u001b[0m\n\u001b[0;32m    116\u001b[0m     \u001b[1;32mdef\u001b[0m \u001b[0mextra_repr\u001b[0m\u001b[1;33m(\u001b[0m\u001b[0mself\u001b[0m\u001b[1;33m)\u001b[0m \u001b[1;33m->\u001b[0m \u001b[0mstr\u001b[0m\u001b[1;33m:\u001b[0m\u001b[1;33m\u001b[0m\u001b[1;33m\u001b[0m\u001b[0m\n",
      "\u001b[1;31mKeyboardInterrupt\u001b[0m: "
     ]
    }
   ],
   "source": [
    "#8min 47s\n",
    "df_sentiment_male = ss.get_sentiment_df(df_male,\"lor\",drop_sent_scores = False)\n",
    "#2min 50s\n",
    "df_sentiment_female = ss.get_sentiment_df(df_female,\"lor\",drop_sent_scores = False)\n"
   ]
  },
  {
   "cell_type": "code",
   "execution_count": 110,
   "metadata": {},
   "outputs": [],
   "source": [
    "\n",
    "# %%\n",
    "df_sentiment_male.to_excel(\"df_sentiment_male.xlsx\")\n",
    "df_sentiment_female.to_excel(\"df_sentiment_female.xlsx\")\n",
    "# %%\n"
   ]
  },
  {
   "cell_type": "code",
   "execution_count": 13,
   "metadata": {},
   "outputs": [],
   "source": [
    "df_sentiment_male = pd.read_excel(\"df_sentiment_male.xlsx\")\n",
    "df_sentiment_female = pd.read_excel(\"df_sentiment_female.xlsx\")"
   ]
  },
  {
   "cell_type": "code",
   "execution_count": 14,
   "metadata": {},
   "outputs": [
    {
     "data": {
      "text/plain": [
       "0.9236042756369224"
      ]
     },
     "execution_count": 14,
     "metadata": {},
     "output_type": "execute_result"
    }
   ],
   "source": [
    "df_sentiment_male.score.mean()\n",
    "#0.922\n",
    "\n",
    "\n"
   ]
  },
  {
   "cell_type": "code",
   "execution_count": 15,
   "metadata": {},
   "outputs": [
    {
     "data": {
      "text/plain": [
       "0.5799181461334229"
      ]
     },
     "execution_count": 15,
     "metadata": {},
     "output_type": "execute_result"
    }
   ],
   "source": [
    "df_sentiment_male.score.min()"
   ]
  },
  {
   "cell_type": "code",
   "execution_count": 19,
   "metadata": {},
   "outputs": [
    {
     "data": {
      "text/plain": [
       "0.9861493110656738"
      ]
     },
     "execution_count": 19,
     "metadata": {},
     "output_type": "execute_result"
    }
   ],
   "source": [
    "df_sentiment_male.score.max()"
   ]
  },
  {
   "cell_type": "code",
   "execution_count": 16,
   "metadata": {},
   "outputs": [
    {
     "data": {
      "text/plain": [
       "0.9211257851177267"
      ]
     },
     "execution_count": 16,
     "metadata": {},
     "output_type": "execute_result"
    }
   ],
   "source": [
    "# %%\n",
    "df_sentiment_female.score.mean()\n",
    "#0.920\n"
   ]
  },
  {
   "cell_type": "code",
   "execution_count": 17,
   "metadata": {},
   "outputs": [
    {
     "data": {
      "text/plain": [
       "0.5491375923156738"
      ]
     },
     "execution_count": 17,
     "metadata": {},
     "output_type": "execute_result"
    }
   ],
   "source": [
    "df_sentiment_female.score.min()"
   ]
  },
  {
   "cell_type": "code",
   "execution_count": 18,
   "metadata": {},
   "outputs": [
    {
     "data": {
      "text/plain": [
       "0.9836942553520203"
      ]
     },
     "execution_count": 18,
     "metadata": {},
     "output_type": "execute_result"
    }
   ],
   "source": [
    "# %%\n",
    "df_sentiment_female.score.max()"
   ]
  },
  {
   "cell_type": "code",
   "execution_count": 160,
   "metadata": {},
   "outputs": [
    {
     "ename": "NameError",
     "evalue": "name 'df_sentiment_male' is not defined",
     "output_type": "error",
     "traceback": [
      "\u001b[1;31m---------------------------------------------------------------------------\u001b[0m",
      "\u001b[1;31mNameError\u001b[0m                                 Traceback (most recent call last)",
      "\u001b[1;32m<ipython-input-160-16ed0f0f3dfe>\u001b[0m in \u001b[0;36m<module>\u001b[1;34m\u001b[0m\n\u001b[0;32m      3\u001b[0m \u001b[1;33m\u001b[0m\u001b[0m\n\u001b[0;32m      4\u001b[0m \u001b[1;31m# %%\u001b[0m\u001b[1;33m\u001b[0m\u001b[1;33m\u001b[0m\u001b[1;33m\u001b[0m\u001b[0m\n\u001b[1;32m----> 5\u001b[1;33m \u001b[0mttest_ind\u001b[0m\u001b[1;33m(\u001b[0m\u001b[0mdf_sentiment_male\u001b[0m\u001b[1;33m[\u001b[0m\u001b[1;34m'score'\u001b[0m\u001b[1;33m]\u001b[0m\u001b[1;33m,\u001b[0m \u001b[0mdf_sentiment_female\u001b[0m\u001b[1;33m[\u001b[0m\u001b[1;34m'score'\u001b[0m\u001b[1;33m]\u001b[0m\u001b[1;33m)\u001b[0m\u001b[1;33m\u001b[0m\u001b[1;33m\u001b[0m\u001b[0m\n\u001b[0m\u001b[0;32m      6\u001b[0m \u001b[1;31m# Ttest_indResult(statistic=0.4477779636275707, pvalue=0.6544202583903076)\u001b[0m\u001b[1;33m\u001b[0m\u001b[1;33m\u001b[0m\u001b[1;33m\u001b[0m\u001b[0m\n",
      "\u001b[1;31mNameError\u001b[0m: name 'df_sentiment_male' is not defined"
     ]
    }
   ],
   "source": [
    "#%%\n",
    "from scipy.stats import ttest_ind\n",
    "\n",
    "# %%\n",
    "ttest_ind(df_sentiment_male['score'], df_sentiment_female['score'])\n",
    "# Ttest_indResult(statistic=0.4477779636275707, pvalue=0.6544202583903076)\n"
   ]
  },
  {
   "cell_type": "code",
   "execution_count": 161,
   "metadata": {},
   "outputs": [
    {
     "ename": "NameError",
     "evalue": "name 'df_sentiment_male' is not defined",
     "output_type": "error",
     "traceback": [
      "\u001b[1;31m---------------------------------------------------------------------------\u001b[0m",
      "\u001b[1;31mNameError\u001b[0m                                 Traceback (most recent call last)",
      "\u001b[1;32m<ipython-input-161-f0e278a5e3c5>\u001b[0m in \u001b[0;36m<module>\u001b[1;34m\u001b[0m\n\u001b[0;32m      1\u001b[0m \u001b[1;33m\u001b[0m\u001b[0m\n\u001b[0;32m      2\u001b[0m \u001b[1;31m# %%\u001b[0m\u001b[1;33m\u001b[0m\u001b[1;33m\u001b[0m\u001b[1;33m\u001b[0m\u001b[0m\n\u001b[1;32m----> 3\u001b[1;33m \u001b[0mdf_male_sentence\u001b[0m \u001b[1;33m=\u001b[0m \u001b[0mget_df_sentence\u001b[0m\u001b[1;33m(\u001b[0m\u001b[0mdf_sentiment_male\u001b[0m\u001b[1;33m,\u001b[0m \u001b[1;34m\"lor\"\u001b[0m\u001b[1;33m)\u001b[0m\u001b[1;33m\u001b[0m\u001b[1;33m\u001b[0m\u001b[0m\n\u001b[0m\u001b[0;32m      4\u001b[0m \u001b[0mdf_female_sentence\u001b[0m \u001b[1;33m=\u001b[0m \u001b[0mget_df_sentence\u001b[0m\u001b[1;33m(\u001b[0m\u001b[0mdf_sentiment_female\u001b[0m\u001b[1;33m,\u001b[0m \u001b[1;34m\"lor\"\u001b[0m\u001b[1;33m)\u001b[0m\u001b[1;33m\u001b[0m\u001b[1;33m\u001b[0m\u001b[0m\n\u001b[0;32m      5\u001b[0m \u001b[1;31m# %%\u001b[0m\u001b[1;33m\u001b[0m\u001b[1;33m\u001b[0m\u001b[1;33m\u001b[0m\u001b[0m\n",
      "\u001b[1;31mNameError\u001b[0m: name 'df_sentiment_male' is not defined"
     ]
    }
   ],
   "source": [
    "\n",
    "# %%\n",
    "df_male_sentence = get_df_sentence(df_sentiment_male, \"lor\")\n",
    "df_female_sentence = get_df_sentence(df_sentiment_female, \"lor\")\n",
    "# %%\n"
   ]
  },
  {
   "cell_type": "code",
   "execution_count": 117,
   "metadata": {},
   "outputs": [
    {
     "data": {
      "text/html": [
       "<div>\n",
       "<style scoped>\n",
       "    .dataframe tbody tr th:only-of-type {\n",
       "        vertical-align: middle;\n",
       "    }\n",
       "\n",
       "    .dataframe tbody tr th {\n",
       "        vertical-align: top;\n",
       "    }\n",
       "\n",
       "    .dataframe thead th {\n",
       "        text-align: right;\n",
       "    }\n",
       "</style>\n",
       "<table border=\"1\" class=\"dataframe\">\n",
       "  <thead>\n",
       "    <tr style=\"text-align: right;\">\n",
       "      <th></th>\n",
       "      <th>sentence_split</th>\n",
       "      <th>lor_id</th>\n",
       "    </tr>\n",
       "  </thead>\n",
       "  <tbody>\n",
       "    <tr>\n",
       "      <th>0</th>\n",
       "      <td>dear dr. dachman,it is with great pleasure that i prepare this letter of recommendation for dr. thomas hu, a resident with whom i have worked closely for the last four years</td>\n",
       "      <td>8</td>\n",
       "    </tr>\n",
       "    <tr>\n",
       "      <th>1</th>\n",
       "      <td>as program director of the radiology residency program at mcgill university, i have known dr. hu since he first started in our department as a rotating intern pgy thomas has indicated to me that he is interested in pursuing a fellowship in your department and i fully support his application</td>\n",
       "      <td>8</td>\n",
       "    </tr>\n",
       "    <tr>\n",
       "      <th>2</th>\n",
       "      <td>he is well known in our department as a very dependable and reliable physician</td>\n",
       "      <td>8</td>\n",
       "    </tr>\n",
       "    <tr>\n",
       "      <th>3</th>\n",
       "      <td>his dictated reports are complete and to the point, and always completed in a timely fashion</td>\n",
       "      <td>8</td>\n",
       "    </tr>\n",
       "    <tr>\n",
       "      <th>4</th>\n",
       "      <td>he is always punctual and conducts himself in a highly professional manner</td>\n",
       "      <td>8</td>\n",
       "    </tr>\n",
       "  </tbody>\n",
       "</table>\n",
       "</div>"
      ],
      "text/plain": [
       "                                                                                                                                                                                                                                                                                        sentence_split  \\\n",
       "0                                                                                                                        dear dr. dachman,it is with great pleasure that i prepare this letter of recommendation for dr. thomas hu, a resident with whom i have worked closely for the last four years   \n",
       "1  as program director of the radiology residency program at mcgill university, i have known dr. hu since he first started in our department as a rotating intern pgy thomas has indicated to me that he is interested in pursuing a fellowship in your department and i fully support his application   \n",
       "2                                                                                                                                                                                                                       he is well known in our department as a very dependable and reliable physician   \n",
       "3                                                                                                                                                                                                         his dictated reports are complete and to the point, and always completed in a timely fashion   \n",
       "4                                                                                                                                                                                                                           he is always punctual and conducts himself in a highly professional manner   \n",
       "\n",
       "   lor_id  \n",
       "0       8  \n",
       "1       8  \n",
       "2       8  \n",
       "3       8  \n",
       "4       8  "
      ]
     },
     "execution_count": 117,
     "metadata": {},
     "output_type": "execute_result"
    }
   ],
   "source": [
    "df_male_sentence.head()"
   ]
  },
  {
   "cell_type": "code",
   "execution_count": 118,
   "metadata": {},
   "outputs": [
    {
     "name": "stdout",
     "output_type": "stream",
     "text": [
      "male_sentence_ratio 18.128268991282688\n"
     ]
    }
   ],
   "source": [
    "male_sentence_ratio = df_male_sentence.shape[0]/df_sentiment_male.shape[0]\n",
    "print(\"male_sentence_ratio\", male_sentence_ratio)\n",
    "#%%\n"
   ]
  },
  {
   "cell_type": "code",
   "execution_count": 119,
   "metadata": {},
   "outputs": [
    {
     "name": "stdout",
     "output_type": "stream",
     "text": [
      "female_sentence_ratio 19.255605381165918\n"
     ]
    }
   ],
   "source": [
    "female_sentence_ratio = df_female_sentence.shape[0]/df_sentiment_female.shape[0]\n",
    "print(\"female_sentence_ratio\", female_sentence_ratio)\n",
    "# 18.83\n",
    "# %%\n"
   ]
  },
  {
   "cell_type": "markdown",
   "metadata": {},
   "source": [
    "# writer gender anaylsis"
   ]
  },
  {
   "cell_type": "code",
   "execution_count": 162,
   "metadata": {},
   "outputs": [],
   "source": [
    "df_new_lor_male = df_new.loc[df_new.lor_gender == \"male\"]\n",
    "df_new_lor_female = df_new.loc[df_new.lor_gender == \"female\"]"
   ]
  },
  {
   "cell_type": "code",
   "execution_count": 163,
   "metadata": {},
   "outputs": [
    {
     "name": "stderr",
     "output_type": "stream",
     "text": [
      "c:\\ProgramData\\Anaconda3\\envs\\k12\\lib\\site-packages\\ipykernel_launcher.py:30: SettingWithCopyWarning: \n",
      "A value is trying to be set on a copy of a slice from a DataFrame.\n",
      "Try using .loc[row_indexer,col_indexer] = value instead\n",
      "\n",
      "See the caveats in the documentation: https://pandas.pydata.org/pandas-docs/stable/user_guide/indexing.html#returning-a-view-versus-a-copy\n",
      "c:\\ProgramData\\Anaconda3\\envs\\k12\\lib\\site-packages\\ipykernel_launcher.py:31: SettingWithCopyWarning: \n",
      "A value is trying to be set on a copy of a slice from a DataFrame.\n",
      "Try using .loc[row_indexer,col_indexer] = value instead\n",
      "\n",
      "See the caveats in the documentation: https://pandas.pydata.org/pandas-docs/stable/user_guide/indexing.html#returning-a-view-versus-a-copy\n"
     ]
    }
   ],
   "source": [
    "df_new_lor_male_sentence = get_df_sentence(df_new_lor_male, \"lor\")\n",
    "df_new_lor_female_sentence = get_df_sentence(df_new_lor_female, \"lor\")"
   ]
  },
  {
   "cell_type": "code",
   "execution_count": 164,
   "metadata": {},
   "outputs": [
    {
     "name": "stdout",
     "output_type": "stream",
     "text": [
      "male_writer_sentence_ratio 18.192961165048544\n"
     ]
    }
   ],
   "source": [
    "lor_male_sentence_ratio = df_new_lor_male_sentence.shape[0]/df_new_lor_male.shape[0]\n",
    "print(\"male_writer_sentence_ratio\", lor_male_sentence_ratio)\n",
    "#%%"
   ]
  },
  {
   "cell_type": "code",
   "execution_count": 165,
   "metadata": {},
   "outputs": [
    {
     "name": "stdout",
     "output_type": "stream",
     "text": [
      "female_writer_sentence_ratio 19.328282828282827\n"
     ]
    }
   ],
   "source": [
    "lor_female_sentence_ratio = df_new_lor_female_sentence.shape[0]/df_new_lor_female.shape[0]\n",
    "print(\"female_writer_sentence_ratio\", lor_female_sentence_ratio)"
   ]
  },
  {
   "cell_type": "code",
   "execution_count": 166,
   "metadata": {},
   "outputs": [],
   "source": [
    "lor_male_report_size = df_new_lor_male_sentence.groupby(\"lor_id\").size()\n",
    "lor_female_report_size = df_new_lor_female_sentence.groupby(\"lor_id\").size()\n"
   ]
  },
  {
   "cell_type": "code",
   "execution_count": 167,
   "metadata": {},
   "outputs": [
    {
     "name": "stdout",
     "output_type": "stream",
     "text": [
      "mf Ttest_indResult(statistic=-2.1851475935293077, pvalue=0.02910495144863123)\n"
     ]
    }
   ],
   "source": [
    "print(\"mf\",ttest_ind(lor_male_report_size,lor_female_report_size))\n"
   ]
  },
  {
   "cell_type": "code",
   "execution_count": 168,
   "metadata": {},
   "outputs": [
    {
     "ename": "NameError",
     "evalue": "name 'df_sentiment_male' is not defined",
     "output_type": "error",
     "traceback": [
      "\u001b[1;31m---------------------------------------------------------------------------\u001b[0m",
      "\u001b[1;31mNameError\u001b[0m                                 Traceback (most recent call last)",
      "\u001b[1;32m<ipython-input-168-153c91be76b2>\u001b[0m in \u001b[0;36m<module>\u001b[1;34m\u001b[0m\n\u001b[1;32m----> 1\u001b[1;33m \u001b[0mdf_male_lor_male\u001b[0m \u001b[1;33m=\u001b[0m \u001b[0mdf_sentiment_male\u001b[0m\u001b[1;33m.\u001b[0m\u001b[0mloc\u001b[0m\u001b[1;33m[\u001b[0m\u001b[0mdf_sentiment_male\u001b[0m\u001b[1;33m[\u001b[0m\u001b[1;34m\"lor_gender\"\u001b[0m\u001b[1;33m]\u001b[0m\u001b[1;33m==\u001b[0m\u001b[1;34m\"male\"\u001b[0m\u001b[1;33m]\u001b[0m\u001b[1;33m\u001b[0m\u001b[1;33m\u001b[0m\u001b[0m\n\u001b[0m\u001b[0;32m      2\u001b[0m \u001b[0mdf_male_lor_female\u001b[0m \u001b[1;33m=\u001b[0m \u001b[0mdf_sentiment_male\u001b[0m\u001b[1;33m.\u001b[0m\u001b[0mloc\u001b[0m\u001b[1;33m[\u001b[0m\u001b[0mdf_sentiment_male\u001b[0m\u001b[1;33m[\u001b[0m\u001b[1;34m\"lor_gender\"\u001b[0m\u001b[1;33m]\u001b[0m\u001b[1;33m==\u001b[0m\u001b[1;34m\"female\"\u001b[0m\u001b[1;33m]\u001b[0m\u001b[1;33m\u001b[0m\u001b[1;33m\u001b[0m\u001b[0m\n\u001b[0;32m      3\u001b[0m \u001b[0mdf_female_lor_male\u001b[0m \u001b[1;33m=\u001b[0m \u001b[0mdf_sentiment_female\u001b[0m\u001b[1;33m.\u001b[0m\u001b[0mloc\u001b[0m\u001b[1;33m[\u001b[0m\u001b[0mdf_sentiment_female\u001b[0m\u001b[1;33m[\u001b[0m\u001b[1;34m\"lor_gender\"\u001b[0m\u001b[1;33m]\u001b[0m\u001b[1;33m==\u001b[0m\u001b[1;34m\"male\"\u001b[0m\u001b[1;33m]\u001b[0m\u001b[1;33m\u001b[0m\u001b[1;33m\u001b[0m\u001b[0m\n\u001b[0;32m      4\u001b[0m \u001b[0mdf_female_lor_female\u001b[0m \u001b[1;33m=\u001b[0m \u001b[0mdf_sentiment_female\u001b[0m\u001b[1;33m.\u001b[0m\u001b[0mloc\u001b[0m\u001b[1;33m[\u001b[0m\u001b[0mdf_sentiment_female\u001b[0m\u001b[1;33m[\u001b[0m\u001b[1;34m\"lor_gender\"\u001b[0m\u001b[1;33m]\u001b[0m\u001b[1;33m==\u001b[0m\u001b[1;34m\"female\"\u001b[0m\u001b[1;33m]\u001b[0m\u001b[1;33m\u001b[0m\u001b[1;33m\u001b[0m\u001b[0m\n\u001b[0;32m      5\u001b[0m \u001b[1;31m# %%\u001b[0m\u001b[1;33m\u001b[0m\u001b[1;33m\u001b[0m\u001b[1;33m\u001b[0m\u001b[0m\n",
      "\u001b[1;31mNameError\u001b[0m: name 'df_sentiment_male' is not defined"
     ]
    }
   ],
   "source": [
    "df_male_lor_male = df_sentiment_male.loc[df_sentiment_male[\"lor_gender\"]==\"male\"]\n",
    "df_male_lor_female = df_sentiment_male.loc[df_sentiment_male[\"lor_gender\"]==\"female\"]\n",
    "df_female_lor_male = df_sentiment_female.loc[df_sentiment_female[\"lor_gender\"]==\"male\"]\n",
    "df_female_lor_female = df_sentiment_female.loc[df_sentiment_female[\"lor_gender\"]==\"female\"]\n",
    "# %%\n",
    "mm_score = df_male_lor_male.score.mean()\n",
    "print(\"mm score\", mm_score)\n",
    "mf_score =  df_male_lor_female.score.mean()\n",
    "print(\"mf score\", mf_score)\n",
    "fm_score = df_female_lor_male.score.mean()\n",
    "print(\"fm score\", fm_score)\n",
    "ff_score = df_female_lor_female.score.mean()\n",
    "print(\"ff score\", ff_score)\n",
    "\n",
    "\"\"\" \n",
    "mm sentiment score 0.9233926798046475\n",
    "mf sentiment score 0.9181113643983824\n",
    "fm sentiment score 0.9162155736576427\n",
    "ff sentiment score 0.9328229874372482 \"\"\"\n"
   ]
  },
  {
   "cell_type": "code",
   "execution_count": 127,
   "metadata": {},
   "outputs": [
    {
     "name": "stdout",
     "output_type": "stream",
     "text": [
      "sentiment score ttest mf mm Ttest_indResult(statistic=-1.0427786915783985, pvalue=0.29736819089779143)\n",
      "sentiment score ttest mf fm Ttest_indResult(statistic=0.3122225055723968, pvalue=0.7550868922704312)\n",
      "sentiment score ttest mf ff Ttest_indResult(statistic=-1.5180770628021563, pvalue=0.13061454770018013)\n",
      "sentiment score ttest mm fm Ttest_indResult(statistic=1.509695500215058, pvalue=0.13150919130032976)\n",
      "sentiment score ttest mm ff Ttest_indResult(statistic=-1.0278042685198172, pvalue=0.3043934102130908)\n",
      "sentiment score ttest fm ff Ttest_indResult(statistic=-1.6023487039073878, pvalue=0.1105466614306393)\n"
     ]
    }
   ],
   "source": [
    "\n",
    "# %%\n",
    "print(\"sentiment score ttest mf mm\",ttest_ind(df_male_lor_female['score'], df_male_lor_male['score']))\n",
    "print(\"sentiment score ttest mf fm\",ttest_ind(df_male_lor_female['score'], df_female_lor_male['score']))\n",
    "print(\"sentiment score ttest mf ff\",ttest_ind(df_male_lor_female['score'], df_female_lor_female['score']))\n",
    "print(\"sentiment score ttest mm fm\",ttest_ind(df_male_lor_male['score'], df_female_lor_male['score']))\n",
    "print(\"sentiment score ttest mm ff\",ttest_ind(df_male_lor_male['score'], df_female_lor_female['score']))\n",
    "print(\"sentiment score ttest fm ff\",ttest_ind(df_female_lor_male['score'], df_female_lor_female['score']))\n",
    "#Ttest_indResult(statistic=1.6186915448626993, pvalue=0.10697964146838995)\n",
    "# %%\n",
    "# %%\n"
   ]
  },
  {
   "cell_type": "code",
   "execution_count": 128,
   "metadata": {},
   "outputs": [
    {
     "name": "stderr",
     "output_type": "stream",
     "text": [
      "c:\\ProgramData\\Anaconda3\\envs\\k12\\lib\\site-packages\\ipykernel_launcher.py:30: SettingWithCopyWarning: \n",
      "A value is trying to be set on a copy of a slice from a DataFrame.\n",
      "Try using .loc[row_indexer,col_indexer] = value instead\n",
      "\n",
      "See the caveats in the documentation: https://pandas.pydata.org/pandas-docs/stable/user_guide/indexing.html#returning-a-view-versus-a-copy\n",
      "c:\\ProgramData\\Anaconda3\\envs\\k12\\lib\\site-packages\\ipykernel_launcher.py:31: SettingWithCopyWarning: \n",
      "A value is trying to be set on a copy of a slice from a DataFrame.\n",
      "Try using .loc[row_indexer,col_indexer] = value instead\n",
      "\n",
      "See the caveats in the documentation: https://pandas.pydata.org/pandas-docs/stable/user_guide/indexing.html#returning-a-view-versus-a-copy\n"
     ]
    },
    {
     "name": "stdout",
     "output_type": "stream",
     "text": [
      "male_lor_male_sentence_ratio:  17.900611620795107\n",
      "male_lor_female_sentence_ratio:  19.345070422535212\n",
      "female_lor_male_sentence_ratio:  19.228395061728396\n",
      "female_lor_female_sentence_ratio:  19.054545454545455\n"
     ]
    },
    {
     "data": {
      "text/plain": [
       "' \\nmale_lor_male_sentence_ratio:  17.883802816901408\\nmale_lor_female_sentence_ratio:  20.17699115044248\\nfemale_lor_male_sentence_ratio:  19.01818181818182\\nfemale_lor_female_sentence_ratio:  18.442307692307693\\n'"
      ]
     },
     "execution_count": 128,
     "metadata": {},
     "output_type": "execute_result"
    }
   ],
   "source": [
    "df_male_lor_male_sentence = get_df_sentence(df_male_lor_male, \"lor\")\n",
    "df_male_lor_female_sentence = get_df_sentence(df_male_lor_female, \"lor\")\n",
    "df_female_lor_male_sentence = get_df_sentence(df_female_lor_male, \"lor\")\n",
    "df_female_lor_female_sentence = get_df_sentence(df_female_lor_female, \"lor\")\n",
    "\n",
    "male_lor_male_sentence_ratio = df_male_lor_male_sentence.shape[0]/df_male_lor_male.shape[0]\n",
    "male_lor_female_sentence_ratio = df_male_lor_female_sentence.shape[0]/df_male_lor_female.shape[0]\n",
    "female_lor_male_sentence_ratio = df_female_lor_male_sentence.shape[0]/df_female_lor_male.shape[0]\n",
    "female_lor_female_sentence_ratio = df_female_lor_female_sentence.shape[0]/df_female_lor_female.shape[0]\n",
    "print(\"male_lor_male_sentence_ratio: \",male_lor_male_sentence_ratio)\n",
    "print(\"male_lor_female_sentence_ratio: \",male_lor_female_sentence_ratio)\n",
    "print(\"female_lor_male_sentence_ratio: \",female_lor_male_sentence_ratio)\n",
    "print(\"female_lor_female_sentence_ratio: \",female_lor_female_sentence_ratio)\n",
    "\"\"\" \n",
    "male_lor_male_sentence_ratio:  17.883802816901408\n",
    "male_lor_female_sentence_ratio:  20.17699115044248\n",
    "female_lor_male_sentence_ratio:  19.01818181818182\n",
    "female_lor_female_sentence_ratio:  18.442307692307693\n",
    "\"\"\"\n",
    "#%%\n"
   ]
  },
  {
   "cell_type": "code",
   "execution_count": 129,
   "metadata": {},
   "outputs": [
    {
     "name": "stdout",
     "output_type": "stream",
     "text": [
      "mf-mm Ttest_indResult(statistic=2.441336328670331, pvalue=0.014850406470604406)\n",
      "mf-fm Ttest_indResult(statistic=0.1457896865806155, pvalue=0.8841846780772178)\n",
      "mf-ff Ttest_indResult(statistic=0.2792275450425467, pvalue=0.7803661312673813)\n",
      "mm-fm Ttest_indResult(statistic=-2.327853662126956, pvalue=0.020164109500698267)\n",
      "mm-ff Ttest_indResult(statistic=-1.3033177807287912, pvalue=0.19289056082942158)\n",
      "fm-ff Ttest_indResult(statistic=0.1607491873410399, pvalue=0.8724418858807576)\n"
     ]
    }
   ],
   "source": [
    "mm_report_size = df_male_lor_male_sentence.groupby(\"lor_id\").size()\n",
    "mf_report_size = df_male_lor_female_sentence.groupby(\"lor_id\").size()\n",
    "fm_report_size = df_female_lor_male_sentence.groupby(\"lor_id\").size()\n",
    "ff_report_size = df_female_lor_female_sentence.groupby(\"lor_id\").size()\n",
    "\n",
    "#%%\n",
    "print(\"mf-mm\",ttest_ind(mf_report_size,mm_report_size))\n",
    "print(\"mf-fm\",ttest_ind(mf_report_size,fm_report_size))\n",
    "print(\"mf-ff\",ttest_ind(mf_report_size,ff_report_size))\n",
    "print(\"mm-fm\",ttest_ind(mm_report_size,fm_report_size))\n",
    "print(\"mm-ff\",ttest_ind(mm_report_size,ff_report_size))\n",
    "print(\"fm-ff\",ttest_ind(fm_report_size,ff_report_size))\n",
    "\n"
   ]
  },
  {
   "cell_type": "markdown",
   "metadata": {},
   "source": [
    "* Female writers write longer than male writers.\n",
    "* When we dig into it; we see that, female applicants are given almost the same length letters from male and female writers, while male writers write significantly shorter letters for male applicants than they do for female applicants. And this causes the discrepancy above.\n"
   ]
  },
  {
   "cell_type": "code",
   "execution_count": 130,
   "metadata": {},
   "outputs": [],
   "source": [
    "def get_sentence_adj_pos(sentence):\n",
    "    \"\"\"\n",
    "\n",
    "    Args:\n",
    " \n",
    "        type (_type_): \"JJ\" or\"JJR\" or\"JJS\"\n",
    "\n",
    "    Returns:\n",
    "        _type_: adjectives\n",
    "    \"\"\"\n",
    "    \n",
    "    doc = nlp(sentence)\n",
    "    sent_list = [sent.text for sent in doc.sentences]\n",
    "    adjectives_jj = [word.text for sent in doc.sentences for word in sent.words if word.xpos in [\"JJ\"]]\n",
    "    adjectives_jjr = [word.text for sent in doc.sentences for word in sent.words if word.xpos in [\"JJR\"]]\n",
    "    adjectives_jjs = [word.text for sent in doc.sentences for word in sent.words if word.xpos in [\"JJS\"]]\n",
    "    return (adjectives_jj,adjectives_jjr,adjectives_jjs)\n"
   ]
  },
  {
   "cell_type": "code",
   "execution_count": 131,
   "metadata": {},
   "outputs": [
    {
     "name": "stdout",
     "output_type": "stream",
     "text": [
      "Wall time: 8min 55s\n"
     ]
    },
    {
     "name": "stderr",
     "output_type": "stream",
     "text": [
      "c:\\ProgramData\\Anaconda3\\envs\\k12\\lib\\site-packages\\ipykernel_launcher.py:1: SettingWithCopyWarning: \n",
      "A value is trying to be set on a copy of a slice from a DataFrame.\n",
      "Try using .loc[row_indexer,col_indexer] = value instead\n",
      "\n",
      "See the caveats in the documentation: https://pandas.pydata.org/pandas-docs/stable/user_guide/indexing.html#returning-a-view-versus-a-copy\n",
      "  \"\"\"Entry point for launching an IPython kernel.\n"
     ]
    }
   ],
   "source": [
    "%time df_sentiment_male[\"adj\"] = df_sentiment_male.lor.apply(get_sentence_adj_pos)\n",
    "\n"
   ]
  },
  {
   "cell_type": "code",
   "execution_count": 132,
   "metadata": {},
   "outputs": [
    {
     "name": "stderr",
     "output_type": "stream",
     "text": [
      "c:\\ProgramData\\Anaconda3\\envs\\k12\\lib\\site-packages\\ipykernel_launcher.py:1: SettingWithCopyWarning: \n",
      "A value is trying to be set on a copy of a slice from a DataFrame.\n",
      "Try using .loc[row_indexer,col_indexer] = value instead\n",
      "\n",
      "See the caveats in the documentation: https://pandas.pydata.org/pandas-docs/stable/user_guide/indexing.html#returning-a-view-versus-a-copy\n",
      "  \"\"\"Entry point for launching an IPython kernel.\n",
      "c:\\ProgramData\\Anaconda3\\envs\\k12\\lib\\site-packages\\ipykernel_launcher.py:2: SettingWithCopyWarning: \n",
      "A value is trying to be set on a copy of a slice from a DataFrame.\n",
      "Try using .loc[row_indexer,col_indexer] = value instead\n",
      "\n",
      "See the caveats in the documentation: https://pandas.pydata.org/pandas-docs/stable/user_guide/indexing.html#returning-a-view-versus-a-copy\n",
      "  \n",
      "c:\\ProgramData\\Anaconda3\\envs\\k12\\lib\\site-packages\\ipykernel_launcher.py:3: SettingWithCopyWarning: \n",
      "A value is trying to be set on a copy of a slice from a DataFrame.\n",
      "Try using .loc[row_indexer,col_indexer] = value instead\n",
      "\n",
      "See the caveats in the documentation: https://pandas.pydata.org/pandas-docs/stable/user_guide/indexing.html#returning-a-view-versus-a-copy\n",
      "  This is separate from the ipykernel package so we can avoid doing imports until\n"
     ]
    }
   ],
   "source": [
    "df_sentiment_male[\"adj_jj\"] = df_sentiment_male[\"adj\"].apply(lambda x : x[0])\n",
    "df_sentiment_male[\"adj_jjr\"] = df_sentiment_male[\"adj\"].apply(lambda x : x[1])\n",
    "df_sentiment_male[\"adj_jjs\"] = df_sentiment_male[\"adj\"].apply(lambda x : x[2])"
   ]
  },
  {
   "cell_type": "code",
   "execution_count": 133,
   "metadata": {},
   "outputs": [],
   "source": [
    "df_sentiment_female[\"adj\"] = df_sentiment_female.lor.apply(get_sentence_adj_pos)\n",
    "df_sentiment_female[\"adj_jj\"] = df_sentiment_female[\"adj\"].apply(lambda x : x[0])\n",
    "df_sentiment_female[\"adj_jjr\"] = df_sentiment_female[\"adj\"].apply(lambda x : x[1])\n",
    "df_sentiment_female[\"adj_jjs\"] = df_sentiment_female[\"adj\"].apply(lambda x : x[2])"
   ]
  },
  {
   "cell_type": "code",
   "execution_count": 134,
   "metadata": {},
   "outputs": [],
   "source": [
    "df_sentiment_female[\"adj\"] = df_sentiment_female[\"adj\"].apply(lambda x : sum(x, []))"
   ]
  },
  {
   "cell_type": "code",
   "execution_count": 135,
   "metadata": {},
   "outputs": [
    {
     "name": "stderr",
     "output_type": "stream",
     "text": [
      "c:\\ProgramData\\Anaconda3\\envs\\k12\\lib\\site-packages\\ipykernel_launcher.py:1: SettingWithCopyWarning: \n",
      "A value is trying to be set on a copy of a slice from a DataFrame.\n",
      "Try using .loc[row_indexer,col_indexer] = value instead\n",
      "\n",
      "See the caveats in the documentation: https://pandas.pydata.org/pandas-docs/stable/user_guide/indexing.html#returning-a-view-versus-a-copy\n",
      "  \"\"\"Entry point for launching an IPython kernel.\n"
     ]
    }
   ],
   "source": [
    "df_sentiment_male[\"adj\"] = df_sentiment_male[\"adj\"].apply(lambda x : sum(x, []))"
   ]
  },
  {
   "cell_type": "code",
   "execution_count": 136,
   "metadata": {},
   "outputs": [],
   "source": [
    "df_sentiment_male.to_excel(\"df_sentiment_male.xlsx\")\n",
    "df_sentiment_female.to_excel(\"df_sentiment_female.xlsx\")"
   ]
  },
  {
   "cell_type": "code",
   "execution_count": 22,
   "metadata": {},
   "outputs": [],
   "source": [
    "df_sentiment_male = pd.read_excel(\"df_sentiment_male.xlsx\")\n",
    "df_sentiment_female = pd.read_excel(\"df_sentiment_female.xlsx\")"
   ]
  },
  {
   "cell_type": "code",
   "execution_count": 23,
   "metadata": {},
   "outputs": [
    {
     "ename": "ValueError",
     "evalue": "DataFrame constructor not properly called!",
     "output_type": "error",
     "traceback": [
      "\u001b[1;31m---------------------------------------------------------------------------\u001b[0m",
      "\u001b[1;31mValueError\u001b[0m                                Traceback (most recent call last)",
      "\u001b[1;32m<ipython-input-23-d8b82ce1a112>\u001b[0m in \u001b[0;36m<module>\u001b[1;34m\u001b[0m\n\u001b[1;32m----> 1\u001b[1;33m \u001b[0mlor_female_adj\u001b[0m \u001b[1;33m=\u001b[0m \u001b[0mpd\u001b[0m\u001b[1;33m.\u001b[0m\u001b[0mDataFrame\u001b[0m\u001b[1;33m(\u001b[0m\u001b[0mdf_sentiment_female\u001b[0m\u001b[1;33m.\u001b[0m\u001b[0madj\u001b[0m\u001b[1;33m.\u001b[0m\u001b[0msum\u001b[0m\u001b[1;33m(\u001b[0m\u001b[1;33m)\u001b[0m\u001b[1;33m,\u001b[0m\u001b[0mcolumns\u001b[0m\u001b[1;33m=\u001b[0m\u001b[1;33m[\u001b[0m\u001b[1;34m\"adj\"\u001b[0m\u001b[1;33m]\u001b[0m\u001b[1;33m)\u001b[0m\u001b[1;33m\u001b[0m\u001b[1;33m\u001b[0m\u001b[0m\n\u001b[0m",
      "\u001b[1;32mc:\\ProgramData\\Anaconda3\\envs\\k12\\lib\\site-packages\\pandas\\core\\frame.py\u001b[0m in \u001b[0;36m__init__\u001b[1;34m(self, data, index, columns, dtype, copy)\u001b[0m\n\u001b[0;32m    728\u001b[0m         \u001b[1;32melse\u001b[0m\u001b[1;33m:\u001b[0m\u001b[1;33m\u001b[0m\u001b[1;33m\u001b[0m\u001b[0m\n\u001b[0;32m    729\u001b[0m             \u001b[1;32mif\u001b[0m \u001b[0mindex\u001b[0m \u001b[1;32mis\u001b[0m \u001b[1;32mNone\u001b[0m \u001b[1;32mor\u001b[0m \u001b[0mcolumns\u001b[0m \u001b[1;32mis\u001b[0m \u001b[1;32mNone\u001b[0m\u001b[1;33m:\u001b[0m\u001b[1;33m\u001b[0m\u001b[1;33m\u001b[0m\u001b[0m\n\u001b[1;32m--> 730\u001b[1;33m                 \u001b[1;32mraise\u001b[0m \u001b[0mValueError\u001b[0m\u001b[1;33m(\u001b[0m\u001b[1;34m\"DataFrame constructor not properly called!\"\u001b[0m\u001b[1;33m)\u001b[0m\u001b[1;33m\u001b[0m\u001b[1;33m\u001b[0m\u001b[0m\n\u001b[0m\u001b[0;32m    731\u001b[0m \u001b[1;33m\u001b[0m\u001b[0m\n\u001b[0;32m    732\u001b[0m             \u001b[1;31m# Argument 1 to \"ensure_index\" has incompatible type \"Collection[Any]\";\u001b[0m\u001b[1;33m\u001b[0m\u001b[1;33m\u001b[0m\u001b[1;33m\u001b[0m\u001b[0m\n",
      "\u001b[1;31mValueError\u001b[0m: DataFrame constructor not properly called!"
     ]
    }
   ],
   "source": [
    "lor_female_adj = pd.DataFrame(df_sentiment_female.adj.sum(),columns=[\"adj\"])"
   ]
  },
  {
   "cell_type": "code",
   "execution_count": 24,
   "metadata": {},
   "outputs": [
    {
     "ename": "ValueError",
     "evalue": "DataFrame constructor not properly called!",
     "output_type": "error",
     "traceback": [
      "\u001b[1;31m---------------------------------------------------------------------------\u001b[0m",
      "\u001b[1;31mValueError\u001b[0m                                Traceback (most recent call last)",
      "\u001b[1;32m<ipython-input-24-17c5c8d4dba1>\u001b[0m in \u001b[0;36m<module>\u001b[1;34m\u001b[0m\n\u001b[1;32m----> 1\u001b[1;33m \u001b[0mlor_male_adj\u001b[0m \u001b[1;33m=\u001b[0m \u001b[0mpd\u001b[0m\u001b[1;33m.\u001b[0m\u001b[0mDataFrame\u001b[0m\u001b[1;33m(\u001b[0m\u001b[0mdf_sentiment_male\u001b[0m\u001b[1;33m.\u001b[0m\u001b[0madj\u001b[0m\u001b[1;33m.\u001b[0m\u001b[0msum\u001b[0m\u001b[1;33m(\u001b[0m\u001b[1;33m)\u001b[0m\u001b[1;33m,\u001b[0m\u001b[0mcolumns\u001b[0m\u001b[1;33m=\u001b[0m\u001b[1;33m[\u001b[0m\u001b[1;34m\"adj\"\u001b[0m\u001b[1;33m]\u001b[0m\u001b[1;33m)\u001b[0m\u001b[1;33m\u001b[0m\u001b[1;33m\u001b[0m\u001b[0m\n\u001b[0m",
      "\u001b[1;32mc:\\ProgramData\\Anaconda3\\envs\\k12\\lib\\site-packages\\pandas\\core\\frame.py\u001b[0m in \u001b[0;36m__init__\u001b[1;34m(self, data, index, columns, dtype, copy)\u001b[0m\n\u001b[0;32m    728\u001b[0m         \u001b[1;32melse\u001b[0m\u001b[1;33m:\u001b[0m\u001b[1;33m\u001b[0m\u001b[1;33m\u001b[0m\u001b[0m\n\u001b[0;32m    729\u001b[0m             \u001b[1;32mif\u001b[0m \u001b[0mindex\u001b[0m \u001b[1;32mis\u001b[0m \u001b[1;32mNone\u001b[0m \u001b[1;32mor\u001b[0m \u001b[0mcolumns\u001b[0m \u001b[1;32mis\u001b[0m \u001b[1;32mNone\u001b[0m\u001b[1;33m:\u001b[0m\u001b[1;33m\u001b[0m\u001b[1;33m\u001b[0m\u001b[0m\n\u001b[1;32m--> 730\u001b[1;33m                 \u001b[1;32mraise\u001b[0m \u001b[0mValueError\u001b[0m\u001b[1;33m(\u001b[0m\u001b[1;34m\"DataFrame constructor not properly called!\"\u001b[0m\u001b[1;33m)\u001b[0m\u001b[1;33m\u001b[0m\u001b[1;33m\u001b[0m\u001b[0m\n\u001b[0m\u001b[0;32m    731\u001b[0m \u001b[1;33m\u001b[0m\u001b[0m\n\u001b[0;32m    732\u001b[0m             \u001b[1;31m# Argument 1 to \"ensure_index\" has incompatible type \"Collection[Any]\";\u001b[0m\u001b[1;33m\u001b[0m\u001b[1;33m\u001b[0m\u001b[1;33m\u001b[0m\u001b[0m\n",
      "\u001b[1;31mValueError\u001b[0m: DataFrame constructor not properly called!"
     ]
    }
   ],
   "source": [
    "lor_male_adj = pd.DataFrame(df_sentiment_male.adj.sum(),columns=[\"adj\"])"
   ]
  },
  {
   "cell_type": "code",
   "execution_count": 141,
   "metadata": {},
   "outputs": [],
   "source": [
    "lor_male_adj_counts = lor_male_adj.adj.value_counts().head(5)"
   ]
  },
  {
   "cell_type": "code",
   "execution_count": 139,
   "metadata": {},
   "outputs": [],
   "source": [
    "lor_female_adj_counts = lor_female_adj.adj.value_counts().head(5)"
   ]
  },
  {
   "cell_type": "code",
   "execution_count": 142,
   "metadata": {},
   "outputs": [
    {
     "data": {
      "text/plain": [
       "excellent    739\n",
       "great        622\n",
       "medical      606\n",
       "clinical     567\n",
       "strong       396\n",
       "Name: adj, dtype: int64"
      ]
     },
     "execution_count": 142,
     "metadata": {},
     "output_type": "execute_result"
    }
   ],
   "source": [
    "lor_male_adj_counts"
   ]
  },
  {
   "cell_type": "code",
   "execution_count": 143,
   "metadata": {},
   "outputs": [],
   "source": [
    "from matplotlib import pyplot as plt\n",
    "import seaborn as sns"
   ]
  },
  {
   "cell_type": "code",
   "execution_count": 144,
   "metadata": {},
   "outputs": [
    {
     "data": {
      "image/png": "[encoded data removed]",
      "text/plain": [
       "<Figure size 1440x360 with 2 Axes>"
      ]
     },
     "metadata": {
      "needs_background": "light"
     },
     "output_type": "display_data"
    }
   ],
   "source": [
    "fig, axes = plt.subplots(1, 2, figsize=(20, 5), sharey=True)\n",
    "fig.suptitle('Initial Pokemon - 1st Generation')\n",
    "\n",
    "# Bulbasaur\n",
    "ax_0 = axes[0]\n",
    "ax_1 = axes[1]\n",
    "sns.barplot(ax =ax_0, x=lor_male_adj_counts.index,y=lor_male_adj_counts.values)\n",
    "ax_0.set_title(\"adjectives used for male applicant\")\n",
    "\n",
    "# Charmander\n",
    "sns.barplot(ax = ax_1, x=lor_female_adj_counts.index,y=lor_female_adj_counts.values)\n",
    "ax_1.set_title(\"adjectives used for female applicant\")\n",
    "\n",
    "ax_0.set_xticklabels(labels = lor_male_adj_counts.index,rotation='45', fontsize=15)\n",
    "ax_1.set_xticklabels(labels = lor_female_adj_counts.index,rotation='45', fontsize=15)\n",
    "\n",
    "fig.tight_layout()\n",
    "plt.gcf().autofmt_xdate()\n"
   ]
  },
  {
   "cell_type": "code",
   "execution_count": 145,
   "metadata": {},
   "outputs": [],
   "source": [
    "lor_male_lor_male_adj = pd.DataFrame(df_sentiment_male[df_sentiment_male.lor_gender == \"male\"].adj.sum(),columns=[\"adj\"])\n",
    "lor_male_lor_female_adj = pd.DataFrame(df_sentiment_male[df_sentiment_male.lor_gender == \"female\"].adj.sum(),columns=[\"adj\"])\n",
    "lor_female_lor_male_adj = pd.DataFrame(df_sentiment_female[df_sentiment_female.lor_gender == \"male\"].adj.sum(),columns=[\"adj\"])\n",
    "lor_female_lor_female_adj = pd.DataFrame(df_sentiment_female[df_sentiment_female.lor_gender == \"female\"].adj.sum(),columns=[\"adj\"])\n",
    "\n",
    "lor_male_lor_male_adj_counts     = lor_male_lor_male_adj.adj.value_counts().head(5)\n",
    "lor_male_lor_female_adj_counts   = lor_male_lor_female_adj.adj.value_counts().head(5)\n",
    "lor_female_lor_male_adj_counts   = lor_female_lor_male_adj.adj.value_counts().head(5)\n",
    "lor_female_lor_female_adj_counts = lor_female_lor_female_adj.adj.value_counts().head(5)"
   ]
  },
  {
   "cell_type": "code",
   "execution_count": 146,
   "metadata": {},
   "outputs": [
    {
     "data": {
      "image/png": "[encoded data removed]",
      "text/plain": [
       "<Figure size 1440x720 with 4 Axes>"
      ]
     },
     "metadata": {
      "needs_background": "light"
     },
     "output_type": "display_data"
    }
   ],
   "source": [
    "fig, axes = plt.subplots(2, 2, figsize=(20, 10), sharey=True)\n",
    "fig.suptitle('Initial Pokemon - 1st Generation')\n",
    "\n",
    "# Bulbasaur\n",
    "ax_0 = axes[0,0]\n",
    "ax_1 = axes[0,1]\n",
    "ax_2 = axes[1,0]\n",
    "ax_3 = axes[1,1]\n",
    "\n",
    "sns.barplot(ax =ax_0, x=lor_male_lor_male_adj_counts.index,y=lor_male_lor_male_adj_counts.values)\n",
    "ax_0.set_title(\"adjectives used for male-male applicant\")\n",
    "\n",
    "# Charmander\n",
    "sns.barplot(ax = ax_1, x=lor_male_lor_female_adj_counts.index,y=lor_male_lor_female_adj_counts.values)\n",
    "ax_1.set_title(\"adjectives used for male-female applicant\")\n",
    "\n",
    "sns.barplot(ax =ax_2, x=lor_female_lor_male_adj_counts.index,y=lor_female_lor_male_adj_counts.values)\n",
    "ax_2.set_title(\"adjectives used for female-male applicant\")\n",
    "\n",
    "# Charmander\n",
    "sns.barplot(ax = ax_3, x=lor_female_lor_female_adj_counts.index,y=lor_female_lor_female_adj_counts.values)\n",
    "ax_3.set_title(\"adjectives used for female-female applicant\")\n",
    "\n",
    "ax_0.set_xticklabels(labels = lor_male_lor_male_adj_counts.index,rotation='45', fontsize=15)\n",
    "ax_1.set_xticklabels(labels = lor_male_lor_female_adj_counts.index,rotation='45', fontsize=15)\n",
    "ax_2.set_xticklabels(labels = lor_female_lor_male_adj_counts.index,rotation='45', fontsize=15)\n",
    "ax_3.set_xticklabels(labels = lor_female_lor_female_adj_counts.index,rotation='45', fontsize=15)\n",
    "\n",
    "fig.tight_layout()\n"
   ]
  },
  {
   "cell_type": "code",
   "execution_count": 63,
   "metadata": {},
   "outputs": [],
   "source": [
    "# Sentence clustering"
   ]
  },
  {
   "cell_type": "code",
   "execution_count": 59,
   "metadata": {},
   "outputs": [],
   "source": [
    "import hdbscan\n",
    "from sentence_transformers import SentenceTransformer\n",
    "import umap.umap_ as umap\n",
    "model = SentenceTransformer('multi-qa-mpnet-base-dot-v1')"
   ]
  },
  {
   "cell_type": "code",
   "execution_count": 61,
   "metadata": {},
   "outputs": [],
   "source": [
    "def bert_embedding(text):\n",
    "    \"\"\"\n",
    "    Return BERT embeddings\n",
    "    :param model: SentenceTransformer object\n",
    "    :param text: strings to be embedded\n",
    "    :return: array\n",
    "    \"\"\"\n",
    "    bert_embeddings = model.encode(text, show_progress_bar = False)\n",
    "    return bert_embeddings"
   ]
  },
  {
   "cell_type": "code",
   "execution_count": null,
   "metadata": {},
   "outputs": [],
   "source": [
    "bert_embedding(text)"
   ]
  },
  {
   "cell_type": "code",
   "execution_count": 63,
   "metadata": {},
   "outputs": [],
   "source": [
    "male_sentence_embedding = df_male_sentence.sentence_split.apply(bert_embedding)"
   ]
  },
  {
   "cell_type": "code",
   "execution_count": null,
   "metadata": {},
   "outputs": [],
   "source": [
    "female_sentence_embedding = df_male_sentence.sentence_split.apply(bert_embedding)"
   ]
  },
  {
   "cell_type": "code",
   "execution_count": null,
   "metadata": {},
   "outputs": [],
   "source": [
    "male_sentence_embedding = a"
   ]
  },
  {
   "cell_type": "markdown",
   "metadata": {},
   "source": [
    "# Demographics Table"
   ]
  },
  {
   "cell_type": "markdown",
   "metadata": {},
   "source": [
    "## Overall Column"
   ]
  },
  {
   "cell_type": "code",
   "execution_count": 3,
   "metadata": {},
   "outputs": [],
   "source": [
    "import joblib\n",
    "df_new = joblib.load(\"df_new.h5\")"
   ]
  },
  {
   "cell_type": "code",
   "execution_count": 13,
   "metadata": {},
   "outputs": [],
   "source": [
    "df_new[\"standard_position\"] = \"\"\n",
    "df_new.lor_position = df_new.lor_position.fillna(\"\")\n",
    "df_new.loc[df_new.lor_position.str.contains(r\"asso[\\w\\.]*\\s*prof[\\w\\.]*\",case=False),\"standard_position\"] = \"associate professor\"\n",
    "df_new.loc[df_new.lor_position.str.contains(r\"assi[\\w\\.]*\\s*prof[\\w\\.]*\",case=False),\"standard_position\"] = \"assistant professor\"\n",
    "df_new.loc[ ~df_new.lor_position.str.contains(r\"as[\\w\\.]*\\s*prof[\\w\\.]*|assistant\\s*clinical\\s*prof[\\w\\.]|associate\\s*clinical\\s*prof[\\w\\.]*\",case=False) & df_new.lor_position.str.contains(\"prof[\\w\\.]*\",case=False),\"standard_position\"] = \"professor\"\n",
    "df_new.loc[~df_new.lor_position.str.contains(\"prof[\\w\\.]*\",case=False),\"standard_position\"] = \"others\""
   ]
  },
  {
   "cell_type": "code",
   "execution_count": 4,
   "metadata": {},
   "outputs": [
    {
     "name": "stdout",
     "output_type": "stream",
     "text": [
      "total_number_of_applicants 336\n",
      "total_number_of_letters 1036\n",
      "average_number_of_letters 3.0833333333333335\n",
      "average_sentence_count_per_letter 18.388996138996138\n",
      "average_word_count_per_letter 344.50868725868725\n",
      "male_writer_count 824\n",
      "female_writer_count 198\n",
      "asso_prof_count 174\n",
      "assis_prof_count 234\n",
      "prof_count 193\n"
     ]
    }
   ],
   "source": [
    "\n",
    "overall_total_number_of_applicants = df_new.applicant_id.unique().shape[0]\n",
    "print(\"total_number_of_applicants\",overall_total_number_of_applicants)\n",
    "overall_total_number_of_letters = df_new.shape[0]\n",
    "print(\"total_number_of_letters\",overall_total_number_of_letters)\n",
    "overall_average_number_of_letters = overall_total_number_of_letters/overall_total_number_of_applicants\n",
    "print(\"average_number_of_letters\",overall_average_number_of_letters)\n",
    "df_new_sentence = get_df_sentence(df_new, \"lor\")\n",
    "overall_average_sentence_count_per_letter = df_new_sentence.shape[0]/df_new.shape[0]\n",
    "print(\"average_sentence_count_per_letter\",overall_average_sentence_count_per_letter)\n",
    "df_new_sentence[\"word\"] = df_new_sentence.sentence_split.apply(word_tokenize)\n",
    "overall_total_word_count = df_new_sentence.word.str.len().sum()\n",
    "overall_average_word_count_per_letter = overall_total_word_count/df_new.shape[0]\n",
    "print(\"average_word_count_per_letter\",overall_average_word_count_per_letter)\n",
    "overall_male_writer_count = (df_new.lor_gender==\"male\").sum()\n",
    "print(\"male_writer_count\",overall_male_writer_count)\n",
    "\n",
    "overall_female_writer_count = (df_new.lor_gender==\"female\").sum()\n",
    "print(\"female_writer_count\",overall_female_writer_count)\n",
    "df_new[\"standard_position\"] = \"\"\n",
    "df_new.lor_position = df_new.lor_position.fillna(\"\")\n",
    "\n",
    "df_new.lor_position.value_counts()\n",
    "overall_asso_prof_count = df_new.lor_position[df_new.lor_position.str.contains(r\"asso[\\w\\.]*\\s*prof[\\w\\.]*\",case=False)].shape[0]\n",
    "df_new.loc[df_new.lor_position.str.contains(r\"asso[\\w\\.]*\\s*prof[\\w\\.]*\",case=False),\"standard_position\"] = \"associate professor\"\n",
    "print(\"asso_prof_count\",overall_asso_prof_count)\n",
    "\n",
    "overall_assis_prof_count = df_new.lor_position[df_new.lor_position.str.contains(r\"assi[\\w\\.]*\\s*prof[\\w\\.]*\",case=False)].shape[0]\n",
    "df_new.loc[df_new.lor_position.str.contains(r\"assi[\\w\\.]*\\s*prof[\\w\\.]*\",case=False),\"standard_position\"] = \"assistant professor\"\n",
    "print(\"assis_prof_count\",overall_assis_prof_count)\n",
    "\n",
    "overall_prof_count = df_new.lor_position[ (~df_new.lor_position.str.contains(r\"as[\\w\\.]*\\s*prof[\\w\\.]*|assistant\\s*clinical\\s*prof[\\w\\.]|associate\\s*clinical\\s*prof[\\w\\.]*\",case=False) & df_new.lor_position.str.contains(\"prof[\\w\\.]*\",case=False))].shape[0]\n",
    "df_new.loc[ ~df_new.lor_position.str.contains(r\"as[\\w\\.]*\\s*prof[\\w\\.]*|assistant\\s*clinical\\s*prof[\\w\\.]|associate\\s*clinical\\s*prof[\\w\\.]*\",case=False) & df_new.lor_position.str.contains(\"prof[\\w\\.]*\",case=False),\"standard_position\"] = \"professor\"\n",
    "print(\"prof_count\",overall_prof_count)\n",
    "overall_others_count = df_new.lor_position[~df_new.lor_position.str.contains(\"prof[\\w\\.]*\",case=False)].shape[0]\n",
    "df_new.loc[~df_new.lor_position.str.contains(\"prof[\\w\\.]*\",case=False),\"standard_position\"] = \"others\"\n"
   ]
  },
  {
   "cell_type": "code",
   "execution_count": 171,
   "metadata": {},
   "outputs": [
    {
     "name": "stdout",
     "output_type": "stream",
     "text": [
      "others 427\n"
     ]
    }
   ],
   "source": [
    "print(\"others\",overall_others_count)"
   ]
  },
  {
   "cell_type": "code",
   "execution_count": 12,
   "metadata": {},
   "outputs": [
    {
     "data": {
      "text/html": [
       "<div>\n",
       "<style scoped>\n",
       "    .dataframe tbody tr th:only-of-type {\n",
       "        vertical-align: middle;\n",
       "    }\n",
       "\n",
       "    .dataframe tbody tr th {\n",
       "        vertical-align: top;\n",
       "    }\n",
       "\n",
       "    .dataframe thead th {\n",
       "        text-align: right;\n",
       "    }\n",
       "</style>\n",
       "<table border=\"1\" class=\"dataframe\">\n",
       "  <thead>\n",
       "    <tr style=\"text-align: right;\">\n",
       "      <th></th>\n",
       "      <th>applicant_id</th>\n",
       "      <th>application_year</th>\n",
       "      <th>birth_year</th>\n",
       "      <th>citizenship</th>\n",
       "      <th>foreign</th>\n",
       "      <th>medical_school</th>\n",
       "      <th>residency_school</th>\n",
       "      <th>md_year</th>\n",
       "      <th>residency_year</th>\n",
       "      <th>step1</th>\n",
       "      <th>step2</th>\n",
       "      <th>step3</th>\n",
       "      <th>step_old</th>\n",
       "      <th>IMG</th>\n",
       "      <th>class_rank</th>\n",
       "      <th>honors</th>\n",
       "      <th>received_offer</th>\n",
       "      <th>language_skills</th>\n",
       "      <th>interests</th>\n",
       "      <th>number_of_publications</th>\n",
       "      <th>speciality</th>\n",
       "      <th>gender</th>\n",
       "      <th>lor</th>\n",
       "      <th>lor_position</th>\n",
       "      <th>lor_university</th>\n",
       "      <th>lor_gender</th>\n",
       "      <th>lor_number</th>\n",
       "      <th>lor_id</th>\n",
       "      <th>standard_position</th>\n",
       "    </tr>\n",
       "  </thead>\n",
       "  <tbody>\n",
       "    <tr>\n",
       "      <th>0</th>\n",
       "      <td>0</td>\n",
       "      <td>2020.0</td>\n",
       "      <td>1993</td>\n",
       "      <td>0</td>\n",
       "      <td>1</td>\n",
       "      <td>holy spirit university of kaslik</td>\n",
       "      <td>American University of Beirut Medical Center</td>\n",
       "      <td>2018.0</td>\n",
       "      <td>2023</td>\n",
       "      <td>232</td>\n",
       "      <td>244</td>\n",
       "      <td>225</td>\n",
       "      <td>0</td>\n",
       "      <td>0.0</td>\n",
       "      <td>NaN</td>\n",
       "      <td>NaN</td>\n",
       "      <td>NaN</td>\n",
       "      <td>Arabic,french,english</td>\n",
       "      <td>Yoga, swimming, baking, hiking</td>\n",
       "      <td>1.0</td>\n",
       "      <td>0.0</td>\n",
       "      <td>female</td>\n",
       "      <td>Dear Dr. Dachman, I am writing this letter to enthusiastically support Dr. Caline Azzi for a fellowship position in your department. Dr. Azzi is currently a 3rd-year radiology resident PGY-4 at the American University of Beirut Medical Center. The radiology residency program at AUB is accredited by the ACGME- International. In addition, residents are eligible to sit for the Fellowship of the Royal College of Radiology FRCR. I have known Dr. Azzi since February 2018. Caline came to us as a visiting medical student from an outside institution. From the get-go, she smoothly blended into the team while showing a strong and genuine interest in radiology. We were delighted to have her back as part of our residency group in June 2018. As I observed her grow in the program, Caline showed a constant desire for improving and challenging herself. Early on, she developed an excellent fund of knowledge that quickly helped her cruise through the daily routine of radiology. She actively studied physics for the FRCR part 1 exam and passed it. This also helped her, from the beginning, understand radiation safety and appreciate the intricacies of image acquisition. Caline has a joyful personality and excellent communication skills. She is a hard worker and above all, a great listener and a compassionate healer. After the “Beirut Port Blast”, Dr. Azzi took the initiative with two of my colleagues, to describe the patterns of injuries. She collected images and clinical data and submitted an abstract to RSNA. The entire faculty enjoys working with her as does the staff and her co-residents. She is always kind and respectful to referring physicians as well as patients. She is compassionate and takes time to explain results and comfort patients. During her time here, Caline has given several presentations to her co-residents and faculty members. All her presentations have been well researched, organized, thoughtful and well presented. She has also taken an active role in teaching the ...</td>\n",
       "      <td>director</td>\n",
       "      <td>American University of Beirut Medical Center</td>\n",
       "      <td>male</td>\n",
       "      <td>lor1</td>\n",
       "      <td>0</td>\n",
       "      <td>others</td>\n",
       "    </tr>\n",
       "    <tr>\n",
       "      <th>1</th>\n",
       "      <td>0</td>\n",
       "      <td>2020.0</td>\n",
       "      <td>1993</td>\n",
       "      <td>0</td>\n",
       "      <td>1</td>\n",
       "      <td>holy spirit university of kaslik</td>\n",
       "      <td>American University of Beirut Medical Center</td>\n",
       "      <td>2018.0</td>\n",
       "      <td>2023</td>\n",
       "      <td>232</td>\n",
       "      <td>244</td>\n",
       "      <td>225</td>\n",
       "      <td>0</td>\n",
       "      <td>0.0</td>\n",
       "      <td>NaN</td>\n",
       "      <td>NaN</td>\n",
       "      <td>NaN</td>\n",
       "      <td>Arabic,french,english</td>\n",
       "      <td>Yoga, swimming, baking, hiking</td>\n",
       "      <td>1.0</td>\n",
       "      <td>0.0</td>\n",
       "      <td>female</td>\n",
       "      <td>Dear Dr. Dachman, It is with great pleasure that I write a letter of recommendation for Dr. Caline Azzi, MD, who is applying for fellowship position at your institution. Dr. Azzi has been a resident in the Radiology Department at the American University of Beirut medical center since June 2018. Caline is currently PGY IV third year resident and expected to complete her radiology residency in June, 2023 I have known Caline and directly supervised her work in abdominal imaging since 2018. Dr. Azzi is an intelligent, hardworking, dedicated and reliable resident. She completed her pre-medical and medical education at the Holy Spirit University of Kaslik. Caline is ECFMG certified and has completed all parts of the USMLE. Caline has an excellent fund of general and radiologic knowledge and a very sharp radiologic eye. She is an eager learner and is highly motivated to learn and improve. She is a perfectionist who tries her hardest not to miss or make mistakes especially when doing solo overnight calls and gets quite upset at herself if she overlooks or misinterprets a finding. Caline’s performance in all sections has been excellent despite the heavy workload in our residency program. Caline has made impressive progress during her training both in her skills as a radiologist.. She is extremely conscientious and always willing to go the extra mile to get her work done to the best of her ability. Caline is a good team player and gets along well with her peers. She is respectful to her attendings and liked by all. Caline has been successful in the Part I Physics of the examination of the Fellowship of the Royal College of Radiologists FRCR and I expect her to sail through parts 2A and 2B soon. Caline is respectful to everyone in the department. She is strong, conscientious, forthright and honest woman who speaks her mind and stands up for her rights. She gets along well with her colleagues and staff. On a personal level, Caline is a delightful colleague with a nice, happ...</td>\n",
       "      <td>proffesor and chairperson</td>\n",
       "      <td>American University of Beirut Medical Center</td>\n",
       "      <td>female</td>\n",
       "      <td>lor2</td>\n",
       "      <td>1</td>\n",
       "      <td>professor</td>\n",
       "    </tr>\n",
       "    <tr>\n",
       "      <th>2</th>\n",
       "      <td>0</td>\n",
       "      <td>2020.0</td>\n",
       "      <td>1993</td>\n",
       "      <td>0</td>\n",
       "      <td>1</td>\n",
       "      <td>holy spirit university of kaslik</td>\n",
       "      <td>American University of Beirut Medical Center</td>\n",
       "      <td>2018.0</td>\n",
       "      <td>2023</td>\n",
       "      <td>232</td>\n",
       "      <td>244</td>\n",
       "      <td>225</td>\n",
       "      <td>0</td>\n",
       "      <td>0.0</td>\n",
       "      <td>NaN</td>\n",
       "      <td>NaN</td>\n",
       "      <td>NaN</td>\n",
       "      <td>Arabic,french,english</td>\n",
       "      <td>Yoga, swimming, baking, hiking</td>\n",
       "      <td>1.0</td>\n",
       "      <td>0.0</td>\n",
       "      <td>female</td>\n",
       "      <td>Dear Dr. Dachman, I am pleased to write a letter of recommendation for Dr. Caline Azzi who is applying to your program. I have known Dr. Azzi since June 2018 when she started her residency in the Department of Diagnostic Radiology at the American University of Beirut- Medical Center. During her residency, Dr. Caline has proven to be an exceptional bright resident with an excellent fund of knowledgex in radiology. She is an eager learner and has very high level of motivation. Dr. Caline is hard worker, punctual, reliable, conscientious and fast learner. She participate regularly in our conferences and research activity in the department. Actually, she is working with me on a research project entitled: “Imaging features of Beirut blast injuries: distribution of patterns and radiological imaging” that has been accepted as poster presentation at the 107th scientific assembly and annual meeting of the radiological society of North America RSNA 2021. Caline worked hard to finish the data collection and analysis. Despite her clinical duties and the heavy workload in our residency program, Caline presented and passed all the steps of the ECFMG to pursue further training in the USA. Besides that, she has a positive personality, she is polite and her relationship with her colleagues is outstanding. I highly recommend Dr. Azzi for a fellowship position in your institution. I am sure she will be a valuable addition to your program. . If you have any further questions, feel free to contact me.</td>\n",
       "      <td>professor</td>\n",
       "      <td>American University of Beirut Medical Center</td>\n",
       "      <td>female</td>\n",
       "      <td>lor3</td>\n",
       "      <td>2</td>\n",
       "      <td>professor</td>\n",
       "    </tr>\n",
       "    <tr>\n",
       "      <th>3</th>\n",
       "      <td>0</td>\n",
       "      <td>2020.0</td>\n",
       "      <td>1993</td>\n",
       "      <td>0</td>\n",
       "      <td>1</td>\n",
       "      <td>holy spirit university of kaslik</td>\n",
       "      <td>American University of Beirut Medical Center</td>\n",
       "      <td>2018.0</td>\n",
       "      <td>2023</td>\n",
       "      <td>232</td>\n",
       "      <td>244</td>\n",
       "      <td>225</td>\n",
       "      <td>0</td>\n",
       "      <td>0.0</td>\n",
       "      <td>NaN</td>\n",
       "      <td>NaN</td>\n",
       "      <td>NaN</td>\n",
       "      <td>Arabic,french,english</td>\n",
       "      <td>Yoga, swimming, baking, hiking</td>\n",
       "      <td>1.0</td>\n",
       "      <td>0.0</td>\n",
       "      <td>female</td>\n",
       "      <td>Dear Dr. Dachman, It is a pleasure to write a letter of recommendation for Dr. Caline Azzi, currently a senior resident in the Radiology Department at the American University of Beirut Medical Center. I had the opportunity to interact extensively with Dr. Azzi during her rotations in the abdominal imaging, musculoskeletal imaging, and emergency radiology divisions. Caline has a very good fund of medical knowledge. She is serious and hard working. She is efficient in her daily work and is capable of functioning adequately under pressure. Caline has always been very interested in abdominal imaging. When covering this rotation, she would prepare a large number of cross sectional imaging cases that would average 20 to 30 abdominal CT scans and 10 to 15 abdominal/pelvic MRIs per working day. The cases would be very well prepared; she would be able to detect most of the findings and would finalize a clear and concise report that I would rarely have to correct. Caline acquired experience interpreting multi-parametric prostate MRI and was active in the newly established targeted prostate biopsy program utilizing the Koelis MRI/Ultrasound fusion system. Caline would routinely review the prostate MRI examination prior to biopsy and would perform configuration of the prostate gland and target biopsy localization. She also gained experience-reading MRI for rectal cancer staging, MR enterography and MRCP, in addition to routine abdomen and pelvis MRI examinations. During her emergency radiology rotation, Caline is capable of handling a long working list. She would not show any sign of anxiety or hesitance, she knows how to filter cases and when to refer to the attending radiologist for opinion. In addition, Caline has good manual dexterity. She is interested in and capable of performing percutaneous Ultrasound and CT guided procedures as ultrasound guided FNA and biopsy of thyroid, lymph nodes and masses and CT guided biopsies, aspirations and drainages with catheter inserti...</td>\n",
       "      <td>assistant proffesor</td>\n",
       "      <td>American University of Beirut Medical Center</td>\n",
       "      <td>male</td>\n",
       "      <td>lor4</td>\n",
       "      <td>3</td>\n",
       "      <td>assistant professor</td>\n",
       "    </tr>\n",
       "    <tr>\n",
       "      <th>4</th>\n",
       "      <td>1</td>\n",
       "      <td>2020.0</td>\n",
       "      <td>1993</td>\n",
       "      <td>0</td>\n",
       "      <td>1</td>\n",
       "      <td>lebanese universityfaculty of medical sciences</td>\n",
       "      <td>American University of Beirut Medical Center</td>\n",
       "      <td>2018.0</td>\n",
       "      <td>2023</td>\n",
       "      <td>227</td>\n",
       "      <td>254</td>\n",
       "      <td>236</td>\n",
       "      <td>0</td>\n",
       "      <td>0.0</td>\n",
       "      <td>NaN</td>\n",
       "      <td>NaN</td>\n",
       "      <td>NaN</td>\n",
       "      <td>Arabic, English, French</td>\n",
       "      <td>Reading, swimming, hiking</td>\n",
       "      <td>2.0</td>\n",
       "      <td>0.0</td>\n",
       "      <td>female</td>\n",
       "      <td>Dear Dr. Dachman, I am writing thls letter to enthusiastically support Dr. Reve Chahine for a fellowship position in your department. Dr. Chahine is currently a third-year radiology resident R3/PGY-4 at the American University of Beirut Medical Center. The radiology residency program at AUB is accredited by the ACGME-International. In addition, residents are eligible to sit for the Fellowship of the Royal College of Radiology FRCR. I have known Dr. Chahine since she joined our program in June 2018. She has been the example of the resident who is always committed to go beyond the cali of duty to stay late at work, do procedures, help out colleagues when they're behind, cover for someone who is sick, take an extra call... and to surn it up, the resident who never complains because she loves her work. Reve has several qualities that set her apart from her peers. She has a tremendous ability to concentrate. She is unphased by surrounding chaos. She is efficient, pragmatic, and tak. es the initiative to call the clinician to inquire about their patients or communicate critical findings. Reve's finest quality is her professional and calm demeanor in the face of a very demanding call shift. She has excellent communication skills and is always kind and respectful to patients and referring physicians. During her time here, Reve has given several presentations to her co-residents and faculty members. All of her presentations have been well researched, organized, thoughtful and well presented. She has also taken an active role in teaching the medical students, for which she has been well received. Dr. Chahine has been very active in academia. She is reviewing with one of my colleagues the value of MIP MR images in the detection of brain metastases in children. She is also studying how to reduce radiation dose in hysterosalpingography. She recently submitted an abstract to RSNA entitled systematic checklist approach in mass casualty for safe radiology reporting: lessons lea...</td>\n",
       "      <td>director</td>\n",
       "      <td>American University of Beirut Medical Center</td>\n",
       "      <td>male</td>\n",
       "      <td>lor1</td>\n",
       "      <td>4</td>\n",
       "      <td>others</td>\n",
       "    </tr>\n",
       "  </tbody>\n",
       "</table>\n",
       "</div>"
      ],
      "text/plain": [
       "   applicant_id  application_year birth_year  citizenship  foreign  \\\n",
       "0             0            2020.0       1993            0        1   \n",
       "1             0            2020.0       1993            0        1   \n",
       "2             0            2020.0       1993            0        1   \n",
       "3             0            2020.0       1993            0        1   \n",
       "4             1            2020.0       1993            0        1   \n",
       "\n",
       "                                   medical_school  \\\n",
       "0                holy spirit university of kaslik   \n",
       "1                holy spirit university of kaslik   \n",
       "2                holy spirit university of kaslik   \n",
       "3                holy spirit university of kaslik   \n",
       "4  lebanese universityfaculty of medical sciences   \n",
       "\n",
       "                               residency_school  md_year residency_year step1  \\\n",
       "0  American University of Beirut Medical Center   2018.0           2023   232   \n",
       "1  American University of Beirut Medical Center   2018.0           2023   232   \n",
       "2  American University of Beirut Medical Center   2018.0           2023   232   \n",
       "3  American University of Beirut Medical Center   2018.0           2023   232   \n",
       "4  American University of Beirut Medical Center   2018.0           2023   227   \n",
       "\n",
       "  step2 step3  step_old  IMG class_rank honors received_offer  \\\n",
       "0   244   225         0  0.0        NaN    NaN            NaN   \n",
       "1   244   225         0  0.0        NaN    NaN            NaN   \n",
       "2   244   225         0  0.0        NaN    NaN            NaN   \n",
       "3   244   225         0  0.0        NaN    NaN            NaN   \n",
       "4   254   236         0  0.0        NaN    NaN            NaN   \n",
       "\n",
       "           language_skills                       interests  \\\n",
       "0    Arabic,french,english  Yoga, swimming, baking, hiking   \n",
       "1    Arabic,french,english  Yoga, swimming, baking, hiking   \n",
       "2    Arabic,french,english  Yoga, swimming, baking, hiking   \n",
       "3    Arabic,french,english  Yoga, swimming, baking, hiking   \n",
       "4  Arabic, English, French       Reading, swimming, hiking   \n",
       "\n",
       "   number_of_publications  speciality  gender  \\\n",
       "0                     1.0         0.0  female   \n",
       "1                     1.0         0.0  female   \n",
       "2                     1.0         0.0  female   \n",
       "3                     1.0         0.0  female   \n",
       "4                     2.0         0.0  female   \n",
       "\n",
       "                                                                                                                                                                                                                                                                                                                                                                                                                                                                                                                                                                                                                                                                                                                                                                                                                                                                                                                                                                                                                                                                                                                                                                                                                                                                                                                                                                                                                                                                                                                                                                                                                                                                                                                                                                                                                                                                                                                                                                                                                                                                               lor  \\\n",
       "0  Dear Dr. Dachman, I am writing this letter to enthusiastically support Dr. Caline Azzi for a fellowship position in your department. Dr. Azzi is currently a 3rd-year radiology resident PGY-4 at the American University of Beirut Medical Center. The radiology residency program at AUB is accredited by the ACGME- International. In addition, residents are eligible to sit for the Fellowship of the Royal College of Radiology FRCR. I have known Dr. Azzi since February 2018. Caline came to us as a visiting medical student from an outside institution. From the get-go, she smoothly blended into the team while showing a strong and genuine interest in radiology. We were delighted to have her back as part of our residency group in June 2018. As I observed her grow in the program, Caline showed a constant desire for improving and challenging herself. Early on, she developed an excellent fund of knowledge that quickly helped her cruise through the daily routine of radiology. She actively studied physics for the FRCR part 1 exam and passed it. This also helped her, from the beginning, understand radiation safety and appreciate the intricacies of image acquisition. Caline has a joyful personality and excellent communication skills. She is a hard worker and above all, a great listener and a compassionate healer. After the “Beirut Port Blast”, Dr. Azzi took the initiative with two of my colleagues, to describe the patterns of injuries. She collected images and clinical data and submitted an abstract to RSNA. The entire faculty enjoys working with her as does the staff and her co-residents. She is always kind and respectful to referring physicians as well as patients. She is compassionate and takes time to explain results and comfort patients. During her time here, Caline has given several presentations to her co-residents and faculty members. All her presentations have been well researched, organized, thoughtful and well presented. She has also taken an active role in teaching the ...   \n",
       "1  Dear Dr. Dachman, It is with great pleasure that I write a letter of recommendation for Dr. Caline Azzi, MD, who is applying for fellowship position at your institution. Dr. Azzi has been a resident in the Radiology Department at the American University of Beirut medical center since June 2018. Caline is currently PGY IV third year resident and expected to complete her radiology residency in June, 2023 I have known Caline and directly supervised her work in abdominal imaging since 2018. Dr. Azzi is an intelligent, hardworking, dedicated and reliable resident. She completed her pre-medical and medical education at the Holy Spirit University of Kaslik. Caline is ECFMG certified and has completed all parts of the USMLE. Caline has an excellent fund of general and radiologic knowledge and a very sharp radiologic eye. She is an eager learner and is highly motivated to learn and improve. She is a perfectionist who tries her hardest not to miss or make mistakes especially when doing solo overnight calls and gets quite upset at herself if she overlooks or misinterprets a finding. Caline’s performance in all sections has been excellent despite the heavy workload in our residency program. Caline has made impressive progress during her training both in her skills as a radiologist.. She is extremely conscientious and always willing to go the extra mile to get her work done to the best of her ability. Caline is a good team player and gets along well with her peers. She is respectful to her attendings and liked by all. Caline has been successful in the Part I Physics of the examination of the Fellowship of the Royal College of Radiologists FRCR and I expect her to sail through parts 2A and 2B soon. Caline is respectful to everyone in the department. She is strong, conscientious, forthright and honest woman who speaks her mind and stands up for her rights. She gets along well with her colleagues and staff. On a personal level, Caline is a delightful colleague with a nice, happ...   \n",
       "2                                                                                                                                                                                                                                                                                                                                                                                                                                                                                                                Dear Dr. Dachman, I am pleased to write a letter of recommendation for Dr. Caline Azzi who is applying to your program. I have known Dr. Azzi since June 2018 when she started her residency in the Department of Diagnostic Radiology at the American University of Beirut- Medical Center. During her residency, Dr. Caline has proven to be an exceptional bright resident with an excellent fund of knowledgex in radiology. She is an eager learner and has very high level of motivation. Dr. Caline is hard worker, punctual, reliable, conscientious and fast learner. She participate regularly in our conferences and research activity in the department. Actually, she is working with me on a research project entitled: “Imaging features of Beirut blast injuries: distribution of patterns and radiological imaging” that has been accepted as poster presentation at the 107th scientific assembly and annual meeting of the radiological society of North America RSNA 2021. Caline worked hard to finish the data collection and analysis. Despite her clinical duties and the heavy workload in our residency program, Caline presented and passed all the steps of the ECFMG to pursue further training in the USA. Besides that, she has a positive personality, she is polite and her relationship with her colleagues is outstanding. I highly recommend Dr. Azzi for a fellowship position in your institution. I am sure she will be a valuable addition to your program. . If you have any further questions, feel free to contact me.   \n",
       "3  Dear Dr. Dachman, It is a pleasure to write a letter of recommendation for Dr. Caline Azzi, currently a senior resident in the Radiology Department at the American University of Beirut Medical Center. I had the opportunity to interact extensively with Dr. Azzi during her rotations in the abdominal imaging, musculoskeletal imaging, and emergency radiology divisions. Caline has a very good fund of medical knowledge. She is serious and hard working. She is efficient in her daily work and is capable of functioning adequately under pressure. Caline has always been very interested in abdominal imaging. When covering this rotation, she would prepare a large number of cross sectional imaging cases that would average 20 to 30 abdominal CT scans and 10 to 15 abdominal/pelvic MRIs per working day. The cases would be very well prepared; she would be able to detect most of the findings and would finalize a clear and concise report that I would rarely have to correct. Caline acquired experience interpreting multi-parametric prostate MRI and was active in the newly established targeted prostate biopsy program utilizing the Koelis MRI/Ultrasound fusion system. Caline would routinely review the prostate MRI examination prior to biopsy and would perform configuration of the prostate gland and target biopsy localization. She also gained experience-reading MRI for rectal cancer staging, MR enterography and MRCP, in addition to routine abdomen and pelvis MRI examinations. During her emergency radiology rotation, Caline is capable of handling a long working list. She would not show any sign of anxiety or hesitance, she knows how to filter cases and when to refer to the attending radiologist for opinion. In addition, Caline has good manual dexterity. She is interested in and capable of performing percutaneous Ultrasound and CT guided procedures as ultrasound guided FNA and biopsy of thyroid, lymph nodes and masses and CT guided biopsies, aspirations and drainages with catheter inserti...   \n",
       "4  Dear Dr. Dachman, I am writing thls letter to enthusiastically support Dr. Reve Chahine for a fellowship position in your department. Dr. Chahine is currently a third-year radiology resident R3/PGY-4 at the American University of Beirut Medical Center. The radiology residency program at AUB is accredited by the ACGME-International. In addition, residents are eligible to sit for the Fellowship of the Royal College of Radiology FRCR. I have known Dr. Chahine since she joined our program in June 2018. She has been the example of the resident who is always committed to go beyond the cali of duty to stay late at work, do procedures, help out colleagues when they're behind, cover for someone who is sick, take an extra call... and to surn it up, the resident who never complains because she loves her work. Reve has several qualities that set her apart from her peers. She has a tremendous ability to concentrate. She is unphased by surrounding chaos. She is efficient, pragmatic, and tak. es the initiative to call the clinician to inquire about their patients or communicate critical findings. Reve's finest quality is her professional and calm demeanor in the face of a very demanding call shift. She has excellent communication skills and is always kind and respectful to patients and referring physicians. During her time here, Reve has given several presentations to her co-residents and faculty members. All of her presentations have been well researched, organized, thoughtful and well presented. She has also taken an active role in teaching the medical students, for which she has been well received. Dr. Chahine has been very active in academia. She is reviewing with one of my colleagues the value of MIP MR images in the detection of brain metastases in children. She is also studying how to reduce radiation dose in hysterosalpingography. She recently submitted an abstract to RSNA entitled systematic checklist approach in mass casualty for safe radiology reporting: lessons lea...   \n",
       "\n",
       "                lor_position                                 lor_university  \\\n",
       "0                   director   American University of Beirut Medical Center   \n",
       "1  proffesor and chairperson  American University of Beirut Medical Center    \n",
       "2                  professor  American University of Beirut Medical Center    \n",
       "3       assistant proffesor   American University of Beirut Medical Center    \n",
       "4                   director  American University of Beirut Medical Center    \n",
       "\n",
       "  lor_gender lor_number  lor_id    standard_position  \n",
       "0       male       lor1       0               others  \n",
       "1     female       lor2       1            professor  \n",
       "2     female       lor3       2            professor  \n",
       "3       male       lor4       3  assistant professor  \n",
       "4       male       lor1       4               others  "
      ]
     },
     "execution_count": 12,
     "metadata": {},
     "output_type": "execute_result"
    }
   ],
   "source": [
    "df_new.head(5)"
   ]
  },
  {
   "cell_type": "code",
   "execution_count": 14,
   "metadata": {},
   "outputs": [],
   "source": [
    "def get_table_column(df,column_name,csv_name):\n",
    "    count_list = []\n",
    "    percentage_list = []\n",
    "    \n",
    "    total_number_of_applicants = df.applicant_id.unique().shape[0]\n",
    "    total_number_of_applicants_percentage = (total_number_of_applicants/overall_total_number_of_applicants)*100\n",
    "    print(f\"{column_name}_total_number_of_applicants\",total_number_of_applicants)\n",
    "    print(f\"{column_name}_precentage_total_number_of_applicants\",total_number_of_applicants_percentage)\n",
    "    count_list.append(total_number_of_applicants)\n",
    "    percentage_list.append(total_number_of_applicants_percentage)\n",
    "    \n",
    "    \n",
    "    total_number_of_letters = df.shape[0]\n",
    "    total_number_of_letters_percentage = (total_number_of_letters/overall_total_number_of_letters)*100\n",
    "    print(f\"{column_name}_total_number_of_letters\",total_number_of_letters)\n",
    "    print(f\"{column_name}_precentage_total_number_of_letters\",total_number_of_letters_percentage)\n",
    "    count_list.append(total_number_of_letters)\n",
    "    percentage_list.append(total_number_of_letters_percentage)\n",
    "    \n",
    "    \n",
    "    average_number_of_letters = total_number_of_letters/total_number_of_applicants\n",
    "    print(f\"{column_name}_average_number_of_letters\",average_number_of_letters)\n",
    "    print(f\"{column_name}_precentage_average_number_of_letters\",(average_number_of_letters/overall_average_number_of_letters)*100)\n",
    "    count_list.append(average_number_of_letters)\n",
    "    percentage_list.append((average_number_of_letters/overall_average_number_of_letters)*100)   \n",
    "    \n",
    "    \n",
    "    df_sentence = get_df_sentence(df, \"lor\")\n",
    "    average_sentence_count_per_letter = df_sentence.shape[0]/df.shape[0]\n",
    "    print(f\"{column_name}_average_sentence_count_per_letter\",average_sentence_count_per_letter)\n",
    "    print(f\"{column_name}_precentage_average_sentence_count_per_letter\",(average_sentence_count_per_letter/overall_average_sentence_count_per_letter)*100)\n",
    "    count_list.append(average_sentence_count_per_letter)\n",
    "    percentage_list.append((average_sentence_count_per_letter/overall_average_sentence_count_per_letter)*100)  \n",
    "    \n",
    "    df_sentence[\"word\"] = df_sentence.sentence_split.apply(word_tokenize)\n",
    "    total_word_count = df_sentence.word.str.len().sum()\n",
    "    average_word_count_per_letter = total_word_count/df.shape[0]\n",
    "    print(f\"{column_name}_average_word_count_per_letter\",average_word_count_per_letter)\n",
    "    print(f\"{column_name}_precentage_average_word_count_per_letter\",(average_word_count_per_letter/overall_average_word_count_per_letter)*100)\n",
    "    count_list.append(average_word_count_per_letter)\n",
    "    percentage_list.append((average_word_count_per_letter/overall_average_word_count_per_letter)*100)  \n",
    "    \n",
    "    female_writer_count = (df.lor_gender==\"female\").sum()\n",
    "    print(f\"{column_name}_female_writer_count\",female_writer_count)\n",
    "    print(f\"{column_name}_precentage_female_writer_count\",(female_writer_count/overall_female_writer_count)*100)\n",
    "    count_list.append(female_writer_count)\n",
    "    percentage_list.append((female_writer_count/overall_female_writer_count)*100)  \n",
    "    \n",
    "    male_writer_count = (df.lor_gender==\"male\").sum()\n",
    "    print(f\"{column_name}_male_writer_count\",male_writer_count)\n",
    "    print(f\"{column_name}_precentage_male_writer_count\",(male_writer_count/overall_male_writer_count)*100)\n",
    "    count_list.append(male_writer_count)\n",
    "    percentage_list.append((male_writer_count/overall_male_writer_count)*100)  \n",
    "   \n",
    "    df.lor_position = df.lor_position.fillna(\"\")\n",
    "\n",
    "    prof_count = df.loc[df.standard_position == \"professor\"].shape[0]\n",
    "    print(f\"{column_name}_prof_count\",prof_count)\n",
    "    print(f\"{column_name}_precentage_prof_count\",(prof_count/overall_prof_count)*100)\n",
    "    count_list.append(prof_count)\n",
    "    percentage_list.append((prof_count/overall_prof_count)*100)  \n",
    "\n",
    "    asso_prof_count = df.loc[df.standard_position == \"associate professor\"].shape[0]\n",
    "    print(f\"{column_name}_asso_prof_count\",asso_prof_count)\n",
    "    print(f\"{column_name}_precentage_asso_prof_count\",(asso_prof_count/overall_asso_prof_count)*100)\n",
    "    count_list.append(asso_prof_count)\n",
    "    percentage_list.append((asso_prof_count/overall_asso_prof_count)*100)  \n",
    "    \n",
    "    assis_prof_count = df.loc[df.standard_position == \"assistant professor\"].shape[0]\n",
    "    print(f\"{column_name}_assis_prof_count\",assis_prof_count)\n",
    "    print(f\"{column_name}_precentage_assis_prof_count\",(assis_prof_count/overall_assis_prof_count)*100)\n",
    "    count_list.append(assis_prof_count)\n",
    "    percentage_list.append((assis_prof_count/overall_assis_prof_count)*100)  \n",
    "    \n",
    "    \n",
    "    \n",
    "    others_count = df.loc[df.standard_position == \"others\"].shape[0]\n",
    "    print(f\"{column_name}others_count\",others_count)\n",
    "    print(f\"{column_name}_precentage_others_count\",(others_count/overall_others_count)*100)\n",
    "    count_list.append(others_count)\n",
    "    percentage_list.append((others_count/overall_others_count)*100)    \n",
    "    index_list = [\"Total number of applicants\",\n",
    "                  \"Total number of letters\",\n",
    "                  \"Average number of letters\",\n",
    "                  \"Average sentence count per letter\",\n",
    "                  \"Average word count per letter\",\n",
    "                  \"Female\",\n",
    "                  \"Male\",\n",
    "                  \"Full professor\",\n",
    "                  \"Associate professor\",\n",
    "                  \"Assistant professor\",\n",
    "                  \"Not applicable/Unknown\"]\n",
    "\n",
    "    df = pd.DataFrame({\"counts\":count_list, \"percentage\":percentage_list},index =index_list ) \n",
    "    df.to_csv(\".//demographics_results//\" + csv_name + \".csv\")"
   ]
  },
  {
   "cell_type": "code",
   "execution_count": 15,
   "metadata": {},
   "outputs": [
    {
     "name": "stdout",
     "output_type": "stream",
     "text": [
      "male_total_number_of_applicants 261\n",
      "male_precentage_total_number_of_applicants 77.67857142857143\n",
      "male_total_number_of_letters 805\n",
      "male_precentage_total_number_of_letters 77.7027027027027\n",
      "male_average_number_of_letters 3.0842911877394634\n",
      "male_precentage_average_number_of_letters 100.03106554830691\n"
     ]
    },
    {
     "name": "stderr",
     "output_type": "stream",
     "text": [
      "c:\\ProgramData\\Anaconda3\\envs\\k12\\lib\\site-packages\\ipykernel_launcher.py:30: SettingWithCopyWarning: \n",
      "A value is trying to be set on a copy of a slice from a DataFrame.\n",
      "Try using .loc[row_indexer,col_indexer] = value instead\n",
      "\n",
      "See the caveats in the documentation: https://pandas.pydata.org/pandas-docs/stable/user_guide/indexing.html#returning-a-view-versus-a-copy\n",
      "c:\\ProgramData\\Anaconda3\\envs\\k12\\lib\\site-packages\\ipykernel_launcher.py:31: SettingWithCopyWarning: \n",
      "A value is trying to be set on a copy of a slice from a DataFrame.\n",
      "Try using .loc[row_indexer,col_indexer] = value instead\n",
      "\n",
      "See the caveats in the documentation: https://pandas.pydata.org/pandas-docs/stable/user_guide/indexing.html#returning-a-view-versus-a-copy\n"
     ]
    },
    {
     "name": "stdout",
     "output_type": "stream",
     "text": [
      "male_average_sentence_count_per_letter 18.104347826086958\n",
      "male_precentage_average_sentence_count_per_letter 98.45207258320346\n",
      "male_average_word_count_per_letter 340.4086956521739\n",
      "male_precentage_average_word_count_per_letter 98.80990182304613\n",
      "male_female_writer_count 142\n",
      "male_precentage_female_writer_count 71.71717171717171\n",
      "male_male_writer_count 655\n",
      "male_precentage_male_writer_count 79.49029126213593\n",
      "male_prof_count 152\n",
      "male_precentage_prof_count 78.75647668393782\n",
      "male_asso_prof_count 133\n",
      "male_precentage_asso_prof_count 76.4367816091954\n",
      "male_assis_prof_count 170\n",
      "male_precentage_assis_prof_count 72.64957264957265\n",
      "maleothers_count 345\n",
      "male_precentage_others_count 80.79625292740047\n"
     ]
    },
    {
     "name": "stderr",
     "output_type": "stream",
     "text": [
      "c:\\ProgramData\\Anaconda3\\envs\\k12\\lib\\site-packages\\pandas\\core\\generic.py:5516: SettingWithCopyWarning: \n",
      "A value is trying to be set on a copy of a slice from a DataFrame.\n",
      "Try using .loc[row_indexer,col_indexer] = value instead\n",
      "\n",
      "See the caveats in the documentation: https://pandas.pydata.org/pandas-docs/stable/user_guide/indexing.html#returning-a-view-versus-a-copy\n",
      "  self[name] = value\n"
     ]
    }
   ],
   "source": [
    "df_male = df_new.loc[df_new.gender == \"male\"]\n",
    "get_table_column(df_male,\"male\",\"male\")"
   ]
  },
  {
   "cell_type": "code",
   "execution_count": 17,
   "metadata": {},
   "outputs": [
    {
     "name": "stdout",
     "output_type": "stream",
     "text": [
      "female_total_number_of_applicants 73\n",
      "female_precentage_total_number_of_applicants 21.726190476190478\n",
      "female_total_number_of_letters 223\n",
      "female_precentage_total_number_of_letters 21.525096525096522\n",
      "female_average_number_of_letters 3.0547945205479454\n",
      "female_precentage_average_number_of_letters 99.07441688263606\n",
      "female_average_sentence_count_per_letter 19.2152466367713\n",
      "female_precentage_average_sentence_count_per_letter 104.49317891814114\n"
     ]
    },
    {
     "name": "stderr",
     "output_type": "stream",
     "text": [
      "c:\\ProgramData\\Anaconda3\\envs\\k12\\lib\\site-packages\\ipykernel_launcher.py:30: SettingWithCopyWarning: \n",
      "A value is trying to be set on a copy of a slice from a DataFrame.\n",
      "Try using .loc[row_indexer,col_indexer] = value instead\n",
      "\n",
      "See the caveats in the documentation: https://pandas.pydata.org/pandas-docs/stable/user_guide/indexing.html#returning-a-view-versus-a-copy\n",
      "c:\\ProgramData\\Anaconda3\\envs\\k12\\lib\\site-packages\\ipykernel_launcher.py:31: SettingWithCopyWarning: \n",
      "A value is trying to be set on a copy of a slice from a DataFrame.\n",
      "Try using .loc[row_indexer,col_indexer] = value instead\n",
      "\n",
      "See the caveats in the documentation: https://pandas.pydata.org/pandas-docs/stable/user_guide/indexing.html#returning-a-view-versus-a-copy\n"
     ]
    },
    {
     "name": "stdout",
     "output_type": "stream",
     "text": [
      "female_average_word_count_per_letter 356.9237668161435\n",
      "female_precentage_average_word_count_per_letter 103.60370580383476\n",
      "female_female_writer_count 55\n",
      "female_precentage_female_writer_count 27.77777777777778\n",
      "female_male_writer_count 162\n",
      "female_precentage_male_writer_count 19.66019417475728\n",
      "female_prof_count 41\n",
      "female_precentage_prof_count 21.243523316062177\n",
      "female_asso_prof_count 39\n",
      "female_precentage_asso_prof_count 22.413793103448278\n",
      "female_assis_prof_count 59\n",
      "female_precentage_assis_prof_count 25.213675213675213\n",
      "femaleothers_count 81\n",
      "female_precentage_others_count 18.969555035128806\n"
     ]
    },
    {
     "name": "stderr",
     "output_type": "stream",
     "text": [
      "c:\\ProgramData\\Anaconda3\\envs\\k12\\lib\\site-packages\\pandas\\core\\generic.py:5516: SettingWithCopyWarning: \n",
      "A value is trying to be set on a copy of a slice from a DataFrame.\n",
      "Try using .loc[row_indexer,col_indexer] = value instead\n",
      "\n",
      "See the caveats in the documentation: https://pandas.pydata.org/pandas-docs/stable/user_guide/indexing.html#returning-a-view-versus-a-copy\n",
      "  self[name] = value\n"
     ]
    }
   ],
   "source": [
    "df_female = df_new.loc[df_new.gender == \"female\"]\n",
    "get_table_column(df_female,\"female\",\"female\")"
   ]
  },
  {
   "cell_type": "code",
   "execution_count": 18,
   "metadata": {},
   "outputs": [
    {
     "name": "stdout",
     "output_type": "stream",
     "text": [
      "foreign_total_number_of_applicants 95\n",
      "foreign_precentage_total_number_of_applicants 28.273809523809522\n",
      "foreign_total_number_of_letters 295\n",
      "foreign_precentage_total_number_of_letters 28.474903474903474\n",
      "foreign_average_number_of_letters 3.1052631578947367\n",
      "foreign_precentage_average_number_of_letters 100.71123755334281\n",
      "foreign_average_sentence_count_per_letter 18.11864406779661\n",
      "foreign_precentage_average_sentence_count_per_letter 98.52981604239824\n"
     ]
    },
    {
     "name": "stderr",
     "output_type": "stream",
     "text": [
      "c:\\ProgramData\\Anaconda3\\envs\\k12\\lib\\site-packages\\ipykernel_launcher.py:30: SettingWithCopyWarning: \n",
      "A value is trying to be set on a copy of a slice from a DataFrame.\n",
      "Try using .loc[row_indexer,col_indexer] = value instead\n",
      "\n",
      "See the caveats in the documentation: https://pandas.pydata.org/pandas-docs/stable/user_guide/indexing.html#returning-a-view-versus-a-copy\n",
      "c:\\ProgramData\\Anaconda3\\envs\\k12\\lib\\site-packages\\ipykernel_launcher.py:31: SettingWithCopyWarning: \n",
      "A value is trying to be set on a copy of a slice from a DataFrame.\n",
      "Try using .loc[row_indexer,col_indexer] = value instead\n",
      "\n",
      "See the caveats in the documentation: https://pandas.pydata.org/pandas-docs/stable/user_guide/indexing.html#returning-a-view-versus-a-copy\n"
     ]
    },
    {
     "name": "stdout",
     "output_type": "stream",
     "text": [
      "foreign_average_word_count_per_letter 346.64406779661016\n",
      "foreign_precentage_average_word_count_per_letter 100.61983358240238\n",
      "foreign_female_writer_count 39\n",
      "foreign_precentage_female_writer_count 19.696969696969695\n",
      "foreign_male_writer_count 253\n",
      "foreign_precentage_male_writer_count 30.70388349514563\n",
      "foreign_prof_count 62\n",
      "foreign_precentage_prof_count 32.12435233160622\n",
      "foreign_asso_prof_count 37\n",
      "foreign_precentage_asso_prof_count 21.26436781609195\n",
      "foreign_assis_prof_count 54\n",
      "foreign_precentage_assis_prof_count 23.076923076923077\n",
      "foreignothers_count 141\n",
      "foreign_precentage_others_count 33.021077283372364\n"
     ]
    },
    {
     "name": "stderr",
     "output_type": "stream",
     "text": [
      "c:\\ProgramData\\Anaconda3\\envs\\k12\\lib\\site-packages\\pandas\\core\\generic.py:5516: SettingWithCopyWarning: \n",
      "A value is trying to be set on a copy of a slice from a DataFrame.\n",
      "Try using .loc[row_indexer,col_indexer] = value instead\n",
      "\n",
      "See the caveats in the documentation: https://pandas.pydata.org/pandas-docs/stable/user_guide/indexing.html#returning-a-view-versus-a-copy\n",
      "  self[name] = value\n"
     ]
    }
   ],
   "source": [
    "df_foreign = df_new.loc[df_new.foreign == 1]\n",
    "get_table_column(df_foreign,\"foreign\",\"foreign_yes\")"
   ]
  },
  {
   "cell_type": "code",
   "execution_count": 19,
   "metadata": {},
   "outputs": [
    {
     "name": "stdout",
     "output_type": "stream",
     "text": [
      "not_foreign_total_number_of_applicants 241\n",
      "not_foreign_precentage_total_number_of_applicants 71.72619047619048\n",
      "not_foreign_total_number_of_letters 741\n",
      "not_foreign_precentage_total_number_of_letters 71.52509652509652\n",
      "not_foreign_average_number_of_letters 3.074688796680498\n",
      "not_foreign_precentage_average_number_of_letters 99.71963664909723\n"
     ]
    },
    {
     "name": "stderr",
     "output_type": "stream",
     "text": [
      "c:\\ProgramData\\Anaconda3\\envs\\k12\\lib\\site-packages\\ipykernel_launcher.py:30: SettingWithCopyWarning: \n",
      "A value is trying to be set on a copy of a slice from a DataFrame.\n",
      "Try using .loc[row_indexer,col_indexer] = value instead\n",
      "\n",
      "See the caveats in the documentation: https://pandas.pydata.org/pandas-docs/stable/user_guide/indexing.html#returning-a-view-versus-a-copy\n",
      "c:\\ProgramData\\Anaconda3\\envs\\k12\\lib\\site-packages\\ipykernel_launcher.py:31: SettingWithCopyWarning: \n",
      "A value is trying to be set on a copy of a slice from a DataFrame.\n",
      "Try using .loc[row_indexer,col_indexer] = value instead\n",
      "\n",
      "See the caveats in the documentation: https://pandas.pydata.org/pandas-docs/stable/user_guide/indexing.html#returning-a-view-versus-a-copy\n"
     ]
    },
    {
     "name": "stdout",
     "output_type": "stream",
     "text": [
      "not_foreign_average_sentence_count_per_letter 18.483130904183536\n",
      "not_foreign_precentage_average_sentence_count_per_letter 100.51190812416222\n",
      "not_foreign_average_word_count_per_letter 343.6842105263158\n",
      "not_foreign_precentage_average_word_count_per_letter 99.76068042320443\n",
      "not_foreign_female_writer_count 159\n",
      "not_foreign_precentage_female_writer_count 80.3030303030303\n",
      "not_foreign_male_writer_count 571\n",
      "not_foreign_precentage_male_writer_count 69.29611650485437\n",
      "not_foreign_prof_count 131\n",
      "not_foreign_precentage_prof_count 67.87564766839378\n",
      "not_foreign_asso_prof_count 137\n",
      "not_foreign_precentage_asso_prof_count 78.73563218390804\n",
      "not_foreign_assis_prof_count 180\n",
      "not_foreign_precentage_assis_prof_count 76.92307692307693\n",
      "not_foreignothers_count 286\n",
      "not_foreign_precentage_others_count 66.97892271662764\n"
     ]
    },
    {
     "name": "stderr",
     "output_type": "stream",
     "text": [
      "c:\\ProgramData\\Anaconda3\\envs\\k12\\lib\\site-packages\\pandas\\core\\generic.py:5516: SettingWithCopyWarning: \n",
      "A value is trying to be set on a copy of a slice from a DataFrame.\n",
      "Try using .loc[row_indexer,col_indexer] = value instead\n",
      "\n",
      "See the caveats in the documentation: https://pandas.pydata.org/pandas-docs/stable/user_guide/indexing.html#returning-a-view-versus-a-copy\n",
      "  self[name] = value\n"
     ]
    }
   ],
   "source": [
    "df_foreign = df_new.loc[df_new.foreign == 0]\n",
    "get_table_column(df_foreign,\"not_foreign\",\"foreign_no\")"
   ]
  },
  {
   "cell_type": "code",
   "execution_count": null,
   "metadata": {},
   "outputs": [],
   "source": []
  },
  {
   "cell_type": "markdown",
   "metadata": {},
   "source": [
    "# Word Analysis"
   ]
  },
  {
   "cell_type": "code",
   "execution_count": 20,
   "metadata": {},
   "outputs": [],
   "source": [
    "import pandas as pd\n",
    "import re\n",
    "import numpy as np\n",
    "import scipy.stats as stats\n",
    "df_word_list = pd.read_excel(\"LOR Project_reviewed.xlsx\",sheet_name=\"Word list\")"
   ]
  },
  {
   "cell_type": "code",
   "execution_count": 21,
   "metadata": {},
   "outputs": [
    {
     "name": "stderr",
     "output_type": "stream",
     "text": [
      "c:\\ProgramData\\Anaconda3\\envs\\k12\\lib\\site-packages\\ipykernel_launcher.py:1: FutureWarning: The default value of regex will change from True to False in a future version.\n",
      "  \"\"\"Entry point for launching an IPython kernel.\n"
     ]
    },
    {
     "data": {
      "text/plain": [
       "['achieve\\\\w*',\n",
       " 'active\\\\w*',\n",
       " 'aggressive',\n",
       " 'ambitio\\\\w*',\n",
       " 'analyt\\\\w*',\n",
       " 'aspirat\\\\w*',\n",
       " 'assertive',\n",
       " 'attention',\n",
       " 'autonom\\\\w*',\n",
       " 'competen\\\\w*',\n",
       " 'competing',\n",
       " 'confiden\\\\w*',\n",
       " 'courage\\\\w*',\n",
       " 'decisive',\n",
       " 'dedicat\\\\w*',\n",
       " 'defend',\n",
       " 'desire',\n",
       " 'determination',\n",
       " 'determined',\n",
       " 'force\\\\w*',\n",
       " 'goal oriented',\n",
       " 'goal-oriented',\n",
       " 'hard work\\\\w*',\n",
       " 'independen\\\\w*',\n",
       " 'industrious',\n",
       " 'industrious\\\\w*',\n",
       " 'intelligen\\\\w*',\n",
       " 'lead\\\\w*',\n",
       " 'master',\n",
       " 'mastered',\n",
       " 'mastery',\n",
       " 'outspoken',\n",
       " 'rewards',\n",
       " 'self direct\\\\w*',\n",
       " 'self motivated',\n",
       " 'self starter',\n",
       " 'self-assure\\\\w*',\n",
       " 'self-direct\\\\w*',\n",
       " 'self driven',\n",
       " 'self-driven',\n",
       " 'self-motivated',\n",
       " 'self-relian\\\\w*',\n",
       " 'self-starter',\n",
       " 'serious',\n",
       " 'skill\\\\w*',\n",
       " 'strong',\n",
       " 'tough',\n",
       " 'under pressure',\n",
       " 'work ethic',\n",
       " 'work-ethic']"
      ]
     },
     "execution_count": 21,
     "metadata": {},
     "output_type": "execute_result"
    }
   ],
   "source": [
    "df_word_list[\"Agency\"].str.strip().str.lower().str.replace(r\"\\*\",r\"\\\\w*\").dropna().tolist()"
   ]
  },
  {
   "cell_type": "code",
   "execution_count": 22,
   "metadata": {},
   "outputs": [
    {
     "name": "stderr",
     "output_type": "stream",
     "text": [
      "c:\\ProgramData\\Anaconda3\\envs\\k12\\lib\\site-packages\\ipykernel_launcher.py:1: FutureWarning: The default value of regex will change from True to False in a future version.\n",
      "  \"\"\"Entry point for launching an IPython kernel.\n",
      "c:\\ProgramData\\Anaconda3\\envs\\k12\\lib\\site-packages\\ipykernel_launcher.py:2: FutureWarning: The default value of regex will change from True to False in a future version.\n",
      "  \n",
      "c:\\ProgramData\\Anaconda3\\envs\\k12\\lib\\site-packages\\ipykernel_launcher.py:3: FutureWarning: The default value of regex will change from True to False in a future version.\n",
      "  This is separate from the ipykernel package so we can avoid doing imports until\n",
      "c:\\ProgramData\\Anaconda3\\envs\\k12\\lib\\site-packages\\ipykernel_launcher.py:4: FutureWarning: The default value of regex will change from True to False in a future version.\n",
      "  after removing the cwd from sys.path.\n",
      "c:\\ProgramData\\Anaconda3\\envs\\k12\\lib\\site-packages\\ipykernel_launcher.py:5: FutureWarning: The default value of regex will change from True to False in a future version.\n",
      "  \"\"\"\n",
      "c:\\ProgramData\\Anaconda3\\envs\\k12\\lib\\site-packages\\ipykernel_launcher.py:6: FutureWarning: The default value of regex will change from True to False in a future version.\n",
      "  \n"
     ]
    }
   ],
   "source": [
    "agency = df_word_list[\"Agency\"].str.strip().str.lower().str.replace(r\"\\*\",r\"\\\\w*\").dropna().tolist()\n",
    "communality = df_word_list[\"Communality\"].str.strip().str.lower().str.replace(r\"\\*\",r\"\\\\w*\").dropna().tolist()\n",
    "grindstone = df_word_list[\"Grindstone\"].str.strip().str.lower().str.replace(r\"\\*\",r\"\\\\w*\").dropna().tolist()\n",
    "standout = df_word_list[\"Standout\"].str.strip().str.lower().str.replace(r\"\\*\",r\"\\\\w*\").dropna().tolist()\n",
    "social = df_word_list[\"Social\"].str.strip().str.lower().str.replace(r\"\\*\",r\"\\\\w*\").dropna().tolist()\n",
    "radiology = df_word_list[\"Radiology\"].str.strip().str.lower().str.replace(r\"\\*\",r\"\\\\w*\").dropna().tolist()\n"
   ]
  },
  {
   "cell_type": "code",
   "execution_count": 23,
   "metadata": {},
   "outputs": [],
   "source": [
    "agency_pattern = r\"\\b\" + r\"\\b|\\b\".join(agency) + r\"\\b\"\n",
    "communality_pattern = r\"\\b\" + r\"\\b|\\b\".join(communality) + r\"\\b\"\n",
    "grindstone_pattern = r\"\\b\" + r\"\\b|\\b\".join(grindstone) + r\"\\b\"\n",
    "standout_pattern = r\"\\b\" + r\"\\b|\\b\".join(standout) + r\"\\b\"\n",
    "social_pattern = r\"\\b\" + r\"\\b|\\b\".join(social) + r\"\\b\"\n",
    "radiology_pattern = r\"\\b\" + r\"\\b|\\b\".join(radiology) + r\"\\b\"\n"
   ]
  },
  {
   "cell_type": "code",
   "execution_count": 24,
   "metadata": {},
   "outputs": [],
   "source": [
    "def create_pattern(word_list):\n",
    "    pattern = r\"\\b\" + r\"\\b|\\b\".join(word_list) + r\"\\b\"\n",
    "    pattern = re.sub(r\"\\s+\",r\" \",pattern)\n",
    "    pattern = re.sub(r\"$\\s+|^\\s+\",r\"\",pattern)\n",
    "    pattern = re.sub(r\"\\s\",r\"-\",pattern)\n",
    "\n",
    "    \n",
    "\n",
    "    pattern = re.sub(r\"-\",r\"\\\\s*-*\\\\s*\",pattern)\n",
    "    return pattern"
   ]
  },
  {
   "cell_type": "code",
   "execution_count": 25,
   "metadata": {},
   "outputs": [],
   "source": [
    "agency_pattern = create_pattern(agency)\n",
    "communality_pattern = create_pattern(communality) \n",
    "grindstone_pattern = create_pattern(grindstone) \n",
    "standout_pattern = create_pattern(standout)\n",
    "social_pattern = create_pattern(social)\n",
    "radiology_pattern = create_pattern(radiology)"
   ]
  },
  {
   "cell_type": "code",
   "execution_count": 26,
   "metadata": {},
   "outputs": [
    {
     "data": {
      "text/plain": [
       "'\\\\bachieve\\\\w*\\\\b|\\\\bactive\\\\w*\\\\b|\\\\baggressive\\\\b|\\\\bambitio\\\\w*\\\\b|\\\\banalyt\\\\w*\\\\b|\\\\baspirat\\\\w*\\\\b|\\\\bassertive\\\\b|\\\\battention\\\\b|\\\\bautonom\\\\w*\\\\b|\\\\bcompeten\\\\w*\\\\b|\\\\bcompeting\\\\b|\\\\bconfiden\\\\w*\\\\b|\\\\bcourage\\\\w*\\\\b|\\\\bdecisive\\\\b|\\\\bdedicat\\\\w*\\\\b|\\\\bdefend\\\\b|\\\\bdesire\\\\b|\\\\bdetermination\\\\b|\\\\bdetermined\\\\b|\\\\bforce\\\\w*\\\\b|\\\\bgoal\\\\s*-*\\\\s*oriented\\\\b|\\\\bgoal\\\\s*-*\\\\s*oriented\\\\b|\\\\bhard\\\\s*-*\\\\s*work\\\\w*\\\\b|\\\\bindependen\\\\w*\\\\b|\\\\bindustrious\\\\b|\\\\bindustrious\\\\w*\\\\b|\\\\bintelligen\\\\w*\\\\b|\\\\blead\\\\w*\\\\b|\\\\bmaster\\\\b|\\\\bmastered\\\\b|\\\\bmastery\\\\b|\\\\boutspoken\\\\b|\\\\brewards\\\\b|\\\\bself\\\\s*-*\\\\s*direct\\\\w*\\\\b|\\\\bself\\\\s*-*\\\\s*motivated\\\\b|\\\\bself\\\\s*-*\\\\s*starter\\\\b|\\\\bself\\\\s*-*\\\\s*assure\\\\w*\\\\b|\\\\bself\\\\s*-*\\\\s*direct\\\\w*\\\\b|\\\\bself\\\\s*-*\\\\s*driven\\\\b|\\\\bself\\\\s*-*\\\\s*driven\\\\b|\\\\bself\\\\s*-*\\\\s*motivated\\\\b|\\\\bself\\\\s*-*\\\\s*relian\\\\w*\\\\b|\\\\bself\\\\s*-*\\\\s*starter\\\\b|\\\\bserious\\\\b|\\\\bskill\\\\w*\\\\b|\\\\bstrong\\\\b|\\\\btough\\\\b|\\\\bunder\\\\s*-*\\\\s*pressure\\\\b|\\\\bwork\\\\s*-*\\\\s*ethic\\\\b|\\\\bwork\\\\s*-*\\\\s*ethic\\\\b'"
      ]
     },
     "execution_count": 26,
     "metadata": {},
     "output_type": "execute_result"
    }
   ],
   "source": [
    "agency_pattern"
   ]
  },
  {
   "cell_type": "code",
   "execution_count": 27,
   "metadata": {},
   "outputs": [],
   "source": [
    "df_female = df_new.loc[(df_new.gender == \"female\")]\n",
    "df_male = df_new.loc[(df_new.gender == \"male\")]\n",
    "df_writer_male = df_new.loc[(df_new.lor_gender == \"male\")]\n",
    "df_writer_female = df_new.loc[(df_new.lor_gender == \"female\")]\n",
    "df_prof = df_new.loc[df_new.standard_position == \"professor\"]\n",
    "df_asso_prof = df_new.loc[df_new.standard_position == \"associate professor\"]\n",
    "df_asis_prof = df_new.loc[df_new.standard_position == \"assistant professor\"]\n",
    "df_other = df_new.loc[df_new.standard_position == \"others\"]\n",
    "df_female_male = df_new.loc[(df_new.lor_gender == \"male\") & (df_new.gender == \"female\")]\n",
    "df_male_male = df_new.loc[(df_new.lor_gender == \"male\") & (df_new.gender == \"male\")]\n",
    "df_female_female = df_new.loc[(df_new.lor_gender == \"female\") & (df_new.gender == \"female\")]\n",
    "df_male_female = df_new.loc[(df_new.lor_gender == \"female\") & (df_new.gender == \"male\")]\n"
   ]
  },
  {
   "cell_type": "code",
   "execution_count": 29,
   "metadata": {},
   "outputs": [],
   "source": [
    "# def get_word_result_agecy_comm(df,column_name):\n",
    "#     df_sentence = get_df_sentence(df, \"lor\")\n",
    "#     df_sentence[\"word\"] = df_sentence.sentence_split.apply(word_tokenize)\n",
    "#     overall_total_word_count = df_sentence.word.str.len().sum()\n",
    "\n",
    "#     found_words_list = df.lor.str.lower().str.findall(agency_pattern).sum()    \n",
    "#     total_agency_comm_words_list = df.lor.str.lower().str.findall(agency_pattern).sum() + df.lor.str.lower().str.findall(communality_pattern).sum()\n",
    "\n",
    "#     if type(found_words_list) == list:\n",
    "#         agency_result = len(found_words_list)\n",
    "#         total_agency_comm_words_list_result = len(total_agency_comm_words_list)\n",
    "#     else:\n",
    "#         agency_result = 0\n",
    "#     print(f\"{column_name}_agency_result\",agency_result)\n",
    "#     print(f\"{column_name}_percentage_agency_result: %\",(agency_result/total_agency_comm_words_list_result)*100)\n",
    "    \n",
    "#     found_words_list = df.lor.str.lower().str.findall(communality_pattern).sum()\n",
    "#     if type(found_words_list) == list:\n",
    "#         communality_result = len(found_words_list)\n",
    "#     else:\n",
    "#         communality_result = 0\n",
    "        \n",
    "#     print(f\"{column_name}_communality_result\",communality_result)\n",
    "#     print(f\"{column_name}_percentage_communality_result: %\",(communality_result/total_agency_comm_words_list_result)*100)"
   ]
  },
  {
   "cell_type": "code",
   "execution_count": 30,
   "metadata": {},
   "outputs": [
    {
     "data": {
      "text/plain": [
       "12"
      ]
     },
     "execution_count": 30,
     "metadata": {},
     "output_type": "execute_result"
    }
   ],
   "source": [
    "sum([3,4,5])"
   ]
  },
  {
   "cell_type": "code",
   "execution_count": null,
   "metadata": {},
   "outputs": [],
   "source": []
  },
  {
   "cell_type": "code",
   "execution_count": 42,
   "metadata": {},
   "outputs": [],
   "source": [
    "word_pattern_list = [agency_pattern,communality_pattern, grindstone_pattern, standout_pattern,social_pattern, radiology_pattern]\n",
    "\n",
    "\n",
    "def get_word_result(df,column_name):\n",
    "    df_sentence = get_df_sentence(df, \"lor\")\n",
    "    df_sentence[\"word\"] = df_sentence.sentence_split.apply(word_tokenize)\n",
    "    #total word count for all word patterns\n",
    "    overall_total_word_count = 0\n",
    "    for pattern in word_pattern_list:\n",
    "        found_special_word_list = df.lor.str.lower().str.findall(pattern).sum() \n",
    "        if type(found_special_word_list) == list:\n",
    "            word_count = len(found_special_word_list)\n",
    "        else:\n",
    "            word_count = 0\n",
    "        overall_total_word_count +=word_count\n",
    "\n",
    "    #overall_total_word_count = df_sentence.word.str.len().sum()\n",
    "\n",
    "    found_words_list = df.lor.str.lower().str.findall(agency_pattern).sum()    \n",
    "\n",
    "    if type(found_words_list) == list:\n",
    "        agency_result = len(found_words_list)\n",
    "    else:\n",
    "        agency_result = 0\n",
    "    print(f\"{column_name}_agency_result\",agency_result)\n",
    "    agency_percentage = (agency_result/overall_total_word_count)*100\n",
    "    print(f\"{column_name}_percentage_agency_result: %\",agency_percentage)\n",
    "    \n",
    "    found_words_list = df.lor.str.lower().str.findall(communality_pattern).sum()\n",
    "    if type(found_words_list) == list:\n",
    "        communality_result = len(found_words_list)\n",
    "    else:\n",
    "        communality_result = 0\n",
    "        \n",
    "    print(f\"{column_name}_communality_result\",communality_result)\n",
    "    communality_percentage = (communality_result/overall_total_word_count)*100\n",
    "    print(f\"{column_name}_percentage_communality_result: %\",communality_percentage)\n",
    "    \n",
    "    found_words_list = df.lor.str.lower().str.findall(grindstone_pattern).sum()\n",
    "    if type(found_words_list) == list:\n",
    "        grindstone_result = len(found_words_list)\n",
    "    else:\n",
    "        grindstone_result = 0\n",
    "    print(f\"{column_name}_grindstone_result\",grindstone_result)\n",
    "    grindstone_percentage = (grindstone_result/overall_total_word_count)*100\n",
    "    print(f\"{column_name}_percentage__grindstone_result: %\",grindstone_percentage)\n",
    "    \n",
    "    found_words_list = df.lor.str.lower().str.findall(standout_pattern).sum()\n",
    "    if type(found_words_list) == list:\n",
    "        standout_result = len(found_words_list)\n",
    "    else:\n",
    "        standout_result = 0\n",
    "    print(f\"{column_name}_standout_result\",standout_result)\n",
    "    standout_percentage = (standout_result/overall_total_word_count)*100\n",
    "    print(f\"{column_name}_percentage_standout_result: %\",standout_percentage)\n",
    "    \n",
    "    found_words_list = df.lor.str.lower().str.findall(social_pattern).sum()\n",
    "    if type(found_words_list) == list:\n",
    "        social_result = len(found_words_list)\n",
    "    else:\n",
    "        social_result = 0\n",
    "    print(f\"{column_name}_social_result\",social_result)\n",
    "    social_percentage = (social_result/overall_total_word_count)*100\n",
    "    print(f\"{column_name}_percentage_social_result: %\",social_percentage)\n",
    "    \n",
    "    \n",
    "    found_words_list = df.lor.str.lower().str.findall(radiology_pattern).sum()\n",
    "    if type(found_words_list) == list:\n",
    "        radiology_result = len(found_words_list)\n",
    "    else:\n",
    "        radiology_result = 0\n",
    "\n",
    "    print(f\"{column_name}_radiology_result\",radiology_result)\n",
    "    radiology_percentage = (radiology_result/overall_total_word_count)*100\n",
    "    print(f\"{column_name}_percentage_radiology_result: %\",radiology_percentage)\n",
    "    \n",
    "    result_dic = {\"agency_count\":agency_result,\n",
    "                  \"communality_count\":communality_result,\n",
    "                  \"grindstone_count\":grindstone_result,\n",
    "                  \"standout_count\":standout_result,\n",
    "                  \"social_count\": social_result,\n",
    "                  \"radiology_count\":radiology_result                                  \n",
    "                  }\n",
    "    \n",
    "    result_list = result_dic.values()\n",
    "    percentage_list = [agency_percentage,communality_percentage, grindstone_percentage, standout_percentage, social_percentage, radiology_percentage]\n",
    "    df_result = pd.DataFrame({\"word_counts\":result_list,\n",
    "                  \"percentages\":percentage_list})\n",
    "    df_result.to_csv(f\".\\\\word_counts_results\\\\{column_name}.csv\")\n",
    "    return result_dic"
   ]
  },
  {
   "cell_type": "code",
   "execution_count": 32,
   "metadata": {},
   "outputs": [
    {
     "data": {
      "text/plain": [
       "20.0"
      ]
     },
     "execution_count": 32,
     "metadata": {},
     "output_type": "execute_result"
    }
   ],
   "source": [
    "from scipy.stats import fisher_exact\n",
    "oddsratio, pvalue = fisher_exact([[8, 2], [1, 5]])\n",
    "oddsratio"
   ]
  },
  {
   "cell_type": "code",
   "execution_count": 33,
   "metadata": {},
   "outputs": [
    {
     "ename": "NameError",
     "evalue": "name 'get_word_result_agecy_comm' is not defined",
     "output_type": "error",
     "traceback": [
      "\u001b[1;31m---------------------------------------------------------------------------\u001b[0m",
      "\u001b[1;31mNameError\u001b[0m                                 Traceback (most recent call last)",
      "\u001b[1;32m<ipython-input-33-1abded74ad82>\u001b[0m in \u001b[0;36m<module>\u001b[1;34m\u001b[0m\n\u001b[1;32m----> 1\u001b[1;33m \u001b[0mapp_male_dict\u001b[0m \u001b[1;33m=\u001b[0m \u001b[0mget_word_result_agecy_comm\u001b[0m\u001b[1;33m(\u001b[0m\u001b[0mdf_male\u001b[0m\u001b[1;33m,\u001b[0m\u001b[1;34m\"applicant_male\"\u001b[0m\u001b[1;33m)\u001b[0m\u001b[1;33m\u001b[0m\u001b[1;33m\u001b[0m\u001b[0m\n\u001b[0m",
      "\u001b[1;31mNameError\u001b[0m: name 'get_word_result_agecy_comm' is not defined"
     ]
    }
   ],
   "source": [
    "app_male_dict = get_word_result_agecy_comm(df_male,\"applicant_male\")"
   ]
  },
  {
   "cell_type": "code",
   "execution_count": 34,
   "metadata": {},
   "outputs": [
    {
     "ename": "NameError",
     "evalue": "name 'app_male_dict' is not defined",
     "output_type": "error",
     "traceback": [
      "\u001b[1;31m---------------------------------------------------------------------------\u001b[0m",
      "\u001b[1;31mNameError\u001b[0m                                 Traceback (most recent call last)",
      "\u001b[1;32m<ipython-input-34-155a079c285d>\u001b[0m in \u001b[0;36m<module>\u001b[1;34m\u001b[0m\n\u001b[1;32m----> 1\u001b[1;33m \u001b[0mprint\u001b[0m\u001b[1;33m(\u001b[0m\u001b[0mapp_male_dict\u001b[0m\u001b[1;33m)\u001b[0m\u001b[1;33m\u001b[0m\u001b[1;33m\u001b[0m\u001b[0m\n\u001b[0m",
      "\u001b[1;31mNameError\u001b[0m: name 'app_male_dict' is not defined"
     ]
    }
   ],
   "source": [
    "print(app_male_dict)"
   ]
  },
  {
   "cell_type": "code",
   "execution_count": 35,
   "metadata": {},
   "outputs": [
    {
     "ename": "NameError",
     "evalue": "name 'get_word_result_agecy_comm' is not defined",
     "output_type": "error",
     "traceback": [
      "\u001b[1;31m---------------------------------------------------------------------------\u001b[0m",
      "\u001b[1;31mNameError\u001b[0m                                 Traceback (most recent call last)",
      "\u001b[1;32m<ipython-input-35-66aca9c87bc4>\u001b[0m in \u001b[0;36m<module>\u001b[1;34m\u001b[0m\n\u001b[1;32m----> 1\u001b[1;33m \u001b[0mget_word_result_agecy_comm\u001b[0m\u001b[1;33m(\u001b[0m\u001b[0mdf_female\u001b[0m\u001b[1;33m,\u001b[0m\u001b[1;34m\"applicant_female\"\u001b[0m\u001b[1;33m)\u001b[0m\u001b[1;33m\u001b[0m\u001b[1;33m\u001b[0m\u001b[0m\n\u001b[0m",
      "\u001b[1;31mNameError\u001b[0m: name 'get_word_result_agecy_comm' is not defined"
     ]
    }
   ],
   "source": [
    "get_word_result_agecy_comm(df_female,\"applicant_female\")"
   ]
  },
  {
   "cell_type": "code",
   "execution_count": 25,
   "metadata": {},
   "outputs": [
    {
     "name": "stderr",
     "output_type": "stream",
     "text": [
      "c:\\ProgramData\\Anaconda3\\envs\\k12\\lib\\site-packages\\ipykernel_launcher.py:30: SettingWithCopyWarning: \n",
      "A value is trying to be set on a copy of a slice from a DataFrame.\n",
      "Try using .loc[row_indexer,col_indexer] = value instead\n",
      "\n",
      "See the caveats in the documentation: https://pandas.pydata.org/pandas-docs/stable/user_guide/indexing.html#returning-a-view-versus-a-copy\n",
      "c:\\ProgramData\\Anaconda3\\envs\\k12\\lib\\site-packages\\ipykernel_launcher.py:31: SettingWithCopyWarning: \n",
      "A value is trying to be set on a copy of a slice from a DataFrame.\n",
      "Try using .loc[row_indexer,col_indexer] = value instead\n",
      "\n",
      "See the caveats in the documentation: https://pandas.pydata.org/pandas-docs/stable/user_guide/indexing.html#returning-a-view-versus-a-copy\n"
     ]
    },
    {
     "name": "stdout",
     "output_type": "stream",
     "text": [
      "applicant_male_agency_result 3496\n",
      "applicant_male_percentage_agency_result: % 1.2757773812260746\n",
      "applicant_male_communality_result 1536\n",
      "applicant_male_percentage_communality_result: % 0.5605246160077948\n",
      "applicant_male_grindstone_result 917\n",
      "applicant_male_percentage__grindstone_result: % 0.3346361151556952\n",
      "applicant_male_standout_result 1740\n",
      "applicant_male_percentage_standout_result: % 0.63496929157133\n",
      "applicant_male_social_result 93\n",
      "applicant_male_percentage_social_result: % 0.033938013859846954\n",
      "applicant_male_radiology_result 160\n",
      "applicant_male_percentage_radiology_result: % 0.058387980834145294\n"
     ]
    }
   ],
   "source": [
    "app_male_dict = get_word_result(df_male,\"applicant_male\")"
   ]
  },
  {
   "cell_type": "code",
   "execution_count": 26,
   "metadata": {},
   "outputs": [
    {
     "name": "stderr",
     "output_type": "stream",
     "text": [
      "c:\\ProgramData\\Anaconda3\\envs\\k12\\lib\\site-packages\\ipykernel_launcher.py:30: SettingWithCopyWarning: \n",
      "A value is trying to be set on a copy of a slice from a DataFrame.\n",
      "Try using .loc[row_indexer,col_indexer] = value instead\n",
      "\n",
      "See the caveats in the documentation: https://pandas.pydata.org/pandas-docs/stable/user_guide/indexing.html#returning-a-view-versus-a-copy\n",
      "c:\\ProgramData\\Anaconda3\\envs\\k12\\lib\\site-packages\\ipykernel_launcher.py:31: SettingWithCopyWarning: \n",
      "A value is trying to be set on a copy of a slice from a DataFrame.\n",
      "Try using .loc[row_indexer,col_indexer] = value instead\n",
      "\n",
      "See the caveats in the documentation: https://pandas.pydata.org/pandas-docs/stable/user_guide/indexing.html#returning-a-view-versus-a-copy\n"
     ]
    },
    {
     "name": "stdout",
     "output_type": "stream",
     "text": [
      "applicant_female_agency_result 1067\n",
      "applicant_female_percentage_agency_result: % 1.3405533080382943\n",
      "applicant_female_communality_result 449\n",
      "applicant_female_percentage_communality_result: % 0.5641128728296103\n",
      "applicant_female_grindstone_result 250\n",
      "applicant_female_percentage__grindstone_result: % 0.314094027187979\n",
      "applicant_female_standout_result 567\n",
      "applicant_female_percentage_standout_result: % 0.7123652536623363\n",
      "applicant_female_social_result 33\n",
      "applicant_female_percentage_social_result: % 0.04146041158881322\n",
      "applicant_female_radiology_result 66\n",
      "applicant_female_percentage_radiology_result: % 0.08292082317762645\n"
     ]
    }
   ],
   "source": [
    "app_female_dict = get_word_result(df_female,\"applicant_female\")"
   ]
  },
  {
   "cell_type": "code",
   "execution_count": 27,
   "metadata": {},
   "outputs": [
    {
     "name": "stdout",
     "output_type": "stream",
     "text": [
      "1.005935645110903 0.9070904081736366\n"
     ]
    }
   ],
   "source": [
    "\n",
    "app_male_choosen = app_male_dict[\"agency_count\"]\n",
    "app_male_others = sum([value for key,value in app_male_dict.items() if key != \"agency_count\"])\n",
    "app_female_choosen = app_female_dict[\"agency_count\"]\n",
    "app_female_others = sum([value for key,value in app_female_dict.items() if key != \"agency_count\"])\n",
    "\n",
    "\n",
    "oddsratio, pvalue = stats.fisher_exact([[app_male_choosen, app_male_others],[app_female_choosen,app_female_others]])  \n",
    "print(oddsratio, pvalue)\n"
   ]
  },
  {
   "cell_type": "code",
   "execution_count": 39,
   "metadata": {},
   "outputs": [],
   "source": [
    "def get_odds_ratio(word_type,dict_1,dict_2):\n",
    "    \n",
    "    group_1_choosen_type_count = dict_1[word_type+\"_count\"]\n",
    "    group_1_others_count = sum([value for key,value in dict_1.items() if key != word_type+\"_count\"])\n",
    "    group_2_choosen_type_count = dict_2[word_type+\"_count\"]\n",
    "    group_2_others_count = sum([value for key,value in dict_2.items() if key != word_type+\"_count\"])\n",
    "\n",
    "\n",
    "    oddsratio, pvalue = stats.fisher_exact([[group_1_choosen_type_count, group_1_others_count],[group_2_choosen_type_count, group_2_others_count]])  \n",
    "    #print(\"oddsratio:\",oddsratio, \"\\npvalue:\",pvalue)\n",
    "    return oddsratio, pvalue"
   ]
  },
  {
   "cell_type": "code",
   "execution_count": 40,
   "metadata": {},
   "outputs": [],
   "source": [
    "word_type_list = [\"agency\",\"communality\", \"grindstone\", \"standout\",\"social\", \"radiology\"]\n"
   ]
  },
  {
   "cell_type": "code",
   "execution_count": 41,
   "metadata": {},
   "outputs": [],
   "source": [
    "def word_odd_analyse(dict_1,dict_2,csv_name):\n",
    "    odds_ratio_list  = []\n",
    "    p_value_list=[]\n",
    "    for word_type in word_type_list:\n",
    "        odds_ratio,p_value = get_odds_ratio(word_type,dict_1,dict_2)\n",
    "        odds_ratio_list.append(odds_ratio)\n",
    "        p_value_list.append(p_value)\n",
    "    df = pd.DataFrame({\"od\":odds_ratio_list,\"p\":p_value_list},index = word_type_list)\n",
    "    df.to_csv(\".\\\\word_odds_results\\\\\"+csv_name)\n",
    "    return df"
   ]
  },
  {
   "cell_type": "code",
   "execution_count": 209,
   "metadata": {},
   "outputs": [],
   "source": [
    "df_appmale_appfemale = word_odd_analyse(app_female_dict,app_male_dict,\"word_odds_appmale_appfemale.csv\")\n"
   ]
  },
  {
   "cell_type": "code",
   "execution_count": 56,
   "metadata": {},
   "outputs": [
    {
     "data": {
      "text/plain": [
       "1.0059356451109027"
      ]
     },
     "execution_count": 56,
     "metadata": {},
     "output_type": "execute_result"
    }
   ],
   "source": [
    "(app_male_choosen/app_male_others)/(app_female_choosen/app_female_others)"
   ]
  },
  {
   "cell_type": "code",
   "execution_count": 57,
   "metadata": {},
   "outputs": [
    {
     "data": {
      "text/plain": [
       "0.9940993788819876"
      ]
     },
     "execution_count": 57,
     "metadata": {},
     "output_type": "execute_result"
    }
   ],
   "source": [
    "(app_female_choosen/app_female_others)/(app_male_choosen/app_male_others)"
   ]
  },
  {
   "cell_type": "code",
   "execution_count": 58,
   "metadata": {},
   "outputs": [
    {
     "data": {
      "text/html": [
       "<div>\n",
       "<style scoped>\n",
       "    .dataframe tbody tr th:only-of-type {\n",
       "        vertical-align: middle;\n",
       "    }\n",
       "\n",
       "    .dataframe tbody tr th {\n",
       "        vertical-align: top;\n",
       "    }\n",
       "\n",
       "    .dataframe thead th {\n",
       "        text-align: right;\n",
       "    }\n",
       "</style>\n",
       "<table border=\"1\" class=\"dataframe\">\n",
       "  <thead>\n",
       "    <tr style=\"text-align: right;\">\n",
       "      <th></th>\n",
       "      <th>Responded</th>\n",
       "      <th>No Response</th>\n",
       "    </tr>\n",
       "  </thead>\n",
       "  <tbody>\n",
       "    <tr>\n",
       "      <th>Males</th>\n",
       "      <td>3496</td>\n",
       "      <td>4446</td>\n",
       "    </tr>\n",
       "    <tr>\n",
       "      <th>Females</th>\n",
       "      <td>1067</td>\n",
       "      <td>1365</td>\n",
       "    </tr>\n",
       "  </tbody>\n",
       "</table>\n",
       "</div>"
      ],
      "text/plain": [
       "         Responded  No Response\n",
       "Males         3496         4446\n",
       "Females       1067         1365"
      ]
     },
     "execution_count": 58,
     "metadata": {},
     "output_type": "execute_result"
    }
   ],
   "source": [
    "ar=np.array([[app_male_choosen, app_male_others],[app_female_choosen, app_female_others]])    \n",
    "df=pd.DataFrame(ar, columns=[\"Responded\", \"No Response\"])\n",
    "df.index=[\"Males\", \"Females\"] \n",
    "df "
   ]
  },
  {
   "cell_type": "code",
   "execution_count": null,
   "metadata": {},
   "outputs": [],
   "source": [
    "\n"
   ]
  },
  {
   "cell_type": "markdown",
   "metadata": {},
   "source": [
    "# Aşağıdaki fonksiyon sonuçlarını ilgili dictionary'e eşitle ve expanded exceldekine göre yeni dataframeler ayarla\n",
    "# Çıktıları otomatikleştir ve kolayca hepsini çıktı al"
   ]
  },
  {
   "cell_type": "code",
   "execution_count": 81,
   "metadata": {},
   "outputs": [
    {
     "name": "stderr",
     "output_type": "stream",
     "text": [
      "c:\\ProgramData\\Anaconda3\\envs\\k12\\lib\\site-packages\\ipykernel_launcher.py:30: SettingWithCopyWarning: \n",
      "A value is trying to be set on a copy of a slice from a DataFrame.\n",
      "Try using .loc[row_indexer,col_indexer] = value instead\n",
      "\n",
      "See the caveats in the documentation: https://pandas.pydata.org/pandas-docs/stable/user_guide/indexing.html#returning-a-view-versus-a-copy\n",
      "c:\\ProgramData\\Anaconda3\\envs\\k12\\lib\\site-packages\\ipykernel_launcher.py:31: SettingWithCopyWarning: \n",
      "A value is trying to be set on a copy of a slice from a DataFrame.\n",
      "Try using .loc[row_indexer,col_indexer] = value instead\n",
      "\n",
      "See the caveats in the documentation: https://pandas.pydata.org/pandas-docs/stable/user_guide/indexing.html#returning-a-view-versus-a-copy\n"
     ]
    },
    {
     "name": "stdout",
     "output_type": "stream",
     "text": [
      "writer_male_agency_result 3626\n",
      "writer_male_percentage_agency_result: % 1.2974187592583315\n",
      "writer_male_communality_result 1524\n",
      "writer_male_percentage_communality_result: % 0.5453023135989237\n",
      "writer_male_grindstone_result 910\n",
      "writer_male_percentage__grindstone_result: % 0.32560702452429174\n",
      "writer_male_standout_result 1888\n",
      "writer_male_percentage_standout_result: % 0.6755451234086404\n",
      "writer_male_social_result 100\n",
      "writer_male_percentage_social_result: % 0.035780991705966124\n",
      "writer_male_radiology_result 171\n",
      "writer_male_percentage_radiology_result: % 0.06118549581720207\n"
     ]
    }
   ],
   "source": [
    "writer_male_dic,dfx = get_word_result(df_writer_male,\"writer_male\")"
   ]
  },
  {
   "cell_type": "code",
   "execution_count": 83,
   "metadata": {},
   "outputs": [
    {
     "data": {
      "text/plain": [
       "{'agency_count': 3626,\n",
       " 'communality_count': 1524,\n",
       " 'grindstone_count': 910,\n",
       " 'standout_count': 1888,\n",
       " 'social_count': 100,\n",
       " 'radiology_count': 171}"
      ]
     },
     "execution_count": 83,
     "metadata": {},
     "output_type": "execute_result"
    }
   ],
   "source": [
    "writer_male_dic"
   ]
  },
  {
   "cell_type": "code",
   "execution_count": 183,
   "metadata": {},
   "outputs": [],
   "source": [
    "found_words_list = df_writer_male.lor.str.lower().str.findall(agency_pattern).sum()  "
   ]
  },
  {
   "cell_type": "code",
   "execution_count": 175,
   "metadata": {},
   "outputs": [],
   "source": [
    "dfx.to_csv(\".\\\\word_counts_results\\\\writer_male_dic.csv\")"
   ]
  },
  {
   "cell_type": "code",
   "execution_count": 201,
   "metadata": {},
   "outputs": [
    {
     "name": "stderr",
     "output_type": "stream",
     "text": [
      "c:\\ProgramData\\Anaconda3\\envs\\k12\\lib\\site-packages\\ipykernel_launcher.py:30: SettingWithCopyWarning: \n",
      "A value is trying to be set on a copy of a slice from a DataFrame.\n",
      "Try using .loc[row_indexer,col_indexer] = value instead\n",
      "\n",
      "See the caveats in the documentation: https://pandas.pydata.org/pandas-docs/stable/user_guide/indexing.html#returning-a-view-versus-a-copy\n",
      "c:\\ProgramData\\Anaconda3\\envs\\k12\\lib\\site-packages\\ipykernel_launcher.py:31: SettingWithCopyWarning: \n",
      "A value is trying to be set on a copy of a slice from a DataFrame.\n",
      "Try using .loc[row_indexer,col_indexer] = value instead\n",
      "\n",
      "See the caveats in the documentation: https://pandas.pydata.org/pandas-docs/stable/user_guide/indexing.html#returning-a-view-versus-a-copy\n"
     ]
    },
    {
     "name": "stdout",
     "output_type": "stream",
     "text": [
      "applicant_male_agency_result 3496\n",
      "applicant_male_percentage_agency_result: % 44.01913875598086\n",
      "applicant_male_communality_result 1536\n",
      "applicant_male_percentage_communality_result: % 19.340216570133467\n",
      "applicant_male_grindstone_result 917\n",
      "applicant_male_percentage__grindstone_result: % 11.546210022664315\n",
      "applicant_male_standout_result 1740\n",
      "applicant_male_percentage_standout_result: % 21.90883908335432\n",
      "applicant_male_social_result 93\n",
      "applicant_male_percentage_social_result: % 1.1709896751448\n",
      "applicant_male_radiology_result 160\n",
      "applicant_male_percentage_radiology_result: % 2.014605892722236\n",
      "applicant_female_agency_result 1067\n",
      "applicant_female_percentage_agency_result: % 43.87335526315789\n",
      "applicant_female_communality_result 449\n",
      "applicant_female_percentage_communality_result: % 18.46217105263158\n",
      "applicant_female_grindstone_result 250\n",
      "applicant_female_percentage__grindstone_result: % 10.279605263157894\n",
      "applicant_female_standout_result 567\n",
      "applicant_female_percentage_standout_result: % 23.314144736842106\n",
      "applicant_female_social_result 33\n",
      "applicant_female_percentage_social_result: % 1.3569078947368423\n",
      "applicant_female_radiology_result 66\n",
      "applicant_female_percentage_radiology_result: % 2.7138157894736845\n"
     ]
    }
   ],
   "source": [
    "app_male_dic,df_app_male_dic = get_word_result(df_male,\"applicant_male\")\n",
    "app_female_dic, df_app_female_dic = get_word_result(df_female,\"applicant_female\")"
   ]
  },
  {
   "cell_type": "code",
   "execution_count": 204,
   "metadata": {},
   "outputs": [
    {
     "name": "stderr",
     "output_type": "stream",
     "text": [
      "c:\\ProgramData\\Anaconda3\\envs\\k12\\lib\\site-packages\\ipykernel_launcher.py:30: SettingWithCopyWarning: \n",
      "A value is trying to be set on a copy of a slice from a DataFrame.\n",
      "Try using .loc[row_indexer,col_indexer] = value instead\n",
      "\n",
      "See the caveats in the documentation: https://pandas.pydata.org/pandas-docs/stable/user_guide/indexing.html#returning-a-view-versus-a-copy\n",
      "c:\\ProgramData\\Anaconda3\\envs\\k12\\lib\\site-packages\\ipykernel_launcher.py:31: SettingWithCopyWarning: \n",
      "A value is trying to be set on a copy of a slice from a DataFrame.\n",
      "Try using .loc[row_indexer,col_indexer] = value instead\n",
      "\n",
      "See the caveats in the documentation: https://pandas.pydata.org/pandas-docs/stable/user_guide/indexing.html#returning-a-view-versus-a-copy\n"
     ]
    },
    {
     "name": "stdout",
     "output_type": "stream",
     "text": [
      "applicant_male_agency_result 3496\n",
      "applicant_male_percentage_agency_result: % 44.01913875598086\n",
      "applicant_male_communality_result 1536\n",
      "applicant_male_percentage_communality_result: % 19.340216570133467\n",
      "applicant_male_grindstone_result 917\n",
      "applicant_male_percentage__grindstone_result: % 11.546210022664315\n",
      "applicant_male_standout_result 1740\n",
      "applicant_male_percentage_standout_result: % 21.90883908335432\n",
      "applicant_male_social_result 93\n",
      "applicant_male_percentage_social_result: % 1.1709896751448\n",
      "applicant_male_radiology_result 160\n",
      "applicant_male_percentage_radiology_result: % 2.014605892722236\n",
      "applicant_female_agency_result 1067\n",
      "applicant_female_percentage_agency_result: % 43.87335526315789\n",
      "applicant_female_communality_result 449\n",
      "applicant_female_percentage_communality_result: % 18.46217105263158\n",
      "applicant_female_grindstone_result 250\n",
      "applicant_female_percentage__grindstone_result: % 10.279605263157894\n",
      "applicant_female_standout_result 567\n",
      "applicant_female_percentage_standout_result: % 23.314144736842106\n",
      "applicant_female_social_result 33\n",
      "applicant_female_percentage_social_result: % 1.3569078947368423\n",
      "applicant_female_radiology_result 66\n",
      "applicant_female_percentage_radiology_result: % 2.7138157894736845\n",
      "writer_male_agency_result 3626\n",
      "writer_male_percentage_agency_result: % 44.117289207932835\n",
      "writer_male_communality_result 1524\n",
      "writer_male_percentage_communality_result: % 18.54240175203796\n",
      "writer_male_grindstone_result 910\n",
      "writer_male_percentage__grindstone_result: % 11.071906557975423\n",
      "writer_male_standout_result 1888\n",
      "writer_male_percentage_standout_result: % 22.971164375228128\n",
      "writer_male_social_result 100\n",
      "writer_male_percentage_social_result: % 1.2166930283489477\n",
      "writer_male_radiology_result 171\n",
      "writer_male_percentage_radiology_result: % 2.0805450784767006\n",
      "writer_female_agency_result 923\n",
      "writer_female_percentage_agency_result: % 43.78557874762809\n",
      "writer_female_communality_result 447\n",
      "writer_female_percentage_communality_result: % 21.20493358633776\n",
      "writer_female_grindstone_result 255\n",
      "writer_female_percentage__grindstone_result: % 12.096774193548388\n",
      "writer_female_standout_result 407\n",
      "writer_female_percentage_standout_result: % 19.307400379506642\n",
      "writer_female_social_result 24\n",
      "writer_female_percentage_social_result: % 1.1385199240986716\n",
      "writer_female_radiology_result 52\n",
      "writer_female_percentage_radiology_result: % 2.4667931688804554\n",
      "writer_male_applicant_female_agency_result 769\n",
      "writer_male_applicant_female_percentage_agency_result: % 44.42518775274408\n",
      "writer_male_applicant_female_communality_result 311\n",
      "writer_male_applicant_female_percentage_communality_result: % 17.96649335644136\n",
      "writer_male_applicant_female_grindstone_result 157\n",
      "writer_male_applicant_female_percentage__grindstone_result: % 9.06990179087233\n",
      "writer_male_applicant_female_standout_result 421\n",
      "writer_male_applicant_female_percentage_standout_result: % 24.321201617562103\n",
      "writer_male_applicant_female_social_result 24\n",
      "writer_male_applicant_female_percentage_social_result: % 1.386481802426343\n",
      "writer_male_applicant_female_radiology_result 49\n",
      "writer_male_applicant_female_percentage_radiology_result: % 2.8307336799537843\n",
      "writer_male_applicant_male_agency_result 2830\n",
      "writer_male_applicant_male_percentage_agency_result: % 44.07413175517832\n",
      "writer_male_applicant_male_communality_result 1200\n",
      "writer_male_applicant_male_percentage_communality_result: % 18.688677776047342\n",
      "writer_male_applicant_male_grindstone_result 744\n",
      "writer_male_applicant_male_percentage__grindstone_result: % 11.586980221149354\n",
      "writer_male_applicant_male_standout_result 1450\n",
      "writer_male_applicant_male_percentage_standout_result: % 22.582152312723874\n",
      "writer_male_applicant_male_social_result 76\n",
      "writer_male_applicant_male_percentage_social_result: % 1.183616259149665\n",
      "writer_male_applicant_male_radiology_result 121\n",
      "writer_male_applicant_male_percentage_radiology_result: % 1.8844416757514404\n",
      "writer_female_applicant_female_agency_result 283\n",
      "writer_female_applicant_female_percentage_agency_result: % 44.0809968847352\n",
      "writer_female_applicant_female_communality_result 119\n",
      "writer_female_applicant_female_percentage_communality_result: % 18.53582554517134\n",
      "writer_female_applicant_female_grindstone_result 86\n",
      "writer_female_applicant_female_percentage__grindstone_result: % 13.395638629283487\n",
      "writer_female_applicant_female_standout_result 130\n",
      "writer_female_applicant_female_percentage_standout_result: % 20.24922118380062\n",
      "writer_female_applicant_female_social_result 8\n",
      "writer_female_applicant_female_percentage_social_result: % 1.2461059190031152\n",
      "writer_female_applicant_female_radiology_result 16\n",
      "writer_female_applicant_female_percentage_radiology_result: % 2.4922118380062304\n",
      "writer_female_applicant_male_agency_result 637\n",
      "writer_female_applicant_male_percentage_agency_result: % 43.66004112405758\n",
      "writer_female_applicant_male_communality_result 328\n",
      "writer_female_applicant_male_percentage_communality_result: % 22.481151473612062\n",
      "writer_female_applicant_male_grindstone_result 166\n",
      "writer_female_applicant_male_percentage__grindstone_result: % 11.3776559287183\n",
      "writer_female_applicant_male_standout_result 276\n",
      "writer_female_applicant_male_percentage_standout_result: % 18.917066483893077\n",
      "writer_female_applicant_male_social_result 16\n",
      "writer_female_applicant_male_percentage_social_result: % 1.0966415352981496\n",
      "writer_female_applicant_male_radiology_result 36\n",
      "writer_female_applicant_male_percentage_radiology_result: % 2.467443454420836\n",
      "prof_agency_result 832\n",
      "prof_percentage_agency_result: % 41.68336673346693\n",
      "prof_communality_result 374\n",
      "prof_percentage_communality_result: % 18.7374749498998\n",
      "prof_grindstone_result 221\n",
      "prof_percentage__grindstone_result: % 11.072144288577155\n",
      "prof_standout_result 506\n",
      "prof_percentage_standout_result: % 25.35070140280561\n",
      "prof_social_result 23\n",
      "prof_percentage_social_result: % 1.1523046092184368\n",
      "prof_radiology_result 40\n",
      "prof_percentage_radiology_result: % 2.004008016032064\n",
      "asso_agency_result 889\n",
      "asso_percentage_agency_result: % 43.92292490118577\n",
      "asso_communality_result 387\n",
      "asso_percentage_communality_result: % 19.120553359683797\n",
      "asso_grindstone_result 233\n",
      "asso_percentage__grindstone_result: % 11.511857707509881\n",
      "asso_standout_result 445\n",
      "asso_percentage_standout_result: % 21.98616600790514\n",
      "asso_social_result 23\n",
      "asso_percentage_social_result: % 1.1363636363636365\n",
      "asso_radiology_result 47\n",
      "asso_percentage_radiology_result: % 2.322134387351779\n",
      "asis_agency_result 1059\n",
      "asis_percentage_agency_result: % 46.34573304157549\n",
      "asis_communality_result 426\n",
      "asis_percentage_communality_result: % 18.643326039387308\n",
      "asis_grindstone_result 252\n",
      "asis_percentage__grindstone_result: % 11.028446389496718\n",
      "asis_standout_result 478\n",
      "asis_percentage_standout_result: % 20.919037199124727\n",
      "asis_social_result 23\n",
      "asis_percentage_social_result: % 1.0065645514223196\n",
      "asis_radiology_result 47\n",
      "asis_percentage_radiology_result: % 2.0568927789934355\n",
      "others_agency_result 1781\n",
      "others_percentage_agency_result: % 43.8130381303813\n",
      "others_communality_result 790\n",
      "others_percentage_communality_result: % 19.43419434194342\n",
      "others_grindstone_result 471\n",
      "others_percentage__grindstone_result: % 11.586715867158672\n",
      "others_standout_result 876\n",
      "others_percentage_standout_result: % 21.54981549815498\n",
      "others_social_result 56\n",
      "others_percentage_social_result: % 1.3776137761377614\n",
      "others_radiology_result 91\n",
      "others_percentage_radiology_result: % 2.238622386223862\n"
     ]
    }
   ],
   "source": [
    "app_male_dic = get_word_result(df_male, \"applicant_male\")\n",
    "app_female_dic = get_word_result(df_female, \"applicant_female\")\n",
    "writer_male_dic = get_word_result(df_writer_male, \"writer_male\")\n",
    "writer_female_dic = get_word_result(df_writer_female, \"writer_female\")\n",
    "writer_male_applicant_female_dic = get_word_result(\n",
    "    df_female_male, \"writer_male_applicant_female\"\n",
    ")\n",
    "writer_male_applicant_male_dic = get_word_result(\n",
    "    df_male_male, \"writer_male_applicant_male\"\n",
    ")\n",
    "writer_female_applicant_female_dic = get_word_result(\n",
    "    df_female_female, \"writer_female_applicant_female\"\n",
    ")\n",
    "writer_female_applicant_male_dic = get_word_result(\n",
    "    df_male_female, \"writer_female_applicant_male\"\n",
    ")\n",
    "prof_dic = get_word_result(df_prof, \"prof\")\n",
    "asso_dic = get_word_result(df_asso_prof, \"asso\")\n",
    "asis_dic = get_word_result(df_asis_prof, \"asis\")\n",
    "others_dic = get_word_result(df_other, \"others\")\n",
    "\n"
   ]
  },
  {
   "cell_type": "code",
   "execution_count": 205,
   "metadata": {},
   "outputs": [
    {
     "data": {
      "text/plain": [
       "{'agency_count': 283,\n",
       " 'communality_count': 119,\n",
       " 'grindstone_count': 86,\n",
       " 'standout_count': 130,\n",
       " 'social_count': 8,\n",
       " 'radiology_count': 16}"
      ]
     },
     "execution_count": 205,
     "metadata": {},
     "output_type": "execute_result"
    }
   ],
   "source": [
    "writer_female_applicant_female_dic"
   ]
  },
  {
   "cell_type": "code",
   "execution_count": 210,
   "metadata": {},
   "outputs": [],
   "source": [
    "df_appmale_appfemale = word_odd_analyse(app_female_dict,app_male_dict,\"app_male-app_female.csv\")"
   ]
  },
  {
   "cell_type": "code",
   "execution_count": 212,
   "metadata": {},
   "outputs": [
    {
     "data": {
      "text/html": [
       "<div>\n",
       "<style scoped>\n",
       "    .dataframe tbody tr th:only-of-type {\n",
       "        vertical-align: middle;\n",
       "    }\n",
       "\n",
       "    .dataframe tbody tr th {\n",
       "        vertical-align: top;\n",
       "    }\n",
       "\n",
       "    .dataframe thead th {\n",
       "        text-align: right;\n",
       "    }\n",
       "</style>\n",
       "<table border=\"1\" class=\"dataframe\">\n",
       "  <thead>\n",
       "    <tr style=\"text-align: right;\">\n",
       "      <th></th>\n",
       "      <th>od</th>\n",
       "      <th>p</th>\n",
       "    </tr>\n",
       "  </thead>\n",
       "  <tbody>\n",
       "    <tr>\n",
       "      <th>agency</th>\n",
       "      <td>1.017242</td>\n",
       "      <td>0.886152</td>\n",
       "    </tr>\n",
       "    <tr>\n",
       "      <th>communality</th>\n",
       "      <td>0.784574</td>\n",
       "      <td>0.042927</td>\n",
       "    </tr>\n",
       "    <tr>\n",
       "      <th>grindstone</th>\n",
       "      <td>1.204798</td>\n",
       "      <td>0.190269</td>\n",
       "    </tr>\n",
       "    <tr>\n",
       "      <th>standout</th>\n",
       "      <td>1.088301</td>\n",
       "      <td>0.472397</td>\n",
       "    </tr>\n",
       "    <tr>\n",
       "      <th>social</th>\n",
       "      <td>1.138013</td>\n",
       "      <td>0.824191</td>\n",
       "    </tr>\n",
       "    <tr>\n",
       "      <th>radiology</th>\n",
       "      <td>1.010295</td>\n",
       "      <td>1.000000</td>\n",
       "    </tr>\n",
       "  </tbody>\n",
       "</table>\n",
       "</div>"
      ],
      "text/plain": [
       "                   od         p\n",
       "agency       1.017242  0.886152\n",
       "communality  0.784574  0.042927\n",
       "grindstone   1.204798  0.190269\n",
       "standout     1.088301  0.472397\n",
       "social       1.138013  0.824191\n",
       "radiology    1.010295  1.000000"
      ]
     },
     "execution_count": 212,
     "metadata": {},
     "output_type": "execute_result"
    }
   ],
   "source": [
    "df_female_female_odds = word_odd_analyse(writer_female_applicant_female_dic,writer_female_applicant_male_dic,\"wr_female_app_female-wr_female_app_male.csv\")\n",
    "df_female_female_odds"
   ]
  },
  {
   "cell_type": "code",
   "execution_count": 213,
   "metadata": {},
   "outputs": [],
   "source": [
    "df_male_male_odds = word_odd_analyse(writer_male_applicant_female_dic,writer_male_applicant_male_dic,\"wr_male_app_female-wr_male_app_male.csv\")"
   ]
  },
  {
   "cell_type": "code",
   "execution_count": 215,
   "metadata": {},
   "outputs": [],
   "source": [
    "writer_female_dic2writer_male_dic = word_odd_analyse(writer_female_dic,writer_male_dic,\"wr_female-wr_male.csv\")"
   ]
  },
  {
   "cell_type": "code",
   "execution_count": null,
   "metadata": {},
   "outputs": [],
   "source": [
    "df_female = df_new.loc[(df_new.gender == \"female\")]\n",
    "df_male = df_new.loc[(df_new.gender == \"male\")]\n",
    "df_writer_male = df_new.loc[(df_new.lor_gender == \"male\")]\n",
    "df_writer_female = df_new.loc[(df_new.lor_gender == \"female\")]\n"
   ]
  },
  {
   "cell_type": "code",
   "execution_count": 46,
   "metadata": {},
   "outputs": [
    {
     "name": "stderr",
     "output_type": "stream",
     "text": [
      "c:\\ProgramData\\Anaconda3\\envs\\k12\\lib\\site-packages\\ipykernel_launcher.py:30: SettingWithCopyWarning: \n",
      "A value is trying to be set on a copy of a slice from a DataFrame.\n",
      "Try using .loc[row_indexer,col_indexer] = value instead\n",
      "\n",
      "See the caveats in the documentation: https://pandas.pydata.org/pandas-docs/stable/user_guide/indexing.html#returning-a-view-versus-a-copy\n",
      "c:\\ProgramData\\Anaconda3\\envs\\k12\\lib\\site-packages\\ipykernel_launcher.py:31: SettingWithCopyWarning: \n",
      "A value is trying to be set on a copy of a slice from a DataFrame.\n",
      "Try using .loc[row_indexer,col_indexer] = value instead\n",
      "\n",
      "See the caveats in the documentation: https://pandas.pydata.org/pandas-docs/stable/user_guide/indexing.html#returning-a-view-versus-a-copy\n"
     ]
    },
    {
     "name": "stdout",
     "output_type": "stream",
     "text": [
      "male_prof_agency_result 651\n",
      "male_prof_percentage_agency_result: % 41.124447252053066\n",
      "male_prof_communality_result 293\n",
      "male_prof_percentage_communality_result: % 18.509159823120658\n",
      "male_prof_grindstone_result 171\n",
      "male_prof_percentage__grindstone_result: % 10.80227416298168\n",
      "male_prof_standout_result 424\n",
      "male_prof_percentage_standout_result: % 26.784586228679725\n",
      "male_prof_social_result 17\n",
      "male_prof_percentage_social_result: % 1.0739102969046115\n",
      "male_prof_radiology_result 27\n",
      "male_prof_percentage_radiology_result: % 1.705622236260265\n",
      "male_asso_prof_agency_result 671\n",
      "male_asso_prof_percentage_agency_result: % 43.51491569390402\n",
      "male_asso_prof_communality_result 271\n",
      "male_asso_prof_percentage_communality_result: % 17.5745784695201\n",
      "male_asso_prof_grindstone_result 177\n",
      "male_asso_prof_percentage__grindstone_result: % 11.478599221789883\n",
      "male_asso_prof_standout_result 364\n",
      "male_asso_prof_percentage_standout_result: % 23.605706874189362\n",
      "male_asso_prof_social_result 19\n",
      "male_asso_prof_percentage_social_result: % 1.2321660181582361\n",
      "male_asso_prof_radiology_result 40\n",
      "male_asso_prof_percentage_radiology_result: % 2.594033722438392\n",
      "male_asis_prof_agency_result 789\n",
      "male_asis_prof_percentage_agency_result: % 46.76941315945465\n",
      "male_asis_prof_communality_result 309\n",
      "male_asis_prof_percentage_communality_result: % 18.31653823355068\n",
      "male_asis_prof_grindstone_result 177\n",
      "male_asis_prof_percentage__grindstone_result: % 10.49199762892709\n",
      "male_asis_prof_standout_result 358\n",
      "male_asis_prof_percentage_standout_result: % 21.221102548903378\n",
      "male_asis_prof_social_result 17\n",
      "male_asis_prof_percentage_social_result: % 1.007705986959099\n",
      "male_asis_prof_radiology_result 37\n",
      "male_asis_prof_percentage_radiology_result: % 2.1932424422050976\n",
      "male_other_prof_agency_result 1500\n",
      "male_other_prof_percentage_agency_result: % 44.48398576512456\n",
      "male_other_prof_communality_result 644\n",
      "male_other_prof_percentage_communality_result: % 19.098457888493474\n",
      "male_other_prof_grindstone_result 385\n",
      "male_other_prof_percentage__grindstone_result: % 11.417556346381968\n",
      "male_other_prof_standout_result 730\n",
      "male_other_prof_percentage_standout_result: % 21.648873072360615\n",
      "male_other_prof_social_result 47\n",
      "male_other_prof_percentage_social_result: % 1.3938315539739028\n",
      "male_other_prof_radiology_result 66\n",
      "male_other_prof_percentage_radiology_result: % 1.9572953736654803\n"
     ]
    }
   ],
   "source": [
    "\n",
    "df_female_prof = df_new.loc[(df_new.standard_position == \"professor\") & (df_new.lor_gender == \"female\")]\n",
    "df_female_asso_prof = df_new.loc[(df_new.standard_position == \"associate professor\") & (df_new.lor_gender == \"female\")]\n",
    "df_female_asis_prof = df_new.loc[(df_new.standard_position == \"assistant professor\")& (df_new.lor_gender == \"female\")]\n",
    "df_female_other = df_new.loc[(df_new.standard_position == \"others\") & (df_new.lor_gender == \"female\")]\n",
    "\n",
    "female_prof_dic = get_word_result(df_female_prof, \"female_prof\")\n",
    "female_asso_prof_dic = get_word_result(df_female_asso_prof, \"female_asso_prof\")\n",
    "female_asis_prof_dic = get_word_result(df_female_asis_prof, \"female_asis_prof\")\n",
    "female_other_prof_dic = get_word_result(df_female_other, \"female_other_prof\")"
   ]
  },
  {
   "cell_type": "code",
   "execution_count": null,
   "metadata": {},
   "outputs": [],
   "source": [
    "df_male_prof = df_new.loc[(df_new.standard_position == \"professor\") & (df_new.lor_gender == \"male\")]\n",
    "df_male_asso_prof = df_new.loc[(df_new.standard_position == \"associate professor\") & (df_new.lor_gender == \"male\")]\n",
    "df_male_asis_prof = df_new.loc[(df_new.standard_position == \"assistant professor\")& (df_new.lor_gender == \"male\")]\n",
    "df_male_other = df_new.loc[(df_new.standard_position == \"others\") & (df_new.lor_gender == \"male\")]\n",
    "\n",
    "male_prof_dic = get_word_result(df_male_prof, \"male_prof\")\n",
    "male_asso_prof_dic = get_word_result(df_male_asso_prof, \"male_asso_prof\")\n",
    "male_asis_prof_dic = get_word_result(df_male_asis_prof, \"male_asis_prof\")\n",
    "male_other_prof_dic = get_word_result(df_male_other, \"male_other_prof\")"
   ]
  },
  {
   "cell_type": "code",
   "execution_count": 48,
   "metadata": {},
   "outputs": [
    {
     "name": "stderr",
     "output_type": "stream",
     "text": [
      "c:\\ProgramData\\Anaconda3\\envs\\k12\\lib\\site-packages\\ipykernel_launcher.py:30: SettingWithCopyWarning: \n",
      "A value is trying to be set on a copy of a slice from a DataFrame.\n",
      "Try using .loc[row_indexer,col_indexer] = value instead\n",
      "\n",
      "See the caveats in the documentation: https://pandas.pydata.org/pandas-docs/stable/user_guide/indexing.html#returning-a-view-versus-a-copy\n",
      "c:\\ProgramData\\Anaconda3\\envs\\k12\\lib\\site-packages\\ipykernel_launcher.py:31: SettingWithCopyWarning: \n",
      "A value is trying to be set on a copy of a slice from a DataFrame.\n",
      "Try using .loc[row_indexer,col_indexer] = value instead\n",
      "\n",
      "See the caveats in the documentation: https://pandas.pydata.org/pandas-docs/stable/user_guide/indexing.html#returning-a-view-versus-a-copy\n"
     ]
    },
    {
     "name": "stdout",
     "output_type": "stream",
     "text": [
      "male_prof_male_app_agency_result 496\n",
      "male_prof_male_app_percentage_agency_result: % 40.32520325203252\n",
      "male_prof_male_app_communality_result 233\n",
      "male_prof_male_app_percentage_communality_result: % 18.943089430894307\n",
      "male_prof_male_app_grindstone_result 139\n",
      "male_prof_male_app_percentage__grindstone_result: % 11.300813008130081\n",
      "male_prof_male_app_standout_result 328\n",
      "male_prof_male_app_percentage_standout_result: % 26.666666666666668\n",
      "male_prof_male_app_social_result 14\n",
      "male_prof_male_app_percentage_social_result: % 1.1382113821138211\n",
      "male_prof_male_app_radiology_result 20\n",
      "male_prof_male_app_percentage_radiology_result: % 1.6260162601626018\n",
      "male_asso_prof_male_app_agency_result 514\n",
      "male_asso_prof_male_app_percentage_agency_result: % 42.97658862876254\n",
      "male_asso_prof_male_app_communality_result 223\n",
      "male_asso_prof_male_app_percentage_communality_result: % 18.645484949832774\n",
      "male_asso_prof_male_app_grindstone_result 140\n",
      "male_asso_prof_male_app_percentage__grindstone_result: % 11.705685618729097\n",
      "male_asso_prof_male_app_standout_result 279\n",
      "male_asso_prof_male_app_percentage_standout_result: % 23.327759197324415\n",
      "male_asso_prof_male_app_social_result 14\n",
      "male_asso_prof_male_app_percentage_social_result: % 1.1705685618729096\n",
      "male_asso_prof_male_app_radiology_result 26\n",
      "male_asso_prof_male_app_percentage_radiology_result: % 2.1739130434782608\n",
      "male_asis_prof_male_app_agency_result 582\n",
      "male_asis_prof_male_app_percentage_agency_result: % 45.718774548311075\n",
      "male_asis_prof_male_app_communality_result 235\n",
      "male_asis_prof_male_app_percentage_communality_result: % 18.460329929300865\n",
      "male_asis_prof_male_app_grindstone_result 147\n",
      "male_asis_prof_male_app_percentage__grindstone_result: % 11.547525530243519\n",
      "male_asis_prof_male_app_standout_result 270\n",
      "male_asis_prof_male_app_percentage_standout_result: % 21.209740769835037\n",
      "male_asis_prof_male_app_social_result 14\n",
      "male_asis_prof_male_app_percentage_social_result: % 1.0997643362136684\n",
      "male_asis_prof_male_app_radiology_result 25\n",
      "male_asis_prof_male_app_percentage_radiology_result: % 1.9638648860958365\n",
      "male_other_prof_male_app_agency_result 1232\n",
      "male_other_prof_male_app_percentage_agency_result: % 45.51163649796823\n",
      "male_other_prof_male_app_communality_result 506\n",
      "male_other_prof_male_app_percentage_communality_result: % 18.692279275951236\n",
      "male_other_prof_male_app_grindstone_result 318\n",
      "male_other_prof_male_app_percentage__grindstone_result: % 11.747321758404137\n",
      "male_other_prof_male_app_standout_result 568\n",
      "male_other_prof_male_app_percentage_standout_result: % 20.98263760620613\n",
      "male_other_prof_male_app_social_result 34\n",
      "male_other_prof_male_app_percentage_social_result: % 1.2560029553010712\n",
      "male_other_prof_male_app_radiology_result 49\n",
      "male_other_prof_male_app_percentage_radiology_result: % 1.810121906169191\n"
     ]
    }
   ],
   "source": [
    "\n",
    "df_male_prof_male_app = df_new.loc[(df_new.standard_position == \"professor\") & (df_new.lor_gender == \"male\")& (df_new.gender == \"male\")]\n",
    "df_male_asso_prof_male_app = df_new.loc[(df_new.standard_position == \"associate professor\") & (df_new.lor_gender == \"male\")& (df_new.gender == \"male\")]\n",
    "df_male_asis_prof_male_app = df_new.loc[(df_new.standard_position == \"assistant professor\")& (df_new.lor_gender == \"male\")& (df_new.gender == \"male\")]\n",
    "df_male_other_male_app = df_new.loc[(df_new.standard_position == \"others\") & (df_new.lor_gender == \"male\")& (df_new.gender == \"male\")]\n",
    "\n",
    "male_prof_male_app_dic = get_word_result(df_male_prof_male_app, \"male_prof_male_app\")\n",
    "male_asso_male_app_prof_dic = get_word_result(df_male_asso_prof_male_app, \"male_asso_prof_male_app\")\n",
    "male_asis_male_app_prof_dic = get_word_result(df_male_asis_prof_male_app, \"male_asis_prof_male_app\")\n",
    "male_other_male_app_prof_dic = get_word_result(df_male_other_male_app, \"male_other_prof_male_app\")"
   ]
  },
  {
   "cell_type": "code",
   "execution_count": 49,
   "metadata": {},
   "outputs": [
    {
     "name": "stderr",
     "output_type": "stream",
     "text": [
      "c:\\ProgramData\\Anaconda3\\envs\\k12\\lib\\site-packages\\ipykernel_launcher.py:30: SettingWithCopyWarning: \n",
      "A value is trying to be set on a copy of a slice from a DataFrame.\n",
      "Try using .loc[row_indexer,col_indexer] = value instead\n",
      "\n",
      "See the caveats in the documentation: https://pandas.pydata.org/pandas-docs/stable/user_guide/indexing.html#returning-a-view-versus-a-copy\n",
      "c:\\ProgramData\\Anaconda3\\envs\\k12\\lib\\site-packages\\ipykernel_launcher.py:31: SettingWithCopyWarning: \n",
      "A value is trying to be set on a copy of a slice from a DataFrame.\n",
      "Try using .loc[row_indexer,col_indexer] = value instead\n",
      "\n",
      "See the caveats in the documentation: https://pandas.pydata.org/pandas-docs/stable/user_guide/indexing.html#returning-a-view-versus-a-copy\n"
     ]
    },
    {
     "name": "stdout",
     "output_type": "stream",
     "text": [
      "female_prof_male_app_agency_result 105\n",
      "female_prof_male_app_percentage_agency_result: % 43.0327868852459\n",
      "female_prof_male_app_communality_result 59\n",
      "female_prof_male_app_percentage_communality_result: % 24.18032786885246\n",
      "female_prof_male_app_grindstone_result 23\n",
      "female_prof_male_app_percentage__grindstone_result: % 9.426229508196721\n",
      "female_prof_male_app_standout_result 45\n",
      "female_prof_male_app_percentage_standout_result: % 18.442622950819672\n",
      "female_prof_male_app_social_result 3\n",
      "female_prof_male_app_percentage_social_result: % 1.2295081967213115\n",
      "female_prof_male_app_radiology_result 9\n",
      "female_prof_male_app_percentage_radiology_result: % 3.6885245901639343\n",
      "female_asso_prof_male_app_agency_result 152\n",
      "female_asso_prof_male_app_percentage_agency_result: % 45.103857566765576\n",
      "female_asso_prof_male_app_communality_result 88\n",
      "female_asso_prof_male_app_percentage_communality_result: % 26.112759643916917\n",
      "female_asso_prof_male_app_grindstone_result 39\n",
      "female_asso_prof_male_app_percentage__grindstone_result: % 11.572700296735905\n",
      "female_asso_prof_male_app_standout_result 52\n",
      "female_asso_prof_male_app_percentage_standout_result: % 15.43026706231454\n",
      "female_asso_prof_male_app_social_result 1\n",
      "female_asso_prof_male_app_percentage_social_result: % 0.2967359050445104\n",
      "female_asso_prof_male_app_radiology_result 5\n",
      "female_asso_prof_male_app_percentage_radiology_result: % 1.483679525222552\n",
      "female_asis_prof_male_app_agency_result 161\n",
      "female_asis_prof_male_app_percentage_agency_result: % 46.53179190751445\n",
      "female_asis_prof_male_app_communality_result 77\n",
      "female_asis_prof_male_app_percentage_communality_result: % 22.254335260115607\n",
      "female_asis_prof_male_app_grindstone_result 39\n",
      "female_asis_prof_male_app_percentage__grindstone_result: % 11.271676300578035\n",
      "female_asis_prof_male_app_standout_result 59\n",
      "female_asis_prof_male_app_percentage_standout_result: % 17.052023121387283\n",
      "female_asis_prof_male_app_social_result 5\n",
      "female_asis_prof_male_app_percentage_social_result: % 1.4450867052023122\n",
      "female_asis_prof_male_app_radiology_result 5\n",
      "female_asis_prof_male_app_percentage_radiology_result: % 1.4450867052023122\n",
      "female_other_prof_male_app_agency_result 204\n",
      "female_other_prof_male_app_percentage_agency_result: % 40.55666003976143\n",
      "female_other_prof_male_app_communality_result 97\n",
      "female_other_prof_male_app_percentage_communality_result: % 19.284294234592444\n",
      "female_other_prof_male_app_grindstone_result 64\n",
      "female_other_prof_male_app_percentage__grindstone_result: % 12.72365805168986\n",
      "female_other_prof_male_app_standout_result 115\n",
      "female_other_prof_male_app_percentage_standout_result: % 22.86282306163022\n",
      "female_other_prof_male_app_social_result 6\n",
      "female_other_prof_male_app_percentage_social_result: % 1.1928429423459244\n",
      "female_other_prof_male_app_radiology_result 17\n",
      "female_other_prof_male_app_percentage_radiology_result: % 3.3797216699801194\n"
     ]
    }
   ],
   "source": [
    "\n",
    "df_female_prof_male_app = df_new.loc[(df_new.standard_position == \"professor\") & (df_new.lor_gender == \"female\")& (df_new.gender == \"male\")]\n",
    "df_female_asso_prof_male_app = df_new.loc[(df_new.standard_position == \"associate professor\") & (df_new.lor_gender == \"female\")& (df_new.gender == \"male\")]\n",
    "df_female_asis_prof_male_app = df_new.loc[(df_new.standard_position == \"assistant professor\")& (df_new.lor_gender == \"female\")& (df_new.gender == \"male\")]\n",
    "df_female_other_male_app = df_new.loc[(df_new.standard_position == \"others\") & (df_new.lor_gender == \"female\")& (df_new.gender == \"male\")]\n",
    "\n",
    "female_prof_male_app_dic = get_word_result(df_female_prof_male_app, \"female_prof_male_app\")\n",
    "female_asso_male_app_prof_dic = get_word_result(df_female_asso_prof_male_app, \"female_asso_prof_male_app\")\n",
    "female_asis_male_app_prof_dic = get_word_result(df_female_asis_prof_male_app, \"female_asis_prof_male_app\")\n",
    "female_other_male_app_prof_dic = get_word_result(df_female_other_male_app, \"female_other_prof_male_app\")"
   ]
  },
  {
   "cell_type": "code",
   "execution_count": 50,
   "metadata": {},
   "outputs": [
    {
     "name": "stderr",
     "output_type": "stream",
     "text": [
      "c:\\ProgramData\\Anaconda3\\envs\\k12\\lib\\site-packages\\ipykernel_launcher.py:30: SettingWithCopyWarning: \n",
      "A value is trying to be set on a copy of a slice from a DataFrame.\n",
      "Try using .loc[row_indexer,col_indexer] = value instead\n",
      "\n",
      "See the caveats in the documentation: https://pandas.pydata.org/pandas-docs/stable/user_guide/indexing.html#returning-a-view-versus-a-copy\n",
      "c:\\ProgramData\\Anaconda3\\envs\\k12\\lib\\site-packages\\ipykernel_launcher.py:31: SettingWithCopyWarning: \n",
      "A value is trying to be set on a copy of a slice from a DataFrame.\n",
      "Try using .loc[row_indexer,col_indexer] = value instead\n",
      "\n",
      "See the caveats in the documentation: https://pandas.pydata.org/pandas-docs/stable/user_guide/indexing.html#returning-a-view-versus-a-copy\n"
     ]
    },
    {
     "name": "stdout",
     "output_type": "stream",
     "text": [
      "female_prof_female_app_agency_result 69\n",
      "female_prof_female_app_percentage_agency_result: % 44.230769230769226\n",
      "female_prof_female_app_communality_result 22\n",
      "female_prof_female_app_percentage_communality_result: % 14.102564102564102\n",
      "female_prof_female_app_grindstone_result 27\n",
      "female_prof_female_app_percentage__grindstone_result: % 17.307692307692307\n",
      "female_prof_female_app_standout_result 31\n",
      "female_prof_female_app_percentage_standout_result: % 19.871794871794872\n",
      "female_prof_female_app_social_result 3\n",
      "female_prof_female_app_percentage_social_result: % 1.9230769230769231\n",
      "female_prof_female_app_radiology_result 4\n",
      "female_prof_female_app_percentage_radiology_result: % 2.564102564102564\n",
      "female_asso_prof_female_app_agency_result 62\n",
      "female_asso_prof_female_app_percentage_agency_result: % 49.6\n",
      "female_asso_prof_female_app_communality_result 21\n",
      "female_asso_prof_female_app_percentage_communality_result: % 16.8\n",
      "female_asso_prof_female_app_grindstone_result 14\n",
      "female_asso_prof_female_app_percentage__grindstone_result: % 11.200000000000001\n",
      "female_asso_prof_female_app_standout_result 23\n",
      "female_asso_prof_female_app_percentage_standout_result: % 18.4\n",
      "female_asso_prof_female_app_social_result 3\n",
      "female_asso_prof_female_app_percentage_social_result: % 2.4\n",
      "female_asso_prof_female_app_radiology_result 2\n",
      "female_asso_prof_female_app_percentage_radiology_result: % 1.6\n",
      "female_asis_prof_female_app_agency_result 85\n",
      "female_asis_prof_female_app_percentage_agency_result: % 45.45454545454545\n",
      "female_asis_prof_female_app_communality_result 31\n",
      "female_asis_prof_female_app_percentage_communality_result: % 16.577540106951872\n",
      "female_asis_prof_female_app_grindstone_result 23\n",
      "female_asis_prof_female_app_percentage__grindstone_result: % 12.299465240641712\n",
      "female_asis_prof_female_app_standout_result 45\n",
      "female_asis_prof_female_app_percentage_standout_result: % 24.06417112299465\n",
      "female_asis_prof_female_app_social_result 0\n",
      "female_asis_prof_female_app_percentage_social_result: % 0.0\n",
      "female_asis_prof_female_app_radiology_result 3\n",
      "female_asis_prof_female_app_percentage_radiology_result: % 1.6042780748663104\n",
      "female_other_prof_female_app_agency_result 65\n",
      "female_other_prof_female_app_percentage_agency_result: % 40.625\n",
      "female_other_prof_female_app_communality_result 38\n",
      "female_other_prof_female_app_percentage_communality_result: % 23.75\n",
      "female_other_prof_female_app_grindstone_result 21\n",
      "female_other_prof_female_app_percentage__grindstone_result: % 13.125\n",
      "female_other_prof_female_app_standout_result 28\n",
      "female_other_prof_female_app_percentage_standout_result: % 17.5\n",
      "female_other_prof_female_app_social_result 2\n",
      "female_other_prof_female_app_percentage_social_result: % 1.25\n",
      "female_other_prof_female_app_radiology_result 6\n",
      "female_other_prof_female_app_percentage_radiology_result: % 3.75\n"
     ]
    }
   ],
   "source": [
    "\n",
    "df_female_prof_female_app = df_new.loc[(df_new.standard_position == \"professor\") & (df_new.lor_gender == \"female\")& (df_new.gender == \"female\")]\n",
    "df_female_asso_prof_female_app = df_new.loc[(df_new.standard_position == \"associate professor\") & (df_new.lor_gender == \"female\")& (df_new.gender == \"female\")]\n",
    "df_female_asis_prof_female_app = df_new.loc[(df_new.standard_position == \"assistant professor\")& (df_new.lor_gender == \"female\")& (df_new.gender == \"female\")]\n",
    "df_female_other_female_app = df_new.loc[(df_new.standard_position == \"others\") & (df_new.lor_gender == \"female\")& (df_new.gender == \"female\")]\n",
    "\n",
    "female_prof_female_app_dic = get_word_result(df_female_prof_female_app, \"female_prof_female_app\")\n",
    "female_asso_female_app_prof_dic = get_word_result(df_female_asso_prof_female_app, \"female_asso_prof_female_app\")\n",
    "female_asis_female_app_prof_dic = get_word_result(df_female_asis_prof_female_app, \"female_asis_prof_female_app\")\n",
    "female_other_female_app_prof_dic = get_word_result(df_female_other_female_app, \"female_other_prof_female_app\")"
   ]
  },
  {
   "cell_type": "code",
   "execution_count": 51,
   "metadata": {},
   "outputs": [
    {
     "name": "stderr",
     "output_type": "stream",
     "text": [
      "c:\\ProgramData\\Anaconda3\\envs\\k12\\lib\\site-packages\\ipykernel_launcher.py:30: SettingWithCopyWarning: \n",
      "A value is trying to be set on a copy of a slice from a DataFrame.\n",
      "Try using .loc[row_indexer,col_indexer] = value instead\n",
      "\n",
      "See the caveats in the documentation: https://pandas.pydata.org/pandas-docs/stable/user_guide/indexing.html#returning-a-view-versus-a-copy\n",
      "c:\\ProgramData\\Anaconda3\\envs\\k12\\lib\\site-packages\\ipykernel_launcher.py:31: SettingWithCopyWarning: \n",
      "A value is trying to be set on a copy of a slice from a DataFrame.\n",
      "Try using .loc[row_indexer,col_indexer] = value instead\n",
      "\n",
      "See the caveats in the documentation: https://pandas.pydata.org/pandas-docs/stable/user_guide/indexing.html#returning-a-view-versus-a-copy\n"
     ]
    },
    {
     "name": "stdout",
     "output_type": "stream",
     "text": [
      "male_prof_female_app_agency_result 155\n",
      "male_prof_female_app_percentage_agency_result: % 43.90934844192634\n",
      "male_prof_female_app_communality_result 60\n",
      "male_prof_female_app_percentage_communality_result: % 16.997167138810198\n",
      "male_prof_female_app_grindstone_result 32\n",
      "male_prof_female_app_percentage__grindstone_result: % 9.06515580736544\n",
      "male_prof_female_app_standout_result 96\n",
      "male_prof_female_app_percentage_standout_result: % 27.19546742209632\n",
      "male_prof_female_app_social_result 3\n",
      "male_prof_female_app_percentage_social_result: % 0.84985835694051\n",
      "male_prof_female_app_radiology_result 7\n",
      "male_prof_female_app_percentage_radiology_result: % 1.9830028328611897\n",
      "male_asso_prof_female_app_agency_result 152\n",
      "male_asso_prof_female_app_percentage_agency_result: % 46.20060790273556\n",
      "male_asso_prof_female_app_communality_result 45\n",
      "male_asso_prof_female_app_percentage_communality_result: % 13.677811550151976\n",
      "male_asso_prof_female_app_grindstone_result 36\n",
      "male_asso_prof_female_app_percentage__grindstone_result: % 10.94224924012158\n",
      "male_asso_prof_female_app_standout_result 78\n",
      "male_asso_prof_female_app_percentage_standout_result: % 23.70820668693009\n",
      "male_asso_prof_female_app_social_result 5\n",
      "male_asso_prof_female_app_percentage_social_result: % 1.5197568389057752\n",
      "male_asso_prof_female_app_radiology_result 13\n",
      "male_asso_prof_female_app_percentage_radiology_result: % 3.951367781155015\n",
      "male_asis_prof_female_app_agency_result 189\n",
      "male_asis_prof_female_app_percentage_agency_result: % 50.67024128686327\n",
      "male_asis_prof_female_app_communality_result 66\n",
      "male_asis_prof_female_app_percentage_communality_result: % 17.694369973190348\n",
      "male_asis_prof_female_app_grindstone_result 25\n",
      "male_asis_prof_female_app_percentage__grindstone_result: % 6.702412868632708\n",
      "male_asis_prof_female_app_standout_result 78\n",
      "male_asis_prof_female_app_percentage_standout_result: % 20.91152815013405\n",
      "male_asis_prof_female_app_social_result 3\n",
      "male_asis_prof_female_app_percentage_social_result: % 0.8042895442359249\n",
      "male_asis_prof_female_app_radiology_result 12\n",
      "male_asis_prof_female_app_percentage_radiology_result: % 3.2171581769436997\n",
      "male_other_prof_female_app_agency_result 264\n",
      "male_other_prof_female_app_percentage_agency_result: % 40.243902439024396\n",
      "male_other_prof_female_app_communality_result 136\n",
      "male_other_prof_female_app_percentage_communality_result: % 20.73170731707317\n",
      "male_other_prof_female_app_grindstone_result 64\n",
      "male_other_prof_female_app_percentage__grindstone_result: % 9.75609756097561\n",
      "male_other_prof_female_app_standout_result 162\n",
      "male_other_prof_female_app_percentage_standout_result: % 24.695121951219512\n",
      "male_other_prof_female_app_social_result 13\n",
      "male_other_prof_female_app_percentage_social_result: % 1.9817073170731707\n",
      "male_other_prof_female_app_radiology_result 17\n",
      "male_other_prof_female_app_percentage_radiology_result: % 2.591463414634146\n"
     ]
    }
   ],
   "source": [
    "df_male_prof_female_app = df_new.loc[(df_new.standard_position == \"professor\") & (df_new.lor_gender == \"male\")& (df_new.gender == \"female\")]\n",
    "df_male_asso_prof_female_app = df_new.loc[(df_new.standard_position == \"associate professor\") & (df_new.lor_gender == \"male\")& (df_new.gender == \"female\")]\n",
    "df_male_asis_prof_female_app = df_new.loc[(df_new.standard_position == \"assistant professor\")& (df_new.lor_gender == \"male\")& (df_new.gender == \"female\")]\n",
    "df_male_other_female_app = df_new.loc[(df_new.standard_position == \"others\") & (df_new.lor_gender == \"male\")& (df_new.gender == \"female\")]\n",
    "\n",
    "male_prof_female_app_dic = get_word_result(df_male_prof_female_app, \"male_prof_female_app\")\n",
    "male_asso_female_app_prof_dic = get_word_result(df_male_asso_prof_female_app, \"male_asso_prof_female_app\")\n",
    "male_asis_female_app_prof_dic = get_word_result(df_male_asis_prof_female_app, \"male_asis_prof_female_app\")\n",
    "male_other_female_app_prof_dic = get_word_result(df_male_other_female_app, \"male_other_prof_female_app\")"
   ]
  }
 ],
 "metadata": {
  "kernelspec": {
   "display_name": "Python 3.7.13 ('k12')",
   "language": "python",
   "name": "python3"
  },
  "language_info": {
   "codemirror_mode": {
    "name": "ipython",
    "version": 3
   },
   "file_extension": ".py",
   "mimetype": "text/x-python",
   "name": "python",
   "nbconvert_exporter": "python",
   "pygments_lexer": "ipython3",
   "version": "3.7.13"
  },
  "orig_nbformat": 4,
  "vscode": {
   "interpreter": {
    "hash": "a0ac05954be45206abc4d78a3d9320c1342f93e808aeceb9b3e31a7cb51112f5"
   }
  }
 },
 "nbformat": 4,
 "nbformat_minor": 2
}
